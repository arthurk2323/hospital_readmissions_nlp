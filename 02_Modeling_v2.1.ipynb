{
 "cells": [
  {
   "cell_type": "markdown",
   "id": "f5c1c35d-ee25-4265-b829-892aef64aeb8",
   "metadata": {
    "tags": []
   },
   "source": [
    "# Discharge Notes and Readmission Rates: NLP"
   ]
  },
  {
   "cell_type": "markdown",
   "id": "5c943f1f-751d-4fa7-80c5-237a62832447",
   "metadata": {},
   "source": [
    "This notebook is for the processing the cleaned dataset through a NLP."
   ]
  },
  {
   "cell_type": "markdown",
   "id": "bfc79e42-bcde-4100-bda2-dabace9a8e36",
   "metadata": {
    "tags": []
   },
   "source": [
    "## Import"
   ]
  },
  {
   "cell_type": "markdown",
   "id": "58e099d3-a7aa-4cc1-96fc-90ffd6d89618",
   "metadata": {},
   "source": [
    "Import the relevant libraries."
   ]
  },
  {
   "cell_type": "code",
   "execution_count": 1,
   "id": "3a5e8556-65a6-41c7-838f-8de9ee0a22a3",
   "metadata": {},
   "outputs": [],
   "source": [
    "import pandas as pd\n",
    "import numpy as np\n",
    "import matplotlib.pyplot as plt\n",
    "\n",
    "#nlp libraries \n",
    "import nltk\n",
    "from nltk.probability import FreqDist\n",
    "from nltk.corpus import stopwords\n",
    "from nltk.tokenize import word_tokenize\n",
    "from nltk.stem import WordNetLemmatizer \n",
    "from nltk.stem.porter import PorterStemmer\n",
    "#import re\n",
    "import string\n",
    "\n",
    "#vectorizers\n",
    "from sklearn.feature_extraction.text import CountVectorizer, TfidfVectorizer\n",
    "\n",
    "#modeling\n",
    "from sklearn.model_selection import train_test_split, GridSearchCV\n",
    "from sklearn.metrics import accuracy_score, precision_score, plot_confusion_matrix\n",
    "from sklearn.dummy import DummyClassifier\n",
    "from sklearn.linear_model import LogisticRegression\n",
    "from sklearn.naive_bayes import MultinomialNB\n",
    "from sklearn.ensemble import RandomForestClassifier, GradientBoostingClassifier\n",
    "from sklearn.neighbors import KNeighborsClassifier\n",
    "from sklearn.tree import DecisionTreeClassifier\n",
    "from sklearn.pipeline import Pipeline \n",
    "from imblearn.over_sampling import SMOTE\n",
    "from imblearn.pipeline import Pipeline as imbpipeline\n",
    "from sklearn.utils import class_weight"
   ]
  },
  {
   "cell_type": "markdown",
   "id": "10913ee8-b495-4e99-9003-df9679a7b01b",
   "metadata": {
    "tags": []
   },
   "source": [
    "## Functions"
   ]
  },
  {
   "cell_type": "code",
   "execution_count": 2,
   "id": "3d2e2740-785f-4934-8ce7-220183f99db7",
   "metadata": {},
   "outputs": [],
   "source": [
    "def scores(model, X, y, set_type):\n",
    "    '''\n",
    "    This function takes in an already fitted model, X, y, and\n",
    "    the type of data (train, validation, or test) in str format,\n",
    "    and prints out the accuracy and recall scores. The function\n",
    "    also prints out the confusion matrix\n",
    "    '''\n",
    "    pred = model.predict(X)\n",
    "    \n",
    "    print(\"{} Scores\".format(set_type))\n",
    "    print(\"accuracy: \", accuracy_score(y, pred))\n",
    "    print(\"recall:   \", recall_score(y, pred))\n",
    "    fig, ax = plt.subplots(figsize=(6,6))\n",
    "    ax.set_title(set_type)\n",
    "    plot_confusion_matrix(model, X, y, ax=ax)"
   ]
  },
  {
   "cell_type": "code",
   "execution_count": 3,
   "id": "87048ff8-9e78-4572-9168-5f5c20d25dad",
   "metadata": {},
   "outputs": [],
   "source": [
    "stemmer = PorterStemmer()\n",
    "def stem_text(text):\n",
    "    '''\n",
    "    This function takes a text and then tokenize, stem, and lemmenatize it\n",
    "    '''\n",
    "    return [stemmer.stem(w) for w in word_tokenize(text)]"
   ]
  },
  {
   "cell_type": "code",
   "execution_count": 4,
   "id": "17602b29-be6c-4270-bab2-d4bde27dcacc",
   "metadata": {},
   "outputs": [],
   "source": [
    "lemmatizer = WordNetLemmatizer()\n",
    "def lemmatize_text(text):\n",
    "    '''\n",
    "    This function takes a text and then tokenize, stem, and lemmenatize it\n",
    "    '''\n",
    "    return [lemmatizer.lemmatize(w) for w in text]"
   ]
  },
  {
   "cell_type": "markdown",
   "id": "bf324ee3-1272-4ed8-a2d8-f1e4c9aa3207",
   "metadata": {
    "jp-MarkdownHeadingCollapsed": true,
    "tags": []
   },
   "source": [
    "## Reading in the Data"
   ]
  },
  {
   "cell_type": "markdown",
   "id": "dafd84d0-cb59-4572-a062-7e50b05d4bcd",
   "metadata": {},
   "source": [
    "Here, I read in the cleand dataset from the previous EDA folder."
   ]
  },
  {
   "cell_type": "code",
   "execution_count": 5,
   "id": "a7620d11-107a-4485-93ce-96c9dfcdbb0e",
   "metadata": {},
   "outputs": [],
   "source": [
    "df = pd.read_csv('data/admissions_cleaned_2.csv.gz', compression='gzip')"
   ]
  },
  {
   "cell_type": "code",
   "execution_count": 6,
   "id": "8581e64b-96a7-4450-87c4-54b93fc812d0",
   "metadata": {},
   "outputs": [
    {
     "name": "stdout",
     "output_type": "stream",
     "text": [
      "<class 'pandas.core.frame.DataFrame'>\n",
      "RangeIndex: 52726 entries, 0 to 52725\n",
      "Data columns (total 17 columns):\n",
      " #   Column              Non-Null Count  Dtype \n",
      "---  ------              --------------  ----- \n",
      " 0   ADMISSION_TYPE      52726 non-null  object\n",
      " 1   ADMISSION_LOCATION  52726 non-null  object\n",
      " 2   DISCHARGE_LOCATION  52726 non-null  object\n",
      " 3   INSURANCE           52726 non-null  object\n",
      " 4   LANGUAGE            52726 non-null  object\n",
      " 5   RELIGION            52726 non-null  object\n",
      " 6   MARITAL_STATUS      52726 non-null  object\n",
      " 7   ETHNICITY           52726 non-null  object\n",
      " 8   DIAGNOSIS           52726 non-null  object\n",
      " 9   READMISSION         52726 non-null  int64 \n",
      " 10  GENDER              52726 non-null  object\n",
      " 11  AGE                 52726 non-null  int64 \n",
      " 12  TEXT                52726 non-null  object\n",
      " 13  CPT_CD              52726 non-null  object\n",
      " 14  DIAG_ICD9_CODE      52722 non-null  object\n",
      " 15  DRG_CODE            52726 non-null  object\n",
      " 16  PROCED_ICD9_CODE    52726 non-null  object\n",
      "dtypes: int64(2), object(15)\n",
      "memory usage: 6.8+ MB\n"
     ]
    }
   ],
   "source": [
    "df.info()"
   ]
  },
  {
   "cell_type": "code",
   "execution_count": 7,
   "id": "ee7c901a-f96c-49cf-be42-85d08827c3d6",
   "metadata": {},
   "outputs": [
    {
     "data": {
      "text/plain": [
       "0    49715\n",
       "1     3011\n",
       "Name: READMISSION, dtype: int64"
      ]
     },
     "execution_count": 7,
     "metadata": {},
     "output_type": "execute_result"
    }
   ],
   "source": [
    "df['READMISSION'].value_counts()"
   ]
  },
  {
   "cell_type": "markdown",
   "id": "375d21c4-b8c7-4228-9203-318608d1b3ab",
   "metadata": {},
   "source": [
    "The dataset is heavily imbalanced, with a lot more negative cases. In order to handle class imbalance, I will later on use two method, SMOTE and undersampling, to mitigate the class imbalance."
   ]
  },
  {
   "cell_type": "markdown",
   "id": "c37487dc-e08e-4f1f-ba45-492e36b85488",
   "metadata": {
    "tags": []
   },
   "source": [
    "## Preprocessing"
   ]
  },
  {
   "cell_type": "markdown",
   "id": "3986aa33-36ea-4c47-a4dc-a0d0a96eb0a1",
   "metadata": {},
   "source": [
    "In this section, I preprocessed the text data by removing punctuation and numbers, and lowercasing all the text. I decided to preprocess the text in this notebook rather than the first EDA notebook in case I decided to modify the text in a different way to help with my modeling."
   ]
  },
  {
   "cell_type": "code",
   "execution_count": 8,
   "id": "45a68ce7-cf5b-4002-8cc0-38aff1ca05be",
   "metadata": {},
   "outputs": [],
   "source": [
    "#set X as the text data, and y as the readmission status\n",
    "X = df['TEXT']\n",
    "y = df['READMISSION']"
   ]
  },
  {
   "cell_type": "code",
   "execution_count": 9,
   "id": "a048fac4-71ec-4314-9982-6d9d82207ca7",
   "metadata": {},
   "outputs": [
    {
     "data": {
      "text/plain": [
       "\"Admission Date:  [**2100-6-7**]              Discharge Date:   [**2100-6-9**]\\n\\nDate of Birth:  [**2044-4-23**]             Sex:   M\\n\\nService: MEDICINE\\n\\nAllergies:\\nNo Known Allergies / Adverse Drug Reactions\\n\\nAttending:[**First Name3 (LF) 2024**]\\nChief Complaint:\\ndizziness\\n\\nMajor Surgical or Invasive Procedure:\\nNONE\\n\\n\\nHistory of Present Illness:\\nHistory of Present Illness: Mr. [**Known lastname 83415**] is a 56 year old male\\nwith PMH notable for metastatic cancer (unknown primary)\\nundergoing chemo now presenting with lighheadedness and\\nhemoptysis. Pt is undergoing chemo with gemcitabine ([**2100-5-24**],\\n[**2100-5-31**]) for malignant neoplasm of unknown primary with multiple\\nbone, muscle, and soft-tissue metastases. He came to the\\nhospital to start RT to L femur today.  Pt reports a couple days\\nof lightheadedness, nonpositional.  Pt reports one episode of\\nhemoptysis [**2100-6-3**] but none since then. No sig lung lesions on\\nchest CT [**2100-5-27**]. Was scheduled to have transfusion on the day\\nof admission. Orthostatics at Dr.[**Name (NI) 83416**] office were Lying BP\\n94/52, pulse regular at 64. Standing BP 90/52; pulse 66.  In the\\nED, initial VS were: T98, P50, RR16, BP87/43, O2 100% RA. (Per\\nDr. [**Last Name (STitle) **] (rad/onc) pt generally has SBP 90s-100s). He received\\n5.5L NS (put out 2.5L urine). He was started on Vanc infustion\\nbut developed red itchy arm and it was stopped. He was given\\nbenadryl with good effect. Pt did receive Cefepime 2g IV. Labs\\nnotable for a white count of 2.2, Hct 22.9 (Hct 25 on [**5-31**]).\\nChemistries were unremarkable. CXR was clear. CTA showed no PE,\\nstable ground glass opacities and lytic lesions. LENIs negative\\nfor DVT. On transfer, pt's VS were T 97.6, P62, R16, BP98/59, O2\\n99% on RA.  On arrival to the MICU, patient's VS. T98.1, HR68,\\nBP101/61, P70, 98%RA.  Pt denies fever, chills, night sweats,\\ncough, nausea/vomiting, diarrhea, dysuria. Endorses constipation\\nwith last BM two days ago. Denies bloody stool or melena. BP was\\nin the 80's systolic. He received 5L of fluid since admission.\\n2.5L urine output in the ED. One unit PRBCS was given for\\nchronic anemia.  HCT 20.6 on admission, bumped to 24 with the\\nunit of blood. CTA ruled out PE. No lung mets but there are\\nground glass opacities but similar to prior study 2 wks ago for\\nstaging purposes.  Blood cultures were sent.  No fevers.\\nBaseline leukopenia. bactrim and keflex for LLE cellulitis, was\\nbeing treated prior to admission.\\n\\n\\nPast Medical History:\\n1. Hypercholesterolemia.\\n2. Tobacco use (30 pack years).\\n3. Hypothyroidism.\\n4. Asthma.\\n5. Depression.\\n6. Gastroesophageal reflux.\\n7. History of normal stress test.\\n8. Recently evaluated by vascular surgery, imaging showed\\natherosclerotic plaque in the infrarenal aorta which causes a\\nmoderate to moderately severe stenosis.\\n9. Recently dx w/HCAP by his PCP, [**8-20**] = day [**4-25**] of\\nlevofloxacin.\\n.\\nPAST SURGICAL HISTORY:\\n1. Bilateral inguinal hernia repair.\\n2. Umbilical hernia repair.\\n3. Epigastric hernia repair.\\n4. Endoscopy.\\n\\nSocial History:\\nThe patient used to work in construction and is a facilities\\nmanager. Currently disabled. He is able to walk except as\\ndescribed above. He uses a cane when necessary. He currently\\nsmokes a pack a day and has done so for 30 years. He drinks\\nrarely.\\n\\n\\nFamily History:\\nThere is a family history of heart disease, diabetes and\\nhypercholesterolemia.\\n\\nPhysical Exam:\\nADMISSION PHYSICAL EXAM:\\nT98, P50, RR16, BP87/43, O2 100% RA.\\nGeneral: Alert, oriented, no acute distress\\nCV: Regular rate and rhythm, no m/r/g\\nLungs: Clear to auscultation bilaterally, no wheezes, rales,\\nronchi\\nAbdomen: +BS, soft, non-distended, mild tenderness to palpation,\\nno rebound or guarding\\nGU: no foley\\nExt: Warm, well perfused, 2+ pulses, no clubbing, cyanosis or\\nedema\\n\\nDISCHARGE PHYSICAL EXAM:\\nT98.5, P54, RR16, BP 108/75, O2 99% RA.\\nGeneral: Alert, oriented, no acute distress\\nCV: Regular rate and rhythm, no m/r/g\\nLungs: Clear to auscultation bilaterally, no wheezes, rales,\\nronchi\\nAbdomen: +BS, soft, non-distended, mild tenderness to palpation,\\nno rebound or guarding\\nGU: no foley\\nExt: Warm, well perfused, 2+ pulses, no clubbing, cyanosis or\\nedema\\n\\n\\nPertinent Results:\\n#ADMISSION LABS:\\n[**2100-6-7**] 10:20AM BLOOD WBC-2.2*# RBC-2.46*# Hgb-7.4*# Hct-22.9*\\nMCV-93# MCH-30.2# MCHC-32.4 RDW-17.9* Plt Ct-45*#\\n[**2100-6-7**] 10:20AM BLOOD Neuts-62 Bands-1 Lymphs-30 Monos-4 Eos-3\\nBaso-0 Atyps-0 Metas-0 Myelos-0\\n[**2100-6-7**] 10:20AM BLOOD Hypochr-2+ Anisocy-1+ Poiklo-1+\\nMacrocy-1+ Microcy-NORMAL Polychr-NORMAL Ovalocy-1+ Tear Dr[**Last Name (STitle) **]1+\\n[**2100-6-7**] 10:20AM BLOOD Plt Smr-VERY LOW Plt Ct-45*#\\n[**2100-6-7**] 10:20AM BLOOD Glucose-103* UreaN-8 Creat-0.9 Na-137\\nK-3.9 Cl-101 HCO3-27 AnGap-13\\n[**2100-6-7**] 10:20AM BLOOD Calcium-8.6 Mg-1.9\\n[**2100-6-7**] 10:20AM BLOOD Cortsol-11.8\\n\\n#PERTINENT LABS:\\n[**2100-6-8**] 12:38PM BLOOD Hct-24.1*\\n[**2100-6-8**] 06:02AM BLOOD WBC-2.5* RBC-2.55* Hgb-7.8* Hct-24.0*\\nMCV-94 MCH-30.7 MCHC-32.5 RDW-17.3* Plt Ct-32*\\n[**2100-6-8**] 12:34AM BLOOD WBC-2.0* RBC-2.22* Hgb-6.7* Hct-20.6*\\nMCV-93 MCH-30.4 MCHC-32.7 RDW-17.6* Plt Ct-32*\\n[**2100-6-8**] 06:02AM BLOOD Plt Ct-32*\\n[**2100-6-8**] 12:34AM BLOOD Plt Ct-32*\\n[**2100-6-8**] 12:34AM BLOOD Ret Aut-0.2*\\n[**2100-6-8**] 12:34AM BLOOD Glucose-91 UreaN-7 Creat-0.8 Na-141 K-4.3\\nCl-108 HCO3-24 AnGap-13\\n[**2100-6-8**] 12:34AM BLOOD ALT-57* AST-56* AlkPhos-75 TotBili-0.1\\n[**2100-6-8**] 12:34AM BLOOD Albumin-3.2* Calcium-8.1* Phos-2.4*\\nMg-2.0 Iron-33*\\n[**2100-6-8**] 12:34AM BLOOD calTIBC-176* Ferritn-452* TRF-135*\\n[**2100-6-8**] 02:46AM URINE Color-Straw Appear-Clear Sp [**Last Name (un) **]-1.013\\n[**2100-6-8**] 02:46AM URINE Blood-TR Nitrite-NEG Protein-NEG\\nGlucose-NEG Ketone-NEG Bilirub-NEG Urobiln-NEG pH-6.5 Leuks-NEG\\n[**2100-6-8**] 02:46AM URINE RBC-3* WBC-<1 Bacteri-NONE Yeast-NONE\\nEpi-0\\n\\n#DISCHARGE LABS:\\n[**2100-6-9**] 06:35AM BLOOD WBC-3.1* RBC-2.57* Hgb-7.9* Hct-23.9*\\nMCV-93 MCH-30.9 MCHC-33.2 RDW-18.1* Plt Ct-30*\\n[**2100-6-9**] 06:35AM BLOOD Plt Ct-30*\\n[**2100-6-9**] 06:35AM BLOOD Glucose-107* UreaN-9 Creat-1.0 Na-138\\nK-4.4 Cl-102 HCO3-28 AnGap-12\\n[**2100-6-9**] 06:35AM BLOOD Calcium-8.6 Phos-2.8 Mg-1.9\\n\\n#MICROBIOLOGY:\\n[][**2100-6-7**] 6:30 pm BLOOD CULTURE\\n   Blood Culture, Routine (Pending):\\n[][**2100-6-8**] 2:46 am URINE      Source: CVS.\\n                            **FINAL REPORT [**2100-6-9**]**\\n   URINE CULTURE (Final [**2100-6-9**]):    NO GROWTH.\\n\\n#RADIOLOGY/STUDIES:\\n[][**6-7**] LENIs - no evidence DVT\\n\\n[][**6-7**] CT chest/abdomen 1. No pulmonary embolism or acute\\nintra-abdominal process. 2. Numerous bilateral bronchovascular\\nground-glass opacities, right greater than left, similar to or\\nminimally increased from [**2100-5-27**]. Smooth interlobular\\nseptal thickening and slight bronchial wall thickening. This\\ncombination of findings is potentially due to bronchopneumonia\\nwith a component of pulmonary congestion. However, organizing\\npneumonia or small foci of hemorrhage cannot be excluded.\\n3. Numerous lytic osseous lesions, similar to prior, involving\\nlower lumbar vertebra and pelvic bones. Other known osseous\\nlesions are not imaged. 4. Eccentric soft and calcified\\nabdominal aortic plaques.\\n\\n[][**6-7**] CXR: no intrathoracic process\\n\\n\\nBrief Hospital Course:\\n[]BRIEF CLINICAL HISTORY:\\n56 year old male with PMH notable for metastatic cancer (unknown\\nprimary) undergoing chemo, being treated for LE cullitis,\\npresenting with lighheadedness [**12-17**] hypotension, s/p ICU\\ntransfer.  At the time of discharge, patient is afebrile,\\nnormotensive and not orthostatic.\\n\\n[]ISSUES:\\n# Hypotension: Pt presented to the ED with lightheadedness and\\nwas found to have systolic blood pressures in the 80s. The\\npatient was fluid resuscited with good effect. Initially it was\\nunclear if his presentation was infectious in etiology. Blood\\ncultures from [**6-3**] at [**Location (un) **] were NGTD. CT chest unchanged from\\nbaseline. Although afebrile, pt may not have been able to mount\\na white count and therefore might have remained afebrile despite\\ninfection. Pt was at baseline blood pressure after fluids in ED.\\nLikely not obstructive shock as pt with negative CTA and\\nnegative LENIs. Cardiogenic shock also unlikely given normal\\nbaseline EKG. Hypovolemic shock not likely as good urine output\\nwith IVF.  Urine culture showed no growth.  He remained afebrile\\nuntil discharge and was no longer orthostatic.\\n\\n# Anemia: Unclear baseline - did have Hct of 29 a year ago. Pt\\nhad episode of hemoptysis 4 days prior to admission. Pt had Hct\\nof 25 one week ago and is now at 23. After significant fluid\\nresuscitation in ED will likely have dilutional anemia. H/o\\nrectal bleeding so this was considered a possible source. There\\nalso [**Month (only) 116**] have been bleeding into his mets. The patient was also\\non gemcitabine which suppresses the bone marrow which is\\nconsistent with his low retic count of 0.2.  Iron studies c/w\\nanemia of chronic inflammation (normocytic, high ferritin, low\\nTIBC and low transferrin).  HCT remained stable since transfer\\nfrom ICU to floor (24 --> 23.9).\\n\\n# Cellulitis: patient began treatment with bactrim as an\\noutpatient less than a week before admission.  There was\\nmoderate improvement in the erythema and swelling of the left\\nlower extremity by the time of admission.  He was started on\\ncombination therapy with bactrim/keflex and had substantial\\nimprovement in his cellulits that largely resolved by the time\\nof discharge.  He was sent home to finish his course of\\nantibiotics and f/u with his PCP.\\n\\n# Malignant epithelioid cancer of unknown primary (possibly\\ncarcinoma per path report):  Patient received 2nd of 8 scheduled\\nXRT while in house with f/u to complete the final 6 sessions.\\nPatient is to f/u with primary oncologist as an outpatient.\\n\\n# Hypothyroidism:\\n-Continued on outpatient levothyroxine\\n\\n# Asthma:\\n-Continued on outpatient flovent, albuterol PRN\\n\\n# Depression:\\n-Continued on outpatient fluoxetine\\n\\n# GERD:\\n-Continued on outpatient pantoprazole\\n\\n# HLD:\\n-Continued outpatient simvastatin, niacin\\n\\n[]TRANSITIONAL ISSUES:\\n1.) patient with neoplasm of unknown primary that will be\\ninvestigated by primary oncologist.\\n2.) PCP will follow up for resolution of cellulitis.\\n\\nMedications on Admission:\\nPreadmissions medications listed are incomplete and require\\nfuther investigation.  Information was obtained from\\nPatientwebOMR.\\n1. Albuterol Inhaler 2 PUFF IH Q4H:PRN SOB or wheeze\\n2. Fluoxetine 40 mg PO DAILY\\n3. Fluticasone Propionate NASAL 2 SPRY NU DAILY\\n4. Fluticasone Propionate 110mcg 2 PUFF IH [**Hospital1 **]\\n5. Gabapentin 300 mg PO TID\\n6. Levothyroxine Sodium 137 mcg PO DAILY\\n7. Lorazepam 1 mg PO Q8H:PRN nausea, anxiety or insomnia\\n8. Milk of Magnesia 15-30 mL PO PRN constipation\\n9. Morphine SR (MS Contin) 90 mg PO Q8H\\n10. Ondansetron 8 mg PO Q 8H\\n11. OxycoDONE (Immediate Release)  10-20 mg PO Q4-6HRS PRN pain\\n12. Pantoprazole 40 mg PO Q12H\\n13. Prochlorperazine 10 mg PO Q8H:PRN nausea\\n14. Simvastatin 40 mg PO DAILY\\n15. Docusate Sodium 100 mg PO TID\\n16. Ibuprofen 200-400 mg PO Q4-6HRS PRN pain\\n17. Magnesium Oxide 400 mg PO BID\\n18. Niacin 500 mg PO DAILY\\n19. Fish Oil (Omega 3) 1000 mg PO TID\\n20. Senna 1 TAB PO HS\\n\\n\\nDischarge Medications:\\n1. Albuterol Inhaler 2 PUFF IH Q4H:PRN SOB or wheeze\\n2. Docusate Sodium 100 mg PO TID\\n3. Fish Oil (Omega 3) 1000 mg PO TID\\n4. Fluoxetine 40 mg PO DAILY\\n5. Fluticasone Propionate 110mcg 2 PUFF IH [**Hospital1 **]\\n6. Fluticasone Propionate NASAL 2 SPRY NU DAILY\\n7. Gabapentin 300 mg PO TID\\n8. Ibuprofen 200-400 mg PO Q4-6HRS PRN pain\\n9. Levothyroxine Sodium 137 mcg PO DAILY\\n10. Lorazepam 1 mg PO Q8H:PRN nausea, anxiety or insomnia\\n11. Magnesium Oxide 400 mg PO BID\\n12. Milk of Magnesia 15-30 mL PO PRN constipation\\n13. Morphine SR (MS Contin) 90 mg PO Q8H\\n14. Niacin 500 mg PO DAILY\\n15. Ondansetron 8 mg PO Q 8H\\n16. OxycoDONE (Immediate Release)  10-20 mg PO Q4-6HRS PRN pain\\n17. Pantoprazole 40 mg PO Q12H\\n18. Prochlorperazine 10 mg PO Q8H:PRN nausea\\n19. Senna 1 TAB PO HS\\n20. Simvastatin 40 mg PO DAILY\\n21. Cephalexin 500 mg PO Q12H\\nRX *cephalexin 500 mg 1 tablet(s) by mouth twice a day Disp #*4\\nTablet Refills:*0\\n22. Sulfameth/Trimethoprim DS 1 TAB PO BID\\nRX *sulfamethoxazole-trimethoprim 400 mg-80 mg 1 tablet(s) by\\nmouth twice a day Disp #*4 Tablet Refills:*0\\n\\n\\nDischarge Disposition:\\nHome\\n\\nDischarge Diagnosis:\\nPrimary Diagnosis:\\nHypotension\\n\\nSecondary Diagnosis:\\nmalignant epithelioid neoplasm of unknown primary\\n\\n\\nDischarge Condition:\\nMental Status: Clear and coherent.\\nLevel of Consciousness: Alert and interactive.\\nActivity Status: Ambulatory - Independent.\\n\\n\\nDischarge Instructions:\\nDear Mr. [**Known lastname 83415**],\\n\\nIt was a pleasure treating you.\\n\\nYou were admitted to the [**Hospital1 69**]\\nfor low blood pressure and dizziness.  You were initially sent\\nto the intensive care unit to stabilize your blood pressures.\\nThere was initial concern for infection and you were given\\nintravenous fluids and antibiotics.  You quickly stabilized and\\nwere transfered to the regular inpatient floor.  You underwent\\ntwo sessions of radiotherapy while here as well.  You will\\nfollow up with both your primary care physician and with your\\nprimary oncologist.  We wish you and your family the best.\\n\\nPlease continue taking your medications as prescribed, EXCEPT:\\nCONTINUE bactrim for 2 days\\nADD Cephalexin for 2 days\\n\\n\\nFollowup Instructions:\\n1.) You will follow up with your primary care physician, [**Last Name (NamePattern4) **].\\n[**First Name (STitle) 2429**] T. Guerzon on [**First Name (STitle) 2974**] [**6-11**] at 10AM .\\n\\n2.) You will follow up with your primary oncologist, Dr. [**First Name (STitle) **] R.\\n[**Doctor Last Name 10919**] on [**Last Name (LF) 2974**], [**6-18**] at 11AM.\\n\\n\\n\\n\""
      ]
     },
     "execution_count": 9,
     "metadata": {},
     "output_type": "execute_result"
    }
   ],
   "source": [
    "#review the first text example to see how to preprocess the text data\n",
    "X[0]"
   ]
  },
  {
   "cell_type": "code",
   "execution_count": 10,
   "id": "6b33f68e-0503-4484-865e-c582f59d845f",
   "metadata": {},
   "outputs": [],
   "source": [
    "#remove line breaks and other formatting text\n",
    "X = X.str.replace('\\n',' ')\n",
    "X = X.str.replace('\\r',' ')\n",
    "\n",
    "#remove punctuations and numbers\n",
    "punc_list = string.punctuation\n",
    "num_list = '0123456789'\n",
    "punc_num_list = punc_list + num_list\n",
    "pun_num_remove = str.maketrans(dict.fromkeys(punc_num_list, \" \"))\n",
    "X = X.str.translate(pun_num_remove)\n",
    "\n",
    "#lower case the text\n",
    "X = X.str.lower()"
   ]
  },
  {
   "cell_type": "code",
   "execution_count": 11,
   "id": "7a46d02f-ff34-406c-a2d6-2bc5434a8c0a",
   "metadata": {},
   "outputs": [],
   "source": [
    "#stem the words\n",
    "X = X.apply(stem_text)"
   ]
  },
  {
   "cell_type": "code",
   "execution_count": null,
   "id": "fd3df1b7-751a-40e6-8015-4d84976c09c7",
   "metadata": {},
   "outputs": [],
   "source": [
    "#stem the words\n",
    "X = X.apply(lemmatize_text)"
   ]
  },
  {
   "cell_type": "code",
   "execution_count": null,
   "id": "676ff6e7-7e3a-4773-b105-efd74c20cb80",
   "metadata": {},
   "outputs": [],
   "source": [
    "#join the words together\n",
    "X = X.apply(' '.join)"
   ]
  },
  {
   "cell_type": "markdown",
   "id": "4f169954-f421-4030-a841-74e3ade81f78",
   "metadata": {
    "jp-MarkdownHeadingCollapsed": true,
    "tags": []
   },
   "source": [
    "## Train, Validation, and Test Split"
   ]
  },
  {
   "cell_type": "markdown",
   "id": "637d22e7-bfaf-4b69-9b8f-3040ab2fd0c3",
   "metadata": {},
   "source": [
    "I split the data set into three sets: Train, Validation, and Test.\n",
    "The ratio I used was 70:15:15."
   ]
  },
  {
   "cell_type": "code",
   "execution_count": null,
   "id": "12289a6b-1f14-4460-ba74-ecfd1229c099",
   "metadata": {},
   "outputs": [],
   "source": [
    "X_train, X_v_t, y_train, y_v_t = train_test_split(X, y, test_size=0.30, random_state=42, stratify=y)"
   ]
  },
  {
   "cell_type": "code",
   "execution_count": null,
   "id": "36eaca01-8259-4e5c-b5e3-5ae6610108c3",
   "metadata": {},
   "outputs": [],
   "source": [
    "X_val, X_test, y_val, y_test = train_test_split(X_v_t, y_v_t, test_size=0.50, random_state=42, stratify=y_v_t)"
   ]
  },
  {
   "cell_type": "code",
   "execution_count": null,
   "id": "ecf4e67d-6fb3-4dc0-abe0-1dcebcad2dea",
   "metadata": {},
   "outputs": [],
   "source": [
    "X_train.shape"
   ]
  },
  {
   "cell_type": "markdown",
   "id": "debcd518-9d4a-48a5-9c45-53f31d988847",
   "metadata": {
    "jp-MarkdownHeadingCollapsed": true,
    "tags": []
   },
   "source": [
    "## Pipeline Parameters"
   ]
  },
  {
   "cell_type": "markdown",
   "id": "64b647c1-a7c7-4126-b6e0-cfb7b4dccff3",
   "metadata": {},
   "source": [
    "In this section, I set specific pipeline parameters that I will keep constant throughout the project."
   ]
  },
  {
   "cell_type": "code",
   "execution_count": null,
   "id": "2e7f21aa-5fba-495f-b412-cd76ec68dd08",
   "metadata": {},
   "outputs": [],
   "source": [
    "sw = stopwords.words('english')\n",
    "max_feats = int(X_train.shape[0]*0.10)\n",
    "#max_feats = 300"
   ]
  },
  {
   "cell_type": "markdown",
   "id": "da225816-f143-46df-86c7-4b558b1e150e",
   "metadata": {
    "tags": []
   },
   "source": [
    "## Modeling"
   ]
  },
  {
   "cell_type": "markdown",
   "id": "6044ff59-3782-4b3c-907f-1ef298398b45",
   "metadata": {},
   "source": [
    "In this section, I will run several different models. Once I decide the best model, I will export the results out so that in another notebook, I can merge that results to other data features and run that through models again to see if I can get a better model."
   ]
  },
  {
   "cell_type": "markdown",
   "id": "7c4703db-82d5-4a07-a229-48526a54dc6f",
   "metadata": {
    "jp-MarkdownHeadingCollapsed": true,
    "tags": []
   },
   "source": [
    "### Model 0: Dummy Classification"
   ]
  },
  {
   "cell_type": "markdown",
   "id": "ab6492ce-71d1-44c4-ba8c-1900ff360b65",
   "metadata": {},
   "source": [
    "For my Model 0, I run a simple dummy classifier. I test out both a count vectorizer and a tfidf vectorizer to see if it will impact the results. I have yet to do anything about the class imbalance."
   ]
  },
  {
   "cell_type": "markdown",
   "id": "64b9fb9d-95bd-4f6c-a5c5-8f099353f70b",
   "metadata": {},
   "source": [
    "* Model: Dummy\n",
    "* Vectorizer: Count\n",
    "* Class Imbalance Solution: None"
   ]
  },
  {
   "cell_type": "code",
   "execution_count": null,
   "id": "0ba8b335-a947-471a-8d72-8ee1484b8054",
   "metadata": {},
   "outputs": [],
   "source": [
    "pp_count = Pipeline(steps=[\n",
    "    ('count', CountVectorizer(stop_words=sw, max_features=max_features)),\n",
    "    ('dummy', DummyClassifier(strategy=\"stratified\"))\n",
    "    ])"
   ]
  },
  {
   "cell_type": "code",
   "execution_count": null,
   "id": "ebc70fed-d6a7-4cab-8651-b3df08e4a8cd",
   "metadata": {},
   "outputs": [],
   "source": [
    "pp_count.fit(X_train, y_train)\n",
    "\n",
    "scores(pp_count, X_train, y_train, 'Train')\n",
    "scores(pp_count, X_val, y_val, 'Validation')\n",
    "scores(pp_count, X_test, y_test, 'Test')"
   ]
  },
  {
   "cell_type": "markdown",
   "id": "6598b9dc-b24f-4b83-b4cc-5e0aec4a30c4",
   "metadata": {},
   "source": [
    "* Model: Dummy\n",
    "* Vectorizer: Tfidf\n",
    "* Class Imbalance Solution: None"
   ]
  },
  {
   "cell_type": "code",
   "execution_count": null,
   "id": "4a9eb7f1-0ac4-4d39-87a8-c68166e46d06",
   "metadata": {},
   "outputs": [],
   "source": [
    "pp_tfidf = Pipeline(steps=[\n",
    "    ('tfidf', TfidfVectorizer(stop_words=sw, max_features=max_features)),\n",
    "    ('dummy', DummyClassifier(strategy=\"stratified\")),   \n",
    "    ])"
   ]
  },
  {
   "cell_type": "code",
   "execution_count": null,
   "id": "0f89a11a-f7b7-4820-8438-66152e8bbf62",
   "metadata": {},
   "outputs": [],
   "source": [
    "pp_tfidf.fit(X_train, y_train)\n",
    "\n",
    "scores(pp_tfidf, X_train, y_train, 'Train')\n",
    "scores(pp_tfidf, X_val, y_val, 'Validation')\n",
    "scores(pp_tfidf, X_test, y_test, 'Test')"
   ]
  },
  {
   "cell_type": "markdown",
   "id": "671ea906-54cc-4f0d-a450-a4c3a94f1e91",
   "metadata": {},
   "source": [
    "Though the accuracy is high for both the vectorizers through the dummy classifier model, the recall score was very poor. This is most likely due to the class imbalance. However, I will run a non-dummy, but simple model to validate that the low recall score is not because of the dummy model itself."
   ]
  },
  {
   "cell_type": "markdown",
   "id": "1a487271-0e52-4f4e-a09e-1818c32e9f0f",
   "metadata": {
    "jp-MarkdownHeadingCollapsed": true,
    "tags": []
   },
   "source": [
    "### Model 1: Logistic Regression"
   ]
  },
  {
   "cell_type": "markdown",
   "id": "f0642fcf-b314-4058-9d0c-5dae08694843",
   "metadata": {},
   "source": [
    "The next model I decided to use is the logitic regression model."
   ]
  },
  {
   "cell_type": "markdown",
   "id": "5a7d1494-dc7e-4ad3-ac13-2350f5e1b1ca",
   "metadata": {},
   "source": [
    "* Model: Logistic Regression\n",
    "* Vectorizer: Count\n",
    "* Class Imbalance Solution: None"
   ]
  },
  {
   "cell_type": "code",
   "execution_count": null,
   "id": "b86dcbbc-e0dc-4611-9471-b1d30e3a59f8",
   "metadata": {},
   "outputs": [],
   "source": [
    "pp_count = Pipeline(steps=[\n",
    "    ('count', CountVectorizer(stop_words=sw, max_features=max_features)),\n",
    "    ('logreg', LogisticRegression(random_state=42)),   \n",
    "    ])"
   ]
  },
  {
   "cell_type": "code",
   "execution_count": null,
   "id": "c9bc2cf3-e0cc-4c14-bf7a-62bfe6394255",
   "metadata": {},
   "outputs": [],
   "source": [
    "pp_count.fit(X_train, y_train)\n",
    "\n",
    "scores(pp_count, X_train, y_train, 'Train')\n",
    "scores(pp_count, X_val, y_val, 'Validation')\n",
    "scores(pp_count, X_test, y_test, 'Test')"
   ]
  },
  {
   "cell_type": "markdown",
   "id": "75719cc9-baae-49ea-8991-6be190bc20a5",
   "metadata": {},
   "source": [
    "* Model: Logistic Regression\n",
    "* Vectorizer: Tfidf\n",
    "* Class Imbalance Solution: None"
   ]
  },
  {
   "cell_type": "code",
   "execution_count": null,
   "id": "d45970cf-4bbd-4ff1-a7db-fc1781128f31",
   "metadata": {},
   "outputs": [],
   "source": [
    "pp_tfidf = Pipeline(steps=[\n",
    "    ('tfidf', TfidfVectorizer(stop_words=sw, max_features=max_features)),\n",
    "    ('logreg', LogisticRegression(random_state=42)),   \n",
    "    ])"
   ]
  },
  {
   "cell_type": "code",
   "execution_count": null,
   "id": "dfbae4f6-1d08-49e4-8ccd-33117f7de222",
   "metadata": {},
   "outputs": [],
   "source": [
    "pp_tfidf.fit(X_train, y_train)\n",
    "\n",
    "scores(pp_tfidf, X_train, y_train, 'Train')\n",
    "scores(pp_tfidf, X_val, y_val, 'Validation')\n",
    "scores(pp_tfidf, X_test, y_test, 'Test')"
   ]
  },
  {
   "cell_type": "markdown",
   "id": "8e19a353-3c3c-4951-b2bb-01af18d621c5",
   "metadata": {},
   "source": [
    "Again, the accuracy scores are high, but the recall scores are poor. Thus, for the next modeling step, I will try to improve the model by first trying to mitigate the class imbalance."
   ]
  },
  {
   "cell_type": "markdown",
   "id": "89009aea-1471-46f6-82ff-7980433d891f",
   "metadata": {
    "jp-MarkdownHeadingCollapsed": true,
    "tags": []
   },
   "source": [
    "### Handling Imbalanced Data "
   ]
  },
  {
   "cell_type": "markdown",
   "id": "fb928764-593d-4bd8-9110-ac2936fadd2d",
   "metadata": {},
   "source": [
    "As mentioned before, the dataset is heavily imbalanced. I will implement three methods to handle the class imbalance:\n",
    "* Undersample the negative cases\n",
    "* Pass in class weights\n",
    "* Implement SMOTE"
   ]
  },
  {
   "cell_type": "markdown",
   "id": "ea3de40e-d721-499a-bdb1-edbf9674630c",
   "metadata": {
    "tags": []
   },
   "source": [
    "#### Undersampling Negative Cases: 1 to 1"
   ]
  },
  {
   "cell_type": "code",
   "execution_count": null,
   "id": "ade55f6f-92dd-4a80-8a2e-93140b8bda69",
   "metadata": {},
   "outputs": [],
   "source": [
    "#concat the train dataset together\n",
    "train_df = pd.concat([y_train, X_train], axis=1)"
   ]
  },
  {
   "cell_type": "code",
   "execution_count": null,
   "id": "39765980-91f9-4e3d-9f2a-f3a57a176cf9",
   "metadata": {},
   "outputs": [],
   "source": [
    "#split the positive and negative data\n",
    "train_df_pos = train_df[train_df['READMISSION']==1]\n",
    "train_df_neg = train_df[train_df['READMISSION']==0]"
   ]
  },
  {
   "cell_type": "code",
   "execution_count": null,
   "id": "7eefb6d4-3c8a-48c0-9475-01510cba8669",
   "metadata": {},
   "outputs": [],
   "source": [
    "#take a sample of the negative training set with the same number of rows as positive dataset\n",
    "train_df_neg_samp = train_df_neg.sample(n=len(train_df_pos))"
   ]
  },
  {
   "cell_type": "code",
   "execution_count": null,
   "id": "89650ce7-970d-4949-bc65-6c3e0d8b20eb",
   "metadata": {},
   "outputs": [],
   "source": [
    "#concat the positive dataset and sample of the negative dataset to get one dataset\n",
    "#with equal number of postiive and negative cases\n",
    "new_train_df = pd.concat([train_df_pos,train_df_neg_samp],axis=0)"
   ]
  },
  {
   "cell_type": "code",
   "execution_count": null,
   "id": "ada93968-b2d1-4ee5-a7ab-77b5f380beb8",
   "metadata": {},
   "outputs": [],
   "source": [
    "#randomize the new dataset\n",
    "new_train_df = new_train_df.sample(n=len(new_train_df))"
   ]
  },
  {
   "cell_type": "code",
   "execution_count": null,
   "id": "0685eb19-3742-4cd2-91e5-768216b45b83",
   "metadata": {},
   "outputs": [],
   "source": [
    "#split out the X and y of the new dataset\n",
    "y_train_1 = new_train_df['READMISSION']\n",
    "X_train_1 = new_train_df['TEXT']\n",
    "max_feats_1 = int(X_train_1.shape[0]*0.10)"
   ]
  },
  {
   "cell_type": "markdown",
   "id": "4f41bd7c-7ac4-44f8-985d-bc22d6dd0cea",
   "metadata": {
    "tags": []
   },
   "source": [
    "#### Undersampling Negative Cases: 2 to 1"
   ]
  },
  {
   "cell_type": "code",
   "execution_count": null,
   "id": "d5416196-9e84-4c44-8e3d-4f76e214f8c0",
   "metadata": {},
   "outputs": [],
   "source": [
    "#concat the train dataset together\n",
    "train_df = pd.concat([y_train, X_train], axis=1)"
   ]
  },
  {
   "cell_type": "code",
   "execution_count": null,
   "id": "7007e238-133f-491c-bb31-b8977e6c643f",
   "metadata": {},
   "outputs": [],
   "source": [
    "#split the positive and negative data\n",
    "train_df_pos = train_df[train_df['READMISSION']==1]\n",
    "train_df_neg = train_df[train_df['READMISSION']==0]"
   ]
  },
  {
   "cell_type": "code",
   "execution_count": null,
   "id": "d9cc92eb-8e8d-4df1-80c5-68899a38dd69",
   "metadata": {},
   "outputs": [],
   "source": [
    "#take a sample of the negative training set with the same number of rows as positive dataset\n",
    "train_df_neg_samp = train_df_neg.sample(n=2*len(train_df_pos))"
   ]
  },
  {
   "cell_type": "code",
   "execution_count": null,
   "id": "e8b5ee19-f5af-4512-81cc-d4cbb0d0c55d",
   "metadata": {},
   "outputs": [],
   "source": [
    "#concat the positive dataset and sample of the negative dataset to get one dataset\n",
    "#with equal number of postiive and negative cases\n",
    "new_train_df = pd.concat([train_df_pos,train_df_neg_samp],axis=0)"
   ]
  },
  {
   "cell_type": "code",
   "execution_count": null,
   "id": "fa1b321d-3442-44c2-a726-38b903df078e",
   "metadata": {},
   "outputs": [],
   "source": [
    "#randomize the new dataset\n",
    "new_train_df = new_train_df.sample(n=len(new_train_df))"
   ]
  },
  {
   "cell_type": "code",
   "execution_count": null,
   "id": "ac08430e-7e09-48b4-8c39-a11197bb31ea",
   "metadata": {},
   "outputs": [],
   "source": [
    "#split out the X and y of the new dataset\n",
    "y_train_2 = new_train_df['READMISSION']\n",
    "X_train_2 = new_train_df['TEXT']\n",
    "max_feats_2 = int(X_train_2.shape[0]*0.10)"
   ]
  },
  {
   "cell_type": "markdown",
   "id": "ac18c001-fd61-48e8-bb0a-fd1b83a596ab",
   "metadata": {
    "tags": []
   },
   "source": [
    "#### Undersampling Negative Cases: 3 to 1"
   ]
  },
  {
   "cell_type": "code",
   "execution_count": null,
   "id": "464877bf-11dd-41c1-96da-80cfa76efb76",
   "metadata": {},
   "outputs": [],
   "source": [
    "#concat the train dataset together\n",
    "train_df = pd.concat([y_train, X_train], axis=1)"
   ]
  },
  {
   "cell_type": "code",
   "execution_count": null,
   "id": "7f893ee4-cda9-42ff-a041-db2e655fb7b1",
   "metadata": {},
   "outputs": [],
   "source": [
    "#split the positive and negative data\n",
    "train_df_pos = train_df[train_df['READMISSION']==1]\n",
    "train_df_neg = train_df[train_df['READMISSION']==0]"
   ]
  },
  {
   "cell_type": "code",
   "execution_count": null,
   "id": "4e811107-7062-456f-bd22-00ad555c5038",
   "metadata": {},
   "outputs": [],
   "source": [
    "#take a sample of the negative training set with the same number of rows as positive dataset\n",
    "train_df_neg_samp = train_df_neg.sample(n=2*len(train_df_pos))"
   ]
  },
  {
   "cell_type": "code",
   "execution_count": null,
   "id": "6699a22e-89a8-4d74-8bb1-79f2de1aa99f",
   "metadata": {},
   "outputs": [],
   "source": [
    "#concat the positive dataset and sample of the negative dataset to get one dataset\n",
    "#with equal number of postiive and negative cases\n",
    "new_train_df = pd.concat([train_df_pos,train_df_neg_samp],axis=0)"
   ]
  },
  {
   "cell_type": "code",
   "execution_count": null,
   "id": "183a0b24-2908-4e2f-abdc-e571877a3211",
   "metadata": {},
   "outputs": [],
   "source": [
    "#randomize the new dataset\n",
    "new_train_df = new_train_df.sample(n=len(new_train_df))"
   ]
  },
  {
   "cell_type": "code",
   "execution_count": null,
   "id": "9749d005-ed4b-4872-90e5-f70da60f24ba",
   "metadata": {},
   "outputs": [],
   "source": [
    "#split out the X and y of the new dataset\n",
    "y_train_3 = new_train_df['READMISSION']\n",
    "X_train_3 = new_train_df['TEXT']\n",
    "max_feats_3 = int(X_train_3.shape[0]*0.10)"
   ]
  },
  {
   "cell_type": "markdown",
   "id": "c39cda3a-06bc-45ab-b80f-aec566c7e78e",
   "metadata": {
    "jp-MarkdownHeadingCollapsed": true,
    "tags": []
   },
   "source": [
    "#### Class Weights"
   ]
  },
  {
   "cell_type": "code",
   "execution_count": null,
   "id": "29dd3898-a337-4c14-8a44-96ce5886fe75",
   "metadata": {},
   "outputs": [],
   "source": [
    "#calculate class weights\n",
    "class_weights = class_weight.compute_class_weight(class_weight='balanced',classes=[0,1],y=y_train)"
   ]
  },
  {
   "cell_type": "code",
   "execution_count": null,
   "id": "c5443041-0444-4390-b352-30de1ea32172",
   "metadata": {},
   "outputs": [],
   "source": [
    "class_weights"
   ]
  },
  {
   "cell_type": "markdown",
   "id": "b87485d3-cb45-406b-affc-18238f76fa2d",
   "metadata": {
    "jp-MarkdownHeadingCollapsed": true,
    "tags": []
   },
   "source": [
    "### Model 1.1: Logistic Regression - Undersampling"
   ]
  },
  {
   "cell_type": "markdown",
   "id": "3ec6a592-d252-4295-aec8-f9005e405688",
   "metadata": {},
   "source": [
    "In this section, I applied the undersampled dataset to logistic regression model."
   ]
  },
  {
   "cell_type": "markdown",
   "id": "c0619026-bb71-4861-928d-4e42dbdf4b87",
   "metadata": {},
   "source": [
    "* Model: Logistic Regression\n",
    "* Vectorizer: Count\n",
    "* Class Imbalance Solution: Undersampling Negative 1:1"
   ]
  },
  {
   "cell_type": "code",
   "execution_count": null,
   "id": "7a915d19-4b65-4aed-9b3b-a8a111f4f0e0",
   "metadata": {},
   "outputs": [],
   "source": [
    "pp_count = Pipeline(steps=[\n",
    "    ('count', CountVectorizer(stop_words=sw, max_features=max_feats_1)),\n",
    "    ('logreg', LogisticRegression(random_state=42)),   \n",
    "    ])"
   ]
  },
  {
   "cell_type": "code",
   "execution_count": null,
   "id": "cb761343-5733-4aea-bfca-c2ede5b4cf4d",
   "metadata": {},
   "outputs": [],
   "source": [
    "pp_count.fit(X_train_1, y_train_1)\n",
    "\n",
    "scores(pp_count, X_train_1, y_train_1, 'Train')\n",
    "scores(pp_count, X_val, y_val, 'Validation')\n",
    "scores(pp_count, X_test, y_test, 'Test')"
   ]
  },
  {
   "cell_type": "markdown",
   "id": "332e0af5-fe25-4355-b39f-999f4e7f7805",
   "metadata": {},
   "source": [
    "* Model: Logistic Regression\n",
    "* Vectorizer: Tfidf\n",
    "* Class Imbalance Solution: Undersampling Negative 1:1"
   ]
  },
  {
   "cell_type": "code",
   "execution_count": null,
   "id": "90a5151a-515c-43cc-939d-526c2a4eaa70",
   "metadata": {},
   "outputs": [],
   "source": [
    "pp_tfidf = Pipeline(steps=[\n",
    "    ('tfidf', TfidfVectorizer(stop_words=sw, max_features=max_feats_1)),\n",
    "    ('logreg', LogisticRegression(random_state=42)),   \n",
    "    ])"
   ]
  },
  {
   "cell_type": "code",
   "execution_count": null,
   "id": "8f242fb1-30d5-4c9d-a1af-56a8772d2a93",
   "metadata": {},
   "outputs": [],
   "source": [
    "pp_tfidf.fit(X_train_1, y_train_1)\n",
    "\n",
    "scores(pp_tfidf, X_train_1, y_train_1, 'Train')\n",
    "scores(pp_tfidf, X_val, y_val, 'Validation')\n",
    "scores(pp_tfidf, X_test, y_test, 'Test')"
   ]
  },
  {
   "cell_type": "markdown",
   "id": "b339ba0b-32c5-4b98-9882-f425671e6b55",
   "metadata": {},
   "source": [
    "* Model: Logistic Regression\n",
    "* Vectorizer: Count\n",
    "* Class Imbalance Solution: Undersampling Negative 2:1"
   ]
  },
  {
   "cell_type": "code",
   "execution_count": null,
   "id": "2cfdde2e-50dd-4a3d-9430-2b2634039fcb",
   "metadata": {},
   "outputs": [],
   "source": [
    "pp_count = Pipeline(steps=[\n",
    "    ('count', CountVectorizer(stop_words=sw, max_features=max_feats_2)),\n",
    "    ('logreg', LogisticRegression(random_state=42)),   \n",
    "    ])"
   ]
  },
  {
   "cell_type": "code",
   "execution_count": null,
   "id": "3efa1bb1-c81f-4d52-84f9-5312bcd90ba7",
   "metadata": {},
   "outputs": [],
   "source": [
    "pp_count.fit(X_train_2, y_train_2)\n",
    "\n",
    "scores(pp_count, X_train_2, y_train_2, 'Train')\n",
    "scores(pp_count, X_val, y_val, 'Validation')\n",
    "scores(pp_count, X_test, y_test, 'Test')"
   ]
  },
  {
   "cell_type": "markdown",
   "id": "258df27e-f26f-4952-a07c-99f5de5d8d5d",
   "metadata": {},
   "source": [
    "* Model: Logistic Regression\n",
    "* Vectorizer: Tfidf\n",
    "* Class Imbalance Solution: Undersampling Negative 2:1"
   ]
  },
  {
   "cell_type": "code",
   "execution_count": null,
   "id": "929d3afd-8e91-4e51-8472-d0ca21fb5297",
   "metadata": {},
   "outputs": [],
   "source": [
    "pp_tfidf = Pipeline(steps=[\n",
    "    ('tfidf', TfidfVectorizer(stop_words=sw, max_features=max_feats_2)),\n",
    "    ('logreg', LogisticRegression(random_state=42)),   \n",
    "    ])"
   ]
  },
  {
   "cell_type": "code",
   "execution_count": null,
   "id": "ae150117-e5cd-44ac-b1e9-e08774ccebab",
   "metadata": {},
   "outputs": [],
   "source": [
    "pp_tfidf.fit(X_train_2, y_train_2)\n",
    "\n",
    "scores(pp_tfidf, X_train_2, y_train_2, 'Train')\n",
    "scores(pp_tfidf, X_val, y_val, 'Validation')\n",
    "scores(pp_tfidf, X_test, y_test, 'Test')"
   ]
  },
  {
   "cell_type": "markdown",
   "id": "bae0f885-d4a3-4809-8b49-70b2869242b8",
   "metadata": {},
   "source": [
    "* Model: Logistic Regression\n",
    "* Vectorizer: Count\n",
    "* Class Imbalance Solution: Undersampling Negative 3:1"
   ]
  },
  {
   "cell_type": "code",
   "execution_count": null,
   "id": "6274e802-2556-435b-89f6-251a0c67b134",
   "metadata": {},
   "outputs": [],
   "source": [
    "pp_count = Pipeline(steps=[\n",
    "    ('count', CountVectorizer(stop_words=sw, max_features=max_feats_3)),\n",
    "    ('logreg', LogisticRegression(random_state=42)),   \n",
    "    ])"
   ]
  },
  {
   "cell_type": "code",
   "execution_count": null,
   "id": "c24a341b-474c-47ee-84c9-8f20f7eb2c22",
   "metadata": {},
   "outputs": [],
   "source": [
    "pp_count.fit(X_train_3, y_train_3)\n",
    "\n",
    "scores(pp_count, X_train_3, y_train_3, 'Train')\n",
    "scores(pp_count, X_val, y_val, 'Validation')\n",
    "scores(pp_count, X_test, y_test, 'Test')"
   ]
  },
  {
   "cell_type": "markdown",
   "id": "45df3262-5eff-41da-a9d8-687b0bf323d7",
   "metadata": {},
   "source": [
    "* Model: Logistic Regression\n",
    "* Vectorizer: Tfidf\n",
    "* Class Imbalance Solution: Undersampling Negative 3:1"
   ]
  },
  {
   "cell_type": "code",
   "execution_count": null,
   "id": "b3c29750-29ce-4f55-8dd2-6281da527784",
   "metadata": {},
   "outputs": [],
   "source": [
    "pp_tfidf = Pipeline(steps=[\n",
    "    ('tfidf', TfidfVectorizer(stop_words=sw, max_features=max_feats_3)),\n",
    "    ('logreg', LogisticRegression(random_state=42)),   \n",
    "    ])"
   ]
  },
  {
   "cell_type": "code",
   "execution_count": null,
   "id": "76f2c526-6767-4649-bd2c-ab2c527943ab",
   "metadata": {},
   "outputs": [],
   "source": [
    "pp_tfidf.fit(X_train_3, y_train_3)\n",
    "\n",
    "scores(pp_tfidf, X_train_3, y_train_3, 'Train')\n",
    "scores(pp_tfidf, X_val, y_val, 'Validation')\n",
    "scores(pp_tfidf, X_test, y_test, 'Test')"
   ]
  },
  {
   "cell_type": "markdown",
   "id": "85af1411-a6b4-4a5b-b44e-53757a1eb6f8",
   "metadata": {},
   "source": [
    "After using the undersampled dataset, though the accuracy went down, the recall score went up. The ratio of 1 to 1 of negative to positive cases had the best recall scores."
   ]
  },
  {
   "cell_type": "markdown",
   "id": "54f3e5fe-0a2f-4128-bde9-aedae544bb41",
   "metadata": {
    "jp-MarkdownHeadingCollapsed": true,
    "tags": []
   },
   "source": [
    "### Model 1.2: Logistic Regression - Class Weights"
   ]
  },
  {
   "cell_type": "markdown",
   "id": "30d800a8-c6ae-460f-813a-0d8170cc1b88",
   "metadata": {},
   "source": [
    "In this section, I passed in the class weights in the logistic regression model."
   ]
  },
  {
   "cell_type": "markdown",
   "id": "7313f7a8-28c7-4175-9902-721ec427757f",
   "metadata": {},
   "source": [
    "* Model: Logistic Regression\n",
    "* Vectorizer: Count\n",
    "* Class Imbalance Solution: Class Weights"
   ]
  },
  {
   "cell_type": "code",
   "execution_count": null,
   "id": "5583fa44-387b-442d-8128-fa52f8af3e25",
   "metadata": {},
   "outputs": [],
   "source": [
    "pp_count = Pipeline(steps=[\n",
    "    ('count', CountVectorizer(stop_words=sw, max_features=max_feats)),\n",
    "    ('logreg', LogisticRegression(random_state=42, class_weight=class_weights)),   \n",
    "    ])"
   ]
  },
  {
   "cell_type": "code",
   "execution_count": null,
   "id": "c8b0935d-6a69-484a-8d1e-3ba64cb254d9",
   "metadata": {},
   "outputs": [],
   "source": [
    "pp_count.fit(X_train, y_train)\n",
    "\n",
    "scores(pp_count, X_train, y_train, 'Train')\n",
    "scores(pp_count, X_val, y_val, 'Validation')\n",
    "scores(pp_count, X_test, y_test, 'Test')"
   ]
  },
  {
   "cell_type": "markdown",
   "id": "c8810574-2e54-4219-b77e-a6c36ac94eab",
   "metadata": {},
   "source": [
    "* Model: Logistic Regression\n",
    "* Vectorizer: Tfidf\n",
    "* Class Imbalance Solution: Class Weights"
   ]
  },
  {
   "cell_type": "code",
   "execution_count": null,
   "id": "dbbc1d73-33dd-4683-b5c2-760679c765b2",
   "metadata": {},
   "outputs": [],
   "source": [
    "pp_tfidf = Pipeline(steps=[\n",
    "    ('tfidf', TfidfVectorizer(stop_words=sw, max_features=max_feats)),\n",
    "    ('logreg', LogisticRegression(random_state=42, class_weight=class_weights)),   \n",
    "    ])"
   ]
  },
  {
   "cell_type": "code",
   "execution_count": null,
   "id": "daa260c5-d3c9-4cf5-bb49-461f1408c9ff",
   "metadata": {},
   "outputs": [],
   "source": [
    "pp_tfidf.fit(X_train, y_train)\n",
    "\n",
    "scores(pp_tfidf, X_train, y_train, 'Train')\n",
    "scores(pp_tfidf, X_val, y_val, 'Validation')\n",
    "scores(pp_tfidf, X_test, y_test, 'Test')"
   ]
  },
  {
   "cell_type": "markdown",
   "id": "1dbdfe98-d8d8-4685-94cb-97ea546a72b9",
   "metadata": {},
   "source": [
    "As seen above, passing in the class weights did not improve the recall score."
   ]
  },
  {
   "cell_type": "markdown",
   "id": "8f87a943-e14a-4d6f-9e50-f8083bbad135",
   "metadata": {
    "jp-MarkdownHeadingCollapsed": true,
    "tags": []
   },
   "source": [
    "### Model 1.3: Logistic Regression - SMOTE"
   ]
  },
  {
   "cell_type": "markdown",
   "id": "3e91a34b-86b1-4902-82b3-4903f2fd5134",
   "metadata": {},
   "source": [
    "In this section, I utilized SMOTE to oversample the imbalanced class."
   ]
  },
  {
   "cell_type": "markdown",
   "id": "e9008eea-e6d5-4ae5-a274-82af716aab14",
   "metadata": {},
   "source": [
    "* Model: Logistic Regression\n",
    "* Vectorizer: Count\n",
    "* Class Imbalance Solution: SMOTE"
   ]
  },
  {
   "cell_type": "code",
   "execution_count": null,
   "id": "a2a68745-f552-4374-b429-caa21ef00709",
   "metadata": {},
   "outputs": [],
   "source": [
    "pp_count = imbpipeline(steps=[\n",
    "    ('count', CountVectorizer(stop_words=sw, max_features=max_feats)),\n",
    "    ('smote', SMOTE(random_state=42)),\n",
    "    ('logreg', LogisticRegression(random_state=42)),   \n",
    "    ])"
   ]
  },
  {
   "cell_type": "code",
   "execution_count": null,
   "id": "2321ec5b-c26b-487d-8068-500c895bf763",
   "metadata": {},
   "outputs": [],
   "source": [
    "pp_count.fit(X_train, y_train)\n",
    "\n",
    "scores(pp_count, X_train, y_train, 'Train')\n",
    "scores(pp_count, X_val, y_val, 'Validation')\n",
    "scores(pp_count, X_test, y_test, 'Test')"
   ]
  },
  {
   "cell_type": "markdown",
   "id": "63835eff-08c7-4d39-b503-a0bc7db0aff2",
   "metadata": {},
   "source": [
    "* Model: Logistic Regression\n",
    "* Vectorizer: Tfidf\n",
    "* Class Imbalance Solution: SMOTE"
   ]
  },
  {
   "cell_type": "code",
   "execution_count": null,
   "id": "e005b7f5-1ae7-486f-abdd-aca79fa12a4e",
   "metadata": {},
   "outputs": [],
   "source": [
    "pp_tfidf = imbpipeline(steps=[\n",
    "    ('tfidf', TfidfVectorizer(stop_words=sw, max_features=100max_feats0)),\n",
    "    ('smote', SMOTE(random_state=42)),\n",
    "    ('logreg', LogisticRegression(random_state=42)),   \n",
    "    ])"
   ]
  },
  {
   "cell_type": "code",
   "execution_count": null,
   "id": "e2d7c205-c230-4e87-80d2-12eceaa5b95b",
   "metadata": {
    "tags": []
   },
   "outputs": [],
   "source": [
    "pp_tfidf.fit(X_train, y_train)\n",
    "\n",
    "scores(pp_tfidf, X_train, y_train, 'Train')\n",
    "scores(pp_tfidf, X_val, y_val, 'Validation')\n",
    "scores(pp_tfidf, X_test, y_test, 'Test')"
   ]
  },
  {
   "cell_type": "markdown",
   "id": "057e2542-c378-4509-b507-d838b4b921ba",
   "metadata": {},
   "source": [
    "SMOTE did improve the recall score. However, running SMOTE into grid search will take too much computation power. Therefore, I will test out SMOTE without the grid search and use default paramaters for the models."
   ]
  },
  {
   "cell_type": "markdown",
   "id": "e7bcabd3-0594-4487-abc2-87666053b86d",
   "metadata": {
    "jp-MarkdownHeadingCollapsed": true,
    "tags": []
   },
   "source": [
    "### Introducing N-Grams"
   ]
  },
  {
   "cell_type": "code",
   "execution_count": null,
   "id": "f9f73228-2b19-4f79-955a-355d09096e0a",
   "metadata": {
    "tags": []
   },
   "outputs": [],
   "source": [
    "pp_tfidf = Pipeline(steps=[\n",
    "    ('tfidf', TfidfVectorizer(stop_words=sw, max_features=max_feats_1, ngram_range=(1,3))),\n",
    "    ('logreg', LogisticRegression(random_state=42)),   \n",
    "    ])"
   ]
  },
  {
   "cell_type": "code",
   "execution_count": null,
   "id": "599273cf-1e61-4223-9415-b1fb16e6d92f",
   "metadata": {},
   "outputs": [],
   "source": [
    "pp_tfidf.fit(X_train_1, y_train_1)\n",
    "\n",
    "scores(pp_tfidf, X_train_1, y_train_1, 'Train')\n",
    "scores(pp_tfidf, X_val, y_val, 'Validation')\n",
    "scores(pp_tfidf, X_test, y_test, 'Test')"
   ]
  },
  {
   "cell_type": "markdown",
   "id": "90e31e96-4aac-42b1-b3de-8f2597330ff9",
   "metadata": {
    "jp-MarkdownHeadingCollapsed": true,
    "tags": []
   },
   "source": [
    "### Model X: Multinomial Naives Bayes"
   ]
  },
  {
   "cell_type": "code",
   "execution_count": null,
   "id": "98efe08a-7116-43f9-b067-add34d0da68f",
   "metadata": {},
   "outputs": [],
   "source": [
    "pp_tfidf = Pipeline(steps=[\n",
    "    ('tfidf', TfidfVectorizer(stop_words=sw, max_features=max_feats_1)),\n",
    "    ('mnb', MultinomialNB())   \n",
    "    ])"
   ]
  },
  {
   "cell_type": "code",
   "execution_count": null,
   "id": "7a28de25-419f-4a06-832f-1076499059ab",
   "metadata": {},
   "outputs": [],
   "source": [
    "pp_tfidf.fit(X_train_1, y_train_1)\n",
    "\n",
    "scores(pp_tfidf, X_train_1, y_train_1, 'Train')\n",
    "scores(pp_tfidf, X_val, y_val, 'Validation')\n",
    "scores(pp_tfidf, X_test, y_test, 'Test')"
   ]
  },
  {
   "cell_type": "markdown",
   "id": "e2c1b26f-3129-4717-9412-876d94bb4e04",
   "metadata": {
    "tags": []
   },
   "source": [
    "### Model X: Random Forest"
   ]
  },
  {
   "cell_type": "code",
   "execution_count": null,
   "id": "e5d8e328-344f-4dc6-9541-5a455cdea497",
   "metadata": {},
   "outputs": [],
   "source": [
    "pp_tfidf = Pipeline(steps=[\n",
    "    ('tfidf', TfidfVectorizer(stop_words=sw, max_features=420)),\n",
    "    ('rf', RandomForestClassifier()),   \n",
    "    ])"
   ]
  },
  {
   "cell_type": "code",
   "execution_count": null,
   "id": "91ed9c3b-d803-40c6-be7a-e5631b55dc09",
   "metadata": {},
   "outputs": [],
   "source": [
    "grid = {'rf__max_depth': [8,10],\n",
    "        'rf__max_features': ['auto', 'sqrt'],\n",
    "        'rf__min_samples_leaf': [1, 2, 4],\n",
    "        'rf__min_samples_split': [2, 5, 7]}"
   ]
  },
  {
   "cell_type": "code",
   "execution_count": null,
   "id": "71fcbb8f-fc98-492e-a4f5-f6325f37de1b",
   "metadata": {},
   "outputs": [],
   "source": [
    "gs_rf = GridSearchCV(estimator=pp_tfidf, \n",
    "                      param_grid=grid, \n",
    "                      scoring='recall', \n",
    "                      cv=3,\n",
    "                      verbose=2,\n",
    "                      n_jobs=-1\n",
    "                     )"
   ]
  },
  {
   "cell_type": "code",
   "execution_count": null,
   "id": "a9b3d4e0-2338-4888-82b2-106defd591dd",
   "metadata": {},
   "outputs": [],
   "source": [
    "gs_rf.fit(X_train_1, y_train_1)\n",
    "\n",
    "scores(gs_rf, X_train_1, y_train_1, 'Train')\n",
    "scores(gs_rf, X_val, y_val, 'Validation')\n",
    "scores(gs_rf, X_test, y_test, 'Test')"
   ]
  },
  {
   "cell_type": "code",
   "execution_count": null,
   "id": "e87518e4-2df9-4e79-85aa-22a72150f08f",
   "metadata": {},
   "outputs": [],
   "source": [
    "gs_rf.best_params_"
   ]
  },
  {
   "cell_type": "code",
   "execution_count": null,
   "id": "a3a3d259-3f62-4159-9c1c-940f5b326b0b",
   "metadata": {},
   "outputs": [],
   "source": [
    "\"\"\"\n",
    "{'rf__max_depth': 10,\n",
    " 'rf__max_features': 'sqrt',\n",
    " 'rf__min_samples_leaf': 2,\n",
    " 'rf__min_samples_split': 7}\n",
    "\"\"\""
   ]
  },
  {
   "cell_type": "markdown",
   "id": "980aef3a-0fd9-4d53-94e7-bb34e77b5190",
   "metadata": {
    "jp-MarkdownHeadingCollapsed": true,
    "tags": []
   },
   "source": [
    "### Model 2: K-Nearest Neighbors"
   ]
  },
  {
   "cell_type": "code",
   "execution_count": null,
   "id": "e637b69a-0f04-483a-9fd9-d4579118104c",
   "metadata": {},
   "outputs": [],
   "source": [
    "pp_tfidf = Pipeline(steps=[\n",
    "    ('tfidf', TfidfVectorizer(stop_words=sw, max_features=20)),\n",
    "    ('knn', KNeighborsClassifier()),   \n",
    "    ])"
   ]
  },
  {
   "cell_type": "code",
   "execution_count": null,
   "id": "50564b29-3339-4e53-a920-03f927c85b69",
   "metadata": {},
   "outputs": [],
   "source": [
    "grid = {'knn__n_neighbors': list(range(3, 10, 2)),\n",
    "        'knn__weights': ['uniform', 'distance']}"
   ]
  },
  {
   "cell_type": "code",
   "execution_count": null,
   "id": "31563536-b01d-4d99-bbc3-7762016277a3",
   "metadata": {},
   "outputs": [],
   "source": [
    "gs_knn = GridSearchCV(estimator=pp_tfidf, \n",
    "                      param_grid=grid, \n",
    "                      scoring='recall', \n",
    "                      cv=3,\n",
    "                      verbose=2,\n",
    "                      n_jobs=-1\n",
    "                     )"
   ]
  },
  {
   "cell_type": "code",
   "execution_count": null,
   "id": "ba4056e2-2d22-4391-b8ec-a6fd46d6f1fb",
   "metadata": {},
   "outputs": [],
   "source": [
    "gs_knn.fit(X_train_1, y_train_1)\n",
    "\n",
    "scores(gs_knn, X_train_1, y_train_1, 'Train')\n",
    "scores(gs_knn, X_val, y_val, 'Validation')\n",
    "scores(gs_knn, X_test, y_test, 'Test')"
   ]
  },
  {
   "cell_type": "markdown",
   "id": "3f1bee23-9b38-4bb0-90c7-7d8af2acda7e",
   "metadata": {
    "jp-MarkdownHeadingCollapsed": true,
    "tags": []
   },
   "source": [
    "### Model 3: Decision Tree Model"
   ]
  },
  {
   "cell_type": "code",
   "execution_count": null,
   "id": "03b282d2-dc66-4b5c-9376-34f402f60129",
   "metadata": {},
   "outputs": [],
   "source": [
    "pp_tfidf = Pipeline(steps=[\n",
    "    ('tfidf', TfidfVectorizer(stop_words=sw, max_features=200)),\n",
    "    ('dt', DecisionTreeClassifier()),   \n",
    "    ])"
   ]
  },
  {
   "cell_type": "code",
   "execution_count": null,
   "id": "94709f02-1bf4-4f40-b73f-7747f3c0ff8b",
   "metadata": {},
   "outputs": [],
   "source": [
    "grid = {'dt__criterion': ['gini', 'entropy'],\n",
    "        'dt__max_depth': np.arange(1, 15, 2),\n",
    "        'dt__min_samples_split': np.arange(50, 100, 5),\n",
    "        'dt__min_samples_leaf': np.arange(50, 100,5)\n",
    "       }"
   ]
  },
  {
   "cell_type": "code",
   "execution_count": null,
   "id": "57640aba-bfae-4fd9-8db3-81877282f6a6",
   "metadata": {},
   "outputs": [],
   "source": [
    "gs_dt = GridSearchCV(estimator=pp_tfidf, \n",
    "                      param_grid=grid, \n",
    "                      scoring='recall', \n",
    "                      cv=3,\n",
    "                      verbose=2,\n",
    "                      n_jobs=-1\n",
    "                     )"
   ]
  },
  {
   "cell_type": "code",
   "execution_count": null,
   "id": "9207f288-2904-4d8c-935b-0cfb17a88a5c",
   "metadata": {},
   "outputs": [],
   "source": [
    "gs_dt.best_params_"
   ]
  },
  {
   "cell_type": "code",
   "execution_count": null,
   "id": "52324596-521c-471c-8748-0ee3bf989f28",
   "metadata": {},
   "outputs": [],
   "source": [
    "\"\"\"\n",
    "{'dt__criterion': 'gini',\n",
    " 'dt__max_depth': 1,\n",
    " 'dt__min_samples_leaf': 50,\n",
    " 'dt__min_samples_split': 50}\n",
    "\"\"\""
   ]
  },
  {
   "cell_type": "code",
   "execution_count": null,
   "id": "6de64368-18b8-4455-84e6-0d5d1e973b44",
   "metadata": {},
   "outputs": [],
   "source": [
    "gs_dt.fit(X_train_2, y_train_2)\n",
    "\n",
    "scores(gs_dt, X_train_2, y_train_2, 'Train')\n",
    "scores(gs_dt, X_val, y_val, 'Validation')\n",
    "scores(gs_dt, X_test, y_test, 'Test')"
   ]
  },
  {
   "cell_type": "markdown",
   "id": "cdea123c-439f-46c1-bf0c-1db74c31f9a0",
   "metadata": {
    "jp-MarkdownHeadingCollapsed": true,
    "tags": []
   },
   "source": [
    "### Model 4: Random Forest"
   ]
  },
  {
   "cell_type": "code",
   "execution_count": null,
   "id": "b803f2e2-271f-4191-a7ff-806ff2a9a8f7",
   "metadata": {},
   "outputs": [],
   "source": [
    "pp_tfidf = Pipeline(steps=[\n",
    "    ('tfidf', TfidfVectorizer(stop_words=sw, max_features=420)),\n",
    "    ('rf', RandomForestClassifier()),   \n",
    "    ])"
   ]
  },
  {
   "cell_type": "code",
   "execution_count": null,
   "id": "94d8601d-d3e3-4a47-95c3-df8475524d17",
   "metadata": {},
   "outputs": [],
   "source": [
    "grid = {'rf__max_depth': [8,10],\n",
    "        'rf__max_features': ['auto', 'sqrt'],\n",
    "        'rf__min_samples_leaf': [1, 2, 4],\n",
    "        'rf__min_samples_split': [2, 5, 7]}"
   ]
  },
  {
   "cell_type": "code",
   "execution_count": null,
   "id": "01b8b5a3-b9ff-4ca9-a8cc-ed715ebfffb7",
   "metadata": {},
   "outputs": [],
   "source": [
    "gs_rf = GridSearchCV(estimator=pp_tfidf, \n",
    "                      param_grid=grid, \n",
    "                      scoring='recall', \n",
    "                      cv=3,\n",
    "                      verbose=2,\n",
    "                      n_jobs=-1\n",
    "                     )"
   ]
  },
  {
   "cell_type": "code",
   "execution_count": null,
   "id": "f8dce028-855b-436c-a0b0-e389973f6341",
   "metadata": {},
   "outputs": [],
   "source": []
  },
  {
   "cell_type": "code",
   "execution_count": null,
   "id": "019ca072-e9bc-4662-970a-29aa168df4e3",
   "metadata": {},
   "outputs": [],
   "source": [
    "\"\"\"\n",
    "{'rf__max_depth': 10,\n",
    " 'rf__max_features': 'sqrt',\n",
    " 'rf__min_samples_leaf': 2,\n",
    " 'rf__min_samples_split': 7}\n",
    "\"\"\""
   ]
  },
  {
   "cell_type": "code",
   "execution_count": null,
   "id": "4aae5800-a810-467f-af6c-4c64c0ddd083",
   "metadata": {},
   "outputs": [],
   "source": [
    "gs_rf.fit(X_train_1, y_train_1)\n",
    "\n",
    "scores(gs_rf, X_train_1, y_train_1, 'Train')\n",
    "scores(gs_rf, X_val, y_val, 'Validation')\n",
    "scores(gs_rf, X_test, y_test, 'Test')"
   ]
  },
  {
   "cell_type": "code",
   "execution_count": null,
   "id": "d99c8dc1-9f37-4f6b-9133-3e1f6cc21dd1",
   "metadata": {},
   "outputs": [],
   "source": [
    "gs_rf.best_params_"
   ]
  },
  {
   "cell_type": "markdown",
   "id": "066982d4-b772-448c-b8f8-d2a3536382bf",
   "metadata": {},
   "source": [
    "### Model 5: XGBoost"
   ]
  },
  {
   "cell_type": "markdown",
   "id": "0970d3f9-d222-44f2-832c-a050e25c8703",
   "metadata": {},
   "source": [
    "### Model 6: AdaBoost"
   ]
  },
  {
   "cell_type": "markdown",
   "id": "4778521f-8e34-4660-8ff4-2c741b31db82",
   "metadata": {
    "tags": []
   },
   "source": [
    "### Model 7: Gradient Boost"
   ]
  },
  {
   "cell_type": "code",
   "execution_count": null,
   "id": "4b4b20d0-ae92-46aa-b275-f5dfba7fdf40",
   "metadata": {},
   "outputs": [],
   "source": [
    "pp_tfidf = Pipeline(steps=[\n",
    "    ('tfidf', TfidfVectorizer(stop_words=sw, max_features=50)),\n",
    "    ('gbc', GradientBoostingClassifier(random_state=42)),   \n",
    "    ])"
   ]
  },
  {
   "cell_type": "code",
   "execution_count": null,
   "id": "bd534e2d-b87f-440d-a205-0ef75d232784",
   "metadata": {},
   "outputs": [],
   "source": [
    "grid = {'gbc__max_features': ['auto','log2'],\n",
    "        'gbc__min_samples_split':[10, 50, 100, 1000],\n",
    "        'gbc__max_depth':[3, 5, 10, 20]\n",
    "       }"
   ]
  },
  {
   "cell_type": "code",
   "execution_count": null,
   "id": "e379dbe6-c26e-4bae-b9f7-a947279996c8",
   "metadata": {},
   "outputs": [],
   "source": [
    "gs_gbc = GridSearchCV(estimator=pp_tfidf, \n",
    "                      param_grid=grid, \n",
    "                      scoring='recall', \n",
    "                      cv=3,\n",
    "                      verbose=2,\n",
    "                      n_jobs=-1\n",
    "                     )"
   ]
  },
  {
   "cell_type": "code",
   "execution_count": null,
   "id": "d2e95509-64ac-40f5-8ce1-c744c4c0deee",
   "metadata": {},
   "outputs": [],
   "source": [
    "gs_gbc.fit(X_train_2, y_train_2)\n",
    "\n",
    "scores(gs_gbc, X_train_2, y_train_2, 'Train')\n",
    "scores(gs_gbc, X_val, y_val, 'Validation')\n",
    "scores(gs_gbc, X_test, y_test, 'Test')"
   ]
  },
  {
   "cell_type": "code",
   "execution_count": null,
   "id": "b786d135-907d-412a-a54b-56e11229cc51",
   "metadata": {},
   "outputs": [],
   "source": [
    "gs_gbc.best_params_"
   ]
  },
  {
   "cell_type": "code",
   "execution_count": null,
   "id": "6fc5bd3a-add3-43fd-a1e7-38b5f775bd44",
   "metadata": {},
   "outputs": [],
   "source": [
    "\"\"\"\n",
    "{'gbc__max_depth': 3,\n",
    " 'gbc__max_features': 'log2',\n",
    " 'gbc__min_samples_split': 10}\n",
    "\"\"\""
   ]
  },
  {
   "cell_type": "code",
   "execution_count": null,
   "id": "5ab86120-9883-4c4b-82ed-ee691af326bf",
   "metadata": {},
   "outputs": [],
   "source": [
    "pp_tfidf = imbpipeline(steps=[\n",
    "    ('tfidf', TfidfVectorizer(stop_words=sw, max_features=max_features)),\n",
    "    ('smote', SMOTE(random_state=42)),\n",
    "    ('gbc', GradientBoostingClassifier(random_state=42)),   \n",
    "    ])"
   ]
  },
  {
   "cell_type": "code",
   "execution_count": null,
   "id": "bda779e2-4539-4f37-9ba8-13eff2421c21",
   "metadata": {},
   "outputs": [],
   "source": [
    "#grid = {'gbc__max_features': ['auto','log2'],\n",
    "#        'gbc__min_samples_split':[10, 50, 100, 1000],\n",
    "#        'gbc__max_depth':[3, 5, 10, 20]\n",
    "#       }"
   ]
  },
  {
   "cell_type": "code",
   "execution_count": null,
   "id": "5df069cb-ab69-4d51-b1dc-2f21d4cbfecf",
   "metadata": {},
   "outputs": [],
   "source": [
    "# gs_gbc = GridSearchCV(estimator=pp_tfidf, \n",
    "#                       param_grid=grid, \n",
    "#                       scoring='recall', \n",
    "#                       cv=3,\n",
    "#                       verbose=2,\n",
    "#                       n_jobs=-1\n",
    "#                      )"
   ]
  },
  {
   "cell_type": "code",
   "execution_count": null,
   "id": "c66ec9d9-af25-4b92-a547-6512a5e67bad",
   "metadata": {},
   "outputs": [],
   "source": [
    "pp_tfidf.fit(X_train, y_train)\n",
    "\n",
    "scores(pp_tfidf, X_train, y_train, 'Train')\n",
    "scores(pp_tfidf, X_val, y_val, 'Validation')\n",
    "scores(pp_tfidf, X_test, y_test, 'Test')"
   ]
  },
  {
   "cell_type": "markdown",
   "id": "fab9610f-b212-4cc4-ad98-615581deb7f8",
   "metadata": {},
   "source": [
    "### Model 8: Neural Network"
   ]
  },
  {
   "cell_type": "markdown",
   "id": "59b841e4-70ad-4562-8005-b5c8f9316a8a",
   "metadata": {},
   "source": [
    "### Model 9: Convolutional Neural Network"
   ]
  }
 ],
 "metadata": {
  "kernelspec": {
   "display_name": "main_env",
   "language": "python",
   "name": "main_env"
  },
  "language_info": {
   "codemirror_mode": {
    "name": "ipython",
    "version": 3
   },
   "file_extension": ".py",
   "mimetype": "text/x-python",
   "name": "python",
   "nbconvert_exporter": "python",
   "pygments_lexer": "ipython3",
   "version": "3.8.11"
  }
 },
 "nbformat": 4,
 "nbformat_minor": 5
}

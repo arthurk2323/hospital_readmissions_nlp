{
 "cells": [
  {
   "cell_type": "markdown",
   "id": "f5c1c35d-ee25-4265-b829-892aef64aeb8",
   "metadata": {
    "tags": []
   },
   "source": [
    "# Discharge Notes and Readmission Rates: NLP"
   ]
  },
  {
   "cell_type": "markdown",
   "id": "5c943f1f-751d-4fa7-80c5-237a62832447",
   "metadata": {},
   "source": [
    "This notebook is for the processing the cleaned dataset through a NLP."
   ]
  },
  {
   "cell_type": "markdown",
   "id": "bfc79e42-bcde-4100-bda2-dabace9a8e36",
   "metadata": {
    "jp-MarkdownHeadingCollapsed": true,
    "tags": []
   },
   "source": [
    "## Import"
   ]
  },
  {
   "cell_type": "markdown",
   "id": "58e099d3-a7aa-4cc1-96fc-90ffd6d89618",
   "metadata": {},
   "source": [
    "Import the relevant libraries."
   ]
  },
  {
   "cell_type": "code",
   "execution_count": 1,
   "id": "3a5e8556-65a6-41c7-838f-8de9ee0a22a3",
   "metadata": {},
   "outputs": [],
   "source": [
    "import pandas as pd\n",
    "import numpy as np\n",
    "import matplotlib.pyplot as plt\n",
    "\n",
    "#vectorizers\n",
    "from sklearn.feature_extraction.text import CountVectorizer, TfidfVectorizer\n",
    "from nltk.corpus import stopwords\n",
    "\n",
    "#modeling\n",
    "from sklearn.model_selection import train_test_split, GridSearchCV\n",
    "from sklearn.metrics import accuracy_score, recall_score, plot_confusion_matrix\n",
    "from sklearn.dummy import DummyClassifier\n",
    "from sklearn.linear_model import LogisticRegression\n",
    "from sklearn.naive_bayes import MultinomialNB\n",
    "from sklearn.ensemble import RandomForestClassifier, GradientBoostingClassifier, VotingClassifier\n",
    "from sklearn.neighbors import KNeighborsClassifier\n",
    "from sklearn.tree import DecisionTreeClassifier\n",
    "import xgboost as xg\n",
    "from sklearn.pipeline import Pipeline \n",
    "from imblearn.over_sampling import SMOTE\n",
    "from imblearn.pipeline import Pipeline as imbpipeline\n",
    "from sklearn.utils import class_weight\n",
    "\n",
    "# Neural network models and layers\n",
    "import tensorflow as tf\n",
    "from tensorflow.keras import models, layers\n",
    "from tensorflow.keras.preprocessing.image import (\n",
    "    ImageDataGenerator,\n",
    "    array_to_img,\n",
    "    img_to_array,\n",
    "    load_img\n",
    ")\n",
    "from tensorflow.keras.models import load_model"
   ]
  },
  {
   "cell_type": "markdown",
   "id": "a3de1c07-8d51-4046-9b91-8a402764493d",
   "metadata": {
    "jp-MarkdownHeadingCollapsed": true,
    "tags": []
   },
   "source": [
    "## Functions"
   ]
  },
  {
   "cell_type": "code",
   "execution_count": 2,
   "id": "3d2e2740-785f-4934-8ce7-220183f99db7",
   "metadata": {},
   "outputs": [],
   "source": [
    "def scores(model, X, y, set_type):\n",
    "    '''\n",
    "    This function takes in an already fitted model, X, y, and\n",
    "    the type of data (train, validation, or test) in str format,\n",
    "    and prints out the accuracy and recall scores. The function\n",
    "    also prints out the confusion matrix\n",
    "    '''\n",
    "    pred = model.predict(X)\n",
    "    acc_score = accuracy_score(y, pred)\n",
    "    rec_score = recall_score(y, pred)\n",
    "    \n",
    "    print(\"{} Scores\".format(set_type))\n",
    "    print(\"accuracy: \", acc_score)\n",
    "    print(\"recall:   \", rec_score)\n",
    "    fig, ax = plt.subplots(figsize=(6,6))\n",
    "    ax.set_title(set_type)\n",
    "    plot_confusion_matrix(model, X, y, ax=ax)\n",
    "    return round(acc_score*100,1), round(rec_score*100,1) "
   ]
  },
  {
   "cell_type": "code",
   "execution_count": 233,
   "id": "bb31ac80-d42f-45b1-9597-e7397edcc53b",
   "metadata": {},
   "outputs": [],
   "source": [
    "def get_most_important_features(vectorizer, model, n=5):\n",
    "    index_to_word = {v:k for k,v in vectorizer.vocabulary_.items()}\n",
    "    \n",
    "    # loop for each class\n",
    "    classes ={}\n",
    "    for class_index in range(model.coef_.shape[0]):\n",
    "        word_importances = [(el, index_to_word[i]) for i,el in enumerate(model.coef_[class_index])]\n",
    "        sorted_coeff = sorted(word_importances, key = lambda x : x[0], reverse=True)\n",
    "        tops = sorted(sorted_coeff[:n], key = lambda x : x[0])\n",
    "        bottom = sorted_coeff[-n:]\n",
    "        classes[class_index] = {\n",
    "            'tops':tops,\n",
    "            'bottom':bottom\n",
    "        }\n",
    "    return classes"
   ]
  },
  {
   "cell_type": "code",
   "execution_count": 270,
   "id": "f676e57c-8669-48f6-a1d0-b0b15db42a6a",
   "metadata": {},
   "outputs": [],
   "source": [
    "def plot_important_words(top_scores, top_words, bottom_scores, bottom_words, name):\n",
    "    y_pos = np.arange(len(top_words))\n",
    "    top_pairs = [(a,b) for a,b in zip(top_words, top_scores)]\n",
    "    top_pairs = sorted(top_pairs, key=lambda x: x[1])\n",
    "    \n",
    "    bottom_pairs = [(a,b) for a,b in zip(bottom_words, bottom_scores)]\n",
    "    bottom_pairs = sorted(bottom_pairs, key=lambda x: x[1], reverse=True)\n",
    "    \n",
    "    top_words = [a[0] for a in top_pairs]\n",
    "    top_scores = [a[1] for a in top_pairs]\n",
    "    \n",
    "    bottom_words = [a[0] for a in bottom_pairs]\n",
    "    bottom_scores = [a[1] for a in bottom_pairs]\n",
    "    \n",
    "    fig = plt.figure(figsize=(10, 10))  \n",
    "\n",
    "    plt.subplot(121)\n",
    "    plt.barh(y_pos,bottom_scores, align='center', alpha=0.5)\n",
    "    plt.title('Irrelevant', fontsize=20)\n",
    "    plt.yticks(y_pos, bottom_words, fontsize=14)\n",
    "    plt.suptitle('Key words', fontsize=16)\n",
    "    plt.xlabel('Importance', fontsize=20)\n",
    "    \n",
    "    plt.subplot(122)\n",
    "    plt.barh(y_pos,top_scores, align='center', alpha=0.5)\n",
    "    plt.title('Readmission', fontsize=20)\n",
    "    plt.yticks(y_pos, top_words, fontsize=14)\n",
    "    plt.suptitle(name, fontsize=16)\n",
    "    plt.xlabel('Importance', fontsize=20)\n",
    "    \n",
    "    plt.subplots_adjust(wspace=0.8)\n",
    "    plt.show()\n",
    "    return fig"
   ]
  },
  {
   "cell_type": "markdown",
   "id": "bf324ee3-1272-4ed8-a2d8-f1e4c9aa3207",
   "metadata": {
    "jp-MarkdownHeadingCollapsed": true,
    "tags": []
   },
   "source": [
    "## Reading in the Data"
   ]
  },
  {
   "cell_type": "markdown",
   "id": "dafd84d0-cb59-4572-a062-7e50b05d4bcd",
   "metadata": {},
   "source": [
    "Here, I read in the cleand dataset from the previous EDA folder."
   ]
  },
  {
   "cell_type": "code",
   "execution_count": 3,
   "id": "a7620d11-107a-4485-93ce-96c9dfcdbb0e",
   "metadata": {},
   "outputs": [],
   "source": [
    "df = pd.read_csv('data/admissions_cleaned_2.csv.gz', compression='gzip')"
   ]
  },
  {
   "cell_type": "code",
   "execution_count": 4,
   "id": "8581e64b-96a7-4450-87c4-54b93fc812d0",
   "metadata": {},
   "outputs": [
    {
     "name": "stdout",
     "output_type": "stream",
     "text": [
      "<class 'pandas.core.frame.DataFrame'>\n",
      "RangeIndex: 52726 entries, 0 to 52725\n",
      "Data columns (total 17 columns):\n",
      " #   Column              Non-Null Count  Dtype \n",
      "---  ------              --------------  ----- \n",
      " 0   ADMISSION_TYPE      52726 non-null  object\n",
      " 1   ADMISSION_LOCATION  52726 non-null  object\n",
      " 2   DISCHARGE_LOCATION  52726 non-null  object\n",
      " 3   INSURANCE           52726 non-null  object\n",
      " 4   LANGUAGE            52726 non-null  object\n",
      " 5   RELIGION            52726 non-null  object\n",
      " 6   MARITAL_STATUS      52726 non-null  object\n",
      " 7   ETHNICITY           52726 non-null  object\n",
      " 8   DIAGNOSIS           52726 non-null  object\n",
      " 9   READMISSION         52726 non-null  int64 \n",
      " 10  GENDER              52726 non-null  object\n",
      " 11  AGE                 52726 non-null  int64 \n",
      " 12  TEXT                52726 non-null  object\n",
      " 13  CPT_CD              52726 non-null  object\n",
      " 14  DIAG_ICD9_CODE      52722 non-null  object\n",
      " 15  DRG_CODE            52726 non-null  object\n",
      " 16  PROCED_ICD9_CODE    52726 non-null  object\n",
      "dtypes: int64(2), object(15)\n",
      "memory usage: 6.8+ MB\n"
     ]
    }
   ],
   "source": [
    "df.info()"
   ]
  },
  {
   "cell_type": "code",
   "execution_count": 5,
   "id": "ee7c901a-f96c-49cf-be42-85d08827c3d6",
   "metadata": {},
   "outputs": [
    {
     "data": {
      "text/plain": [
       "0    49715\n",
       "1     3011\n",
       "Name: READMISSION, dtype: int64"
      ]
     },
     "execution_count": 5,
     "metadata": {},
     "output_type": "execute_result"
    }
   ],
   "source": [
    "df['READMISSION'].value_counts()"
   ]
  },
  {
   "cell_type": "code",
   "execution_count": 6,
   "id": "45a68ce7-cf5b-4002-8cc0-38aff1ca05be",
   "metadata": {},
   "outputs": [],
   "source": [
    "#set X as the text data, and y as the readmission status\n",
    "X = df['TEXT']\n",
    "y = df['READMISSION']"
   ]
  },
  {
   "cell_type": "markdown",
   "id": "375d21c4-b8c7-4228-9203-318608d1b3ab",
   "metadata": {},
   "source": [
    "The dataset is heavily imbalanced, with a lot more negative cases. In order to handle class imbalance, I will later on use two method, SMOTE and undersampling, to mitigate the class imbalance."
   ]
  },
  {
   "cell_type": "code",
   "execution_count": 183,
   "id": "fdc05638-ad2a-4460-8fa8-498501d31f5c",
   "metadata": {},
   "outputs": [],
   "source": [
    "pos_df = df[df['READMISSION']==1]\n",
    "neg_df = df[df['READMISSION']==0]\n",
    "\n",
    "pos_X = pos_df['TEXT']\n",
    "neg_X = neg_df['TEXT']"
   ]
  },
  {
   "cell_type": "code",
   "execution_count": 184,
   "id": "64f2c331-bcde-4125-80b6-d6f25b76522b",
   "metadata": {},
   "outputs": [],
   "source": [
    "sw = stopwords.words('english')"
   ]
  },
  {
   "cell_type": "code",
   "execution_count": 185,
   "id": "57967d7b-fcf1-491d-89c2-9c43ba1b72c0",
   "metadata": {},
   "outputs": [
    {
     "data": {
      "text/plain": [
       "TfidfVectorizer(max_features=20,\n",
       "                stop_words=['i', 'me', 'my', 'myself', 'we', 'our', 'ours',\n",
       "                            'ourselves', 'you', \"you're\", \"you've\", \"you'll\",\n",
       "                            \"you'd\", 'your', 'yours', 'yourself', 'yourselves',\n",
       "                            'he', 'him', 'his', 'himself', 'she', \"she's\",\n",
       "                            'her', 'hers', 'herself', 'it', \"it's\", 'its',\n",
       "                            'itself', ...])"
      ]
     },
     "execution_count": 185,
     "metadata": {},
     "output_type": "execute_result"
    }
   ],
   "source": [
    "count_vec = CountVectorizer(stop_words=sw, max_features=20)\n",
    "count_vec.fit(pos_X)\n",
    "tfidf_vec = TfidfVectorizer(stop_words=sw, max_features=20)\n",
    "tfidf_vec.fit(pos_X)"
   ]
  },
  {
   "cell_type": "code",
   "execution_count": 186,
   "id": "62ebfda9-0ce5-4104-be5d-568712e34d54",
   "metadata": {},
   "outputs": [],
   "source": [
    "bag_of_words = count_vec.transform(pos_X)\n",
    "sum_words = bag_of_words.sum(axis=0)\n",
    "words_freq = [(word, sum_words[0, idx]) for word, idx in count_vec.vocabulary_.items()]"
   ]
  },
  {
   "cell_type": "code",
   "execution_count": 187,
   "id": "113227ad-e428-4ef6-a522-ac6fbcee2899",
   "metadata": {},
   "outputs": [],
   "source": [
    "words_freq =sorted(words_freq, key = lambda x: x[1], reverse=True)"
   ]
  },
  {
   "cell_type": "code",
   "execution_count": 188,
   "id": "61a5b932-b464-4509-b76d-c843bc50f78e",
   "metadata": {},
   "outputs": [
    {
     "data": {
      "text/plain": [
       "[('wa', 92468),\n",
       " ('mg', 62254),\n",
       " ('tablet', 49487),\n",
       " ('name', 44193),\n",
       " ('po', 38759),\n",
       " ('patient', 38190),\n",
       " ('day', 36165),\n",
       " ('blood', 30941),\n",
       " ('daili', 30698),\n",
       " ('sig', 30287),\n",
       " ('hospit', 30107),\n",
       " ('discharg', 28908),\n",
       " ('one', 28050),\n",
       " ('hi', 23451),\n",
       " ('last', 22205),\n",
       " ('left', 19877),\n",
       " ('time', 19726),\n",
       " ('histori', 19553),\n",
       " ('medic', 18721),\n",
       " ('right', 16648)]"
      ]
     },
     "execution_count": 188,
     "metadata": {},
     "output_type": "execute_result"
    }
   ],
   "source": [
    "words_freq"
   ]
  },
  {
   "cell_type": "code",
   "execution_count": 189,
   "id": "60dc3423-4e68-4115-85a6-fa8c46307b87",
   "metadata": {},
   "outputs": [],
   "source": [
    "bag_of_words = tfidf_vec.transform(pos_X)\n",
    "sum_words = bag_of_words.sum(axis=0)\n",
    "words_freq = [(word, sum_words[0, idx]) for word, idx in count_vec.vocabulary_.items()]"
   ]
  },
  {
   "cell_type": "code",
   "execution_count": 190,
   "id": "4b5b4fd6-9c9a-4ff7-8763-a0154b3084ef",
   "metadata": {},
   "outputs": [],
   "source": [
    "words_freq =sorted(words_freq, key = lambda x: x[1], reverse=True)"
   ]
  },
  {
   "cell_type": "code",
   "execution_count": 191,
   "id": "468c874b-a3a7-4b33-b3d3-b305df69c04e",
   "metadata": {},
   "outputs": [
    {
     "data": {
      "text/plain": [
       "[('wa', 1290.5287234051336),\n",
       " ('mg', 871.3013923889422),\n",
       " ('tablet', 804.1657326770642),\n",
       " ('name', 645.0082322563459),\n",
       " ('po', 608.3590456987669),\n",
       " ('sig', 577.7954051727461),\n",
       " ('patient', 540.0631147608569),\n",
       " ('day', 508.5686892971026),\n",
       " ('daili', 488.2984323106088),\n",
       " ('blood', 457.0502122205831),\n",
       " ('hi', 457.0293652051453),\n",
       " ('discharg', 448.07359532825285),\n",
       " ('hospit', 430.2582768650136),\n",
       " ('one', 412.9495024515257),\n",
       " ('last', 327.39407060661966),\n",
       " ('left', 320.66391113281975),\n",
       " ('histori', 300.6325752068569),\n",
       " ('time', 284.0022529635785),\n",
       " ('medic', 282.22004013925005),\n",
       " ('right', 270.5921505742682)]"
      ]
     },
     "execution_count": 191,
     "metadata": {},
     "output_type": "execute_result"
    }
   ],
   "source": [
    "words_freq"
   ]
  },
  {
   "cell_type": "code",
   "execution_count": 192,
   "id": "9951cc73-de98-4c1e-b20f-bc42c32d09b1",
   "metadata": {},
   "outputs": [],
   "source": [
    "bag_of_words = tfidf_vec.transform(pos_X)\n",
    "sum_words = bag_of_words.mean(axis=0)\n",
    "words_freq = [(word, sum_words[0, idx]) for word, idx in count_vec.vocabulary_.items()]"
   ]
  },
  {
   "cell_type": "code",
   "execution_count": 193,
   "id": "e5ab6dd7-b0a9-4180-a0f3-9804f6572117",
   "metadata": {},
   "outputs": [],
   "source": [
    "words_freq =sorted(words_freq, key = lambda x: x[1], reverse=True)"
   ]
  },
  {
   "cell_type": "code",
   "execution_count": 194,
   "id": "b894156c-df22-4469-b5dd-6ddde83dc318",
   "metadata": {},
   "outputs": [
    {
     "data": {
      "text/plain": [
       "[('wa', 0.428604690602834),\n",
       " ('mg', 0.2893727639949993),\n",
       " ('tablet', 0.26707596568484304),\n",
       " ('name', 0.21421728072279805),\n",
       " ('po', 0.20204551501121498),\n",
       " ('sig', 0.19189485392651778),\n",
       " ('patient', 0.17936337255425355),\n",
       " ('day', 0.16890358329362437),\n",
       " ('daili', 0.16217151521441706),\n",
       " ('blood', 0.15179349459335192),\n",
       " ('hi', 0.15178657097480702),\n",
       " ('discharg', 0.14881222030164454),\n",
       " ('hospit', 0.14289547554467397),\n",
       " ('one', 0.1371469619566674),\n",
       " ('last', 0.10873267041070082),\n",
       " ('left', 0.10649747961900372),\n",
       " ('histori', 0.09984476094548557),\n",
       " ('time', 0.09432157189092631),\n",
       " ('medic', 0.09372967125182659),\n",
       " ('right', 0.08986786800872411)]"
      ]
     },
     "execution_count": 194,
     "metadata": {},
     "output_type": "execute_result"
    }
   ],
   "source": [
    "words_freq"
   ]
  },
  {
   "cell_type": "code",
   "execution_count": 195,
   "id": "53ea56d4-b962-4f28-9b10-c54b071d17b9",
   "metadata": {},
   "outputs": [
    {
     "data": {
      "text/plain": [
       "TfidfVectorizer(max_features=20,\n",
       "                stop_words=['i', 'me', 'my', 'myself', 'we', 'our', 'ours',\n",
       "                            'ourselves', 'you', \"you're\", \"you've\", \"you'll\",\n",
       "                            \"you'd\", 'your', 'yours', 'yourself', 'yourselves',\n",
       "                            'he', 'him', 'his', 'himself', 'she', \"she's\",\n",
       "                            'her', 'hers', 'herself', 'it', \"it's\", 'its',\n",
       "                            'itself', ...])"
      ]
     },
     "execution_count": 195,
     "metadata": {},
     "output_type": "execute_result"
    }
   ],
   "source": [
    "count_vec = CountVectorizer(stop_words=sw, max_features=20)\n",
    "count_vec.fit(neg_X)\n",
    "tfidf_vec = TfidfVectorizer(stop_words=sw, max_features=20)\n",
    "tfidf_vec.fit(neg_X)"
   ]
  },
  {
   "cell_type": "code",
   "execution_count": 196,
   "id": "3b82cc8e-bc8b-4434-b362-6e2d6c9c7f11",
   "metadata": {},
   "outputs": [],
   "source": [
    "bag_of_words = count_vec.transform(neg_X)\n",
    "sum_words = bag_of_words.sum(axis=0)\n",
    "words_freq = [(word, sum_words[0, idx]) for word, idx in count_vec.vocabulary_.items()]"
   ]
  },
  {
   "cell_type": "code",
   "execution_count": 197,
   "id": "d68bbccd-da8b-450f-bfdb-cf0aeb05013e",
   "metadata": {},
   "outputs": [],
   "source": [
    "words_freq =sorted(words_freq, key = lambda x: x[1], reverse=True)"
   ]
  },
  {
   "cell_type": "code",
   "execution_count": 198,
   "id": "82080eaa-373e-4fff-b803-62eef9644037",
   "metadata": {},
   "outputs": [
    {
     "data": {
      "text/plain": [
       "[('wa', 1330069),\n",
       " ('mg', 708879),\n",
       " ('name', 598701),\n",
       " ('tablet', 571799),\n",
       " ('patient', 551299),\n",
       " ('day', 451690),\n",
       " ('discharg', 429881),\n",
       " ('po', 426041),\n",
       " ('blood', 421949),\n",
       " ('hospit', 386824),\n",
       " ('daili', 341370),\n",
       " ('sig', 328805),\n",
       " ('one', 317875),\n",
       " ('hi', 307543),\n",
       " ('left', 297917),\n",
       " ('last', 296251),\n",
       " ('histori', 288925),\n",
       " ('medic', 269838),\n",
       " ('right', 244917),\n",
       " ('time', 238934)]"
      ]
     },
     "execution_count": 198,
     "metadata": {},
     "output_type": "execute_result"
    }
   ],
   "source": [
    "words_freq"
   ]
  },
  {
   "cell_type": "code",
   "execution_count": 199,
   "id": "3d6394d6-0b67-4cbc-a91c-8fb60f047d98",
   "metadata": {},
   "outputs": [],
   "source": [
    "bag_of_words = tfidf_vec.transform(neg_X)\n",
    "sum_words = bag_of_words.sum(axis=0)\n",
    "words_freq = [(word, sum_words[0, idx]) for word, idx in count_vec.vocabulary_.items()]"
   ]
  },
  {
   "cell_type": "code",
   "execution_count": 200,
   "id": "5299777f-1d13-422b-9810-c1653a97a003",
   "metadata": {},
   "outputs": [],
   "source": [
    "words_freq =sorted(words_freq, key = lambda x: x[1], reverse=True)"
   ]
  },
  {
   "cell_type": "code",
   "execution_count": 201,
   "id": "c1260606-962b-4f7e-8ccc-9d5d0cfcb36a",
   "metadata": {},
   "outputs": [
    {
     "data": {
      "text/plain": [
       "[('wa', 22613.913608098177),\n",
       " ('mg', 11775.713684677012),\n",
       " ('tablet', 11649.601009582482),\n",
       " ('name', 10496.17696113363),\n",
       " ('patient', 9709.86742204662),\n",
       " ('discharg', 8214.825183635076),\n",
       " ('po', 8152.055769137717),\n",
       " ('day', 7747.505670747808),\n",
       " ('sig', 7598.2045074933885),\n",
       " ('blood', 7507.176765868078),\n",
       " ('hi', 7353.392296289479),\n",
       " ('daili', 6744.407506566189),\n",
       " ('hospit', 6628.999086727088),\n",
       " ('left', 5875.341570252123),\n",
       " ('one', 5631.26701524174),\n",
       " ('histori', 5420.169536571897),\n",
       " ('last', 5303.157393770275),\n",
       " ('right', 4961.549601340353),\n",
       " ('medic', 4916.650401199442),\n",
       " ('time', 4222.045523161933)]"
      ]
     },
     "execution_count": 201,
     "metadata": {},
     "output_type": "execute_result"
    }
   ],
   "source": [
    "words_freq"
   ]
  },
  {
   "cell_type": "code",
   "execution_count": 202,
   "id": "6d7610dc-e94a-4987-8b65-7ba8adb50d2c",
   "metadata": {},
   "outputs": [],
   "source": [
    "bag_of_words = tfidf_vec.transform(neg_X)\n",
    "sum_words = bag_of_words.mean(axis=0)\n",
    "words_freq = [(word, sum_words[0, idx]) for word, idx in count_vec.vocabulary_.items()]"
   ]
  },
  {
   "cell_type": "code",
   "execution_count": 203,
   "id": "d17468e0-7442-436c-b211-fc0bbf9d0a87",
   "metadata": {},
   "outputs": [],
   "source": [
    "words_freq =sorted(words_freq, key = lambda x: x[1], reverse=True)"
   ]
  },
  {
   "cell_type": "code",
   "execution_count": 204,
   "id": "bf3c8ddf-4521-4c01-bd91-150200a381f0",
   "metadata": {},
   "outputs": [
    {
     "data": {
      "text/plain": [
       "[('wa', 0.4548710370732754),\n",
       " ('mg', 0.23686440077797669),\n",
       " ('tablet', 0.23432768801332488),\n",
       " ('name', 0.21112696291126642),\n",
       " ('patient', 0.1953106189690556),\n",
       " ('discharg', 0.16523836233802855),\n",
       " ('po', 0.16397577731344126),\n",
       " ('day', 0.15583839225078516),\n",
       " ('sig', 0.15283525108102894),\n",
       " ('blood', 0.1510042595970642),\n",
       " ('hi', 0.1479109382739515),\n",
       " ('daili', 0.13566142022661482),\n",
       " ('hospit', 0.13334001984767527),\n",
       " ('left', 0.1181804600271975),\n",
       " ('one', 0.11327098491887132),\n",
       " ('histori', 0.10902483227540734),\n",
       " ('last', 0.10667117356472527),\n",
       " ('right', 0.09979985117852484),\n",
       " ('medic', 0.0988967193241374),\n",
       " ('time', 0.08492498286557192)]"
      ]
     },
     "execution_count": 204,
     "metadata": {},
     "output_type": "execute_result"
    }
   ],
   "source": [
    "words_freq"
   ]
  },
  {
   "cell_type": "markdown",
   "id": "4f169954-f421-4030-a841-74e3ade81f78",
   "metadata": {
    "jp-MarkdownHeadingCollapsed": true,
    "tags": []
   },
   "source": [
    "## Train, Validation, and Test Split"
   ]
  },
  {
   "cell_type": "markdown",
   "id": "637d22e7-bfaf-4b69-9b8f-3040ab2fd0c3",
   "metadata": {},
   "source": [
    "I split the data set into three sets: Train, Validation, and Test.\n",
    "The ratio I used was 70:15:15."
   ]
  },
  {
   "cell_type": "code",
   "execution_count": 7,
   "id": "12289a6b-1f14-4460-ba74-ecfd1229c099",
   "metadata": {},
   "outputs": [],
   "source": [
    "X_train, X_v_t, y_train, y_v_t = train_test_split(X, y, test_size=0.30, random_state=42, stratify=y)"
   ]
  },
  {
   "cell_type": "code",
   "execution_count": 8,
   "id": "36eaca01-8259-4e5c-b5e3-5ae6610108c3",
   "metadata": {},
   "outputs": [],
   "source": [
    "X_val, X_test, y_val, y_test = train_test_split(X_v_t, y_v_t, test_size=0.50, random_state=42, stratify=y_v_t)"
   ]
  },
  {
   "cell_type": "code",
   "execution_count": 9,
   "id": "ecf4e67d-6fb3-4dc0-abe0-1dcebcad2dea",
   "metadata": {},
   "outputs": [
    {
     "data": {
      "text/plain": [
       "(36908,)"
      ]
     },
     "execution_count": 9,
     "metadata": {},
     "output_type": "execute_result"
    }
   ],
   "source": [
    "X_train.shape"
   ]
  },
  {
   "cell_type": "markdown",
   "id": "debcd518-9d4a-48a5-9c45-53f31d988847",
   "metadata": {
    "jp-MarkdownHeadingCollapsed": true,
    "tags": []
   },
   "source": [
    "## Pipeline Parameters"
   ]
  },
  {
   "cell_type": "markdown",
   "id": "64b647c1-a7c7-4126-b6e0-cfb7b4dccff3",
   "metadata": {},
   "source": [
    "In this section, I set specific pipeline parameters that I will keep constant throughout the project."
   ]
  },
  {
   "cell_type": "code",
   "execution_count": null,
   "id": "2e7f21aa-5fba-495f-b412-cd76ec68dd08",
   "metadata": {},
   "outputs": [],
   "source": [
    "sw = stopwords.words('english')\n",
    "\n",
    "#setting the number of maximum features as 10% of rows in X\n",
    "max_feats = int(X_train.shape[0]*0.10)"
   ]
  },
  {
   "cell_type": "markdown",
   "id": "da225816-f143-46df-86c7-4b558b1e150e",
   "metadata": {
    "tags": []
   },
   "source": [
    "## Modeling"
   ]
  },
  {
   "cell_type": "markdown",
   "id": "6044ff59-3782-4b3c-907f-1ef298398b45",
   "metadata": {},
   "source": [
    "In this section, I will run several different models. Once I decide the best model, I will export the results out so that in another notebook, I can merge that results to other data features and run that through models again to see if I can get a better model."
   ]
  },
  {
   "cell_type": "markdown",
   "id": "7c4703db-82d5-4a07-a229-48526a54dc6f",
   "metadata": {
    "jp-MarkdownHeadingCollapsed": true,
    "tags": []
   },
   "source": [
    "### Model 0: Dummy Classification"
   ]
  },
  {
   "cell_type": "markdown",
   "id": "ab6492ce-71d1-44c4-ba8c-1900ff360b65",
   "metadata": {},
   "source": [
    "For my Model 0, I run a simple dummy classifier. I test out both a count vectorizer and a tfidf vectorizer to see if it will impact the results. I have yet to do anything about the class imbalance."
   ]
  },
  {
   "cell_type": "markdown",
   "id": "64b9fb9d-95bd-4f6c-a5c5-8f099353f70b",
   "metadata": {},
   "source": [
    "* Model: Dummy\n",
    "* Vectorizer: Count\n",
    "* Class Imbalance Solution: None"
   ]
  },
  {
   "cell_type": "code",
   "execution_count": null,
   "id": "0ba8b335-a947-471a-8d72-8ee1484b8054",
   "metadata": {},
   "outputs": [],
   "source": [
    "pp_count = Pipeline(steps=[\n",
    "    ('count', CountVectorizer(stop_words=sw, max_features=max_feats)),\n",
    "    ('dummy', DummyClassifier(random_state=42, strategy=\"stratified\"))\n",
    "    ])"
   ]
  },
  {
   "cell_type": "code",
   "execution_count": null,
   "id": "ebc70fed-d6a7-4cab-8651-b3df08e4a8cd",
   "metadata": {},
   "outputs": [],
   "source": [
    "pp_count.fit(X_train, y_train)\n",
    "\n",
    "scores(pp_count, X_train, y_train, 'Train')\n",
    "scores(pp_count, X_val, y_val, 'Validation')\n",
    "scores(pp_count, X_test, y_test, 'Test')"
   ]
  },
  {
   "cell_type": "markdown",
   "id": "6598b9dc-b24f-4b83-b4cc-5e0aec4a30c4",
   "metadata": {},
   "source": [
    "* Model: Dummy\n",
    "* Vectorizer: Tfidf\n",
    "* Class Imbalance Solution: None"
   ]
  },
  {
   "cell_type": "code",
   "execution_count": null,
   "id": "4a9eb7f1-0ac4-4d39-87a8-c68166e46d06",
   "metadata": {},
   "outputs": [],
   "source": [
    "pp_tfidf = Pipeline(steps=[\n",
    "    ('tfidf', TfidfVectorizer(stop_words=sw, max_features=max_feats)),\n",
    "    ('dummy', DummyClassifier(random_state=42, strategy=\"stratified\")),   \n",
    "    ])"
   ]
  },
  {
   "cell_type": "code",
   "execution_count": null,
   "id": "0f89a11a-f7b7-4820-8438-66152e8bbf62",
   "metadata": {},
   "outputs": [],
   "source": [
    "pp_tfidf.fit(X_train, y_train)\n",
    "\n",
    "scores(pp_tfidf, X_train, y_train, 'Train')\n",
    "scores(pp_tfidf, X_val, y_val, 'Validation')\n",
    "scores(pp_tfidf, X_test, y_test, 'Test')"
   ]
  },
  {
   "cell_type": "markdown",
   "id": "671ea906-54cc-4f0d-a450-a4c3a94f1e91",
   "metadata": {},
   "source": [
    "Though the accuracy is high for both the vectorizers through the dummy classifier model, the recall score was very poor. This is most likely due to the class imbalance. However, I will run a non-dummy, but simple logistic regression model to validate that the low recall score is not because of the dummy model itself."
   ]
  },
  {
   "cell_type": "markdown",
   "id": "1a487271-0e52-4f4e-a09e-1818c32e9f0f",
   "metadata": {
    "jp-MarkdownHeadingCollapsed": true,
    "tags": []
   },
   "source": [
    "### Model 1: Logistic Regression"
   ]
  },
  {
   "cell_type": "markdown",
   "id": "f0642fcf-b314-4058-9d0c-5dae08694843",
   "metadata": {},
   "source": [
    "The next model I decided to use is the logitic regression model."
   ]
  },
  {
   "cell_type": "markdown",
   "id": "5a7d1494-dc7e-4ad3-ac13-2350f5e1b1ca",
   "metadata": {},
   "source": [
    "* Model: Logistic Regression\n",
    "* Vectorizer: Count\n",
    "* Class Imbalance Solution: None"
   ]
  },
  {
   "cell_type": "code",
   "execution_count": null,
   "id": "b86dcbbc-e0dc-4611-9471-b1d30e3a59f8",
   "metadata": {},
   "outputs": [],
   "source": [
    "pp_count = Pipeline(steps=[\n",
    "    ('count', CountVectorizer(stop_words=sw, max_features=max_feats)),\n",
    "    ('logreg', LogisticRegression(random_state=42)),   \n",
    "    ])"
   ]
  },
  {
   "cell_type": "code",
   "execution_count": null,
   "id": "c9bc2cf3-e0cc-4c14-bf7a-62bfe6394255",
   "metadata": {},
   "outputs": [],
   "source": [
    "pp_count.fit(X_train, y_train)\n",
    "\n",
    "scores(pp_count, X_train, y_train, 'Train')\n",
    "scores(pp_count, X_val, y_val, 'Validation')\n",
    "scores(pp_count, X_test, y_test, 'Test')"
   ]
  },
  {
   "cell_type": "markdown",
   "id": "75719cc9-baae-49ea-8991-6be190bc20a5",
   "metadata": {},
   "source": [
    "* Model: Logistic Regression\n",
    "* Vectorizer: Tfidf\n",
    "* Class Imbalance Solution: None"
   ]
  },
  {
   "cell_type": "code",
   "execution_count": null,
   "id": "d45970cf-4bbd-4ff1-a7db-fc1781128f31",
   "metadata": {},
   "outputs": [],
   "source": [
    "pp_tfidf = Pipeline(steps=[\n",
    "    ('tfidf', TfidfVectorizer(stop_words=sw, max_features=max_feats)),\n",
    "    ('logreg', LogisticRegression(random_state=42)),   \n",
    "    ])"
   ]
  },
  {
   "cell_type": "code",
   "execution_count": null,
   "id": "dfbae4f6-1d08-49e4-8ccd-33117f7de222",
   "metadata": {},
   "outputs": [],
   "source": [
    "pp_tfidf.fit(X_train, y_train)\n",
    "\n",
    "scores(pp_tfidf, X_train, y_train, 'Train')\n",
    "scores(pp_tfidf, X_val, y_val, 'Validation')\n",
    "scores(pp_tfidf, X_test, y_test, 'Test')"
   ]
  },
  {
   "cell_type": "markdown",
   "id": "8e19a353-3c3c-4951-b2bb-01af18d621c5",
   "metadata": {},
   "source": [
    "Again, the accuracy scores are high, but the recall scores are poor. Thus, for the next modeling step, I will try to improve the model by first trying to mitigate the class imbalance."
   ]
  },
  {
   "cell_type": "markdown",
   "id": "89009aea-1471-46f6-82ff-7980433d891f",
   "metadata": {
    "jp-MarkdownHeadingCollapsed": true,
    "tags": []
   },
   "source": [
    "### Handling Imbalanced Data "
   ]
  },
  {
   "cell_type": "markdown",
   "id": "fb928764-593d-4bd8-9110-ac2936fadd2d",
   "metadata": {},
   "source": [
    "As mentioned before, the dataset is heavily imbalanced. I will implement three methods to handle the class imbalance:\n",
    "* Undersample the negative cases\n",
    "* Pass in class weights\n",
    "* Implement SMOTE"
   ]
  },
  {
   "cell_type": "markdown",
   "id": "ea3de40e-d721-499a-bdb1-edbf9674630c",
   "metadata": {
    "jp-MarkdownHeadingCollapsed": true,
    "tags": []
   },
   "source": [
    "#### Undersampling Negative Cases: 1 to 1"
   ]
  },
  {
   "cell_type": "code",
   "execution_count": null,
   "id": "ade55f6f-92dd-4a80-8a2e-93140b8bda69",
   "metadata": {},
   "outputs": [],
   "source": [
    "#concat the train dataset together\n",
    "train_df = pd.concat([y_train, X_train], axis=1)"
   ]
  },
  {
   "cell_type": "code",
   "execution_count": null,
   "id": "39765980-91f9-4e3d-9f2a-f3a57a176cf9",
   "metadata": {},
   "outputs": [],
   "source": [
    "#split the positive and negative data\n",
    "train_df_pos = train_df[train_df['READMISSION']==1]\n",
    "train_df_neg = train_df[train_df['READMISSION']==0]"
   ]
  },
  {
   "cell_type": "code",
   "execution_count": null,
   "id": "7eefb6d4-3c8a-48c0-9475-01510cba8669",
   "metadata": {},
   "outputs": [],
   "source": [
    "#take a sample of the negative training set with the same number of rows as positive dataset\n",
    "train_df_neg_samp = train_df_neg.sample(n=len(train_df_pos), random_state=42)"
   ]
  },
  {
   "cell_type": "code",
   "execution_count": null,
   "id": "89650ce7-970d-4949-bc65-6c3e0d8b20eb",
   "metadata": {},
   "outputs": [],
   "source": [
    "#concat the positive dataset and sample of the negative dataset to get one dataset\n",
    "#with equal number of postiive and negative cases\n",
    "new_train_df = pd.concat([train_df_pos,train_df_neg_samp],axis=0)"
   ]
  },
  {
   "cell_type": "code",
   "execution_count": null,
   "id": "ada93968-b2d1-4ee5-a7ab-77b5f380beb8",
   "metadata": {},
   "outputs": [],
   "source": [
    "#randomize the new dataset\n",
    "new_train_df = new_train_df.sample(n=len(new_train_df), random_state=42)"
   ]
  },
  {
   "cell_type": "code",
   "execution_count": null,
   "id": "0685eb19-3742-4cd2-91e5-768216b45b83",
   "metadata": {},
   "outputs": [],
   "source": [
    "#split out the X and y of the new dataset\n",
    "y_train_1 = new_train_df['READMISSION']\n",
    "X_train_1 = new_train_df['TEXT']\n",
    "max_feats_1 = int(X_train_1.shape[0]*0.10)"
   ]
  },
  {
   "cell_type": "markdown",
   "id": "4f41bd7c-7ac4-44f8-985d-bc22d6dd0cea",
   "metadata": {
    "jp-MarkdownHeadingCollapsed": true,
    "tags": []
   },
   "source": [
    "#### Undersampling Negative Cases: 2 to 1"
   ]
  },
  {
   "cell_type": "code",
   "execution_count": null,
   "id": "d5416196-9e84-4c44-8e3d-4f76e214f8c0",
   "metadata": {},
   "outputs": [],
   "source": [
    "#concat the train dataset together\n",
    "train_df = pd.concat([y_train, X_train], axis=1)"
   ]
  },
  {
   "cell_type": "code",
   "execution_count": null,
   "id": "7007e238-133f-491c-bb31-b8977e6c643f",
   "metadata": {},
   "outputs": [],
   "source": [
    "#split the positive and negative data\n",
    "train_df_pos = train_df[train_df['READMISSION']==1]\n",
    "train_df_neg = train_df[train_df['READMISSION']==0]"
   ]
  },
  {
   "cell_type": "code",
   "execution_count": null,
   "id": "d9cc92eb-8e8d-4df1-80c5-68899a38dd69",
   "metadata": {},
   "outputs": [],
   "source": [
    "#take a sample of the negative training set with the same number of rows as positive dataset\n",
    "train_df_neg_samp = train_df_neg.sample(n=2*len(train_df_pos), random_state=42)"
   ]
  },
  {
   "cell_type": "code",
   "execution_count": null,
   "id": "e8b5ee19-f5af-4512-81cc-d4cbb0d0c55d",
   "metadata": {},
   "outputs": [],
   "source": [
    "#concat the positive dataset and sample of the negative dataset to get one dataset\n",
    "#with equal number of postiive and negative cases\n",
    "new_train_df = pd.concat([train_df_pos,train_df_neg_samp],axis=0)"
   ]
  },
  {
   "cell_type": "code",
   "execution_count": null,
   "id": "fa1b321d-3442-44c2-a726-38b903df078e",
   "metadata": {},
   "outputs": [],
   "source": [
    "#randomize the new dataset\n",
    "new_train_df = new_train_df.sample(n=len(new_train_df), random_state=42)"
   ]
  },
  {
   "cell_type": "code",
   "execution_count": null,
   "id": "ac08430e-7e09-48b4-8c39-a11197bb31ea",
   "metadata": {},
   "outputs": [],
   "source": [
    "#split out the X and y of the new dataset\n",
    "y_train_2 = new_train_df['READMISSION']\n",
    "X_train_2 = new_train_df['TEXT']\n",
    "max_feats_2 = int(X_train_2.shape[0]*0.10)"
   ]
  },
  {
   "cell_type": "markdown",
   "id": "ac18c001-fd61-48e8-bb0a-fd1b83a596ab",
   "metadata": {
    "jp-MarkdownHeadingCollapsed": true,
    "tags": []
   },
   "source": [
    "#### Undersampling Negative Cases: 3 to 1"
   ]
  },
  {
   "cell_type": "code",
   "execution_count": null,
   "id": "464877bf-11dd-41c1-96da-80cfa76efb76",
   "metadata": {},
   "outputs": [],
   "source": [
    "#concat the train dataset together\n",
    "train_df = pd.concat([y_train, X_train], axis=1)"
   ]
  },
  {
   "cell_type": "code",
   "execution_count": null,
   "id": "7f893ee4-cda9-42ff-a041-db2e655fb7b1",
   "metadata": {},
   "outputs": [],
   "source": [
    "#split the positive and negative data\n",
    "train_df_pos = train_df[train_df['READMISSION']==1]\n",
    "train_df_neg = train_df[train_df['READMISSION']==0]"
   ]
  },
  {
   "cell_type": "code",
   "execution_count": null,
   "id": "4e811107-7062-456f-bd22-00ad555c5038",
   "metadata": {},
   "outputs": [],
   "source": [
    "#take a sample of the negative training set with the same number of rows as positive dataset\n",
    "train_df_neg_samp = train_df_neg.sample(n=2*len(train_df_pos), random_state=42)"
   ]
  },
  {
   "cell_type": "code",
   "execution_count": null,
   "id": "6699a22e-89a8-4d74-8bb1-79f2de1aa99f",
   "metadata": {},
   "outputs": [],
   "source": [
    "#concat the positive dataset and sample of the negative dataset to get one dataset\n",
    "#with equal number of postiive and negative cases\n",
    "new_train_df = pd.concat([train_df_pos,train_df_neg_samp],axis=0)"
   ]
  },
  {
   "cell_type": "code",
   "execution_count": null,
   "id": "183a0b24-2908-4e2f-abdc-e571877a3211",
   "metadata": {},
   "outputs": [],
   "source": [
    "#randomize the new dataset\n",
    "new_train_df = new_train_df.sample(n=len(new_train_df), random_state=42)"
   ]
  },
  {
   "cell_type": "code",
   "execution_count": null,
   "id": "9749d005-ed4b-4872-90e5-f70da60f24ba",
   "metadata": {},
   "outputs": [],
   "source": [
    "#split out the X and y of the new dataset\n",
    "y_train_3 = new_train_df['READMISSION']\n",
    "X_train_3 = new_train_df['TEXT']\n",
    "max_feats_3 = int(X_train_3.shape[0]*0.10)"
   ]
  },
  {
   "cell_type": "markdown",
   "id": "c39cda3a-06bc-45ab-b80f-aec566c7e78e",
   "metadata": {
    "jp-MarkdownHeadingCollapsed": true,
    "tags": []
   },
   "source": [
    "#### Class Weights"
   ]
  },
  {
   "cell_type": "code",
   "execution_count": null,
   "id": "29dd3898-a337-4c14-8a44-96ce5886fe75",
   "metadata": {},
   "outputs": [],
   "source": [
    "#calculate class weights\n",
    "class_weights = class_weight.compute_class_weight(class_weight='balanced',classes=[0,1],y=y_train)"
   ]
  },
  {
   "cell_type": "code",
   "execution_count": null,
   "id": "c5443041-0444-4390-b352-30de1ea32172",
   "metadata": {},
   "outputs": [],
   "source": [
    "class_weights"
   ]
  },
  {
   "cell_type": "markdown",
   "id": "b87485d3-cb45-406b-affc-18238f76fa2d",
   "metadata": {
    "jp-MarkdownHeadingCollapsed": true,
    "tags": []
   },
   "source": [
    "### Model 1.1: Logistic Regression - Undersampling"
   ]
  },
  {
   "cell_type": "markdown",
   "id": "3ec6a592-d252-4295-aec8-f9005e405688",
   "metadata": {},
   "source": [
    "In this section, I applied the undersampled dataset to logistic regression model."
   ]
  },
  {
   "cell_type": "markdown",
   "id": "c0619026-bb71-4861-928d-4e42dbdf4b87",
   "metadata": {},
   "source": [
    "* Model: Logistic Regression\n",
    "* Vectorizer: Count\n",
    "* Class Imbalance Solution: Undersampling Negative 1:1"
   ]
  },
  {
   "cell_type": "code",
   "execution_count": 39,
   "id": "7a915d19-4b65-4aed-9b3b-a8a111f4f0e0",
   "metadata": {},
   "outputs": [],
   "source": [
    "pp_count = Pipeline(steps=[\n",
    "    ('count', CountVectorizer(stop_words=sw, max_features=max_feats_1)),\n",
    "    ('logreg', LogisticRegression(random_state=42)),   \n",
    "    ])"
   ]
  },
  {
   "cell_type": "code",
   "execution_count": 40,
   "id": "cb761343-5733-4aea-bfca-c2ede5b4cf4d",
   "metadata": {},
   "outputs": [
    {
     "name": "stderr",
     "output_type": "stream",
     "text": [
      "/Users/arthur/opt/anaconda3/envs/main_env/lib/python3.8/site-packages/sklearn/linear_model/_logistic.py:763: ConvergenceWarning: lbfgs failed to converge (status=1):\n",
      "STOP: TOTAL NO. of ITERATIONS REACHED LIMIT.\n",
      "\n",
      "Increase the number of iterations (max_iter) or scale the data as shown in:\n",
      "    https://scikit-learn.org/stable/modules/preprocessing.html\n",
      "Please also refer to the documentation for alternative solver options:\n",
      "    https://scikit-learn.org/stable/modules/linear_model.html#logistic-regression\n",
      "  n_iter_i = _check_optimize_result(\n"
     ]
    },
    {
     "name": "stdout",
     "output_type": "stream",
     "text": [
      "Train Scores\n",
      "accuracy:  0.7118121442125237\n",
      "recall:    0.6902277039848197\n",
      "Validation Scores\n",
      "accuracy:  0.6610190921734732\n",
      "recall:    0.5995575221238938\n",
      "Test Scores\n",
      "accuracy:  0.66986976861803\n",
      "recall:    0.6208425720620843\n"
     ]
    },
    {
     "data": {
      "text/plain": [
       "(67.0, 62.1)"
      ]
     },
     "execution_count": 40,
     "metadata": {},
     "output_type": "execute_result"
    },
    {
     "data": {
      "image/png": "[encoded data removed]",
      "text/plain": [
       "<Figure size 432x432 with 2 Axes>"
      ]
     },
     "metadata": {
      "needs_background": "light"
     },
     "output_type": "display_data"
    },
    {
     "data": {
      "image/png": "[encoded data removed]",
      "text/plain": [
       "<Figure size 432x432 with 2 Axes>"
      ]
     },
     "metadata": {
      "needs_background": "light"
     },
     "output_type": "display_data"
    },
    {
     "data": {
      "image/png": "[encoded data removed]",
      "text/plain": [
       "<Figure size 432x432 with 2 Axes>"
      ]
     },
     "metadata": {
      "needs_background": "light"
     },
     "output_type": "display_data"
    }
   ],
   "source": [
    "pp_count.fit(X_train_1, y_train_1)\n",
    "\n",
    "scores(pp_count, X_train_1, y_train_1, 'Train')\n",
    "scores(pp_count, X_val, y_val, 'Validation')\n",
    "scores(pp_count, X_test, y_test, 'Test')"
   ]
  },
  {
   "cell_type": "markdown",
   "id": "332e0af5-fe25-4355-b39f-999f4e7f7805",
   "metadata": {},
   "source": [
    "* Model: Logistic Regression\n",
    "* Vectorizer: Tfidf\n",
    "* Class Imbalance Solution: Undersampling Negative 1:1"
   ]
  },
  {
   "cell_type": "code",
   "execution_count": 41,
   "id": "d7c4d831-d24f-4fd3-9a65-fe2246ded852",
   "metadata": {},
   "outputs": [],
   "source": [
    "pp_tfidf = Pipeline(steps=[\n",
    "    ('tfidf', TfidfVectorizer(stop_words=sw, max_features=max_feats_1)),\n",
    "    ('logreg', LogisticRegression(random_state=42)),   \n",
    "    ])"
   ]
  },
  {
   "cell_type": "code",
   "execution_count": 42,
   "id": "8591c43d-b3d3-4776-9835-12545dcbcc87",
   "metadata": {},
   "outputs": [
    {
     "name": "stdout",
     "output_type": "stream",
     "text": [
      "Train Scores\n",
      "accuracy:  0.6954459203036053\n",
      "recall:    0.6987666034155597\n",
      "Validation Scores\n",
      "accuracy:  0.6521684157289164\n",
      "recall:    0.6438053097345132\n",
      "Test Scores\n",
      "accuracy:  0.6603869009988621\n",
      "recall:    0.6430155210643016\n"
     ]
    },
    {
     "data": {
      "image/png": "[encoded data removed]",
      "text/plain": [
       "<Figure size 432x432 with 2 Axes>"
      ]
     },
     "metadata": {
      "needs_background": "light"
     },
     "output_type": "display_data"
    },
    {
     "data": {
      "image/png": "[encoded data removed]",
      "text/plain": [
       "<Figure size 432x432 with 2 Axes>"
      ]
     },
     "metadata": {
      "needs_background": "light"
     },
     "output_type": "display_data"
    },
    {
     "data": {
      "image/png": "[encoded data removed]",
      "text/plain": [
       "<Figure size 432x432 with 2 Axes>"
      ]
     },
     "metadata": {
      "needs_background": "light"
     },
     "output_type": "display_data"
    }
   ],
   "source": [
    "pp_tfidf.fit(X_train_1, y_train_1)\n",
    "\n",
    "scores(pp_tfidf, X_train_1, y_train_1, 'Train')\n",
    "scores(pp_tfidf, X_val, y_val, 'Validation')\n",
    "log_acc, log_recall = scores(pp_tfidf, X_test, y_test, 'Test')"
   ]
  },
  {
   "cell_type": "markdown",
   "id": "b339ba0b-32c5-4b98-9882-f425671e6b55",
   "metadata": {},
   "source": [
    "* Model: Logistic Regression\n",
    "* Vectorizer: Count\n",
    "* Class Imbalance Solution: Undersampling Negative 2:1"
   ]
  },
  {
   "cell_type": "code",
   "execution_count": 43,
   "id": "2cfdde2e-50dd-4a3d-9430-2b2634039fcb",
   "metadata": {},
   "outputs": [],
   "source": [
    "pp_count = Pipeline(steps=[\n",
    "    ('count', CountVectorizer(stop_words=sw, max_features=max_feats_2)),\n",
    "    ('logreg', LogisticRegression(random_state=42)),   \n",
    "    ])"
   ]
  },
  {
   "cell_type": "code",
   "execution_count": 44,
   "id": "3efa1bb1-c81f-4d52-84f9-5312bcd90ba7",
   "metadata": {},
   "outputs": [
    {
     "name": "stderr",
     "output_type": "stream",
     "text": [
      "/Users/arthur/opt/anaconda3/envs/main_env/lib/python3.8/site-packages/sklearn/linear_model/_logistic.py:763: ConvergenceWarning: lbfgs failed to converge (status=1):\n",
      "STOP: TOTAL NO. of ITERATIONS REACHED LIMIT.\n",
      "\n",
      "Increase the number of iterations (max_iter) or scale the data as shown in:\n",
      "    https://scikit-learn.org/stable/modules/preprocessing.html\n",
      "Please also refer to the documentation for alternative solver options:\n",
      "    https://scikit-learn.org/stable/modules/linear_model.html#logistic-regression\n",
      "  n_iter_i = _check_optimize_result(\n"
     ]
    },
    {
     "name": "stdout",
     "output_type": "stream",
     "text": [
      "Train Scores\n",
      "accuracy:  0.7583807716635041\n",
      "recall:    0.5033206831119544\n",
      "Validation Scores\n",
      "accuracy:  0.796560880010115\n",
      "recall:    0.3805309734513274\n",
      "Test Scores\n",
      "accuracy:  0.8023770388165381\n",
      "recall:    0.42572062084257206\n"
     ]
    },
    {
     "data": {
      "text/plain": [
       "(80.2, 42.6)"
      ]
     },
     "execution_count": 44,
     "metadata": {},
     "output_type": "execute_result"
    },
    {
     "data": {
      "image/png": "[encoded data removed]",
      "text/plain": [
       "<Figure size 432x432 with 2 Axes>"
      ]
     },
     "metadata": {
      "needs_background": "light"
     },
     "output_type": "display_data"
    },
    {
     "data": {
      "image/png": "[encoded data removed]",
      "text/plain": [
       "<Figure size 432x432 with 2 Axes>"
      ]
     },
     "metadata": {
      "needs_background": "light"
     },
     "output_type": "display_data"
    },
    {
     "data": {
      "image/png": "[encoded data removed]",
      "text/plain": [
       "<Figure size 432x432 with 2 Axes>"
      ]
     },
     "metadata": {
      "needs_background": "light"
     },
     "output_type": "display_data"
    }
   ],
   "source": [
    "pp_count.fit(X_train_2, y_train_2)\n",
    "\n",
    "scores(pp_count, X_train_2, y_train_2, 'Train')\n",
    "scores(pp_count, X_val, y_val, 'Validation')\n",
    "scores(pp_count, X_test, y_test, 'Test')"
   ]
  },
  {
   "cell_type": "markdown",
   "id": "258df27e-f26f-4952-a07c-99f5de5d8d5d",
   "metadata": {},
   "source": [
    "* Model: Logistic Regression\n",
    "* Vectorizer: Tfidf\n",
    "* Class Imbalance Solution: Undersampling Negative 2:1"
   ]
  },
  {
   "cell_type": "code",
   "execution_count": 45,
   "id": "929d3afd-8e91-4e51-8472-d0ca21fb5297",
   "metadata": {},
   "outputs": [],
   "source": [
    "pp_tfidf = Pipeline(steps=[\n",
    "    ('tfidf', TfidfVectorizer(stop_words=sw, max_features=max_feats_2)),\n",
    "    ('logreg', LogisticRegression(random_state=42)),   \n",
    "    ])"
   ]
  },
  {
   "cell_type": "code",
   "execution_count": 46,
   "id": "ae150117-e5cd-44ac-b1e9-e08774ccebab",
   "metadata": {},
   "outputs": [
    {
     "name": "stdout",
     "output_type": "stream",
     "text": [
      "Train Scores\n",
      "accuracy:  0.7338709677419355\n",
      "recall:    0.3894686907020873\n",
      "Validation Scores\n",
      "accuracy:  0.8511821974965229\n",
      "recall:    0.3141592920353982\n",
      "Test Scores\n",
      "accuracy:  0.8534580857251233\n",
      "recall:    0.35476718403547675\n"
     ]
    },
    {
     "data": {
      "text/plain": [
       "(85.3, 35.5)"
      ]
     },
     "execution_count": 46,
     "metadata": {},
     "output_type": "execute_result"
    },
    {
     "data": {
      "image/png": "[encoded data removed]",
      "text/plain": [
       "<Figure size 432x432 with 2 Axes>"
      ]
     },
     "metadata": {
      "needs_background": "light"
     },
     "output_type": "display_data"
    },
    {
     "data": {
      "image/png": "[encoded data removed]",
      "text/plain": [
       "<Figure size 432x432 with 2 Axes>"
      ]
     },
     "metadata": {
      "needs_background": "light"
     },
     "output_type": "display_data"
    },
    {
     "data": {
      "image/png": "[encoded data removed]",
      "text/plain": [
       "<Figure size 432x432 with 2 Axes>"
      ]
     },
     "metadata": {
      "needs_background": "light"
     },
     "output_type": "display_data"
    }
   ],
   "source": [
    "pp_tfidf.fit(X_train_2, y_train_2)\n",
    "\n",
    "scores(pp_tfidf, X_train_2, y_train_2, 'Train')\n",
    "scores(pp_tfidf, X_val, y_val, 'Validation')\n",
    "scores(pp_tfidf, X_test, y_test, 'Test')"
   ]
  },
  {
   "cell_type": "markdown",
   "id": "bae0f885-d4a3-4809-8b49-70b2869242b8",
   "metadata": {},
   "source": [
    "* Model: Logistic Regression\n",
    "* Vectorizer: Count\n",
    "* Class Imbalance Solution: Undersampling Negative 3:1"
   ]
  },
  {
   "cell_type": "code",
   "execution_count": 47,
   "id": "6274e802-2556-435b-89f6-251a0c67b134",
   "metadata": {},
   "outputs": [],
   "source": [
    "pp_count = Pipeline(steps=[\n",
    "    ('count', CountVectorizer(stop_words=sw, max_features=max_feats_3)),\n",
    "    ('logreg', LogisticRegression(random_state=42)),   \n",
    "    ])"
   ]
  },
  {
   "cell_type": "code",
   "execution_count": 48,
   "id": "c24a341b-474c-47ee-84c9-8f20f7eb2c22",
   "metadata": {},
   "outputs": [
    {
     "name": "stderr",
     "output_type": "stream",
     "text": [
      "/Users/arthur/opt/anaconda3/envs/main_env/lib/python3.8/site-packages/sklearn/linear_model/_logistic.py:763: ConvergenceWarning: lbfgs failed to converge (status=1):\n",
      "STOP: TOTAL NO. of ITERATIONS REACHED LIMIT.\n",
      "\n",
      "Increase the number of iterations (max_iter) or scale the data as shown in:\n",
      "    https://scikit-learn.org/stable/modules/preprocessing.html\n",
      "Please also refer to the documentation for alternative solver options:\n",
      "    https://scikit-learn.org/stable/modules/linear_model.html#logistic-regression\n",
      "  n_iter_i = _check_optimize_result(\n"
     ]
    },
    {
     "name": "stdout",
     "output_type": "stream",
     "text": [
      "Train Scores\n",
      "accuracy:  0.7583807716635041\n",
      "recall:    0.5033206831119544\n",
      "Validation Scores\n",
      "accuracy:  0.796560880010115\n",
      "recall:    0.3805309734513274\n",
      "Test Scores\n",
      "accuracy:  0.8023770388165381\n",
      "recall:    0.42572062084257206\n"
     ]
    },
    {
     "data": {
      "text/plain": [
       "(80.2, 42.6)"
      ]
     },
     "execution_count": 48,
     "metadata": {},
     "output_type": "execute_result"
    },
    {
     "data": {
      "image/png": "[encoded data removed]",
      "text/plain": [
       "<Figure size 432x432 with 2 Axes>"
      ]
     },
     "metadata": {
      "needs_background": "light"
     },
     "output_type": "display_data"
    },
    {
     "data": {
      "image/png": "[encoded data removed]",
      "text/plain": [
       "<Figure size 432x432 with 2 Axes>"
      ]
     },
     "metadata": {
      "needs_background": "light"
     },
     "output_type": "display_data"
    },
    {
     "data": {
      "image/png": "[encoded data removed]",
      "text/plain": [
       "<Figure size 432x432 with 2 Axes>"
      ]
     },
     "metadata": {
      "needs_background": "light"
     },
     "output_type": "display_data"
    }
   ],
   "source": [
    "pp_count.fit(X_train_3, y_train_3)\n",
    "\n",
    "scores(pp_count, X_train_3, y_train_3, 'Train')\n",
    "scores(pp_count, X_val, y_val, 'Validation')\n",
    "scores(pp_count, X_test, y_test, 'Test')"
   ]
  },
  {
   "cell_type": "markdown",
   "id": "45df3262-5eff-41da-a9d8-687b0bf323d7",
   "metadata": {},
   "source": [
    "* Model: Logistic Regression\n",
    "* Vectorizer: Tfidf\n",
    "* Class Imbalance Solution: Undersampling Negative 3:1"
   ]
  },
  {
   "cell_type": "code",
   "execution_count": 49,
   "id": "b3c29750-29ce-4f55-8dd2-6281da527784",
   "metadata": {},
   "outputs": [],
   "source": [
    "pp_tfidf = Pipeline(steps=[\n",
    "    ('tfidf', TfidfVectorizer(stop_words=sw, max_features=max_feats_3)),\n",
    "    ('logreg', LogisticRegression(random_state=42)),   \n",
    "    ])"
   ]
  },
  {
   "cell_type": "code",
   "execution_count": 50,
   "id": "76f2c526-6767-4649-bd2c-ab2c527943ab",
   "metadata": {},
   "outputs": [
    {
     "name": "stdout",
     "output_type": "stream",
     "text": [
      "Train Scores\n",
      "accuracy:  0.7338709677419355\n",
      "recall:    0.3894686907020873\n",
      "Validation Scores\n",
      "accuracy:  0.8511821974965229\n",
      "recall:    0.3141592920353982\n",
      "Test Scores\n",
      "accuracy:  0.8534580857251233\n",
      "recall:    0.35476718403547675\n"
     ]
    },
    {
     "data": {
      "text/plain": [
       "(85.3, 35.5)"
      ]
     },
     "execution_count": 50,
     "metadata": {},
     "output_type": "execute_result"
    },
    {
     "data": {
      "image/png": "[encoded data removed]",
      "text/plain": [
       "<Figure size 432x432 with 2 Axes>"
      ]
     },
     "metadata": {
      "needs_background": "light"
     },
     "output_type": "display_data"
    },
    {
     "data": {
      "image/png": "[encoded data removed]",
      "text/plain": [
       "<Figure size 432x432 with 2 Axes>"
      ]
     },
     "metadata": {
      "needs_background": "light"
     },
     "output_type": "display_data"
    },
    {
     "data": {
      "image/png": "[encoded data removed]",
      "text/plain": [
       "<Figure size 432x432 with 2 Axes>"
      ]
     },
     "metadata": {
      "needs_background": "light"
     },
     "output_type": "display_data"
    }
   ],
   "source": [
    "pp_tfidf.fit(X_train_3, y_train_3)\n",
    "\n",
    "scores(pp_tfidf, X_train_3, y_train_3, 'Train')\n",
    "scores(pp_tfidf, X_val, y_val, 'Validation')\n",
    "scores(pp_tfidf, X_test, y_test, 'Test')"
   ]
  },
  {
   "cell_type": "markdown",
   "id": "85af1411-a6b4-4a5b-b44e-53757a1eb6f8",
   "metadata": {},
   "source": [
    "After using the undersampled dataset, though the accuracy went down, the recall score went up. The ratio of 1 to 1 of negative to positive cases had the best recall scores. In addition, the tfidf vectorizer performed better than the count vectorizer, and so we will just use the tfidf vectorizer."
   ]
  },
  {
   "cell_type": "markdown",
   "id": "54f3e5fe-0a2f-4128-bde9-aedae544bb41",
   "metadata": {
    "jp-MarkdownHeadingCollapsed": true,
    "tags": []
   },
   "source": [
    "### Model 1.2: Logistic Regression - Class Weights"
   ]
  },
  {
   "cell_type": "markdown",
   "id": "30d800a8-c6ae-460f-813a-0d8170cc1b88",
   "metadata": {},
   "source": [
    "In this section, I passed in the class weights in the logistic regression model."
   ]
  },
  {
   "cell_type": "markdown",
   "id": "c8810574-2e54-4219-b77e-a6c36ac94eab",
   "metadata": {},
   "source": [
    "* Model: Logistic Regression\n",
    "* Vectorizer: Tfidf\n",
    "* Class Imbalance Solution: Class Weights"
   ]
  },
  {
   "cell_type": "code",
   "execution_count": 51,
   "id": "dbbc1d73-33dd-4683-b5c2-760679c765b2",
   "metadata": {},
   "outputs": [],
   "source": [
    "pp_tfidf = Pipeline(steps=[\n",
    "    ('tfidf', TfidfVectorizer(stop_words=sw, max_features=max_feats)),\n",
    "    ('logreg', LogisticRegression(random_state=42, class_weight=class_weights)),   \n",
    "    ])"
   ]
  },
  {
   "cell_type": "code",
   "execution_count": 52,
   "id": "daa260c5-d3c9-4cf5-bb49-461f1408c9ff",
   "metadata": {},
   "outputs": [
    {
     "name": "stderr",
     "output_type": "stream",
     "text": [
      "/Users/arthur/opt/anaconda3/envs/main_env/lib/python3.8/site-packages/sklearn/linear_model/_logistic.py:680: FutureWarning: elementwise comparison failed; returning scalar instead, but in the future will perform elementwise comparison\n",
      "  if class_weight == \"balanced\":\n"
     ]
    },
    {
     "name": "stdout",
     "output_type": "stream",
     "text": [
      "Train Scores\n",
      "accuracy:  0.9432372385390702\n",
      "recall:    0.006641366223908918\n",
      "Validation Scores\n",
      "accuracy:  0.943229232519914\n",
      "recall:    0.00663716814159292\n",
      "Test Scores\n",
      "accuracy:  0.943229232519914\n",
      "recall:    0.004434589800443459\n"
     ]
    },
    {
     "data": {
      "text/plain": [
       "(94.3, 0.4)"
      ]
     },
     "execution_count": 52,
     "metadata": {},
     "output_type": "execute_result"
    },
    {
     "data": {
      "image/png": "[encoded data removed]",
      "text/plain": [
       "<Figure size 432x432 with 2 Axes>"
      ]
     },
     "metadata": {
      "needs_background": "light"
     },
     "output_type": "display_data"
    },
    {
     "data": {
      "image/png": "[encoded data removed]",
      "text/plain": [
       "<Figure size 432x432 with 2 Axes>"
      ]
     },
     "metadata": {
      "needs_background": "light"
     },
     "output_type": "display_data"
    },
    {
     "data": {
      "image/png": "[encoded data removed]",
      "text/plain": [
       "<Figure size 432x432 with 2 Axes>"
      ]
     },
     "metadata": {
      "needs_background": "light"
     },
     "output_type": "display_data"
    }
   ],
   "source": [
    "pp_tfidf.fit(X_train, y_train)\n",
    "\n",
    "scores(pp_tfidf, X_train, y_train, 'Train')\n",
    "scores(pp_tfidf, X_val, y_val, 'Validation')\n",
    "scores(pp_tfidf, X_test, y_test, 'Test')"
   ]
  },
  {
   "cell_type": "markdown",
   "id": "1dbdfe98-d8d8-4685-94cb-97ea546a72b9",
   "metadata": {},
   "source": [
    "As seen above, passing in the class weights did not improve the recall score."
   ]
  },
  {
   "cell_type": "markdown",
   "id": "8f87a943-e14a-4d6f-9e50-f8083bbad135",
   "metadata": {
    "jp-MarkdownHeadingCollapsed": true,
    "tags": []
   },
   "source": [
    "### Model 1.3: Logistic Regression - SMOTE"
   ]
  },
  {
   "cell_type": "markdown",
   "id": "3e91a34b-86b1-4902-82b3-4903f2fd5134",
   "metadata": {},
   "source": [
    "In this section, I utilized SMOTE to oversample the imbalanced class."
   ]
  },
  {
   "cell_type": "markdown",
   "id": "e9008eea-e6d5-4ae5-a274-82af716aab14",
   "metadata": {},
   "source": [
    "* Model: Logistic Regression\n",
    "* Vectorizer: Count\n",
    "* Class Imbalance Solution: SMOTE"
   ]
  },
  {
   "cell_type": "code",
   "execution_count": 53,
   "id": "e005b7f5-1ae7-486f-abdd-aca79fa12a4e",
   "metadata": {},
   "outputs": [],
   "source": [
    "pp_tfidf = imbpipeline(steps=[\n",
    "    ('tfidf', TfidfVectorizer(stop_words=sw, max_features=max_feats)),\n",
    "    ('smote', SMOTE(random_state=42)),\n",
    "    ('logreg', LogisticRegression(random_state=42))   \n",
    "    ])"
   ]
  },
  {
   "cell_type": "code",
   "execution_count": 54,
   "id": "e2d7c205-c230-4e87-80d2-12eceaa5b95b",
   "metadata": {
    "tags": []
   },
   "outputs": [
    {
     "name": "stderr",
     "output_type": "stream",
     "text": [
      "/Users/arthur/opt/anaconda3/envs/main_env/lib/python3.8/site-packages/sklearn/linear_model/_logistic.py:763: ConvergenceWarning: lbfgs failed to converge (status=1):\n",
      "STOP: TOTAL NO. of ITERATIONS REACHED LIMIT.\n",
      "\n",
      "Increase the number of iterations (max_iter) or scale the data as shown in:\n",
      "    https://scikit-learn.org/stable/modules/preprocessing.html\n",
      "Please also refer to the documentation for alternative solver options:\n",
      "    https://scikit-learn.org/stable/modules/linear_model.html#logistic-regression\n",
      "  n_iter_i = _check_optimize_result(\n"
     ]
    },
    {
     "name": "stdout",
     "output_type": "stream",
     "text": [
      "Train Scores\n",
      "accuracy:  0.8120461688522813\n",
      "recall:    0.7722960151802657\n",
      "Validation Scores\n",
      "accuracy:  0.7825262359337464\n",
      "recall:    0.5\n",
      "Test Scores\n",
      "accuracy:  0.7820204829940574\n",
      "recall:    0.4878048780487805\n"
     ]
    },
    {
     "data": {
      "text/plain": [
       "(78.2, 48.8)"
      ]
     },
     "execution_count": 54,
     "metadata": {},
     "output_type": "execute_result"
    },
    {
     "data": {
      "image/png": "[encoded data removed]",
      "text/plain": [
       "<Figure size 432x432 with 2 Axes>"
      ]
     },
     "metadata": {
      "needs_background": "light"
     },
     "output_type": "display_data"
    },
    {
     "data": {
      "image/png": "[encoded data removed]",
      "text/plain": [
       "<Figure size 432x432 with 2 Axes>"
      ]
     },
     "metadata": {
      "needs_background": "light"
     },
     "output_type": "display_data"
    },
    {
     "data": {
      "image/png": "[encoded data removed]",
      "text/plain": [
       "<Figure size 432x432 with 2 Axes>"
      ]
     },
     "metadata": {
      "needs_background": "light"
     },
     "output_type": "display_data"
    }
   ],
   "source": [
    "pp_tfidf.fit(X_train, y_train)\n",
    "\n",
    "scores(pp_tfidf, X_train, y_train, 'Train')\n",
    "scores(pp_tfidf, X_val, y_val, 'Validation')\n",
    "scores(pp_tfidf, X_test, y_test, 'Test')"
   ]
  },
  {
   "cell_type": "markdown",
   "id": "057e2542-c378-4509-b507-d838b4b921ba",
   "metadata": {},
   "source": [
    "SMOTE did improve the recall score. However, running SMOTE into grid search will take too much computation power. In addition, it led to the model overfitting. Therefore, I will not utilize SMOTE."
   ]
  },
  {
   "cell_type": "markdown",
   "id": "08e5230e-3dab-4672-8dfd-522d214d3f42",
   "metadata": {
    "jp-MarkdownHeadingCollapsed": true,
    "tags": []
   },
   "source": [
    "### Import Words"
   ]
  },
  {
   "cell_type": "code",
   "execution_count": 276,
   "id": "9d984ba9-d1f3-4141-838e-5743c8324fe9",
   "metadata": {},
   "outputs": [],
   "source": [
    "tfidf = TfidfVectorizer(stop_words=sw, max_features=max_feats_1)\n",
    "logreg = LogisticRegression(random_state=42)"
   ]
  },
  {
   "cell_type": "code",
   "execution_count": 277,
   "id": "4aa8a756-ede0-4fc5-b1ea-4bc1a7b98b6f",
   "metadata": {},
   "outputs": [
    {
     "data": {
      "text/plain": [
       "LogisticRegression(random_state=42)"
      ]
     },
     "execution_count": 277,
     "metadata": {},
     "output_type": "execute_result"
    }
   ],
   "source": [
    "tfidf_fitted = tfidf.fit(X_train_1)\n",
    "tfidf_X = tfidf_fitted.transform(X_train_1)\n",
    "logreg.fit(tfidf_X, y_train_1)"
   ]
  },
  {
   "cell_type": "code",
   "execution_count": 278,
   "id": "4ff046c0-6dab-44db-8024-8e0c32f1c158",
   "metadata": {},
   "outputs": [],
   "source": [
    "importance = get_most_important_features(tfidf_fitted, logreg, 20)"
   ]
  },
  {
   "cell_type": "code",
   "execution_count": 279,
   "id": "da83a1e3-57f9-4e1e-a82f-f0fc21a4ee63",
   "metadata": {},
   "outputs": [
    {
     "data": {
      "image/png": "[encoded data removed]",
      "text/plain": [
       "<Figure size 720x720 with 2 Axes>"
      ]
     },
     "metadata": {
      "needs_background": "light"
     },
     "output_type": "display_data"
    }
   ],
   "source": [
    "top_scores = [a[0] for a in importance[0]['tops']]\n",
    "top_words = [a[1] for a in importance[0]['tops']]\n",
    "bottom_scores = [a[0] for a in importance[0]['bottom']]\n",
    "bottom_words = [a[1] for a in importance[0]['bottom']]\n",
    "\n",
    "figure = plot_important_words(top_scores, top_words, bottom_scores, bottom_words, \"Most important words for relevance\")"
   ]
  },
  {
   "cell_type": "code",
   "execution_count": 280,
   "id": "e3b5f566-9359-4e9d-8c82-2c9ed26c01f0",
   "metadata": {},
   "outputs": [],
   "source": [
    "#save the figure in the images folder\n",
    "figure.savefig('images/Importance.png', bbox_inches='tight')"
   ]
  },
  {
   "cell_type": "markdown",
   "id": "e7bcabd3-0594-4487-abc2-87666053b86d",
   "metadata": {
    "jp-MarkdownHeadingCollapsed": true,
    "tags": []
   },
   "source": [
    "### Introducing N-Grams"
   ]
  },
  {
   "cell_type": "markdown",
   "id": "474fc2e8-cfee-42e4-b091-20c5375352e2",
   "metadata": {},
   "source": [
    "I wanted to test if introducing n-grams into the data to see if it improves the score."
   ]
  },
  {
   "cell_type": "code",
   "execution_count": 55,
   "id": "f9f73228-2b19-4f79-955a-355d09096e0a",
   "metadata": {
    "tags": []
   },
   "outputs": [],
   "source": [
    "pp_tfidf = Pipeline(steps=[\n",
    "    ('tfidf', TfidfVectorizer(stop_words=sw, max_features=max_feats_1, ngram_range=(1,3))),\n",
    "    ('logreg', LogisticRegression(random_state=42)),   \n",
    "    ])"
   ]
  },
  {
   "cell_type": "code",
   "execution_count": 56,
   "id": "599273cf-1e61-4223-9415-b1fb16e6d92f",
   "metadata": {},
   "outputs": [
    {
     "name": "stdout",
     "output_type": "stream",
     "text": [
      "Train Scores\n",
      "accuracy:  0.6930740037950665\n",
      "recall:    0.7044592030360531\n",
      "Validation Scores\n",
      "accuracy:  0.6412947275256038\n",
      "recall:    0.6415929203539823\n",
      "Test Scores\n",
      "accuracy:  0.6498925275003161\n",
      "recall:    0.6541019955654102\n"
     ]
    },
    {
     "data": {
      "text/plain": [
       "(65.0, 65.4)"
      ]
     },
     "execution_count": 56,
     "metadata": {},
     "output_type": "execute_result"
    },
    {
     "data": {
      "image/png": "[encoded data removed]",
      "text/plain": [
       "<Figure size 432x432 with 2 Axes>"
      ]
     },
     "metadata": {
      "needs_background": "light"
     },
     "output_type": "display_data"
    },
    {
     "data": {
      "image/png": "[encoded data removed]",
      "text/plain": [
       "<Figure size 432x432 with 2 Axes>"
      ]
     },
     "metadata": {
      "needs_background": "light"
     },
     "output_type": "display_data"
    },
    {
     "data": {
      "image/png": "[encoded data removed]",
      "text/plain": [
       "<Figure size 432x432 with 2 Axes>"
      ]
     },
     "metadata": {
      "needs_background": "light"
     },
     "output_type": "display_data"
    }
   ],
   "source": [
    "pp_tfidf.fit(X_train_1, y_train_1)\n",
    "\n",
    "scores(pp_tfidf, X_train_1, y_train_1, 'Train')\n",
    "scores(pp_tfidf, X_val, y_val, 'Validation')\n",
    "scores(pp_tfidf, X_test, y_test, 'Test')"
   ]
  },
  {
   "cell_type": "markdown",
   "id": "3b34b372-beb1-4cdc-a0b3-6d233e097210",
   "metadata": {},
   "source": [
    "The scores did not improve very much. In addition, n-grams were slightly more overfitting without this model."
   ]
  },
  {
   "cell_type": "markdown",
   "id": "90e31e96-4aac-42b1-b3de-8f2597330ff9",
   "metadata": {
    "jp-MarkdownHeadingCollapsed": true,
    "tags": []
   },
   "source": [
    "### Model 2: Multinomial Naives Bayes"
   ]
  },
  {
   "cell_type": "code",
   "execution_count": 57,
   "id": "98efe08a-7116-43f9-b067-add34d0da68f",
   "metadata": {},
   "outputs": [],
   "source": [
    "mnb = Pipeline(steps=[\n",
    "    ('tfidf', TfidfVectorizer(stop_words=sw, max_features=max_feats_1)),\n",
    "    ('mnb', MultinomialNB())   \n",
    "    ])"
   ]
  },
  {
   "cell_type": "code",
   "execution_count": 58,
   "id": "7a28de25-419f-4a06-832f-1076499059ab",
   "metadata": {},
   "outputs": [
    {
     "name": "stdout",
     "output_type": "stream",
     "text": [
      "Train Scores\n",
      "accuracy:  0.639943074003795\n",
      "recall:    0.6740986717267552\n",
      "Validation Scores\n",
      "accuracy:  0.6003287394107978\n",
      "recall:    0.6415929203539823\n",
      "Test Scores\n",
      "accuracy:  0.6036161335187761\n",
      "recall:    0.6629711751662971\n"
     ]
    },
    {
     "data": {
      "image/png": "[encoded data removed]",
      "text/plain": [
       "<Figure size 432x432 with 2 Axes>"
      ]
     },
     "metadata": {
      "needs_background": "light"
     },
     "output_type": "display_data"
    },
    {
     "data": {
      "image/png": "[encoded data removed]",
      "text/plain": [
       "<Figure size 432x432 with 2 Axes>"
      ]
     },
     "metadata": {
      "needs_background": "light"
     },
     "output_type": "display_data"
    },
    {
     "data": {
      "image/png": "[encoded data removed]",
      "text/plain": [
       "<Figure size 432x432 with 2 Axes>"
      ]
     },
     "metadata": {
      "needs_background": "light"
     },
     "output_type": "display_data"
    }
   ],
   "source": [
    "mnb.fit(X_train_1, y_train_1)\n",
    "\n",
    "scores(mnb, X_train_1, y_train_1, 'Train')\n",
    "scores(mnb, X_val, y_val, 'Validation')\n",
    "mnb_acc, mnb_recall = scores(mnb, X_test, y_test, 'Test')"
   ]
  },
  {
   "cell_type": "markdown",
   "id": "e2c1b26f-3129-4717-9412-876d94bb4e04",
   "metadata": {
    "jp-MarkdownHeadingCollapsed": true,
    "tags": []
   },
   "source": [
    "### Model 3: Random Forest"
   ]
  },
  {
   "cell_type": "code",
   "execution_count": 59,
   "id": "e5d8e328-344f-4dc6-9541-5a455cdea497",
   "metadata": {},
   "outputs": [],
   "source": [
    "pp_rf = Pipeline(steps=[\n",
    "    #decreased the number of features to reduce overfitting\n",
    "    ('tfidf', TfidfVectorizer(stop_words=sw, max_features=int(max_feats_1*0.1))), \n",
    "    ('rf', RandomForestClassifier(random_state=42))   \n",
    "    ])"
   ]
  },
  {
   "cell_type": "code",
   "execution_count": 60,
   "id": "91ed9c3b-d803-40c6-be7a-e5631b55dc09",
   "metadata": {},
   "outputs": [],
   "source": [
    "grid = {'rf__max_depth': [3,5,8,10],\n",
    "        'rf__max_features': ['auto', 'sqrt'],\n",
    "        'rf__min_samples_leaf': [2, 5, 10, 20, 30, 50],\n",
    "        'rf__min_samples_split': [2, 5, 7, 10, 20, 50]}"
   ]
  },
  {
   "cell_type": "code",
   "execution_count": 61,
   "id": "71fcbb8f-fc98-492e-a4f5-f6325f37de1b",
   "metadata": {},
   "outputs": [],
   "source": [
    "gs_rf = GridSearchCV(estimator=pp_rf, \n",
    "                      param_grid=grid, \n",
    "                      scoring='recall', \n",
    "                      cv=3,\n",
    "                      verbose=2,\n",
    "                      n_jobs=-1\n",
    "                     )"
   ]
  },
  {
   "cell_type": "code",
   "execution_count": 62,
   "id": "a9b3d4e0-2338-4888-82b2-106defd591dd",
   "metadata": {},
   "outputs": [],
   "source": [
    "# gs_rf.fit(X_train_1, y_train_1)\n",
    "\n",
    "# scores(gs_rf, X_train_1, y_train_1, 'Train')\n",
    "# scores(gs_rf, X_val, y_val, 'Validation')\n",
    "# rf_acc, rf_recall = scores(gs_rf, X_test, y_test, 'Test')"
   ]
  },
  {
   "cell_type": "code",
   "execution_count": 63,
   "id": "e87518e4-2df9-4e79-85aa-22a72150f08f",
   "metadata": {},
   "outputs": [],
   "source": [
    "# gs_rf.best_params_"
   ]
  },
  {
   "cell_type": "code",
   "execution_count": 64,
   "id": "a3a3d259-3f62-4159-9c1c-940f5b326b0b",
   "metadata": {},
   "outputs": [
    {
     "data": {
      "text/plain": [
       "\"\\n{'rf__max_depth': 3,\\n 'rf__max_features': 'auto',\\n 'rf__min_samples_leaf': 5,\\n 'rf__min_samples_split': 20}\\n\""
      ]
     },
     "execution_count": 64,
     "metadata": {},
     "output_type": "execute_result"
    }
   ],
   "source": [
    "\"\"\"\n",
    "{'rf__max_depth': 3,\n",
    " 'rf__max_features': 'auto',\n",
    " 'rf__min_samples_leaf': 5,\n",
    " 'rf__min_samples_split': 20}\n",
    "\"\"\""
   ]
  },
  {
   "cell_type": "code",
   "execution_count": 66,
   "id": "f48bc4bb-43f2-4b60-97ea-672af34f8001",
   "metadata": {},
   "outputs": [],
   "source": [
    "pp_rf = Pipeline(steps=[\n",
    "    #decreased the number of features to reduce overfitting\n",
    "    ('tfidf', TfidfVectorizer(stop_words=sw, max_features=int(max_feats_1*0.1))), \n",
    "    ('rf', RandomForestClassifier(random_state=42,\n",
    "                                  max_depth=3,\n",
    "                                  max_features='auto',\n",
    "                                  min_samples_leaf=5,\n",
    "                                  min_samples_split=20))   \n",
    "    ])"
   ]
  },
  {
   "cell_type": "code",
   "execution_count": 67,
   "id": "e4af9f1d-a404-47c5-ad3f-c7a9c2be64b5",
   "metadata": {},
   "outputs": [
    {
     "name": "stdout",
     "output_type": "stream",
     "text": [
      "Train Scores\n",
      "accuracy:  0.6411290322580645\n",
      "recall:    0.6940227703984819\n",
      "Validation Scores\n",
      "accuracy:  0.5694778100897712\n",
      "recall:    0.6548672566371682\n",
      "Test Scores\n",
      "accuracy:  0.5787078012390947\n",
      "recall:    0.6784922394678492\n"
     ]
    },
    {
     "data": {
      "image/png": "[encoded data removed]",
      "text/plain": [
       "<Figure size 432x432 with 2 Axes>"
      ]
     },
     "metadata": {
      "needs_background": "light"
     },
     "output_type": "display_data"
    },
    {
     "data": {
      "image/png": "[encoded data removed]",
      "text/plain": [
       "<Figure size 432x432 with 2 Axes>"
      ]
     },
     "metadata": {
      "needs_background": "light"
     },
     "output_type": "display_data"
    },
    {
     "data": {
      "image/png": "[encoded data removed]",
      "text/plain": [
       "<Figure size 432x432 with 2 Axes>"
      ]
     },
     "metadata": {
      "needs_background": "light"
     },
     "output_type": "display_data"
    }
   ],
   "source": [
    "pp_rf.fit(X_train_1, y_train_1)\n",
    "\n",
    "scores(pp_rf, X_train_1, y_train_1, 'Train')\n",
    "scores(pp_rf, X_val, y_val, 'Validation')\n",
    "rf_acc, rf_recall = scores(pp_rf, X_test, y_test, 'Test')"
   ]
  },
  {
   "cell_type": "markdown",
   "id": "980aef3a-0fd9-4d53-94e7-bb34e77b5190",
   "metadata": {
    "jp-MarkdownHeadingCollapsed": true,
    "tags": []
   },
   "source": [
    "### Model 4: K-Nearest Neighbors"
   ]
  },
  {
   "cell_type": "code",
   "execution_count": 69,
   "id": "e637b69a-0f04-483a-9fd9-d4579118104c",
   "metadata": {},
   "outputs": [],
   "source": [
    "pp_knn = Pipeline(steps=[\n",
    "    ('tfidf', TfidfVectorizer(stop_words=sw, max_features=int(max_feats_1*0.1))),\n",
    "    ('knn', KNeighborsClassifier())   \n",
    "    ])"
   ]
  },
  {
   "cell_type": "code",
   "execution_count": 70,
   "id": "50564b29-3339-4e53-a920-03f927c85b69",
   "metadata": {},
   "outputs": [],
   "source": [
    "grid = {'knn__n_neighbors': list(range(1, 20, 2)),\n",
    "        'knn__weights': ['uniform', 'distance'],\n",
    "        'knn__p': [1,2,3,4]}"
   ]
  },
  {
   "cell_type": "code",
   "execution_count": 71,
   "id": "31563536-b01d-4d99-bbc3-7762016277a3",
   "metadata": {},
   "outputs": [],
   "source": [
    "gs_knn = GridSearchCV(estimator=pp_knn, \n",
    "                      param_grid=grid, \n",
    "                      scoring='recall', \n",
    "                      cv=3,\n",
    "                      verbose=2,\n",
    "                      n_jobs=-1\n",
    "                     )"
   ]
  },
  {
   "cell_type": "code",
   "execution_count": 72,
   "id": "ba4056e2-2d22-4391-b8ec-a6fd46d6f1fb",
   "metadata": {},
   "outputs": [],
   "source": [
    "# gs_knn.fit(X_train_1, y_train_1)\n",
    "\n",
    "# scores(gs_knn, X_train_1, y_train_1, 'Train')\n",
    "# scores(gs_knn, X_val, y_val, 'Validation')\n",
    "# knn_acc, knn_recall = scores(gs_knn, X_test, y_test, 'Test')"
   ]
  },
  {
   "cell_type": "code",
   "execution_count": 73,
   "id": "bab2ef94-90dc-49c0-8060-535727c4fa7b",
   "metadata": {},
   "outputs": [],
   "source": [
    "# gs_knn.best_params_"
   ]
  },
  {
   "cell_type": "code",
   "execution_count": 74,
   "id": "f6776ef7-e02b-4eed-a385-8d63e1228871",
   "metadata": {},
   "outputs": [
    {
     "data": {
      "text/plain": [
       "\"\\n{'knn__n_neighbors': 19, 'knn__p': 2, 'knn__weights': 'uniform'}\\n\""
      ]
     },
     "execution_count": 74,
     "metadata": {},
     "output_type": "execute_result"
    }
   ],
   "source": [
    "\"\"\"\n",
    "{'knn__n_neighbors': 19, 'knn__p': 2, 'knn__weights': 'uniform'}\n",
    "\"\"\""
   ]
  },
  {
   "cell_type": "code",
   "execution_count": 75,
   "id": "5384c5a8-99d7-4b5e-b07d-b2e120a965ae",
   "metadata": {},
   "outputs": [],
   "source": [
    "pp_knn = Pipeline(steps=[\n",
    "    ('tfidf', TfidfVectorizer(stop_words=sw, max_features=int(max_feats_1*0.1))),\n",
    "    ('knn', KNeighborsClassifier(n_neighbors=19,\n",
    "                                 p=2,\n",
    "                                 weights='uniform'))   \n",
    "    ])"
   ]
  },
  {
   "cell_type": "code",
   "execution_count": 76,
   "id": "858c19c5-4c80-42b1-977a-95d72dba30a9",
   "metadata": {},
   "outputs": [
    {
     "name": "stdout",
     "output_type": "stream",
     "text": [
      "Train Scores\n",
      "accuracy:  0.6582068311195446\n",
      "recall:    0.75426944971537\n",
      "Validation Scores\n",
      "accuracy:  0.5022126691111392\n",
      "recall:    0.6504424778761062\n",
      "Test Scores\n",
      "accuracy:  0.514730054368441\n",
      "recall:    0.7139689578713969\n"
     ]
    },
    {
     "data": {
      "image/png": "[encoded data removed]",
      "text/plain": [
       "<Figure size 432x432 with 2 Axes>"
      ]
     },
     "metadata": {
      "needs_background": "light"
     },
     "output_type": "display_data"
    },
    {
     "data": {
      "image/png": "[encoded data removed]",
      "text/plain": [
       "<Figure size 432x432 with 2 Axes>"
      ]
     },
     "metadata": {
      "needs_background": "light"
     },
     "output_type": "display_data"
    },
    {
     "data": {
      "image/png": "[encoded data removed]",
      "text/plain": [
       "<Figure size 432x432 with 2 Axes>"
      ]
     },
     "metadata": {
      "needs_background": "light"
     },
     "output_type": "display_data"
    }
   ],
   "source": [
    "pp_knn.fit(X_train_1, y_train_1)\n",
    "\n",
    "scores(pp_knn, X_train_1, y_train_1, 'Train')\n",
    "scores(pp_knn, X_val, y_val, 'Validation')\n",
    "knn_acc, knn_recall = scores(pp_knn, X_test, y_test, 'Test')"
   ]
  },
  {
   "cell_type": "markdown",
   "id": "3f1bee23-9b38-4bb0-90c7-7d8af2acda7e",
   "metadata": {
    "jp-MarkdownHeadingCollapsed": true,
    "tags": []
   },
   "source": [
    "### Model 5: Decision Tree Model"
   ]
  },
  {
   "cell_type": "code",
   "execution_count": 77,
   "id": "03b282d2-dc66-4b5c-9376-34f402f60129",
   "metadata": {},
   "outputs": [],
   "source": [
    "pp_dt = Pipeline(steps=[\n",
    "    ('tfidf', TfidfVectorizer(stop_words=sw, max_features=max_feats_1)),\n",
    "    ('dt', DecisionTreeClassifier(random_state=42, criterion='entropy'))   \n",
    "    ])"
   ]
  },
  {
   "cell_type": "code",
   "execution_count": 78,
   "id": "94709f02-1bf4-4f40-b73f-7747f3c0ff8b",
   "metadata": {},
   "outputs": [],
   "source": [
    "grid = {'dt__max_depth': np.arange(1, 17, 3),\n",
    "        'dt__min_samples_split': np.arange(20, 101, 10),\n",
    "        'dt__min_samples_leaf': np.arange(20, 101, 10)\n",
    "       }"
   ]
  },
  {
   "cell_type": "code",
   "execution_count": 79,
   "id": "57640aba-bfae-4fd9-8db3-81877282f6a6",
   "metadata": {},
   "outputs": [],
   "source": [
    "gs_dt = GridSearchCV(estimator=pp_dt, \n",
    "                      param_grid=grid, \n",
    "                      scoring='recall', \n",
    "                      cv=3,\n",
    "                      verbose=2,\n",
    "                      n_jobs=-1\n",
    "                     )"
   ]
  },
  {
   "cell_type": "code",
   "execution_count": 80,
   "id": "6de64368-18b8-4455-84e6-0d5d1e973b44",
   "metadata": {},
   "outputs": [],
   "source": [
    "# gs_dt.fit(X_train_1, y_train_1)\n",
    "\n",
    "# scores(gs_dt, X_train_1, y_train_1, 'Train')\n",
    "# scores(gs_dt, X_val, y_val, 'Validation')\n",
    "# dt_acc, dt_recall = scores(gs_dt, X_test, y_test, 'Test')"
   ]
  },
  {
   "cell_type": "code",
   "execution_count": 81,
   "id": "9207f288-2904-4d8c-935b-0cfb17a88a5c",
   "metadata": {},
   "outputs": [],
   "source": [
    "# gs_dt.best_params_"
   ]
  },
  {
   "cell_type": "code",
   "execution_count": 82,
   "id": "52324596-521c-471c-8748-0ee3bf989f28",
   "metadata": {},
   "outputs": [
    {
     "data": {
      "text/plain": [
       "\"\\n{'dt__max_depth': 1, 'dt__min_samples_leaf': 20, 'dt__min_samples_split': 20}\\n\""
      ]
     },
     "execution_count": 82,
     "metadata": {},
     "output_type": "execute_result"
    }
   ],
   "source": [
    "\"\"\"\n",
    "{'dt__max_depth': 1, 'dt__min_samples_leaf': 20, 'dt__min_samples_split': 20}\n",
    "\"\"\""
   ]
  },
  {
   "cell_type": "code",
   "execution_count": 84,
   "id": "ca29a635-8cfa-4bf6-9558-52151c98f656",
   "metadata": {},
   "outputs": [],
   "source": [
    "pp_dt = Pipeline(steps=[\n",
    "    ('tfidf', TfidfVectorizer(stop_words=sw, max_features=max_feats_1)),\n",
    "    ('dt', DecisionTreeClassifier(random_state=42,\n",
    "                                  criterion='entropy',\n",
    "                                  max_depth=1,\n",
    "                                  min_samples_leaf=20,\n",
    "                                  min_samples_split=20))   \n",
    "    ])"
   ]
  },
  {
   "cell_type": "code",
   "execution_count": 85,
   "id": "4ccef6e8-5f78-484b-af2f-00f5b6de89fe",
   "metadata": {},
   "outputs": [
    {
     "name": "stdout",
     "output_type": "stream",
     "text": [
      "Train Scores\n",
      "accuracy:  0.601280834914611\n",
      "recall:    0.5531309297912713\n",
      "Validation Scores\n",
      "accuracy:  0.6354785687191806\n",
      "recall:    0.5619469026548672\n",
      "Test Scores\n",
      "accuracy:  0.6357314451890251\n",
      "recall:    0.5343680709534369\n"
     ]
    },
    {
     "data": {
      "image/png": "[encoded data removed]",
      "text/plain": [
       "<Figure size 432x432 with 2 Axes>"
      ]
     },
     "metadata": {
      "needs_background": "light"
     },
     "output_type": "display_data"
    },
    {
     "data": {
      "image/png": "[encoded data removed]",
      "text/plain": [
       "<Figure size 432x432 with 2 Axes>"
      ]
     },
     "metadata": {
      "needs_background": "light"
     },
     "output_type": "display_data"
    },
    {
     "data": {
      "image/png": "[encoded data removed]",
      "text/plain": [
       "<Figure size 432x432 with 2 Axes>"
      ]
     },
     "metadata": {
      "needs_background": "light"
     },
     "output_type": "display_data"
    }
   ],
   "source": [
    "pp_dt.fit(X_train_1, y_train_1)\n",
    "\n",
    "scores(pp_dt, X_train_1, y_train_1, 'Train')\n",
    "scores(pp_dt, X_val, y_val, 'Validation')\n",
    "dt_acc, dt_recall = scores(pp_dt, X_test, y_test, 'Test')"
   ]
  },
  {
   "cell_type": "markdown",
   "id": "4778521f-8e34-4660-8ff4-2c741b31db82",
   "metadata": {
    "jp-MarkdownHeadingCollapsed": true,
    "tags": []
   },
   "source": [
    "### Model 6: Gradient Boost"
   ]
  },
  {
   "cell_type": "code",
   "execution_count": 86,
   "id": "4b4b20d0-ae92-46aa-b275-f5dfba7fdf40",
   "metadata": {},
   "outputs": [],
   "source": [
    "pp_gbc = Pipeline(steps=[\n",
    "    ('tfidf', TfidfVectorizer(stop_words=sw, max_features=int(max_feats_1*0.1))),\n",
    "    ('gbc', GradientBoostingClassifier(random_state=42))   \n",
    "    ])"
   ]
  },
  {
   "cell_type": "code",
   "execution_count": 87,
   "id": "bd534e2d-b87f-440d-a205-0ef75d232784",
   "metadata": {},
   "outputs": [],
   "source": [
    "grid = {'gbc__max_features': ['auto','log2'],\n",
    "        'gbc__min_samples_split':[500, 600, 700, 800, 900, 1000],\n",
    "        'gbc__min_samples_leaf':[5, 10, 20, 50, 100],\n",
    "        'gbc__max_depth':[2, 3, 5, 10, 20]\n",
    "       }"
   ]
  },
  {
   "cell_type": "code",
   "execution_count": 88,
   "id": "e379dbe6-c26e-4bae-b9f7-a947279996c8",
   "metadata": {},
   "outputs": [],
   "source": [
    "gs_gbc = GridSearchCV(estimator=pp_gbc, \n",
    "                      param_grid=grid, \n",
    "                      scoring='recall', \n",
    "                      cv=3,\n",
    "                      verbose=2,\n",
    "                      n_jobs=-1\n",
    "                     )"
   ]
  },
  {
   "cell_type": "code",
   "execution_count": 91,
   "id": "d2e95509-64ac-40f5-8ce1-c744c4c0deee",
   "metadata": {},
   "outputs": [
    {
     "name": "stdout",
     "output_type": "stream",
     "text": [
      "Fitting 3 folds for each of 300 candidates, totalling 900 fits\n",
      "Train Scores\n",
      "accuracy:  0.6871442125237192\n",
      "recall:    0.7234345351043643\n",
      "Validation Scores\n",
      "accuracy:  0.6026046276393981\n",
      "recall:    0.6592920353982301\n",
      "Test Scores\n",
      "accuracy:  0.6113288658490328\n",
      "recall:    0.6585365853658537\n"
     ]
    },
    {
     "data": {
      "image/png": "[encoded data removed]",
      "text/plain": [
       "<Figure size 432x432 with 2 Axes>"
      ]
     },
     "metadata": {
      "needs_background": "light"
     },
     "output_type": "display_data"
    },
    {
     "data": {
      "image/png": "[encoded data removed]",
      "text/plain": [
       "<Figure size 432x432 with 2 Axes>"
      ]
     },
     "metadata": {
      "needs_background": "light"
     },
     "output_type": "display_data"
    },
    {
     "data": {
      "image/png": "[encoded data removed]",
      "text/plain": [
       "<Figure size 432x432 with 2 Axes>"
      ]
     },
     "metadata": {
      "needs_background": "light"
     },
     "output_type": "display_data"
    }
   ],
   "source": [
    "# gs_gbc.fit(X_train_1, y_train_1)\n",
    "\n",
    "# scores(gs_gbc, X_train_1, y_train_1, 'Train')\n",
    "# scores(gs_gbc, X_val, y_val, 'Validation')\n",
    "# scores(gs_gbc, X_test, y_test, 'Test')"
   ]
  },
  {
   "cell_type": "code",
   "execution_count": 92,
   "id": "b786d135-907d-412a-a54b-56e11229cc51",
   "metadata": {},
   "outputs": [
    {
     "data": {
      "text/plain": [
       "{'gbc__max_depth': 2,\n",
       " 'gbc__max_features': 'log2',\n",
       " 'gbc__min_samples_leaf': 50,\n",
       " 'gbc__min_samples_split': 500}"
      ]
     },
     "execution_count": 92,
     "metadata": {},
     "output_type": "execute_result"
    }
   ],
   "source": [
    "gs_gbc.best_params_"
   ]
  },
  {
   "cell_type": "code",
   "execution_count": 93,
   "id": "6fc5bd3a-add3-43fd-a1e7-38b5f775bd44",
   "metadata": {},
   "outputs": [
    {
     "data": {
      "text/plain": [
       "\"\\n{'gbc__max_depth': 3,\\n 'gbc__max_features': 'auto',\\n 'gbc__min_samples_split': 1000\\n\""
      ]
     },
     "execution_count": 93,
     "metadata": {},
     "output_type": "execute_result"
    }
   ],
   "source": [
    "\"\"\"\n",
    "{'gbc__max_depth': 3,\n",
    " 'gbc__max_features': 'auto',\n",
    " 'gbc__min_samples_split': 1000\n",
    "\"\"\""
   ]
  },
  {
   "cell_type": "code",
   "execution_count": 94,
   "id": "da90f7cf-658d-481d-96d5-2801c63993c2",
   "metadata": {},
   "outputs": [],
   "source": [
    "pp_gbc = Pipeline(steps=[\n",
    "    ('tfidf', TfidfVectorizer(stop_words=sw, max_features=int(max_feats_1*0.1))),\n",
    "    ('gbc', GradientBoostingClassifier(random_state=42,\n",
    "                                       max_depth= 2,\n",
    "                                       max_features= 'log2',\n",
    "                                       #I adjusted parameters to decrease overfitting\n",
    "                                       min_samples_leaf= 100, \n",
    "                                       min_samples_split= 500))   \n",
    "    ])"
   ]
  },
  {
   "cell_type": "code",
   "execution_count": 96,
   "id": "8b13a573-94ee-4005-a7bb-f0c9488fde92",
   "metadata": {},
   "outputs": [
    {
     "name": "stdout",
     "output_type": "stream",
     "text": [
      "Train Scores\n",
      "accuracy:  0.6842979127134725\n",
      "recall:    0.7210626185958254\n",
      "Validation Scores\n",
      "accuracy:  0.6057655835124541\n",
      "recall:    0.6637168141592921\n",
      "Test Scores\n",
      "accuracy:  0.6105702364394993\n",
      "recall:    0.6629711751662971\n"
     ]
    },
    {
     "data": {
      "image/png": "[encoded data removed]",
      "text/plain": [
       "<Figure size 432x432 with 2 Axes>"
      ]
     },
     "metadata": {
      "needs_background": "light"
     },
     "output_type": "display_data"
    },
    {
     "data": {
      "image/png": "[encoded data removed]",
      "text/plain": [
       "<Figure size 432x432 with 2 Axes>"
      ]
     },
     "metadata": {
      "needs_background": "light"
     },
     "output_type": "display_data"
    },
    {
     "data": {
      "image/png": "[encoded data removed]",
      "text/plain": [
       "<Figure size 432x432 with 2 Axes>"
      ]
     },
     "metadata": {
      "needs_background": "light"
     },
     "output_type": "display_data"
    }
   ],
   "source": [
    "pp_gbc.fit(X_train_1, y_train_1)\n",
    "\n",
    "scores(pp_gbc, X_train_1, y_train_1, 'Train')\n",
    "scores(pp_gbc, X_val, y_val, 'Validation')\n",
    "gbc_acc, gbc_recall = scores(pp_gbc, X_test, y_test, 'Test')"
   ]
  },
  {
   "cell_type": "markdown",
   "id": "c049347b-90bc-4247-9c41-387ab1bcb0ef",
   "metadata": {
    "jp-MarkdownHeadingCollapsed": true,
    "tags": []
   },
   "source": [
    "### Model X: Neural Networks"
   ]
  },
  {
   "cell_type": "code",
   "execution_count": null,
   "id": "8c56060d-38a7-4f25-9ae3-788f2f4d2529",
   "metadata": {},
   "outputs": [],
   "source": [
    "tfidf = TfidfVectorizer(stop_words=sw, max_features=int(max_feats_1))"
   ]
  },
  {
   "cell_type": "code",
   "execution_count": null,
   "id": "70823b0a-e3d3-4286-8213-d7e136ccad41",
   "metadata": {
    "tags": []
   },
   "outputs": [],
   "source": [
    "X_train_1_vec = tfidf.fit_transform(X_train_1)\n",
    "X_val_vec = tfidf.transform(X_val)\n",
    "X_test_vec = tfidf.transform(X_test)"
   ]
  },
  {
   "cell_type": "code",
   "execution_count": null,
   "id": "adc2819a-cb3c-4cf2-b590-8bef7e45eb4b",
   "metadata": {
    "tags": []
   },
   "outputs": [],
   "source": [
    "np.random.seed(123)\n",
    "model2 = models.Sequential()\n",
    "model2.add(layers.Dense(50, activation='relu'))\n",
    "model2.add(layers.Dense(25, activation='relu'))\n",
    "model2.add(layers.Dense(7, activation='relu'))\n",
    "model2.add(layers.Dense(5, activation='relu'))\n",
    "model2.add(layers.Dense(1, activation='sigmoid'))"
   ]
  },
  {
   "cell_type": "code",
   "execution_count": null,
   "id": "c25c0bf6-49ba-4241-a047-4895fd601577",
   "metadata": {},
   "outputs": [],
   "source": [
    "X_train_1_vec.shape"
   ]
  },
  {
   "cell_type": "code",
   "execution_count": null,
   "id": "3eeb737d-f086-4666-bc82-460eb67bfab6",
   "metadata": {},
   "outputs": [],
   "source": [
    "y_train_1.shape"
   ]
  },
  {
   "cell_type": "code",
   "execution_count": null,
   "id": "ab961133-a0b2-42b4-a4d4-55cb1a74fee6",
   "metadata": {},
   "outputs": [],
   "source": [
    "# model2.compile(optimizer='sgd',\n",
    "#               loss='categorical_crossentropy',\n",
    "#               metrics=['acc'])\n",
    "\n",
    "# history2 = model2.fit(x=X_train_1_vec,\n",
    "#                       y=y_train_1,\n",
    "#                       epochs=30,\n",
    "#                       batch_size=50,\n",
    "#                      # validation_data=(X_val, y_val)\n",
    "#                      )"
   ]
  },
  {
   "cell_type": "markdown",
   "id": "fab9610f-b212-4cc4-ad98-615581deb7f8",
   "metadata": {
    "jp-MarkdownHeadingCollapsed": true,
    "tags": []
   },
   "source": [
    "### Model 7: Ensemble"
   ]
  },
  {
   "cell_type": "code",
   "execution_count": 115,
   "id": "a7fc595c-c3f3-439a-a138-3c25777bfc52",
   "metadata": {},
   "outputs": [],
   "source": [
    "pp_logreg = Pipeline(steps=[\n",
    "    ('tfidf', TfidfVectorizer(stop_words=sw, max_features=max_feats_1)),\n",
    "    ('logreg', LogisticRegression(random_state=42)),   \n",
    "    ])"
   ]
  },
  {
   "cell_type": "code",
   "execution_count": 140,
   "id": "f100b524-4684-4133-a7ef-fb2760eed021",
   "metadata": {},
   "outputs": [],
   "source": [
    "voting_clf = VotingClassifier(estimators={(\"logreg\", pp_logreg),\n",
    "                                          (\"mnb\", mnb),\n",
    "                                          (\"rf\", pp_rf),\n",
    "                                          ('knn', pp_knn),\n",
    "                                          #('dt', pp_dt),\n",
    "                                          (\"gbc\", pp_gbc)\n",
    "                                        },\n",
    "                              voting= \"soft\")"
   ]
  },
  {
   "cell_type": "code",
   "execution_count": 141,
   "id": "a90bb929-0f50-42d9-b624-fd095f989b75",
   "metadata": {},
   "outputs": [
    {
     "name": "stdout",
     "output_type": "stream",
     "text": [
      "Train Scores\n",
      "accuracy:  0.6904648956356736\n",
      "recall:    0.7281783681214421\n",
      "Validation Scores\n",
      "accuracy:  0.6089265393855102\n",
      "recall:    0.6592920353982301\n",
      "Test Scores\n",
      "accuracy:  0.6215703628777343\n",
      "recall:    0.7006651884700665\n"
     ]
    },
    {
     "data": {
      "image/png": "[encoded data removed]",
      "text/plain": [
       "<Figure size 432x432 with 2 Axes>"
      ]
     },
     "metadata": {
      "needs_background": "light"
     },
     "output_type": "display_data"
    },
    {
     "data": {
      "image/png": "[encoded data removed]",
      "text/plain": [
       "<Figure size 432x432 with 2 Axes>"
      ]
     },
     "metadata": {
      "needs_background": "light"
     },
     "output_type": "display_data"
    },
    {
     "data": {
      "image/png": "[encoded data removed]",
      "text/plain": [
       "<Figure size 432x432 with 2 Axes>"
      ]
     },
     "metadata": {
      "needs_background": "light"
     },
     "output_type": "display_data"
    }
   ],
   "source": [
    "voting_clf.fit(X_train_1, y_train_1)\n",
    "\n",
    "scores(voting_clf, X_train_1, y_train_1, 'Train')\n",
    "scores(voting_clf, X_val, y_val, 'Validation')\n",
    "vot_acc, vot_recall = scores(voting_clf, X_test, y_test, 'Test')"
   ]
  },
  {
   "cell_type": "markdown",
   "id": "932b7f0c-c4bb-467c-b59e-505ef1f7a0e8",
   "metadata": {
    "jp-MarkdownHeadingCollapsed": true,
    "tags": []
   },
   "source": [
    "## Reviewing All Models:"
   ]
  },
  {
   "cell_type": "code",
   "execution_count": 142,
   "id": "ffd4c05d-dbb4-4fd0-86e8-be2ac1168493",
   "metadata": {},
   "outputs": [],
   "source": [
    "X_labels = ['Model 1', 'Model 2', 'Model 3', 'Model 4', 'Model 5', 'Model 6', 'Model 7']\n",
    "y1 = [log_recall, mnb_recall, rf_recall, knn_recall, dt_recall, gbc_recall, vot_recall]"
   ]
  },
  {
   "cell_type": "code",
   "execution_count": 143,
   "id": "8b18ae95-9add-4edd-a2f7-66941d488213",
   "metadata": {},
   "outputs": [],
   "source": [
    "y2 = [log_acc, mnb_acc, rf_acc, knn_acc, dt_acc, gbc_acc, vot_acc]"
   ]
  },
  {
   "cell_type": "code",
   "execution_count": 232,
   "id": "f2ecc472-0540-4db8-ab0a-2e167bddeaca",
   "metadata": {},
   "outputs": [
    {
     "data": {
      "image/png": "[encoded data removed]",
      "text/plain": [
       "<Figure size 864x576 with 1 Axes>"
      ]
     },
     "metadata": {
      "needs_background": "light"
     },
     "output_type": "display_data"
    }
   ],
   "source": [
    "width = 0.35  # the width of the bars\n",
    "x = np.arange(len(X_labels))\n",
    "fig, ax = plt.subplots(figsize=(12,8))\n",
    "rects1 = ax.bar(x - width/2, y1, width, label='Sensitivity', color='royalblue')\n",
    "rects2 = ax.bar(x + width/2, y2, width, label='Accuracy', color='lightblue')\n",
    "\n",
    "# Add some text for labels, title and custom x-axis tick labels, etc.\n",
    "ax.set_ylabel('Scores (%)')\n",
    "ax.set_title('Model Sensitivity and Accuracy Scores')\n",
    "ax.set_xticks(x)\n",
    "ax.set_xticklabels(X_labels)\n",
    "ax.legend(bbox_to_anchor=(1.15, 1.01))\n",
    "\n",
    "ax.bar_label(rects1, padding=3)\n",
    "ax.bar_label(rects2, padding=3)\n",
    "\n",
    "fig.tight_layout()\n",
    "\n",
    "plt.show()\n",
    "#save the figure in the images folder\n",
    "fig.savefig('images/Model_Scores.png', bbox_inches='tight')"
   ]
  },
  {
   "cell_type": "markdown",
   "id": "4fc30fa4-03bc-4dde-96bf-79342b1d069e",
   "metadata": {
    "jp-MarkdownHeadingCollapsed": true,
    "tags": []
   },
   "source": [
    "## Setting Final Model"
   ]
  },
  {
   "cell_type": "code",
   "execution_count": 146,
   "id": "b15918af-c355-4bef-9c9e-397ca5cdfb5b",
   "metadata": {},
   "outputs": [],
   "source": [
    "#split the positive and negative data\n",
    "df_pos = df[df['READMISSION']==1]\n",
    "df_neg = df[df['READMISSION']==0]"
   ]
  },
  {
   "cell_type": "code",
   "execution_count": 147,
   "id": "e905693e-8577-4aca-9ec7-3312af83bf1e",
   "metadata": {},
   "outputs": [],
   "source": [
    "#take a sample of the negative training set with the same number of rows as positive dataset\n",
    "df_neg_samp = df_neg.sample(n=len(df_pos), random_state=42)"
   ]
  },
  {
   "cell_type": "code",
   "execution_count": 148,
   "id": "a5f41f5f-220a-4dc5-99b4-dfc72b053423",
   "metadata": {},
   "outputs": [],
   "source": [
    "#concat the positive dataset and sample of the negative dataset to get one dataset\n",
    "#with equal number of postiive and negative cases\n",
    "new_df = pd.concat([df_pos,df_neg_samp],axis=0)"
   ]
  },
  {
   "cell_type": "code",
   "execution_count": 149,
   "id": "2db07341-d003-4bff-bb4c-f2512eaa869b",
   "metadata": {},
   "outputs": [],
   "source": [
    "#randomize the new dataset\n",
    "new_df = new_df.sample(n=len(new_df), random_state=42)"
   ]
  },
  {
   "cell_type": "code",
   "execution_count": 150,
   "id": "af6b4524-116f-4b05-bf11-77c3d3ddb1f5",
   "metadata": {},
   "outputs": [],
   "source": [
    "#split out the X and y of the new dataset\n",
    "new_y = new_df['READMISSION']\n",
    "new_X = new_df['TEXT']\n",
    "new_max_feats = int(new_X.shape[0]*0.10)"
   ]
  },
  {
   "cell_type": "code",
   "execution_count": 151,
   "id": "8aacf5db-980c-48c6-ba4d-d9485768b112",
   "metadata": {},
   "outputs": [],
   "source": [
    "final_model = voting_clf"
   ]
  },
  {
   "cell_type": "code",
   "execution_count": 152,
   "id": "b052653a-88ef-42e1-82a2-2acc46086e44",
   "metadata": {},
   "outputs": [
    {
     "name": "stdout",
     "output_type": "stream",
     "text": [
      "Final Scores\n",
      "accuracy:  0.6353601638660243\n",
      "recall:    0.7143806044503487\n"
     ]
    },
    {
     "data": {
      "image/png": "[encoded data removed]",
      "text/plain": [
       "<Figure size 432x432 with 2 Axes>"
      ]
     },
     "metadata": {
      "needs_background": "light"
     },
     "output_type": "display_data"
    }
   ],
   "source": [
    "final_model.fit(new_X, new_y)\n",
    "final_acc, final_recall = scores(final_model, X, y, 'Final')"
   ]
  },
  {
   "cell_type": "code",
   "execution_count": 153,
   "id": "0a217ff4-a306-4f23-91d7-c8ad319238d0",
   "metadata": {},
   "outputs": [],
   "source": [
    "y_preds = final_model.predict(X)\n",
    "y_probs = final_model.predict_proba(X)"
   ]
  },
  {
   "cell_type": "code",
   "execution_count": 154,
   "id": "b38cc83a-414a-4695-9fe8-06956b997384",
   "metadata": {},
   "outputs": [],
   "source": [
    "y_preds = pd.DataFrame(y_preds)\n",
    "y_probs = pd.DataFrame(y_probs)"
   ]
  },
  {
   "cell_type": "code",
   "execution_count": 155,
   "id": "ddd569f7-baeb-4eb6-bd37-6d7f558632a7",
   "metadata": {},
   "outputs": [],
   "source": [
    "y_probs.drop(0, axis=1, inplace=True)"
   ]
  },
  {
   "cell_type": "markdown",
   "id": "366d08f6-c467-4052-aaae-6dfb35712f9e",
   "metadata": {
    "jp-MarkdownHeadingCollapsed": true,
    "tags": []
   },
   "source": [
    "## Merging Results to Other Features and Exporting Data"
   ]
  },
  {
   "cell_type": "code",
   "execution_count": 156,
   "id": "7f9addf4-f1f4-4399-a2bd-9be38479f33b",
   "metadata": {},
   "outputs": [],
   "source": [
    "new_df1 = df.copy()\n",
    "new_df2 = df.copy()\n",
    "\n",
    "new_df1 = new_df1.merge(y_preds, left_index=True, right_index=True)\n",
    "new_df1.drop('TEXT', axis=1, inplace=True)\n",
    "new_df1.rename(columns={0: 'TEXT'}, inplace=True)\n",
    "                        \n",
    "new_df2 = new_df2.merge(y_probs, left_index=True, right_index=True)\n",
    "new_df2.drop('TEXT', axis=1, inplace=True)\n",
    "new_df2.rename(columns={1: 'TEXT'}, inplace=True)"
   ]
  },
  {
   "cell_type": "code",
   "execution_count": 157,
   "id": "33948d48-f64e-4021-ad0e-e39af32109f1",
   "metadata": {},
   "outputs": [],
   "source": [
    "#export the modified dataframe with predicted classifications to the data folder\n",
    "new_df1.to_csv(\"data/admissions_nlp_processed_1.csv.gz\" , index = False,compression='gzip')"
   ]
  },
  {
   "cell_type": "code",
   "execution_count": 158,
   "id": "86a6f1e5-7914-466f-82c5-427490118d52",
   "metadata": {},
   "outputs": [],
   "source": [
    "#export the modified dataframe with predicted probabilites to the data folder\n",
    "new_df2.to_csv(\"data/admissions_nlp_processed_2.csv.gz\" , index = False,compression='gzip')"
   ]
  }
 ],
 "metadata": {
  "kernelspec": {
   "display_name": "main_env",
   "language": "python",
   "name": "main_env"
  },
  "language_info": {
   "codemirror_mode": {
    "name": "ipython",
    "version": 3
   },
   "file_extension": ".py",
   "mimetype": "text/x-python",
   "name": "python",
   "nbconvert_exporter": "python",
   "pygments_lexer": "ipython3",
   "version": "3.8.11"
  }
 },
 "nbformat": 4,
 "nbformat_minor": 5
}

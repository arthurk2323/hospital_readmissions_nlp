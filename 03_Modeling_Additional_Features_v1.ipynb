{
 "cells": [
  {
   "cell_type": "markdown",
   "id": "0543e13a-19e3-4125-83e3-5427506bc558",
   "metadata": {},
   "source": [
    "# Discharge Notes and Readmission Rates: Additional Features"
   ]
  },
  {
   "cell_type": "markdown",
   "id": "19ef34fa-8be2-448e-b351-b74c4bc16b2b",
   "metadata": {},
   "source": [
    "In this notebook, I will take the merged dataset of the results of the NLP from the NLP notebook and other data features and run the models again to see if the scoring metrics improve."
   ]
  },
  {
   "cell_type": "markdown",
   "id": "2fb5b4b3-a781-40e3-ad9e-87acede33454",
   "metadata": {},
   "source": [
    "TBD"
   ]
  }
 ],
 "metadata": {
  "kernelspec": {
   "display_name": "main_env",
   "language": "python",
   "name": "main_env"
  },
  "language_info": {
   "codemirror_mode": {
    "name": "ipython",
    "version": 3
   },
   "file_extension": ".py",
   "mimetype": "text/x-python",
   "name": "python",
   "nbconvert_exporter": "python",
   "pygments_lexer": "ipython3",
   "version": "3.8.11"
  }
 },
 "nbformat": 4,
 "nbformat_minor": 5
}

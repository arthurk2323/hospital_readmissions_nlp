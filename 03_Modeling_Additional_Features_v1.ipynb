{
 "cells": [
  {
   "cell_type": "markdown",
   "id": "0543e13a-19e3-4125-83e3-5427506bc558",
   "metadata": {},
   "source": [
    "# Discharge Notes and Readmission Rates: Additional Features"
   ]
  },
  {
   "cell_type": "markdown",
   "id": "19ef34fa-8be2-448e-b351-b74c4bc16b2b",
   "metadata": {},
   "source": [
    "In this notebook, I will take the merged dataset of the results of the NLP from the NLP notebook and other data features and run the models again to see if the scoring metrics improve."
   ]
  },
  {
   "cell_type": "markdown",
   "id": "2fb5b4b3-a781-40e3-ad9e-87acede33454",
   "metadata": {},
   "source": [
    "TBD"
   ]
  },
  {
   "cell_type": "markdown",
   "id": "ddb79181-0be1-4255-b0b2-2af8da0aad8b",
   "metadata": {
    "jp-MarkdownHeadingCollapsed": true,
    "tags": []
   },
   "source": [
    "## Import"
   ]
  },
  {
   "cell_type": "code",
   "execution_count": 1,
   "id": "e5c12caf-a483-4aaa-b02a-2821b21fc2ed",
   "metadata": {},
   "outputs": [],
   "source": [
    "import pandas as pd\n",
    "import numpy as np\n",
    "import matplotlib.pyplot as plt\n",
    "\n",
    "#vectorizers\n",
    "from sklearn.feature_extraction.text import CountVectorizer, TfidfVectorizer\n",
    "\n",
    "#modeling\n",
    "from sklearn.model_selection import train_test_split, GridSearchCV\n",
    "from sklearn.preprocessing import StandardScaler, OneHotEncoder\n",
    "from sklearn.compose import ColumnTransformer\n",
    "from sklearn.metrics import accuracy_score, recall_score, plot_confusion_matrix\n",
    "from sklearn.decomposition import PCA\n",
    "from sklearn.dummy import DummyClassifier\n",
    "from sklearn.linear_model import LogisticRegression\n",
    "from sklearn.naive_bayes import MultinomialNB\n",
    "from sklearn.ensemble import RandomForestClassifier, GradientBoostingClassifier, VotingClassifier\n",
    "from sklearn.neighbors import KNeighborsClassifier\n",
    "from sklearn.tree import DecisionTreeClassifier\n",
    "import xgboost as xg\n",
    "from sklearn.pipeline import Pipeline \n",
    "from imblearn.over_sampling import SMOTE\n",
    "from imblearn.pipeline import Pipeline as imbpipeline\n",
    "from sklearn.utils import class_weight"
   ]
  },
  {
   "cell_type": "markdown",
   "id": "0bbae5f3-c0a0-4473-a522-fa90702944f2",
   "metadata": {
    "jp-MarkdownHeadingCollapsed": true,
    "tags": []
   },
   "source": [
    "## Functions"
   ]
  },
  {
   "cell_type": "code",
   "execution_count": 2,
   "id": "a9c02a49-ad5c-4560-afc2-2c2e9daacc66",
   "metadata": {},
   "outputs": [],
   "source": [
    "def scores(model, X, y, set_type):\n",
    "    '''\n",
    "    This function takes in an already fitted model, X, y, and\n",
    "    the type of data (train, validation, or test) in str format,\n",
    "    and prints out the accuracy and recall scores. The function\n",
    "    also prints out the confusion matrix\n",
    "    '''\n",
    "    pred = model.predict(X)\n",
    "    acc_score = accuracy_score(y, pred)\n",
    "    rec_score = recall_score(y, pred)\n",
    "    \n",
    "    print(\"{} Scores\".format(set_type))\n",
    "    print(\"accuracy: \", acc_score)\n",
    "    print(\"recall:   \", rec_score)\n",
    "    fig, ax = plt.subplots(figsize=(6,6))\n",
    "    ax.set_title(set_type)\n",
    "    plot_confusion_matrix(model, X, y, ax=ax)\n",
    "    return round(acc_score*100,1), round(rec_score*100,1) "
   ]
  },
  {
   "cell_type": "markdown",
   "id": "1dd90c8a-15b4-4653-8859-168c37e286b1",
   "metadata": {
    "jp-MarkdownHeadingCollapsed": true,
    "tags": []
   },
   "source": [
    "## Reading in the Data"
   ]
  },
  {
   "cell_type": "markdown",
   "id": "4b10e923-e8fc-4f0d-bca3-952417403e35",
   "metadata": {},
   "source": [
    "Here, I read in the cleand dataset from the previous EDA folder."
   ]
  },
  {
   "cell_type": "code",
   "execution_count": 63,
   "id": "84c8fa92-2e78-4fb0-a711-83f1505a16f8",
   "metadata": {},
   "outputs": [],
   "source": [
    "df1 = pd.read_csv(\"data/admissions_nlp_processed_2.csv.gz\", compression='gzip')"
   ]
  },
  {
   "cell_type": "code",
   "execution_count": 64,
   "id": "1a6c039f-11bc-4474-be4d-cd578a4dd26b",
   "metadata": {},
   "outputs": [
    {
     "name": "stdout",
     "output_type": "stream",
     "text": [
      "<class 'pandas.core.frame.DataFrame'>\n",
      "RangeIndex: 52726 entries, 0 to 52725\n",
      "Data columns (total 17 columns):\n",
      " #   Column              Non-Null Count  Dtype  \n",
      "---  ------              --------------  -----  \n",
      " 0   ADMISSION_TYPE      52726 non-null  object \n",
      " 1   ADMISSION_LOCATION  52726 non-null  object \n",
      " 2   DISCHARGE_LOCATION  52726 non-null  object \n",
      " 3   INSURANCE           52726 non-null  object \n",
      " 4   LANGUAGE            52726 non-null  object \n",
      " 5   RELIGION            52726 non-null  object \n",
      " 6   MARITAL_STATUS      52726 non-null  object \n",
      " 7   ETHNICITY           52726 non-null  object \n",
      " 8   DIAGNOSIS           52726 non-null  object \n",
      " 9   READMISSION         52726 non-null  int64  \n",
      " 10  GENDER              52726 non-null  object \n",
      " 11  AGE                 52726 non-null  int64  \n",
      " 12  CPT_CD              52726 non-null  object \n",
      " 13  DIAG_ICD9_CODE      52722 non-null  object \n",
      " 14  DRG_CODE            52726 non-null  object \n",
      " 15  PROCED_ICD9_CODE    52726 non-null  object \n",
      " 16  TEXT                52726 non-null  float64\n",
      "dtypes: float64(1), int64(2), object(14)\n",
      "memory usage: 6.8+ MB\n"
     ]
    }
   ],
   "source": [
    "df1.info()"
   ]
  },
  {
   "cell_type": "code",
   "execution_count": 65,
   "id": "dffe539b-e0f9-4d22-8576-644f997b6f13",
   "metadata": {},
   "outputs": [],
   "source": [
    "df1.drop(['CPT_CD','DIAG_ICD9_CODE','DRG_CODE', 'DRG_CODE'], axis=1, inplace=True)"
   ]
  },
  {
   "cell_type": "code",
   "execution_count": 106,
   "id": "26edc8a5-56cc-4c70-bb86-bf1f8d0288ad",
   "metadata": {},
   "outputs": [
    {
     "data": {
      "text/plain": [
       "0    0.700572\n",
       "1    0.416854\n",
       "2    0.306707\n",
       "3    0.362690\n",
       "4    0.437668\n",
       "Name: TEXT, dtype: float64"
      ]
     },
     "execution_count": 106,
     "metadata": {},
     "output_type": "execute_result"
    }
   ],
   "source": [
    "df1['TEXT'].head()"
   ]
  },
  {
   "cell_type": "code",
   "execution_count": 66,
   "id": "5ad5ae78-8332-4683-99cc-a8618aee8fc9",
   "metadata": {},
   "outputs": [],
   "source": [
    "#set X as the text data, and y as the readmission status\n",
    "X1 = df1.drop('READMISSION', axis=1)\n",
    "y1 = df1['READMISSION']"
   ]
  },
  {
   "cell_type": "code",
   "execution_count": 67,
   "id": "14ae68d2-4830-4c2e-952b-f2068ab86558",
   "metadata": {},
   "outputs": [],
   "source": [
    "df2 = pd.read_csv(\"data/admissions_nlp_processed_1.csv.gz\", compression='gzip')"
   ]
  },
  {
   "cell_type": "code",
   "execution_count": 68,
   "id": "cba714f7-a858-4533-b976-fca1a226caf1",
   "metadata": {},
   "outputs": [
    {
     "name": "stdout",
     "output_type": "stream",
     "text": [
      "<class 'pandas.core.frame.DataFrame'>\n",
      "RangeIndex: 52726 entries, 0 to 52725\n",
      "Data columns (total 17 columns):\n",
      " #   Column              Non-Null Count  Dtype \n",
      "---  ------              --------------  ----- \n",
      " 0   ADMISSION_TYPE      52726 non-null  object\n",
      " 1   ADMISSION_LOCATION  52726 non-null  object\n",
      " 2   DISCHARGE_LOCATION  52726 non-null  object\n",
      " 3   INSURANCE           52726 non-null  object\n",
      " 4   LANGUAGE            52726 non-null  object\n",
      " 5   RELIGION            52726 non-null  object\n",
      " 6   MARITAL_STATUS      52726 non-null  object\n",
      " 7   ETHNICITY           52726 non-null  object\n",
      " 8   DIAGNOSIS           52726 non-null  object\n",
      " 9   READMISSION         52726 non-null  int64 \n",
      " 10  GENDER              52726 non-null  object\n",
      " 11  AGE                 52726 non-null  int64 \n",
      " 12  CPT_CD              52726 non-null  object\n",
      " 13  DIAG_ICD9_CODE      52722 non-null  object\n",
      " 14  DRG_CODE            52726 non-null  object\n",
      " 15  PROCED_ICD9_CODE    52726 non-null  object\n",
      " 16  TEXT                52726 non-null  int64 \n",
      "dtypes: int64(3), object(14)\n",
      "memory usage: 6.8+ MB\n"
     ]
    }
   ],
   "source": [
    "df2.info()"
   ]
  },
  {
   "cell_type": "code",
   "execution_count": 69,
   "id": "73210c8a-543d-4bcd-8446-e788540eb05b",
   "metadata": {},
   "outputs": [],
   "source": [
    "df2.drop(['CPT_CD','DIAG_ICD9_CODE','DRG_CODE', 'DRG_CODE'], axis=1, inplace=True)"
   ]
  },
  {
   "cell_type": "code",
   "execution_count": 107,
   "id": "fb921ed6-44bd-47ef-a226-1efbf7e596e5",
   "metadata": {},
   "outputs": [
    {
     "data": {
      "text/plain": [
       "0    1\n",
       "1    0\n",
       "2    0\n",
       "3    0\n",
       "4    0\n",
       "Name: TEXT, dtype: int64"
      ]
     },
     "execution_count": 107,
     "metadata": {},
     "output_type": "execute_result"
    }
   ],
   "source": [
    "df2['TEXT'].head()"
   ]
  },
  {
   "cell_type": "code",
   "execution_count": 70,
   "id": "b1f23c6b-e12f-4fa9-85ce-6e0d3ed8e894",
   "metadata": {},
   "outputs": [
    {
     "data": {
      "text/plain": [
       "0    49715\n",
       "1     3011\n",
       "Name: READMISSION, dtype: int64"
      ]
     },
     "execution_count": 70,
     "metadata": {},
     "output_type": "execute_result"
    }
   ],
   "source": [
    "df2['READMISSION'].value_counts()"
   ]
  },
  {
   "cell_type": "code",
   "execution_count": 71,
   "id": "988affdb-a843-4252-8b70-7d92335e415a",
   "metadata": {},
   "outputs": [],
   "source": [
    "#set X as the text data, and y as the readmission status\n",
    "X2 = df2.drop('READMISSION', axis=1)\n",
    "y2 = df2['READMISSION']"
   ]
  },
  {
   "cell_type": "markdown",
   "id": "a4b7121b-9789-45ae-9c71-414905bf24c4",
   "metadata": {
    "jp-MarkdownHeadingCollapsed": true,
    "tags": []
   },
   "source": [
    "## Train, Validation, and Test Split"
   ]
  },
  {
   "cell_type": "code",
   "execution_count": 72,
   "id": "f441c223-11b8-4ef5-8492-b8bb7e5e3b9b",
   "metadata": {},
   "outputs": [],
   "source": [
    "X_train1, X_v_t1, y_train1, y_v_t1 = train_test_split(X1, y1, test_size=0.30, random_state=42, stratify=y1)"
   ]
  },
  {
   "cell_type": "code",
   "execution_count": 73,
   "id": "1d3362e2-bd8c-48a0-89aa-e449a69bc7ee",
   "metadata": {},
   "outputs": [],
   "source": [
    "X_val1, X_test1, y_val1, y_test1 = train_test_split(X_v_t1, y_v_t1, test_size=0.50, random_state=42, stratify=y_v_t1)"
   ]
  },
  {
   "cell_type": "code",
   "execution_count": 74,
   "id": "287bde9d-7e9a-4c59-9cc0-478ae7f49962",
   "metadata": {},
   "outputs": [
    {
     "data": {
      "text/plain": [
       "(36908, 13)"
      ]
     },
     "execution_count": 74,
     "metadata": {},
     "output_type": "execute_result"
    }
   ],
   "source": [
    "X_train1.shape"
   ]
  },
  {
   "cell_type": "code",
   "execution_count": 75,
   "id": "853bb139-d094-4f7f-8acd-6735b4d94a05",
   "metadata": {},
   "outputs": [],
   "source": [
    "X_train2, X_v_t2, y_train2, y_v_t2 = train_test_split(X2, y2, test_size=0.30, random_state=42, stratify=y2)"
   ]
  },
  {
   "cell_type": "code",
   "execution_count": 76,
   "id": "f50ed9cf-5a5f-483b-a4f9-13080c9d0787",
   "metadata": {},
   "outputs": [],
   "source": [
    "X_val2, X_test2, y_val2, y_test2 = train_test_split(X_v_t2, y_v_t2, test_size=0.50, random_state=42, stratify=y_v_t2)"
   ]
  },
  {
   "cell_type": "code",
   "execution_count": 77,
   "id": "f27af2c3-0da0-456b-893f-cac3b69b56d9",
   "metadata": {},
   "outputs": [
    {
     "data": {
      "text/plain": [
       "(36908, 13)"
      ]
     },
     "execution_count": 77,
     "metadata": {},
     "output_type": "execute_result"
    }
   ],
   "source": [
    "X_train2.shape"
   ]
  },
  {
   "cell_type": "markdown",
   "id": "b28c2e49-aec7-4ca2-840f-639c1292dd21",
   "metadata": {
    "jp-MarkdownHeadingCollapsed": true,
    "tags": []
   },
   "source": [
    "## Handling Imbalanced Data "
   ]
  },
  {
   "cell_type": "code",
   "execution_count": 78,
   "id": "a6a7321a-fe7c-469b-a643-39bc09a6ff51",
   "metadata": {},
   "outputs": [],
   "source": [
    "#concat the train dataset together\n",
    "train_df = pd.concat([y_train1, X_train1], axis=1)"
   ]
  },
  {
   "cell_type": "code",
   "execution_count": 79,
   "id": "3b83e919-dd2d-499b-b6ca-6fcf9c4e3403",
   "metadata": {},
   "outputs": [],
   "source": [
    "#split the positive and negative data\n",
    "train_df_pos = train_df[train_df['READMISSION']==1]\n",
    "train_df_neg = train_df[train_df['READMISSION']==0]"
   ]
  },
  {
   "cell_type": "code",
   "execution_count": 80,
   "id": "95be08cf-69c0-4f45-81b4-cc6b9c5007d8",
   "metadata": {},
   "outputs": [],
   "source": [
    "#take a sample of the negative training set with the same number of rows as positive dataset\n",
    "train_df_neg_samp = train_df_neg.sample(n=len(train_df_pos), random_state=42)"
   ]
  },
  {
   "cell_type": "code",
   "execution_count": 81,
   "id": "c3915a38-347d-4275-bb56-f027decfd356",
   "metadata": {},
   "outputs": [],
   "source": [
    "#concat the positive dataset and sample of the negative dataset to get one dataset\n",
    "#with equal number of postiive and negative cases\n",
    "new_train_df = pd.concat([train_df_pos,train_df_neg_samp],axis=0)"
   ]
  },
  {
   "cell_type": "code",
   "execution_count": 82,
   "id": "963baa28-bd15-47a2-a9a6-d5f020c54291",
   "metadata": {},
   "outputs": [],
   "source": [
    "#randomize the new dataset\n",
    "new_train_df = new_train_df.sample(n=len(new_train_df), random_state=42)"
   ]
  },
  {
   "cell_type": "code",
   "execution_count": 83,
   "id": "35a33f24-2c66-4966-8f24-a824ecd95077",
   "metadata": {},
   "outputs": [],
   "source": [
    "#split out the X and y of the new dataset\n",
    "y_train1 = new_train_df['READMISSION']\n",
    "X_train1 = new_train_df.drop('READMISSION', axis=1)\n",
    "max_feats_1 = int(X_train1.shape[0]*0.10)"
   ]
  },
  {
   "cell_type": "code",
   "execution_count": 84,
   "id": "1b4c87c1-e56b-4ab7-9966-7a7ba5225310",
   "metadata": {},
   "outputs": [],
   "source": [
    "#concat the train dataset together\n",
    "train_df = pd.concat([y_train2, X_train2], axis=1)"
   ]
  },
  {
   "cell_type": "code",
   "execution_count": 85,
   "id": "188623db-3454-45da-b5f8-80cc3e83d4ee",
   "metadata": {},
   "outputs": [],
   "source": [
    "#split the positive and negative data\n",
    "train_df_pos = train_df[train_df['READMISSION']==1]\n",
    "train_df_neg = train_df[train_df['READMISSION']==0]"
   ]
  },
  {
   "cell_type": "code",
   "execution_count": 86,
   "id": "41658435-e521-4ad4-9463-34a2485ef930",
   "metadata": {},
   "outputs": [],
   "source": [
    "#take a sample of the negative training set with the same number of rows as positive dataset\n",
    "train_df_neg_samp = train_df_neg.sample(n=len(train_df_pos), random_state=42)"
   ]
  },
  {
   "cell_type": "code",
   "execution_count": 87,
   "id": "6cba5c19-8626-4a61-b38a-8c966c735208",
   "metadata": {},
   "outputs": [],
   "source": [
    "#concat the positive dataset and sample of the negative dataset to get one dataset\n",
    "#with equal number of postiive and negative cases\n",
    "new_train_df = pd.concat([train_df_pos,train_df_neg_samp],axis=0)"
   ]
  },
  {
   "cell_type": "code",
   "execution_count": 88,
   "id": "4f7b343b-69d9-470d-bfaa-29db0b46147c",
   "metadata": {},
   "outputs": [],
   "source": [
    "#randomize the new dataset\n",
    "new_train_df = new_train_df.sample(n=len(new_train_df), random_state=42)"
   ]
  },
  {
   "cell_type": "code",
   "execution_count": 89,
   "id": "47653e0a-b099-48f7-9942-af973f1caefd",
   "metadata": {},
   "outputs": [],
   "source": [
    "#split out the X and y of the new dataset\n",
    "y_train2 = new_train_df['READMISSION']\n",
    "X_train2 = new_train_df.drop('READMISSION', axis=1)\n",
    "max_feats_2 = int(X_train2.shape[0]*0.10)"
   ]
  },
  {
   "cell_type": "markdown",
   "id": "a587349f-aa22-43db-ad7e-f0d47d1231aa",
   "metadata": {
    "jp-MarkdownHeadingCollapsed": true,
    "tags": []
   },
   "source": [
    "## Pipeline Parameters"
   ]
  },
  {
   "cell_type": "markdown",
   "id": "1cf9e039-ea44-43f4-89aa-68e58613f233",
   "metadata": {},
   "source": [
    "In this section, I set specific pipeline parameters that I will keep constant throughout the project."
   ]
  },
  {
   "cell_type": "code",
   "execution_count": 90,
   "id": "3a7e437f-d24f-422f-9bc8-38e93c784190",
   "metadata": {},
   "outputs": [
    {
     "name": "stdout",
     "output_type": "stream",
     "text": [
      "<class 'pandas.core.frame.DataFrame'>\n",
      "Int64Index: 4216 entries, 35763 to 6932\n",
      "Data columns (total 13 columns):\n",
      " #   Column              Non-Null Count  Dtype  \n",
      "---  ------              --------------  -----  \n",
      " 0   ADMISSION_TYPE      4216 non-null   object \n",
      " 1   ADMISSION_LOCATION  4216 non-null   object \n",
      " 2   DISCHARGE_LOCATION  4216 non-null   object \n",
      " 3   INSURANCE           4216 non-null   object \n",
      " 4   LANGUAGE            4216 non-null   object \n",
      " 5   RELIGION            4216 non-null   object \n",
      " 6   MARITAL_STATUS      4216 non-null   object \n",
      " 7   ETHNICITY           4216 non-null   object \n",
      " 8   DIAGNOSIS           4216 non-null   object \n",
      " 9   GENDER              4216 non-null   object \n",
      " 10  AGE                 4216 non-null   int64  \n",
      " 11  PROCED_ICD9_CODE    4216 non-null   object \n",
      " 12  TEXT                4216 non-null   float64\n",
      "dtypes: float64(1), int64(1), object(11)\n",
      "memory usage: 461.1+ KB\n"
     ]
    }
   ],
   "source": [
    "X_train1.info()"
   ]
  },
  {
   "cell_type": "code",
   "execution_count": 91,
   "id": "21017d88-42da-4cab-850f-4cc90f063e5d",
   "metadata": {},
   "outputs": [],
   "source": [
    "X_num = ['AGE']\n",
    "X_cat = df1.drop(['AGE', 'READMISSION', 'TEXT'], axis=1).columns"
   ]
  },
  {
   "cell_type": "code",
   "execution_count": 92,
   "id": "a2e01d5b-f196-4a43-a4d8-80331327fdb0",
   "metadata": {},
   "outputs": [],
   "source": [
    "numTrans = Pipeline(steps=[\n",
    "    ('scaler', StandardScaler())\n",
    "    ])\n",
    "catTrans = Pipeline(steps=[\n",
    "    ('ohe', OneHotEncoder(sparse=False,\n",
    "                          handle_unknown='ignore'))\n",
    "    ])\n",
    "\n",
    "c_transform = ColumnTransformer(transformers=[\n",
    "    ('num', numTrans, X_num),\n",
    "    ('cat', catTrans, X_cat)\n",
    "    ])"
   ]
  },
  {
   "cell_type": "code",
   "execution_count": 93,
   "id": "f46ab1fe-ec64-492a-b30f-32919ac7b23b",
   "metadata": {},
   "outputs": [],
   "source": [
    "pca1 = PCA(n_components=max_feats_1, random_state=42)\n",
    "pca2 = PCA(n_components=max_feats_2, random_state=42)"
   ]
  },
  {
   "cell_type": "code",
   "execution_count": 94,
   "id": "03e6191b-6356-4697-a17a-76636afb1a14",
   "metadata": {},
   "outputs": [],
   "source": [
    "X_train1_scaled = c_transform.fit_transform(X_train1)\n",
    "X_val1_scaled = c_transform.transform(X_val1)\n",
    "X_test1_scaled = c_transform.transform(X_test1)\n",
    "\n",
    "X_train1_pca = pca1.fit_transform(X_train1_scaled)\n",
    "X_val1_pca = pca1.transform(X_val1_scaled)\n",
    "X_test1_pca = pca1.transform(X_test1_scaled)"
   ]
  },
  {
   "cell_type": "code",
   "execution_count": 95,
   "id": "7834584e-9c8d-4bf7-8e60-eeaa131420fa",
   "metadata": {},
   "outputs": [],
   "source": [
    "X_train2_scaled = c_transform.fit_transform(X_train2)\n",
    "X_val2_scaled = c_transform.transform(X_val2)\n",
    "X_test2_scaled = c_transform.transform(X_test2)\n",
    "\n",
    "X_train2_pca = pca2.fit_transform(X_train2_scaled)\n",
    "X_val2_pca = pca2.transform(X_val2_scaled)\n",
    "X_test2_pca = pca2.transform(X_test2_scaled)"
   ]
  },
  {
   "cell_type": "markdown",
   "id": "53da7e14-1346-482a-b5eb-222d784bd2f5",
   "metadata": {},
   "source": [
    "## Modeling"
   ]
  },
  {
   "cell_type": "markdown",
   "id": "87b15b1c-4aeb-4854-8c26-4197979b97c2",
   "metadata": {
    "jp-MarkdownHeadingCollapsed": true,
    "tags": []
   },
   "source": [
    "### Model 0: Dummy Classification"
   ]
  },
  {
   "cell_type": "code",
   "execution_count": 121,
   "id": "70006de1-1822-4c4e-bcea-1620c284b361",
   "metadata": {
    "tags": []
   },
   "outputs": [],
   "source": [
    "pp1 = Pipeline(steps=[\n",
    "    ('c_trans', c_transform),\n",
    "    ('pca', PCA(n_components=max_feats_1, random_state=42)),\n",
    "    ('dummy', DummyClassifier(random_state=42, strategy=\"stratified\")) \n",
    "    ])"
   ]
  },
  {
   "cell_type": "code",
   "execution_count": 122,
   "id": "86f8dce6-20af-41a8-9c9a-94501afa27c4",
   "metadata": {},
   "outputs": [
    {
     "name": "stdout",
     "output_type": "stream",
     "text": [
      "Train Scores\n",
      "accuracy:  0.5026091081593927\n",
      "recall:    0.5009487666034156\n",
      "Validation Scores\n",
      "accuracy:  0.4965229485396384\n",
      "recall:    0.5176991150442478\n",
      "Test Scores\n",
      "accuracy:  0.49235048678720444\n",
      "recall:    0.4811529933481153\n"
     ]
    },
    {
     "data": {
      "text/plain": [
       "(49.2, 48.1)"
      ]
     },
     "execution_count": 122,
     "metadata": {},
     "output_type": "execute_result"
    },
    {
     "data": {
      "image/png": "[encoded data removed]",
      "text/plain": [
       "<Figure size 432x432 with 2 Axes>"
      ]
     },
     "metadata": {
      "needs_background": "light"
     },
     "output_type": "display_data"
    },
    {
     "data": {
      "image/png": "[encoded data removed]",
      "text/plain": [
       "<Figure size 432x432 with 2 Axes>"
      ]
     },
     "metadata": {
      "needs_background": "light"
     },
     "output_type": "display_data"
    },
    {
     "data": {
      "image/png": "[encoded data removed]",
      "text/plain": [
       "<Figure size 432x432 with 2 Axes>"
      ]
     },
     "metadata": {
      "needs_background": "light"
     },
     "output_type": "display_data"
    }
   ],
   "source": [
    "pp1.fit(X_train1, y_train1)\n",
    "\n",
    "scores(pp1, X_train1, y_train1, 'Train')\n",
    "scores(pp1, X_val1, y_val1, 'Validation')\n",
    "scores(pp1, X_test1, y_test1, 'Test')"
   ]
  },
  {
   "cell_type": "code",
   "execution_count": 123,
   "id": "267b1caf-e8bf-4ff9-8483-97e4782ca7f7",
   "metadata": {},
   "outputs": [],
   "source": [
    "pp2 = Pipeline(steps=[\n",
    "    ('c_trans', c_transform),\n",
    "    ('pca', PCA(n_components=max_feats_2, random_state=42)),\n",
    "    ('dummy', DummyClassifier(random_state=42, strategy=\"stratified\")) \n",
    "    ])"
   ]
  },
  {
   "cell_type": "code",
   "execution_count": 124,
   "id": "73121087-ba49-4a9c-bf99-02b4100d9c3a",
   "metadata": {},
   "outputs": [
    {
     "name": "stdout",
     "output_type": "stream",
     "text": [
      "Train Scores\n",
      "accuracy:  0.5026091081593927\n",
      "recall:    0.5009487666034156\n",
      "Validation Scores\n",
      "accuracy:  0.4965229485396384\n",
      "recall:    0.5176991150442478\n",
      "Test Scores\n",
      "accuracy:  0.49235048678720444\n",
      "recall:    0.4811529933481153\n"
     ]
    },
    {
     "data": {
      "text/plain": [
       "(49.2, 48.1)"
      ]
     },
     "execution_count": 124,
     "metadata": {},
     "output_type": "execute_result"
    },
    {
     "data": {
      "image/png": "[encoded data removed]",
      "text/plain": [
       "<Figure size 432x432 with 2 Axes>"
      ]
     },
     "metadata": {
      "needs_background": "light"
     },
     "output_type": "display_data"
    },
    {
     "data": {
      "image/png": "[encoded data removed]",
      "text/plain": [
       "<Figure size 432x432 with 2 Axes>"
      ]
     },
     "metadata": {
      "needs_background": "light"
     },
     "output_type": "display_data"
    },
    {
     "data": {
      "image/png": "[encoded data removed]",
      "text/plain": [
       "<Figure size 432x432 with 2 Axes>"
      ]
     },
     "metadata": {
      "needs_background": "light"
     },
     "output_type": "display_data"
    }
   ],
   "source": [
    "pp2.fit(X_train2, y_train2)\n",
    "\n",
    "scores(pp1, X_train2, y_train2, 'Train')\n",
    "scores(pp1, X_val2, y_val2, 'Validation')\n",
    "scores(pp1, X_test2, y_test2, 'Test')"
   ]
  },
  {
   "cell_type": "markdown",
   "id": "0b2ce877-0107-44b4-96eb-40c3f1c5c491",
   "metadata": {
    "jp-MarkdownHeadingCollapsed": true,
    "tags": []
   },
   "source": [
    "### Model 1: Logistic Regression"
   ]
  },
  {
   "cell_type": "code",
   "execution_count": 125,
   "id": "f31e3d21-575d-418b-9aa2-d0f13b6a1684",
   "metadata": {
    "tags": []
   },
   "outputs": [],
   "source": [
    "pp1 = Pipeline(steps=[\n",
    "    ('c_trans', c_transform),\n",
    "    ('pca', PCA(n_components=max_feats_1, random_state=42)),\n",
    "    ('logreg', LogisticRegression(random_state=42)) \n",
    "    ])"
   ]
  },
  {
   "cell_type": "code",
   "execution_count": 126,
   "id": "eef8d74c-7d7c-494f-94e1-95b363bf38ea",
   "metadata": {},
   "outputs": [
    {
     "name": "stdout",
     "output_type": "stream",
     "text": [
      "Train Scores\n",
      "accuracy:  0.7096774193548387\n",
      "recall:    0.7556925996204934\n",
      "Validation Scores\n",
      "accuracy:  0.6027310658743203\n",
      "recall:    0.7123893805309734\n",
      "Test Scores\n",
      "accuracy:  0.6190415981792894\n",
      "recall:    0.6873614190687362\n"
     ]
    },
    {
     "data": {
      "text/plain": [
       "(61.9, 68.7)"
      ]
     },
     "execution_count": 126,
     "metadata": {},
     "output_type": "execute_result"
    },
    {
     "data": {
      "image/png": "[encoded data removed]",
      "text/plain": [
       "<Figure size 432x432 with 2 Axes>"
      ]
     },
     "metadata": {
      "needs_background": "light"
     },
     "output_type": "display_data"
    },
    {
     "data": {
      "image/png": "[encoded data removed]",
      "text/plain": [
       "<Figure size 432x432 with 2 Axes>"
      ]
     },
     "metadata": {
      "needs_background": "light"
     },
     "output_type": "display_data"
    },
    {
     "data": {
      "image/png": "[encoded data removed]",
      "text/plain": [
       "<Figure size 432x432 with 2 Axes>"
      ]
     },
     "metadata": {
      "needs_background": "light"
     },
     "output_type": "display_data"
    }
   ],
   "source": [
    "pp1.fit(X_train1, y_train1)\n",
    "\n",
    "scores(pp1, X_train1, y_train1, 'Train')\n",
    "scores(pp1, X_val1, y_val1, 'Validation')\n",
    "scores(pp1, X_test1, y_test1, 'Test')"
   ]
  },
  {
   "cell_type": "code",
   "execution_count": 127,
   "id": "7207bced-d634-4305-a8ae-e65e7b0703b7",
   "metadata": {},
   "outputs": [],
   "source": [
    "pp2 = Pipeline(steps=[\n",
    "    ('c_trans', c_transform),\n",
    "    ('pca', PCA(n_components=max_feats_2, random_state=42)),\n",
    "    ('logreg', LogisticRegression(random_state=42)) \n",
    "    ])"
   ]
  },
  {
   "cell_type": "code",
   "execution_count": 128,
   "id": "52a5d647-8cfd-4766-879a-da0f8914a55f",
   "metadata": {},
   "outputs": [
    {
     "name": "stdout",
     "output_type": "stream",
     "text": [
      "Train Scores\n",
      "accuracy:  0.7096774193548387\n",
      "recall:    0.7556925996204934\n",
      "Validation Scores\n",
      "accuracy:  0.6027310658743203\n",
      "recall:    0.7123893805309734\n",
      "Test Scores\n",
      "accuracy:  0.6190415981792894\n",
      "recall:    0.6873614190687362\n"
     ]
    },
    {
     "data": {
      "image/png": "[encoded data removed]",
      "text/plain": [
       "<Figure size 432x432 with 2 Axes>"
      ]
     },
     "metadata": {
      "needs_background": "light"
     },
     "output_type": "display_data"
    },
    {
     "data": {
      "image/png": "[encoded data removed]",
      "text/plain": [
       "<Figure size 432x432 with 2 Axes>"
      ]
     },
     "metadata": {
      "needs_background": "light"
     },
     "output_type": "display_data"
    },
    {
     "data": {
      "image/png": "[encoded data removed]",
      "text/plain": [
       "<Figure size 432x432 with 2 Axes>"
      ]
     },
     "metadata": {
      "needs_background": "light"
     },
     "output_type": "display_data"
    }
   ],
   "source": [
    "pp2.fit(X_train2, y_train2)\n",
    "\n",
    "scores(pp1, X_train2, y_train2, 'Train')\n",
    "scores(pp1, X_val2, y_val2, 'Validation')\n",
    "log_acc, log_recall = scores(pp1, X_test2, y_test2, 'Test')"
   ]
  },
  {
   "cell_type": "markdown",
   "id": "793eefd8-1faa-43ab-841f-4deb595b493e",
   "metadata": {
    "jp-MarkdownHeadingCollapsed": true,
    "tags": []
   },
   "source": [
    "### Model 2: Random Forest"
   ]
  },
  {
   "cell_type": "code",
   "execution_count": 129,
   "id": "2f599e5c-1136-4a77-b9ac-f0286148ba80",
   "metadata": {
    "tags": []
   },
   "outputs": [],
   "source": [
    "pp1 = Pipeline(steps=[\n",
    "    ('c_trans', c_transform),\n",
    "    ('pca', PCA(n_components=max_feats_1, random_state=42)),\n",
    "    ('rf', RandomForestClassifier(random_state=42)) \n",
    "    ])"
   ]
  },
  {
   "cell_type": "code",
   "execution_count": 130,
   "id": "5a48bf42-5052-4119-90a0-d1578d444d68",
   "metadata": {},
   "outputs": [],
   "source": [
    "grid = {'rf__max_depth': [3,5,8,10],\n",
    "        'rf__max_features': ['auto', 'sqrt'],\n",
    "        'rf__min_samples_leaf': [2, 5, 10],\n",
    "        'rf__min_samples_split': [2, 5, 7]}"
   ]
  },
  {
   "cell_type": "code",
   "execution_count": 132,
   "id": "7f57ca1b-079b-4b02-9a11-3bb23afe0770",
   "metadata": {},
   "outputs": [],
   "source": [
    "gs_rf = GridSearchCV(estimator=pp1, \n",
    "                      param_grid=grid, \n",
    "                      scoring='recall', \n",
    "                      cv=3,\n",
    "                      verbose=2,\n",
    "                      n_jobs=-1\n",
    "                     )"
   ]
  },
  {
   "cell_type": "code",
   "execution_count": 133,
   "id": "5b30c5ca-8f34-4b0b-83ac-e3e6590bfac1",
   "metadata": {},
   "outputs": [
    {
     "name": "stdout",
     "output_type": "stream",
     "text": [
      "Fitting 3 folds for each of 72 candidates, totalling 216 fits\n",
      "Train Scores\n",
      "accuracy:  0.6866698292220114\n",
      "recall:    0.8159392789373814\n",
      "Validation Scores\n",
      "accuracy:  0.4475913516247313\n",
      "recall:    0.8119469026548672\n",
      "Test Scores\n",
      "accuracy:  0.45328107219623215\n",
      "recall:    0.8203991130820399\n"
     ]
    },
    {
     "data": {
      "image/png": "[encoded data removed]",
      "text/plain": [
       "<Figure size 432x432 with 2 Axes>"
      ]
     },
     "metadata": {
      "needs_background": "light"
     },
     "output_type": "display_data"
    },
    {
     "data": {
      "image/png": "[encoded data removed]",
      "text/plain": [
       "<Figure size 432x432 with 2 Axes>"
      ]
     },
     "metadata": {
      "needs_background": "light"
     },
     "output_type": "display_data"
    },
    {
     "data": {
      "image/png": "[encoded data removed]",
      "text/plain": [
       "<Figure size 432x432 with 2 Axes>"
      ]
     },
     "metadata": {
      "needs_background": "light"
     },
     "output_type": "display_data"
    }
   ],
   "source": [
    "gs_rf.fit(X_train1, y_train1)\n",
    "\n",
    "scores(gs_rf, X_train1, y_train1, 'Train')\n",
    "scores(gs_rf, X_val1, y_val1, 'Validation')\n",
    "rf_acc, rf_recall = scores(gs_rf, X_test1, y_test1, 'Test')"
   ]
  },
  {
   "cell_type": "code",
   "execution_count": 63,
   "id": "277c1ce1-81b5-43b0-9381-aa9623f6df39",
   "metadata": {},
   "outputs": [
    {
     "data": {
      "text/plain": [
       "{'rf__max_depth': 10,\n",
       " 'rf__max_features': 'auto',\n",
       " 'rf__min_samples_leaf': 2,\n",
       " 'rf__min_samples_split': 2}"
      ]
     },
     "execution_count": 63,
     "metadata": {},
     "output_type": "execute_result"
    }
   ],
   "source": [
    "gs_rf.best_params_"
   ]
  },
  {
   "cell_type": "code",
   "execution_count": 64,
   "id": "e915a740-0a21-4029-914f-6b3ca6d9c627",
   "metadata": {},
   "outputs": [
    {
     "data": {
      "text/plain": [
       "\"\\n{'rf__max_depth': 8,\\n 'rf__max_features': 'auto',\\n 'rf__min_samples_leaf': 2,\\n 'rf__min_samples_split': 5}\\n\""
      ]
     },
     "execution_count": 64,
     "metadata": {},
     "output_type": "execute_result"
    }
   ],
   "source": [
    "\"\"\"\n",
    "{'rf__max_depth': 8,\n",
    " 'rf__max_features': 'auto',\n",
    " 'rf__min_samples_leaf': 2,\n",
    " 'rf__min_samples_split': 5}\n",
    "\"\"\""
   ]
  },
  {
   "cell_type": "markdown",
   "id": "4c631bca-7bec-4f47-b215-f35e88eea25e",
   "metadata": {
    "tags": []
   },
   "source": [
    "### Model 4: K-Nearest Neighbors"
   ]
  },
  {
   "cell_type": "code",
   "execution_count": 134,
   "id": "694c8e1a-7ad5-46b4-9e39-199b64f76e92",
   "metadata": {},
   "outputs": [],
   "source": [
    "pp1 = Pipeline(steps=[\n",
    "    ('c_trans', c_transform),\n",
    "    ('pca', PCA(n_components=max_feats_1, random_state=42)),\n",
    "    ('knn', KNeighborsClassifier())  \n",
    "    ])"
   ]
  },
  {
   "cell_type": "code",
   "execution_count": 135,
   "id": "1f27d965-2ac6-4375-b6bd-9a07dffec6d6",
   "metadata": {},
   "outputs": [],
   "source": [
    "grid = {'knn__n_neighbors': list(range(3, 10, 2)),\n",
    "        'knn__weights': ['uniform', 'distance']}"
   ]
  },
  {
   "cell_type": "code",
   "execution_count": 136,
   "id": "0002f97f-9d4e-4474-91d1-67fb28f4e12b",
   "metadata": {},
   "outputs": [],
   "source": [
    "gs_knn = GridSearchCV(estimator=pp1, \n",
    "                      param_grid=grid, \n",
    "                      scoring='recall', \n",
    "                      cv=3,\n",
    "                      verbose=2,\n",
    "                      n_jobs=-1\n",
    "                     )"
   ]
  },
  {
   "cell_type": "code",
   "execution_count": 137,
   "id": "9da7f2aa-2984-42ff-bbec-4defe4dbd72b",
   "metadata": {},
   "outputs": [
    {
     "name": "stdout",
     "output_type": "stream",
     "text": [
      "Fitting 3 folds for each of 8 candidates, totalling 24 fits\n",
      "Train Scores\n",
      "accuracy:  0.9985768500948766\n",
      "recall:    0.9985768500948766\n",
      "Validation Scores\n",
      "accuracy:  0.5670754836262486\n",
      "recall:    0.6261061946902655\n",
      "Test Scores\n",
      "accuracy:  0.5757997218358831\n",
      "recall:    0.6097560975609756\n"
     ]
    },
    {
     "data": {
      "image/png": "[encoded data removed]",
      "text/plain": [
       "<Figure size 432x432 with 2 Axes>"
      ]
     },
     "metadata": {
      "needs_background": "light"
     },
     "output_type": "display_data"
    },
    {
     "data": {
      "image/png": "[encoded data removed]",
      "text/plain": [
       "<Figure size 432x432 with 2 Axes>"
      ]
     },
     "metadata": {
      "needs_background": "light"
     },
     "output_type": "display_data"
    },
    {
     "data": {
      "image/png": "[encoded data removed]",
      "text/plain": [
       "<Figure size 432x432 with 2 Axes>"
      ]
     },
     "metadata": {
      "needs_background": "light"
     },
     "output_type": "display_data"
    }
   ],
   "source": [
    "gs_knn.fit(X_train1, y_train1)\n",
    "\n",
    "scores(gs_knn, X_train1, y_train1, 'Train')\n",
    "scores(gs_knn, X_val1, y_val1, 'Validation')\n",
    "knn_acc, knn_recall = scores(gs_knn, X_test1, y_test1, 'Test')"
   ]
  },
  {
   "cell_type": "code",
   "execution_count": 138,
   "id": "6412347c-cf5f-418a-a176-c0cb8320070a",
   "metadata": {},
   "outputs": [
    {
     "data": {
      "text/plain": [
       "{'knn__n_neighbors': 9, 'knn__weights': 'distance'}"
      ]
     },
     "execution_count": 138,
     "metadata": {},
     "output_type": "execute_result"
    }
   ],
   "source": [
    "gs_knn.best_params_"
   ]
  },
  {
   "cell_type": "code",
   "execution_count": 139,
   "id": "f217985e-6467-4f65-8071-8bfae4c1ce76",
   "metadata": {},
   "outputs": [
    {
     "data": {
      "text/plain": [
       "\"\\n{'knn__n_neighbors': 9, 'knn__weights': 'uniform'}\\n\""
      ]
     },
     "execution_count": 139,
     "metadata": {},
     "output_type": "execute_result"
    }
   ],
   "source": [
    "\"\"\"\n",
    "{'knn__n_neighbors': 9, 'knn__weights': 'uniform'}\n",
    "\"\"\""
   ]
  },
  {
   "cell_type": "markdown",
   "id": "883c9811-36ba-4510-99f9-ad1417abf18c",
   "metadata": {
    "tags": []
   },
   "source": [
    "### Model 5: Decision Tree Model"
   ]
  },
  {
   "cell_type": "code",
   "execution_count": 140,
   "id": "5edc5775-d9ae-48da-b754-c460a1b2bd47",
   "metadata": {},
   "outputs": [],
   "source": [
    "pp1 = Pipeline(steps=[\n",
    "    ('c_trans', c_transform),\n",
    "    ('pca', PCA(n_components=max_feats_1, random_state=42)),\n",
    "    ('dt', DecisionTreeClassifier(random_state=42))  \n",
    "    ])"
   ]
  },
  {
   "cell_type": "code",
   "execution_count": 141,
   "id": "6453519e-6e8d-4bc6-8d51-54d6f0e17f97",
   "metadata": {},
   "outputs": [],
   "source": [
    "grid = {'dt__criterion': ['gini', 'entropy'],\n",
    "        'dt__max_depth': np.arange(1,16, 5),\n",
    "        'dt__min_samples_split': np.arange(40, 101, 20),\n",
    "        'dt__min_samples_leaf': np.arange(40, 101,20)\n",
    "       }"
   ]
  },
  {
   "cell_type": "code",
   "execution_count": 142,
   "id": "ce2bc1ee-ef04-4dbd-8f16-95f4288d8fd7",
   "metadata": {},
   "outputs": [],
   "source": [
    "gs_dt = GridSearchCV(estimator=pp1, \n",
    "                      param_grid=grid, \n",
    "                      scoring='recall', \n",
    "                      cv=3,\n",
    "                      verbose=2,\n",
    "                      n_jobs=-1\n",
    "                     )"
   ]
  },
  {
   "cell_type": "code",
   "execution_count": null,
   "id": "42d88799-1fe0-43d3-b687-3ebc413e335b",
   "metadata": {},
   "outputs": [
    {
     "name": "stdout",
     "output_type": "stream",
     "text": [
      "Fitting 3 folds for each of 96 candidates, totalling 288 fits\n"
     ]
    }
   ],
   "source": [
    "gs_dt.fit(X_train1, y_train1)\n",
    "\n",
    "scores(gs_dt, X_train1, y_train1, 'Train')\n",
    "scores(gs_dt, X_val1, y_val1, 'Validation')\n",
    "dt_acc, dt_recall = scores(gs_dt, X_test1, y_test1, 'Test')"
   ]
  },
  {
   "cell_type": "code",
   "execution_count": null,
   "id": "b739f157-fc53-4a27-b293-5a9ef3aacb1f",
   "metadata": {},
   "outputs": [],
   "source": [
    "gs_dt.best_params_"
   ]
  },
  {
   "cell_type": "code",
   "execution_count": 76,
   "id": "6c9be34d-827f-4fd5-8bdb-f9a264596b27",
   "metadata": {},
   "outputs": [
    {
     "data": {
      "text/plain": [
       "\"\\n{'dt__criterion': 'entropy',\\n 'dt__max_depth': 6,\\n 'dt__min_samples_leaf': 40,\\n 'dt__min_samples_split': 100\\n\""
      ]
     },
     "execution_count": 76,
     "metadata": {},
     "output_type": "execute_result"
    }
   ],
   "source": [
    "\"\"\"\n",
    "{'dt__criterion': 'entropy',\n",
    " 'dt__max_depth': 6,\n",
    " 'dt__min_samples_leaf': 40,\n",
    " 'dt__min_samples_split': 100\n",
    "\"\"\""
   ]
  },
  {
   "cell_type": "markdown",
   "id": "8e3d68e5-202c-452c-9aab-55c280be12f5",
   "metadata": {
    "tags": []
   },
   "source": [
    "### Model 6: Gradient Boost"
   ]
  },
  {
   "cell_type": "code",
   "execution_count": null,
   "id": "28aa563c-8ed2-4da8-a1db-f1350a3399c0",
   "metadata": {},
   "outputs": [],
   "source": [
    "pp1 = Pipeline(steps=[\n",
    "    ('c_trans', c_transform),\n",
    "    ('pca', PCA(n_components=max_feats_1, random_state=42)),\n",
    "    ('gbc', GradientBoostingClassifier(random_state=42))  \n",
    "    ])"
   ]
  },
  {
   "cell_type": "code",
   "execution_count": null,
   "id": "ff3b6e21-53fc-48ee-873a-ffc6e8fb1be8",
   "metadata": {},
   "outputs": [],
   "source": [
    "grid = {'gbc__max_features': ['auto','log2'],\n",
    "        'gbc__min_samples_split':[10, 50, 100, 1000],\n",
    "        'gbc__max_depth':[3, 5, 10, 20]\n",
    "       }"
   ]
  },
  {
   "cell_type": "code",
   "execution_count": null,
   "id": "9350c7f6-82f9-4a4e-9148-3d1f52f3625c",
   "metadata": {},
   "outputs": [],
   "source": [
    "gs_gbc = GridSearchCV(estimator=pp1, \n",
    "                      param_grid=grid, \n",
    "                      scoring='recall', \n",
    "                      cv=3,\n",
    "                      verbose=2,\n",
    "                      n_jobs=-1\n",
    "                     )"
   ]
  },
  {
   "cell_type": "code",
   "execution_count": null,
   "id": "219a9f55-5e1b-4af8-8ddf-1d8f29ae462b",
   "metadata": {},
   "outputs": [],
   "source": [
    "gs_gbc.fit(X_train1, y_train1)\n",
    "\n",
    "scores(gs_gbc, X_train1, y_train1, 'Train')\n",
    "scores(gs_gbc, X_val1, y_val1, 'Validation')\n",
    "gbc_acc, gbc_recall = scores(gs_gbc, X_test1, y_test1, 'Test')"
   ]
  },
  {
   "cell_type": "code",
   "execution_count": null,
   "id": "bdde2cf2-8b17-433c-a9c8-1decd55465b8",
   "metadata": {},
   "outputs": [],
   "source": [
    "gs_gbc.best_params_"
   ]
  },
  {
   "cell_type": "code",
   "execution_count": 82,
   "id": "0593ed3a-a3a8-460a-95f9-edb66b0d3ed6",
   "metadata": {},
   "outputs": [
    {
     "data": {
      "text/plain": [
       "\"\\n{'gbc__max_depth': 3,\\n 'gbc__max_features': 'auto',\\n 'gbc__min_samples_split': 1000\\n\""
      ]
     },
     "execution_count": 82,
     "metadata": {},
     "output_type": "execute_result"
    }
   ],
   "source": [
    "\"\"\"\n",
    "{'gbc__max_depth': 3,\n",
    " 'gbc__max_features': 'auto',\n",
    " 'gbc__min_samples_split': 1000\n",
    "\"\"\""
   ]
  }
 ],
 "metadata": {
  "kernelspec": {
   "display_name": "main_env",
   "language": "python",
   "name": "main_env"
  },
  "language_info": {
   "codemirror_mode": {
    "name": "ipython",
    "version": 3
   },
   "file_extension": ".py",
   "mimetype": "text/x-python",
   "name": "python",
   "nbconvert_exporter": "python",
   "pygments_lexer": "ipython3",
   "version": "3.8.11"
  }
 },
 "nbformat": 4,
 "nbformat_minor": 5
}

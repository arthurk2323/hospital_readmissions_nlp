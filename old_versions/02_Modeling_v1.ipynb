{
 "cells": [
  {
   "cell_type": "markdown",
   "id": "f5c1c35d-ee25-4265-b829-892aef64aeb8",
   "metadata": {},
   "source": [
    "# Discharge Notes and Readmission Rates: Modeling"
   ]
  },
  {
   "cell_type": "markdown",
   "id": "5c943f1f-751d-4fa7-80c5-237a62832447",
   "metadata": {},
   "source": [
    "This notebook is for the modeling the cleaned dataset."
   ]
  },
  {
   "cell_type": "markdown",
   "id": "bfc79e42-bcde-4100-bda2-dabace9a8e36",
   "metadata": {
    "jp-MarkdownHeadingCollapsed": true,
    "tags": []
   },
   "source": [
    "## Import"
   ]
  },
  {
   "cell_type": "code",
   "execution_count": 1,
   "id": "3a5e8556-65a6-41c7-838f-8de9ee0a22a3",
   "metadata": {},
   "outputs": [],
   "source": [
    "import pandas as pd\n",
    "import nltk\n",
    "from nltk.probability import FreqDist\n",
    "from nltk.corpus import stopwords\n",
    "from nltk.tokenize import regexp_tokenize, word_tokenize, RegexpTokenizer\n",
    "from nltk import pos_tag\n",
    "from nltk.corpus import wordnet\n",
    "import matplotlib.pyplot as plt\n",
    "import string\n",
    "import re\n",
    "from nltk.stem import WordNetLemmatizer \n",
    "\n",
    "from sklearn.feature_extraction.text import CountVectorizer, TfidfVectorizer,\\\n",
    "HashingVectorizer\n",
    "from sklearn.model_selection import train_test_split\n",
    "\n",
    "from sklearn.ensemble import RandomForestClassifier\n",
    "from sklearn.naive_bayes import MultinomialNB\n",
    "from sklearn.metrics import accuracy_score, precision_score, confusion_matrix\n",
    "from sklearn.dummy import DummyClassifier\n",
    "\n",
    "#import xgboost as xg\n",
    "from sklearn.dummy import DummyClassifier\n",
    "from sklearn.ensemble import BaggingClassifier, RandomForestClassifier\n",
    "from sklearn.tree import DecisionTreeClassifier\n",
    "from sklearn.model_selection import train_test_split, cross_val_score, GridSearchCV\n",
    "from sklearn.preprocessing import StandardScaler, OneHotEncoder\n",
    "from sklearn.linear_model import LogisticRegression\n",
    "from sklearn.metrics import accuracy_score, precision_score, recall_score, log_loss, plot_confusion_matrix\n",
    "from sklearn.pipeline import Pipeline \n",
    "from sklearn.compose import ColumnTransformer\n",
    "from sklearn.neighbors import KNeighborsClassifier\n",
    "from sklearn.ensemble import AdaBoostClassifier, GradientBoostingClassifier, VotingClassifier\n",
    "#from imblearn.over_sampling import SMOTENC\n",
    "#from imblearn.pipeline import Pipeline as imbpipeline"
   ]
  },
  {
   "cell_type": "code",
   "execution_count": 2,
   "id": "94e64ea3-8310-464a-8490-2402cde0391b",
   "metadata": {},
   "outputs": [],
   "source": [
    "#set the pandas display column width as max to read in all the text\n",
    "pd.set_option('display.max_colwidth', None)"
   ]
  },
  {
   "cell_type": "code",
   "execution_count": 17,
   "id": "edb16481-4929-43d4-8e96-c17b5a77ca58",
   "metadata": {},
   "outputs": [],
   "source": [
    "class LemmaTokenizer:\n",
    "    def __init__(self):\n",
    "        self.wnl = WordNetLemmatizer()\n",
    "    def __call__(self, doc):\n",
    "        return [self.wnl.lemmatize(t) for t in word_tokenize(doc)]"
   ]
  },
  {
   "cell_type": "markdown",
   "id": "10913ee8-b495-4e99-9003-df9679a7b01b",
   "metadata": {
    "tags": []
   },
   "source": [
    "## Functions"
   ]
  },
  {
   "cell_type": "code",
   "execution_count": 3,
   "id": "20f1a8d0-4b0c-4c19-a709-6ca3d8200344",
   "metadata": {},
   "outputs": [],
   "source": [
    "def vectorizing(vectorizer, train, val, test):\n",
    "    vec_train = vectorizer.fit_transform(train['TEXT'])\n",
    "    vec_val = vectorizer.transform(val['TEXT'])\n",
    "    vec_test = vectorizer.transform(test['TEXT'])\n",
    "    vec_train_df1 = pd.DataFrame(vec_train.todense(),columns=vectorizer.get_feature_names())\n",
    "    vec_val_df1 = pd.DataFrame(vec_val.todense(),columns=vectorizer.get_feature_names())\n",
    "    vec_test_df1 = pd.DataFrame(vec_test.todense(),columns=vectorizer.get_feature_names())\n",
    "    vec_train_df1.reset_index(drop=True, inplace=True)\n",
    "    vec_val_df1.reset_index(drop=True, inplace=True)\n",
    "    vec_test_df1.reset_index(drop=True, inplace=True)\n",
    "    train2 = train.drop('TEXT', axis=1).reset_index(drop=True)\n",
    "    val2 = val.drop('TEXT', axis=1).reset_index(drop=True)\n",
    "    test2 = test.drop('TEXT', axis=1).reset_index(drop=True)\n",
    "    vec_train_df2 = train2.merge(vec_train_df1, left_index=True, right_index=True)\n",
    "    vec_val_df2 = val2.merge(vec_val_df1, left_index=True, right_index=True)\n",
    "    vec_test_df2 = test2.merge(vec_test_df1, left_index=True, right_index=True)\n",
    "    return vec_train_df1, vec_val_df1, vec_test_df1, vec_train_df2, vec_val_df2, vec_test_df2"
   ]
  },
  {
   "cell_type": "code",
   "execution_count": 4,
   "id": "3d2e2740-785f-4934-8ce7-220183f99db7",
   "metadata": {},
   "outputs": [],
   "source": [
    "def scores(model, X, y, set_type):\n",
    "    pred = model.predict(X)\n",
    "    \n",
    "    print(\"{} Scores\".format(set_type))\n",
    "    print(\"accuracy: \", accuracy_score(y, pred))\n",
    "    print(\"recall:   \", recall_score(y, pred))\n",
    "    plot_confusion_matrix(model, X, y)"
   ]
  },
  {
   "cell_type": "markdown",
   "id": "bf324ee3-1272-4ed8-a2d8-f1e4c9aa3207",
   "metadata": {
    "jp-MarkdownHeadingCollapsed": true,
    "tags": []
   },
   "source": [
    "## Reviewing the Data"
   ]
  },
  {
   "cell_type": "code",
   "execution_count": 5,
   "id": "a7620d11-107a-4485-93ce-96c9dfcdbb0e",
   "metadata": {},
   "outputs": [],
   "source": [
    "df = pd.read_csv('data/admissions_cleaned.csv')"
   ]
  },
  {
   "cell_type": "code",
   "execution_count": 6,
   "id": "8581e64b-96a7-4450-87c4-54b93fc812d0",
   "metadata": {},
   "outputs": [
    {
     "name": "stdout",
     "output_type": "stream",
     "text": [
      "<class 'pandas.core.frame.DataFrame'>\n",
      "RangeIndex: 45591 entries, 0 to 45590\n",
      "Data columns (total 17 columns):\n",
      " #   Column              Non-Null Count  Dtype \n",
      "---  ------              --------------  ----- \n",
      " 0   ADMISSION_TYPE      45591 non-null  object\n",
      " 1   ADMISSION_LOCATION  45591 non-null  object\n",
      " 2   DISCHARGE_LOCATION  45591 non-null  object\n",
      " 3   INSURANCE           45591 non-null  object\n",
      " 4   LANGUAGE            45591 non-null  object\n",
      " 5   RELIGION            45591 non-null  object\n",
      " 6   MARITAL_STATUS      45591 non-null  object\n",
      " 7   ETHNICITY           45591 non-null  object\n",
      " 8   DIAGNOSIS           45591 non-null  object\n",
      " 9   READMISSION         45591 non-null  int64 \n",
      " 10  GENDER              45591 non-null  object\n",
      " 11  AGE                 45591 non-null  int64 \n",
      " 12  TEXT                45591 non-null  object\n",
      " 13  CPT_CD              45591 non-null  object\n",
      " 14  DIAG_ICD9_CODE      45590 non-null  object\n",
      " 15  DRG_CODE            45591 non-null  object\n",
      " 16  PROCED_ICD9_CODE    45591 non-null  object\n",
      "dtypes: int64(2), object(15)\n",
      "memory usage: 5.9+ MB\n"
     ]
    }
   ],
   "source": [
    "df.info()"
   ]
  },
  {
   "cell_type": "code",
   "execution_count": 7,
   "id": "c25674a7-1ce5-47bb-a4da-e2f94a8845ec",
   "metadata": {},
   "outputs": [],
   "source": [
    "sw = stopwords.words('english')"
   ]
  },
  {
   "cell_type": "code",
   "execution_count": 8,
   "id": "ed39f6ac-29ca-4c8b-8ed5-275cb13547aa",
   "metadata": {},
   "outputs": [],
   "source": [
    "sample_doc = df['TEXT'][0]"
   ]
  },
  {
   "cell_type": "code",
   "execution_count": 9,
   "id": "00433557-e2a1-45b2-974f-7696a6be057e",
   "metadata": {},
   "outputs": [
    {
     "data": {
      "text/plain": [
       "\"Admission Date:  [**2100-6-7**]              Discharge Date:   [**2100-6-9**]\\n\\nDate of Birth:  [**2044-4-23**]             Sex:   M\\n\\nService: MEDICINE\\n\\nAllergies:\\nNo Known Allergies / Adverse Drug Reactions\\n\\nAttending:[**First Name3 (LF) 2024**]\\nChief Complaint:\\ndizziness\\n\\nMajor Surgical or Invasive Procedure:\\nNONE\\n\\n\\nHistory of Present Illness:\\nHistory of Present Illness: Mr. [**Known lastname 83415**] is a 56 year old male\\nwith PMH notable for metastatic cancer (unknown primary)\\nundergoing chemo now presenting with lighheadedness and\\nhemoptysis. Pt is undergoing chemo with gemcitabine ([**2100-5-24**],\\n[**2100-5-31**]) for malignant neoplasm of unknown primary with multiple\\nbone, muscle, and soft-tissue metastases. He came to the\\nhospital to start RT to L femur today.  Pt reports a couple days\\nof lightheadedness, nonpositional.  Pt reports one episode of\\nhemoptysis [**2100-6-3**] but none since then. No sig lung lesions on\\nchest CT [**2100-5-27**]. Was scheduled to have transfusion on the day\\nof admission. Orthostatics at Dr.[**Name (NI) 83416**] office were Lying BP\\n94/52, pulse regular at 64. Standing BP 90/52; pulse 66.  In the\\nED, initial VS were: T98, P50, RR16, BP87/43, O2 100% RA. (Per\\nDr. [**Last Name (STitle) **] (rad/onc) pt generally has SBP 90s-100s). He received\\n5.5L NS (put out 2.5L urine). He was started on Vanc infustion\\nbut developed red itchy arm and it was stopped. He was given\\nbenadryl with good effect. Pt did receive Cefepime 2g IV. Labs\\nnotable for a white count of 2.2, Hct 22.9 (Hct 25 on [**5-31**]).\\nChemistries were unremarkable. CXR was clear. CTA showed no PE,\\nstable ground glass opacities and lytic lesions. LENIs negative\\nfor DVT. On transfer, pt's VS were T 97.6, P62, R16, BP98/59, O2\\n99% on RA.  On arrival to the MICU, patient's VS. T98.1, HR68,\\nBP101/61, P70, 98%RA.  Pt denies fever, chills, night sweats,\\ncough, nausea/vomiting, diarrhea, dysuria. Endorses constipation\\nwith last BM two days ago. Denies bloody stool or melena. BP was\\nin the 80's systolic. He received 5L of fluid since admission.\\n2.5L urine output in the ED. One unit PRBCS was given for\\nchronic anemia.  HCT 20.6 on admission, bumped to 24 with the\\nunit of blood. CTA ruled out PE. No lung mets but there are\\nground glass opacities but similar to prior study 2 wks ago for\\nstaging purposes.  Blood cultures were sent.  No fevers.\\nBaseline leukopenia. bactrim and keflex for LLE cellulitis, was\\nbeing treated prior to admission.\\n\\n\\nPast Medical History:\\n1. Hypercholesterolemia.\\n2. Tobacco use (30 pack years).\\n3. Hypothyroidism.\\n4. Asthma.\\n5. Depression.\\n6. Gastroesophageal reflux.\\n7. History of normal stress test.\\n8. Recently evaluated by vascular surgery, imaging showed\\natherosclerotic plaque in the infrarenal aorta which causes a\\nmoderate to moderately severe stenosis.\\n9. Recently dx w/HCAP by his PCP, [**8-20**] = day [**4-25**] of\\nlevofloxacin.\\n.\\nPAST SURGICAL HISTORY:\\n1. Bilateral inguinal hernia repair.\\n2. Umbilical hernia repair.\\n3. Epigastric hernia repair.\\n4. Endoscopy.\\n\\nSocial History:\\nThe patient used to work in construction and is a facilities\\nmanager. Currently disabled. He is able to walk except as\\ndescribed above. He uses a cane when necessary. He currently\\nsmokes a pack a day and has done so for 30 years. He drinks\\nrarely.\\n\\n\\nFamily History:\\nThere is a family history of heart disease, diabetes and\\nhypercholesterolemia.\\n\\nPhysical Exam:\\nADMISSION PHYSICAL EXAM:\\nT98, P50, RR16, BP87/43, O2 100% RA.\\nGeneral: Alert, oriented, no acute distress\\nCV: Regular rate and rhythm, no m/r/g\\nLungs: Clear to auscultation bilaterally, no wheezes, rales,\\nronchi\\nAbdomen: +BS, soft, non-distended, mild tenderness to palpation,\\nno rebound or guarding\\nGU: no foley\\nExt: Warm, well perfused, 2+ pulses, no clubbing, cyanosis or\\nedema\\n\\nDISCHARGE PHYSICAL EXAM:\\nT98.5, P54, RR16, BP 108/75, O2 99% RA.\\nGeneral: Alert, oriented, no acute distress\\nCV: Regular rate and rhythm, no m/r/g\\nLungs: Clear to auscultation bilaterally, no wheezes, rales,\\nronchi\\nAbdomen: +BS, soft, non-distended, mild tenderness to palpation,\\nno rebound or guarding\\nGU: no foley\\nExt: Warm, well perfused, 2+ pulses, no clubbing, cyanosis or\\nedema\\n\\n\\nPertinent Results:\\n#ADMISSION LABS:\\n[**2100-6-7**] 10:20AM BLOOD WBC-2.2*# RBC-2.46*# Hgb-7.4*# Hct-22.9*\\nMCV-93# MCH-30.2# MCHC-32.4 RDW-17.9* Plt Ct-45*#\\n[**2100-6-7**] 10:20AM BLOOD Neuts-62 Bands-1 Lymphs-30 Monos-4 Eos-3\\nBaso-0 Atyps-0 Metas-0 Myelos-0\\n[**2100-6-7**] 10:20AM BLOOD Hypochr-2+ Anisocy-1+ Poiklo-1+\\nMacrocy-1+ Microcy-NORMAL Polychr-NORMAL Ovalocy-1+ Tear Dr[**Last Name (STitle) **]1+\\n[**2100-6-7**] 10:20AM BLOOD Plt Smr-VERY LOW Plt Ct-45*#\\n[**2100-6-7**] 10:20AM BLOOD Glucose-103* UreaN-8 Creat-0.9 Na-137\\nK-3.9 Cl-101 HCO3-27 AnGap-13\\n[**2100-6-7**] 10:20AM BLOOD Calcium-8.6 Mg-1.9\\n[**2100-6-7**] 10:20AM BLOOD Cortsol-11.8\\n\\n#PERTINENT LABS:\\n[**2100-6-8**] 12:38PM BLOOD Hct-24.1*\\n[**2100-6-8**] 06:02AM BLOOD WBC-2.5* RBC-2.55* Hgb-7.8* Hct-24.0*\\nMCV-94 MCH-30.7 MCHC-32.5 RDW-17.3* Plt Ct-32*\\n[**2100-6-8**] 12:34AM BLOOD WBC-2.0* RBC-2.22* Hgb-6.7* Hct-20.6*\\nMCV-93 MCH-30.4 MCHC-32.7 RDW-17.6* Plt Ct-32*\\n[**2100-6-8**] 06:02AM BLOOD Plt Ct-32*\\n[**2100-6-8**] 12:34AM BLOOD Plt Ct-32*\\n[**2100-6-8**] 12:34AM BLOOD Ret Aut-0.2*\\n[**2100-6-8**] 12:34AM BLOOD Glucose-91 UreaN-7 Creat-0.8 Na-141 K-4.3\\nCl-108 HCO3-24 AnGap-13\\n[**2100-6-8**] 12:34AM BLOOD ALT-57* AST-56* AlkPhos-75 TotBili-0.1\\n[**2100-6-8**] 12:34AM BLOOD Albumin-3.2* Calcium-8.1* Phos-2.4*\\nMg-2.0 Iron-33*\\n[**2100-6-8**] 12:34AM BLOOD calTIBC-176* Ferritn-452* TRF-135*\\n[**2100-6-8**] 02:46AM URINE Color-Straw Appear-Clear Sp [**Last Name (un) **]-1.013\\n[**2100-6-8**] 02:46AM URINE Blood-TR Nitrite-NEG Protein-NEG\\nGlucose-NEG Ketone-NEG Bilirub-NEG Urobiln-NEG pH-6.5 Leuks-NEG\\n[**2100-6-8**] 02:46AM URINE RBC-3* WBC-<1 Bacteri-NONE Yeast-NONE\\nEpi-0\\n\\n#DISCHARGE LABS:\\n[**2100-6-9**] 06:35AM BLOOD WBC-3.1* RBC-2.57* Hgb-7.9* Hct-23.9*\\nMCV-93 MCH-30.9 MCHC-33.2 RDW-18.1* Plt Ct-30*\\n[**2100-6-9**] 06:35AM BLOOD Plt Ct-30*\\n[**2100-6-9**] 06:35AM BLOOD Glucose-107* UreaN-9 Creat-1.0 Na-138\\nK-4.4 Cl-102 HCO3-28 AnGap-12\\n[**2100-6-9**] 06:35AM BLOOD Calcium-8.6 Phos-2.8 Mg-1.9\\n\\n#MICROBIOLOGY:\\n[][**2100-6-7**] 6:30 pm BLOOD CULTURE\\n   Blood Culture, Routine (Pending):\\n[][**2100-6-8**] 2:46 am URINE      Source: CVS.\\n                            **FINAL REPORT [**2100-6-9**]**\\n   URINE CULTURE (Final [**2100-6-9**]):    NO GROWTH.\\n\\n#RADIOLOGY/STUDIES:\\n[][**6-7**] LENIs - no evidence DVT\\n\\n[][**6-7**] CT chest/abdomen 1. No pulmonary embolism or acute\\nintra-abdominal process. 2. Numerous bilateral bronchovascular\\nground-glass opacities, right greater than left, similar to or\\nminimally increased from [**2100-5-27**]. Smooth interlobular\\nseptal thickening and slight bronchial wall thickening. This\\ncombination of findings is potentially due to bronchopneumonia\\nwith a component of pulmonary congestion. However, organizing\\npneumonia or small foci of hemorrhage cannot be excluded.\\n3. Numerous lytic osseous lesions, similar to prior, involving\\nlower lumbar vertebra and pelvic bones. Other known osseous\\nlesions are not imaged. 4. Eccentric soft and calcified\\nabdominal aortic plaques.\\n\\n[][**6-7**] CXR: no intrathoracic process\\n\\n\\nBrief Hospital Course:\\n[]BRIEF CLINICAL HISTORY:\\n56 year old male with PMH notable for metastatic cancer (unknown\\nprimary) undergoing chemo, being treated for LE cullitis,\\npresenting with lighheadedness [**12-17**] hypotension, s/p ICU\\ntransfer.  At the time of discharge, patient is afebrile,\\nnormotensive and not orthostatic.\\n\\n[]ISSUES:\\n# Hypotension: Pt presented to the ED with lightheadedness and\\nwas found to have systolic blood pressures in the 80s. The\\npatient was fluid resuscited with good effect. Initially it was\\nunclear if his presentation was infectious in etiology. Blood\\ncultures from [**6-3**] at [**Location (un) **] were NGTD. CT chest unchanged from\\nbaseline. Although afebrile, pt may not have been able to mount\\na white count and therefore might have remained afebrile despite\\ninfection. Pt was at baseline blood pressure after fluids in ED.\\nLikely not obstructive shock as pt with negative CTA and\\nnegative LENIs. Cardiogenic shock also unlikely given normal\\nbaseline EKG. Hypovolemic shock not likely as good urine output\\nwith IVF.  Urine culture showed no growth.  He remained afebrile\\nuntil discharge and was no longer orthostatic.\\n\\n# Anemia: Unclear baseline - did have Hct of 29 a year ago. Pt\\nhad episode of hemoptysis 4 days prior to admission. Pt had Hct\\nof 25 one week ago and is now at 23. After significant fluid\\nresuscitation in ED will likely have dilutional anemia. H/o\\nrectal bleeding so this was considered a possible source. There\\nalso [**Month (only) 116**] have been bleeding into his mets. The patient was also\\non gemcitabine which suppresses the bone marrow which is\\nconsistent with his low retic count of 0.2.  Iron studies c/w\\nanemia of chronic inflammation (normocytic, high ferritin, low\\nTIBC and low transferrin).  HCT remained stable since transfer\\nfrom ICU to floor (24 --> 23.9).\\n\\n# Cellulitis: patient began treatment with bactrim as an\\noutpatient less than a week before admission.  There was\\nmoderate improvement in the erythema and swelling of the left\\nlower extremity by the time of admission.  He was started on\\ncombination therapy with bactrim/keflex and had substantial\\nimprovement in his cellulits that largely resolved by the time\\nof discharge.  He was sent home to finish his course of\\nantibiotics and f/u with his PCP.\\n\\n# Malignant epithelioid cancer of unknown primary (possibly\\ncarcinoma per path report):  Patient received 2nd of 8 scheduled\\nXRT while in house with f/u to complete the final 6 sessions.\\nPatient is to f/u with primary oncologist as an outpatient.\\n\\n# Hypothyroidism:\\n-Continued on outpatient levothyroxine\\n\\n# Asthma:\\n-Continued on outpatient flovent, albuterol PRN\\n\\n# Depression:\\n-Continued on outpatient fluoxetine\\n\\n# GERD:\\n-Continued on outpatient pantoprazole\\n\\n# HLD:\\n-Continued outpatient simvastatin, niacin\\n\\n[]TRANSITIONAL ISSUES:\\n1.) patient with neoplasm of unknown primary that will be\\ninvestigated by primary oncologist.\\n2.) PCP will follow up for resolution of cellulitis.\\n\\nMedications on Admission:\\nPreadmissions medications listed are incomplete and require\\nfuther investigation.  Information was obtained from\\nPatientwebOMR.\\n1. Albuterol Inhaler 2 PUFF IH Q4H:PRN SOB or wheeze\\n2. Fluoxetine 40 mg PO DAILY\\n3. Fluticasone Propionate NASAL 2 SPRY NU DAILY\\n4. Fluticasone Propionate 110mcg 2 PUFF IH [**Hospital1 **]\\n5. Gabapentin 300 mg PO TID\\n6. Levothyroxine Sodium 137 mcg PO DAILY\\n7. Lorazepam 1 mg PO Q8H:PRN nausea, anxiety or insomnia\\n8. Milk of Magnesia 15-30 mL PO PRN constipation\\n9. Morphine SR (MS Contin) 90 mg PO Q8H\\n10. Ondansetron 8 mg PO Q 8H\\n11. OxycoDONE (Immediate Release)  10-20 mg PO Q4-6HRS PRN pain\\n12. Pantoprazole 40 mg PO Q12H\\n13. Prochlorperazine 10 mg PO Q8H:PRN nausea\\n14. Simvastatin 40 mg PO DAILY\\n15. Docusate Sodium 100 mg PO TID\\n16. Ibuprofen 200-400 mg PO Q4-6HRS PRN pain\\n17. Magnesium Oxide 400 mg PO BID\\n18. Niacin 500 mg PO DAILY\\n19. Fish Oil (Omega 3) 1000 mg PO TID\\n20. Senna 1 TAB PO HS\\n\\n\\nDischarge Medications:\\n1. Albuterol Inhaler 2 PUFF IH Q4H:PRN SOB or wheeze\\n2. Docusate Sodium 100 mg PO TID\\n3. Fish Oil (Omega 3) 1000 mg PO TID\\n4. Fluoxetine 40 mg PO DAILY\\n5. Fluticasone Propionate 110mcg 2 PUFF IH [**Hospital1 **]\\n6. Fluticasone Propionate NASAL 2 SPRY NU DAILY\\n7. Gabapentin 300 mg PO TID\\n8. Ibuprofen 200-400 mg PO Q4-6HRS PRN pain\\n9. Levothyroxine Sodium 137 mcg PO DAILY\\n10. Lorazepam 1 mg PO Q8H:PRN nausea, anxiety or insomnia\\n11. Magnesium Oxide 400 mg PO BID\\n12. Milk of Magnesia 15-30 mL PO PRN constipation\\n13. Morphine SR (MS Contin) 90 mg PO Q8H\\n14. Niacin 500 mg PO DAILY\\n15. Ondansetron 8 mg PO Q 8H\\n16. OxycoDONE (Immediate Release)  10-20 mg PO Q4-6HRS PRN pain\\n17. Pantoprazole 40 mg PO Q12H\\n18. Prochlorperazine 10 mg PO Q8H:PRN nausea\\n19. Senna 1 TAB PO HS\\n20. Simvastatin 40 mg PO DAILY\\n21. Cephalexin 500 mg PO Q12H\\nRX *cephalexin 500 mg 1 tablet(s) by mouth twice a day Disp #*4\\nTablet Refills:*0\\n22. Sulfameth/Trimethoprim DS 1 TAB PO BID\\nRX *sulfamethoxazole-trimethoprim 400 mg-80 mg 1 tablet(s) by\\nmouth twice a day Disp #*4 Tablet Refills:*0\\n\\n\\nDischarge Disposition:\\nHome\\n\\nDischarge Diagnosis:\\nPrimary Diagnosis:\\nHypotension\\n\\nSecondary Diagnosis:\\nmalignant epithelioid neoplasm of unknown primary\\n\\n\\nDischarge Condition:\\nMental Status: Clear and coherent.\\nLevel of Consciousness: Alert and interactive.\\nActivity Status: Ambulatory - Independent.\\n\\n\\nDischarge Instructions:\\nDear Mr. [**Known lastname 83415**],\\n\\nIt was a pleasure treating you.\\n\\nYou were admitted to the [**Hospital1 69**]\\nfor low blood pressure and dizziness.  You were initially sent\\nto the intensive care unit to stabilize your blood pressures.\\nThere was initial concern for infection and you were given\\nintravenous fluids and antibiotics.  You quickly stabilized and\\nwere transfered to the regular inpatient floor.  You underwent\\ntwo sessions of radiotherapy while here as well.  You will\\nfollow up with both your primary care physician and with your\\nprimary oncologist.  We wish you and your family the best.\\n\\nPlease continue taking your medications as prescribed, EXCEPT:\\nCONTINUE bactrim for 2 days\\nADD Cephalexin for 2 days\\n\\n\\nFollowup Instructions:\\n1.) You will follow up with your primary care physician, [**Last Name (NamePattern4) **].\\n[**First Name (STitle) 2429**] T. Guerzon on [**First Name (STitle) 2974**] [**6-11**] at 10AM .\\n\\n2.) You will follow up with your primary oncologist, Dr. [**First Name (STitle) **] R.\\n[**Doctor Last Name 10919**] on [**Last Name (LF) 2974**], [**6-18**] at 11AM.\\n\\n\\n\\n\""
      ]
     },
     "execution_count": 9,
     "metadata": {},
     "output_type": "execute_result"
    }
   ],
   "source": [
    "sample_doc"
   ]
  },
  {
   "cell_type": "code",
   "execution_count": 10,
   "id": "5805bd2b-ccfe-49e0-b7d4-372702e38a90",
   "metadata": {},
   "outputs": [
    {
     "data": {
      "text/plain": [
       "\"admission date:  [**2100-6-7**]              discharge date:   [**2100-6-9**]  date of birth:  [**2044-4-23**]             sex:   m  service: medicine  allergies: no known allergies / adverse drug reactions  attending:[**first name3 (lf) 2024**] chief complaint: dizziness  major surgical or invasive procedure: none   history of present illness: history of present illness: mr. [**known lastname 83415**] is a 56 year old male with pmh notable for metastatic cancer (unknown primary) undergoing chemo now presenting with lighheadedness and hemoptysis. pt is undergoing chemo with gemcitabine ([**2100-5-24**], [**2100-5-31**]) for malignant neoplasm of unknown primary with multiple bone, muscle, and soft-tissue metastases. he came to the hospital to start rt to l femur today.  pt reports a couple days of lightheadedness, nonpositional.  pt reports one episode of hemoptysis [**2100-6-3**] but none since then. no sig lung lesions on chest ct [**2100-5-27**]. was scheduled to have transfusion on the day of admission. orthostatics at dr.[**name (ni) 83416**] office were lying bp 94/52, pulse regular at 64. standing bp 90/52; pulse 66.  in the ed, initial vs were: t98, p50, rr16, bp87/43, o2 100% ra. (per dr. [**last name (stitle) **] (rad/onc) pt generally has sbp 90s-100s). he received 5.5l ns (put out 2.5l urine). he was started on vanc infustion but developed red itchy arm and it was stopped. he was given benadryl with good effect. pt did receive cefepime 2g iv. labs notable for a white count of 2.2, hct 22.9 (hct 25 on [**5-31**]). chemistries were unremarkable. cxr was clear. cta showed no pe, stable ground glass opacities and lytic lesions. lenis negative for dvt. on transfer, pt's vs were t 97.6, p62, r16, bp98/59, o2 99% on ra.  on arrival to the micu, patient's vs. t98.1, hr68, bp101/61, p70, 98%ra.  pt denies fever, chills, night sweats, cough, nausea/vomiting, diarrhea, dysuria. endorses constipation with last bm two days ago. denies bloody stool or melena. bp was in the 80's systolic. he received 5l of fluid since admission. 2.5l urine output in the ed. one unit prbcs was given for chronic anemia.  hct 20.6 on admission, bumped to 24 with the unit of blood. cta ruled out pe. no lung mets but there are ground glass opacities but similar to prior study 2 wks ago for staging purposes.  blood cultures were sent.  no fevers. baseline leukopenia. bactrim and keflex for lle cellulitis, was being treated prior to admission.   past medical history: 1. hypercholesterolemia. 2. tobacco use (30 pack years). 3. hypothyroidism. 4. asthma. 5. depression. 6. gastroesophageal reflux. 7. history of normal stress test. 8. recently evaluated by vascular surgery, imaging showed atherosclerotic plaque in the infrarenal aorta which causes a moderate to moderately severe stenosis. 9. recently dx w/hcap by his pcp, [**8-20**] = day [**4-25**] of levofloxacin. . past surgical history: 1. bilateral inguinal hernia repair. 2. umbilical hernia repair. 3. epigastric hernia repair. 4. endoscopy.  social history: the patient used to work in construction and is a facilities manager. currently disabled. he is able to walk except as described above. he uses a cane when necessary. he currently smokes a pack a day and has done so for 30 years. he drinks rarely.   family history: there is a family history of heart disease, diabetes and hypercholesterolemia.  physical exam: admission physical exam: t98, p50, rr16, bp87/43, o2 100% ra. general: alert, oriented, no acute distress cv: regular rate and rhythm, no m/r/g lungs: clear to auscultation bilaterally, no wheezes, rales, ronchi abdomen: +bs, soft, non-distended, mild tenderness to palpation, no rebound or guarding gu: no foley ext: warm, well perfused, 2+ pulses, no clubbing, cyanosis or edema  discharge physical exam: t98.5, p54, rr16, bp 108/75, o2 99% ra. general: alert, oriented, no acute distress cv: regular rate and rhythm, no m/r/g lungs: clear to auscultation bilaterally, no wheezes, rales, ronchi abdomen: +bs, soft, non-distended, mild tenderness to palpation, no rebound or guarding gu: no foley ext: warm, well perfused, 2+ pulses, no clubbing, cyanosis or edema   pertinent results: #admission labs: [**2100-6-7**] 10:20am blood wbc-2.2*# rbc-2.46*# hgb-7.4*# hct-22.9* mcv-93# mch-30.2# mchc-32.4 rdw-17.9* plt ct-45*# [**2100-6-7**] 10:20am blood neuts-62 bands-1 lymphs-30 monos-4 eos-3 baso-0 atyps-0 metas-0 myelos-0 [**2100-6-7**] 10:20am blood hypochr-2+ anisocy-1+ poiklo-1+ macrocy-1+ microcy-normal polychr-normal ovalocy-1+ tear dr[**last name (stitle) **]1+ [**2100-6-7**] 10:20am blood plt smr-very low plt ct-45*# [**2100-6-7**] 10:20am blood glucose-103* urean-8 creat-0.9 na-137 k-3.9 cl-101 hco3-27 angap-13 [**2100-6-7**] 10:20am blood calcium-8.6 mg-1.9 [**2100-6-7**] 10:20am blood cortsol-11.8  #pertinent labs: [**2100-6-8**] 12:38pm blood hct-24.1* [**2100-6-8**] 06:02am blood wbc-2.5* rbc-2.55* hgb-7.8* hct-24.0* mcv-94 mch-30.7 mchc-32.5 rdw-17.3* plt ct-32* [**2100-6-8**] 12:34am blood wbc-2.0* rbc-2.22* hgb-6.7* hct-20.6* mcv-93 mch-30.4 mchc-32.7 rdw-17.6* plt ct-32* [**2100-6-8**] 06:02am blood plt ct-32* [**2100-6-8**] 12:34am blood plt ct-32* [**2100-6-8**] 12:34am blood ret aut-0.2* [**2100-6-8**] 12:34am blood glucose-91 urean-7 creat-0.8 na-141 k-4.3 cl-108 hco3-24 angap-13 [**2100-6-8**] 12:34am blood alt-57* ast-56* alkphos-75 totbili-0.1 [**2100-6-8**] 12:34am blood albumin-3.2* calcium-8.1* phos-2.4* mg-2.0 iron-33* [**2100-6-8**] 12:34am blood caltibc-176* ferritn-452* trf-135* [**2100-6-8**] 02:46am urine color-straw appear-clear sp [**last name (un) **]-1.013 [**2100-6-8**] 02:46am urine blood-tr nitrite-neg protein-neg glucose-neg ketone-neg bilirub-neg urobiln-neg ph-6.5 leuks-neg [**2100-6-8**] 02:46am urine rbc-3* wbc-<1 bacteri-none yeast-none epi-0  #discharge labs: [**2100-6-9**] 06:35am blood wbc-3.1* rbc-2.57* hgb-7.9* hct-23.9* mcv-93 mch-30.9 mchc-33.2 rdw-18.1* plt ct-30* [**2100-6-9**] 06:35am blood plt ct-30* [**2100-6-9**] 06:35am blood glucose-107* urean-9 creat-1.0 na-138 k-4.4 cl-102 hco3-28 angap-12 [**2100-6-9**] 06:35am blood calcium-8.6 phos-2.8 mg-1.9  #microbiology: [][**2100-6-7**] 6:30 pm blood culture    blood culture, routine (pending): [][**2100-6-8**] 2:46 am urine      source: cvs.                             **final report [**2100-6-9**]**    urine culture (final [**2100-6-9**]):    no growth.  #radiology/studies: [][**6-7**] lenis - no evidence dvt  [][**6-7**] ct chest/abdomen 1. no pulmonary embolism or acute intra-abdominal process. 2. numerous bilateral bronchovascular ground-glass opacities, right greater than left, similar to or minimally increased from [**2100-5-27**]. smooth interlobular septal thickening and slight bronchial wall thickening. this combination of findings is potentially due to bronchopneumonia with a component of pulmonary congestion. however, organizing pneumonia or small foci of hemorrhage cannot be excluded. 3. numerous lytic osseous lesions, similar to prior, involving lower lumbar vertebra and pelvic bones. other known osseous lesions are not imaged. 4. eccentric soft and calcified abdominal aortic plaques.  [][**6-7**] cxr: no intrathoracic process   brief hospital course: []brief clinical history: 56 year old male with pmh notable for metastatic cancer (unknown primary) undergoing chemo, being treated for le cullitis, presenting with lighheadedness [**12-17**] hypotension, s/p icu transfer.  at the time of discharge, patient is afebrile, normotensive and not orthostatic.  []issues: # hypotension: pt presented to the ed with lightheadedness and was found to have systolic blood pressures in the 80s. the patient was fluid resuscited with good effect. initially it was unclear if his presentation was infectious in etiology. blood cultures from [**6-3**] at [**location (un) **] were ngtd. ct chest unchanged from baseline. although afebrile, pt may not have been able to mount a white count and therefore might have remained afebrile despite infection. pt was at baseline blood pressure after fluids in ed. likely not obstructive shock as pt with negative cta and negative lenis. cardiogenic shock also unlikely given normal baseline ekg. hypovolemic shock not likely as good urine output with ivf.  urine culture showed no growth.  he remained afebrile until discharge and was no longer orthostatic.  # anemia: unclear baseline - did have hct of 29 a year ago. pt had episode of hemoptysis 4 days prior to admission. pt had hct of 25 one week ago and is now at 23. after significant fluid resuscitation in ed will likely have dilutional anemia. h/o rectal bleeding so this was considered a possible source. there also [**month (only) 116**] have been bleeding into his mets. the patient was also on gemcitabine which suppresses the bone marrow which is consistent with his low retic count of 0.2.  iron studies c/w anemia of chronic inflammation (normocytic, high ferritin, low tibc and low transferrin).  hct remained stable since transfer from icu to floor (24 --> 23.9).  # cellulitis: patient began treatment with bactrim as an outpatient less than a week before admission.  there was moderate improvement in the erythema and swelling of the left lower extremity by the time of admission.  he was started on combination therapy with bactrim/keflex and had substantial improvement in his cellulits that largely resolved by the time of discharge.  he was sent home to finish his course of antibiotics and f/u with his pcp.  # malignant epithelioid cancer of unknown primary (possibly carcinoma per path report):  patient received 2nd of 8 scheduled xrt while in house with f/u to complete the final 6 sessions. patient is to f/u with primary oncologist as an outpatient.  # hypothyroidism: -continued on outpatient levothyroxine  # asthma: -continued on outpatient flovent, albuterol prn  # depression: -continued on outpatient fluoxetine  # gerd: -continued on outpatient pantoprazole  # hld: -continued outpatient simvastatin, niacin  []transitional issues: 1.) patient with neoplasm of unknown primary that will be investigated by primary oncologist. 2.) pcp will follow up for resolution of cellulitis.  medications on admission: preadmissions medications listed are incomplete and require futher investigation.  information was obtained from patientwebomr. 1. albuterol inhaler 2 puff ih q4h:prn sob or wheeze 2. fluoxetine 40 mg po daily 3. fluticasone propionate nasal 2 spry nu daily 4. fluticasone propionate 110mcg 2 puff ih [**hospital1 **] 5. gabapentin 300 mg po tid 6. levothyroxine sodium 137 mcg po daily 7. lorazepam 1 mg po q8h:prn nausea, anxiety or insomnia 8. milk of magnesia 15-30 ml po prn constipation 9. morphine sr (ms contin) 90 mg po q8h 10. ondansetron 8 mg po q 8h 11. oxycodone (immediate release)  10-20 mg po q4-6hrs prn pain 12. pantoprazole 40 mg po q12h 13. prochlorperazine 10 mg po q8h:prn nausea 14. simvastatin 40 mg po daily 15. docusate sodium 100 mg po tid 16. ibuprofen 200-400 mg po q4-6hrs prn pain 17. magnesium oxide 400 mg po bid 18. niacin 500 mg po daily 19. fish oil (omega 3) 1000 mg po tid 20. senna 1 tab po hs   discharge medications: 1. albuterol inhaler 2 puff ih q4h:prn sob or wheeze 2. docusate sodium 100 mg po tid 3. fish oil (omega 3) 1000 mg po tid 4. fluoxetine 40 mg po daily 5. fluticasone propionate 110mcg 2 puff ih [**hospital1 **] 6. fluticasone propionate nasal 2 spry nu daily 7. gabapentin 300 mg po tid 8. ibuprofen 200-400 mg po q4-6hrs prn pain 9. levothyroxine sodium 137 mcg po daily 10. lorazepam 1 mg po q8h:prn nausea, anxiety or insomnia 11. magnesium oxide 400 mg po bid 12. milk of magnesia 15-30 ml po prn constipation 13. morphine sr (ms contin) 90 mg po q8h 14. niacin 500 mg po daily 15. ondansetron 8 mg po q 8h 16. oxycodone (immediate release)  10-20 mg po q4-6hrs prn pain 17. pantoprazole 40 mg po q12h 18. prochlorperazine 10 mg po q8h:prn nausea 19. senna 1 tab po hs 20. simvastatin 40 mg po daily 21. cephalexin 500 mg po q12h rx *cephalexin 500 mg 1 tablet(s) by mouth twice a day disp #*4 tablet refills:*0 22. sulfameth/trimethoprim ds 1 tab po bid rx *sulfamethoxazole-trimethoprim 400 mg-80 mg 1 tablet(s) by mouth twice a day disp #*4 tablet refills:*0   discharge disposition: home  discharge diagnosis: primary diagnosis: hypotension  secondary diagnosis: malignant epithelioid neoplasm of unknown primary   discharge condition: mental status: clear and coherent. level of consciousness: alert and interactive. activity status: ambulatory - independent.   discharge instructions: dear mr. [**known lastname 83415**],  it was a pleasure treating you.  you were admitted to the [**hospital1 69**] for low blood pressure and dizziness.  you were initially sent to the intensive care unit to stabilize your blood pressures. there was initial concern for infection and you were given intravenous fluids and antibiotics.  you quickly stabilized and were transfered to the regular inpatient floor.  you underwent two sessions of radiotherapy while here as well.  you will follow up with both your primary care physician and with your primary oncologist.  we wish you and your family the best.  please continue taking your medications as prescribed, except: continue bactrim for 2 days add cephalexin for 2 days   followup instructions: 1.) you will follow up with your primary care physician, [**last name (namepattern4) **]. [**first name (stitle) 2429**] t. guerzon on [**first name (stitle) 2974**] [**6-11**] at 10am .  2.) you will follow up with your primary oncologist, dr. [**first name (stitle) **] r. [**doctor last name 10919**] on [**last name (lf) 2974**], [**6-18**] at 11am.    \""
      ]
     },
     "execution_count": 10,
     "metadata": {},
     "output_type": "execute_result"
    }
   ],
   "source": [
    "sample_doc = sample_doc.replace('\\n', ' ')\n",
    "sample_doc = sample_doc.replace('\\r', ' ')\n",
    "sample_doc = sample_doc.lower()\n",
    "sample_doc"
   ]
  },
  {
   "cell_type": "code",
   "execution_count": 11,
   "id": "0e00b04f-9eb1-47a8-8e04-3fbbd4035ca0",
   "metadata": {},
   "outputs": [],
   "source": [
    "punc = string.punctuation\n",
    "num = \"0123456789\"\n",
    "punc_num = punc + num\n",
    "for i in list(punc_num):\n",
    "    sample_doc = sample_doc.replace(i, ' ')"
   ]
  },
  {
   "cell_type": "markdown",
   "id": "4f169954-f421-4030-a841-74e3ade81f78",
   "metadata": {
    "jp-MarkdownHeadingCollapsed": true,
    "tags": []
   },
   "source": [
    "## Train and Test Split"
   ]
  },
  {
   "cell_type": "code",
   "execution_count": 12,
   "id": "71506a54-d3c3-4353-8db0-809b55ffe348",
   "metadata": {},
   "outputs": [],
   "source": [
    "X = df.drop('READMISSION', axis=1)\n",
    "y = df['READMISSION']"
   ]
  },
  {
   "cell_type": "code",
   "execution_count": 13,
   "id": "12289a6b-1f14-4460-ba74-ecfd1229c099",
   "metadata": {},
   "outputs": [],
   "source": [
    "X_train, X_v_t, y_train, y_v_t = train_test_split(X, y, test_size=0.40, random_state=42, stratify=y)"
   ]
  },
  {
   "cell_type": "code",
   "execution_count": 14,
   "id": "36eaca01-8259-4e5c-b5e3-5ae6610108c3",
   "metadata": {},
   "outputs": [],
   "source": [
    "X_val, X_test, y_val, y_test = train_test_split(X_v_t, y_v_t, test_size=0.50, random_state=42, stratify=y_v_t)"
   ]
  },
  {
   "cell_type": "markdown",
   "id": "debcd518-9d4a-48a5-9c45-53f31d988847",
   "metadata": {},
   "source": [
    "## Pipeline Parameters"
   ]
  },
  {
   "cell_type": "markdown",
   "id": "a1e026ef-15d4-4293-a7bc-88e02a2b3366",
   "metadata": {},
   "source": [
    "### Vectorizer Parameters"
   ]
  },
  {
   "cell_type": "code",
   "execution_count": null,
   "id": "2e7f21aa-5fba-495f-b412-cd76ec68dd08",
   "metadata": {},
   "outputs": [],
   "source": [
    "pattern=r\"([a-zA-Z]+(?:'[a-z]+)?)\"\n",
    "sw = stopwords.words('english')\n",
    "max_features = 3000"
   ]
  },
  {
   "cell_type": "markdown",
   "id": "e91f5c57-57bc-4a0d-8c40-179e68e2527f",
   "metadata": {},
   "source": [
    "### Preprocessing Parameters"
   ]
  },
  {
   "cell_type": "code",
   "execution_count": 27,
   "id": "423643e1-f048-4ab9-97cc-fee21bedfd21",
   "metadata": {},
   "outputs": [
    {
     "name": "stdout",
     "output_type": "stream",
     "text": [
      "<class 'pandas.core.frame.DataFrame'>\n",
      "RangeIndex: 45591 entries, 0 to 45590\n",
      "Data columns (total 17 columns):\n",
      " #   Column              Non-Null Count  Dtype \n",
      "---  ------              --------------  ----- \n",
      " 0   ADMISSION_TYPE      45591 non-null  object\n",
      " 1   ADMISSION_LOCATION  45591 non-null  object\n",
      " 2   DISCHARGE_LOCATION  45591 non-null  object\n",
      " 3   INSURANCE           45591 non-null  object\n",
      " 4   LANGUAGE            45591 non-null  object\n",
      " 5   RELIGION            45591 non-null  object\n",
      " 6   MARITAL_STATUS      45591 non-null  object\n",
      " 7   ETHNICITY           45591 non-null  object\n",
      " 8   DIAGNOSIS           45591 non-null  object\n",
      " 9   READMISSION         45591 non-null  int64 \n",
      " 10  GENDER              45591 non-null  object\n",
      " 11  AGE                 45591 non-null  int64 \n",
      " 12  TEXT                45591 non-null  object\n",
      " 13  CPT_CD              45591 non-null  object\n",
      " 14  DIAG_ICD9_CODE      45590 non-null  object\n",
      " 15  DRG_CODE            45591 non-null  object\n",
      " 16  PROCED_ICD9_CODE    45591 non-null  object\n",
      "dtypes: int64(2), object(15)\n",
      "memory usage: 5.9+ MB\n"
     ]
    }
   ],
   "source": [
    "df.info()"
   ]
  },
  {
   "cell_type": "code",
   "execution_count": 28,
   "id": "406d1abd-f597-4012-be23-9421affe9acf",
   "metadata": {},
   "outputs": [],
   "source": [
    "X_num = ['AGE']\n",
    "X_cat = df.drop(['AGE', 'READMISSION', 'TEXT'], axis=1).columns"
   ]
  },
  {
   "cell_type": "code",
   "execution_count": 29,
   "id": "fd938d77-bea3-440c-bbca-8ab737e3f995",
   "metadata": {},
   "outputs": [],
   "source": [
    "numTrans = Pipeline(steps=[\n",
    "    ('scaler', StandardScaler())\n",
    "    ])\n",
    "catTrans = Pipeline(steps=[\n",
    "    ('ohe', OneHotEncoder(sparse=False,\n",
    "                          handle_unknown='ignore'))\n",
    "    ])\n",
    "\n",
    "c_transform = ColumnTransformer(transformers=[\n",
    "    ('num', numTrans, X_num),\n",
    "    ('cat', catTrans, X_cat)\n",
    "    ])"
   ]
  },
  {
   "cell_type": "markdown",
   "id": "a8a1cace-2cc1-4649-a5a7-6069c7a31ab9",
   "metadata": {
    "tags": []
   },
   "source": [
    "## Vectorizing Text Data"
   ]
  },
  {
   "cell_type": "code",
   "execution_count": 15,
   "id": "5658c77f-df66-448a-b8e4-239299877ac6",
   "metadata": {},
   "outputs": [],
   "source": [
    "pattern=r\"([a-zA-Z]+(?:'[a-z]+)?)\"\n",
    "sw = stopwords.words('english')\n",
    "max_features = 3000"
   ]
  },
  {
   "cell_type": "markdown",
   "id": "c7e687a4-0e31-4fb9-ad2c-0e0c4beb1e7c",
   "metadata": {
    "tags": []
   },
   "source": [
    "### Count Vectorizer"
   ]
  },
  {
   "cell_type": "code",
   "execution_count": 18,
   "id": "b35986b3-1d74-4d96-bc6d-9b33181f0deb",
   "metadata": {},
   "outputs": [],
   "source": [
    "countvec = CountVectorizer(stop_words=sw, token_pattern=pattern, max_features=max_features, tokenizer=LemmaTokenizer())"
   ]
  },
  {
   "cell_type": "code",
   "execution_count": 19,
   "id": "b386174c-90f6-43b5-81c2-c715531c6836",
   "metadata": {},
   "outputs": [
    {
     "name": "stderr",
     "output_type": "stream",
     "text": [
      "/Users/arthur/opt/anaconda3/envs/main_env/lib/python3.8/site-packages/sklearn/feature_extraction/text.py:388: UserWarning: Your stop_words may be inconsistent with your preprocessing. Tokenizing the stop words generated tokens [\"'d\", \"'ll\", \"'re\", \"'s\", \"'ve\", 'could', 'doe', 'ha', 'might', 'must', \"n't\", 'need', 'sha', 'wa', 'wo', 'would'] not in stop_words.\n",
      "  warnings.warn('Your stop_words may be inconsistent with '\n"
     ]
    }
   ],
   "source": [
    "count_train_1, count_val_1, count_test_1, count_train_2, count_val_2, count_test_2 = vectorizing(countvec, X_train, X_val, X_test)"
   ]
  },
  {
   "cell_type": "markdown",
   "id": "c36ef5d6-9a26-47fe-9f08-f4de1d3d2de5",
   "metadata": {
    "tags": []
   },
   "source": [
    "### TFIDF Vectorizer"
   ]
  },
  {
   "cell_type": "code",
   "execution_count": 20,
   "id": "e16d75c4-0156-4f39-a7ee-a66b9ebef6f1",
   "metadata": {},
   "outputs": [],
   "source": [
    "tfvec = TfidfVectorizer(stop_words=sw, token_pattern=pattern, max_features=max_features)"
   ]
  },
  {
   "cell_type": "code",
   "execution_count": 21,
   "id": "cd8661b1-fa70-4a35-8171-eff20da3dccd",
   "metadata": {},
   "outputs": [],
   "source": [
    "tfidf_train_1, tfidf_val_1, tfidf_test_1, tfidf_train_2, tfidf_val_2, tfidf_test_2 = vectorizing(tfvec, X_train, X_val, X_test)"
   ]
  },
  {
   "cell_type": "code",
   "execution_count": 36,
   "id": "615052ed-7f01-40d9-9193-132ec8ab5d57",
   "metadata": {},
   "outputs": [
    {
     "data": {
      "text/html": [
       "<div>\n",
       "<style scoped>\n",
       "    .dataframe tbody tr th:only-of-type {\n",
       "        vertical-align: middle;\n",
       "    }\n",
       "\n",
       "    .dataframe tbody tr th {\n",
       "        vertical-align: top;\n",
       "    }\n",
       "\n",
       "    .dataframe thead th {\n",
       "        text-align: right;\n",
       "    }\n",
       "</style>\n",
       "<table border=\"1\" class=\"dataframe\">\n",
       "  <thead>\n",
       "    <tr style=\"text-align: right;\">\n",
       "      <th></th>\n",
       "      <th>ADMISSION_TYPE</th>\n",
       "      <th>ADMISSION_LOCATION</th>\n",
       "      <th>DISCHARGE_LOCATION</th>\n",
       "      <th>INSURANCE</th>\n",
       "      <th>LANGUAGE</th>\n",
       "      <th>RELIGION</th>\n",
       "      <th>MARITAL_STATUS</th>\n",
       "      <th>ETHNICITY</th>\n",
       "      <th>DIAGNOSIS</th>\n",
       "      <th>GENDER</th>\n",
       "      <th>...</th>\n",
       "      <th>yeast</th>\n",
       "      <th>yellow</th>\n",
       "      <th>yesterday</th>\n",
       "      <th>yet</th>\n",
       "      <th>yo</th>\n",
       "      <th>yrs</th>\n",
       "      <th>zantac</th>\n",
       "      <th>zocor</th>\n",
       "      <th>zofran</th>\n",
       "      <th>zosyn</th>\n",
       "    </tr>\n",
       "  </thead>\n",
       "  <tbody>\n",
       "    <tr>\n",
       "      <th>0</th>\n",
       "      <td>NEWBORN</td>\n",
       "      <td>PHYS REFERRAL/NORMAL DELI</td>\n",
       "      <td>HOME HEALTH CARE</td>\n",
       "      <td>Private</td>\n",
       "      <td>UNKNOWN</td>\n",
       "      <td>JEWISH</td>\n",
       "      <td>UNKNOWN</td>\n",
       "      <td>WHITE</td>\n",
       "      <td>NEWBORN</td>\n",
       "      <td>M</td>\n",
       "      <td>...</td>\n",
       "      <td>0.000000</td>\n",
       "      <td>0.000000</td>\n",
       "      <td>0.000000</td>\n",
       "      <td>0.0</td>\n",
       "      <td>0.000000</td>\n",
       "      <td>0.000000</td>\n",
       "      <td>0.0</td>\n",
       "      <td>0.0</td>\n",
       "      <td>0.000000</td>\n",
       "      <td>0.000000</td>\n",
       "    </tr>\n",
       "    <tr>\n",
       "      <th>1</th>\n",
       "      <td>EMERGENCY</td>\n",
       "      <td>EMERGENCY ROOM ADMIT</td>\n",
       "      <td>DEAD/EXPIRED</td>\n",
       "      <td>Medicare</td>\n",
       "      <td>UNKNOWN</td>\n",
       "      <td>PROTESTANT QUAKER</td>\n",
       "      <td>SINGLE</td>\n",
       "      <td>BLACK/AFRICAN AMERICAN</td>\n",
       "      <td>CONGESTIVE HEART FAILURE;CHRONIC OBST PULM DISEASE</td>\n",
       "      <td>M</td>\n",
       "      <td>...</td>\n",
       "      <td>0.000000</td>\n",
       "      <td>0.000000</td>\n",
       "      <td>0.000000</td>\n",
       "      <td>0.0</td>\n",
       "      <td>0.000000</td>\n",
       "      <td>0.000000</td>\n",
       "      <td>0.0</td>\n",
       "      <td>0.0</td>\n",
       "      <td>0.000000</td>\n",
       "      <td>0.000000</td>\n",
       "    </tr>\n",
       "    <tr>\n",
       "      <th>2</th>\n",
       "      <td>EMERGENCY</td>\n",
       "      <td>CLINIC REFERRAL/PREMATURE</td>\n",
       "      <td>SNF</td>\n",
       "      <td>Medicare</td>\n",
       "      <td>CAPE</td>\n",
       "      <td>CATHOLIC</td>\n",
       "      <td>DIVORCED</td>\n",
       "      <td>MULTI RACE ETHNICITY</td>\n",
       "      <td>PNEUMONIA</td>\n",
       "      <td>M</td>\n",
       "      <td>...</td>\n",
       "      <td>0.000000</td>\n",
       "      <td>0.000000</td>\n",
       "      <td>0.000000</td>\n",
       "      <td>0.0</td>\n",
       "      <td>0.014342</td>\n",
       "      <td>0.000000</td>\n",
       "      <td>0.0</td>\n",
       "      <td>0.0</td>\n",
       "      <td>0.024782</td>\n",
       "      <td>0.000000</td>\n",
       "    </tr>\n",
       "    <tr>\n",
       "      <th>3</th>\n",
       "      <td>EMERGENCY</td>\n",
       "      <td>EMERGENCY ROOM ADMIT</td>\n",
       "      <td>DEAD/EXPIRED</td>\n",
       "      <td>Medicare</td>\n",
       "      <td>UNKNOWN</td>\n",
       "      <td>UNOBTAINABLE</td>\n",
       "      <td>MARRIED</td>\n",
       "      <td>WHITE</td>\n",
       "      <td>SUBDURAL HEMATOMA</td>\n",
       "      <td>M</td>\n",
       "      <td>...</td>\n",
       "      <td>0.000000</td>\n",
       "      <td>0.000000</td>\n",
       "      <td>0.000000</td>\n",
       "      <td>0.0</td>\n",
       "      <td>0.000000</td>\n",
       "      <td>0.000000</td>\n",
       "      <td>0.0</td>\n",
       "      <td>0.0</td>\n",
       "      <td>0.000000</td>\n",
       "      <td>0.000000</td>\n",
       "    </tr>\n",
       "    <tr>\n",
       "      <th>4</th>\n",
       "      <td>EMERGENCY</td>\n",
       "      <td>EMERGENCY ROOM ADMIT</td>\n",
       "      <td>REHAB/DISTINCT PART HOSP</td>\n",
       "      <td>Medicare</td>\n",
       "      <td>UNKNOWN</td>\n",
       "      <td>UNOBTAINABLE</td>\n",
       "      <td>UNKNOWN</td>\n",
       "      <td>BLACK/AFRICAN AMERICAN</td>\n",
       "      <td>FEVER-CHEST PAIN</td>\n",
       "      <td>F</td>\n",
       "      <td>...</td>\n",
       "      <td>0.026311</td>\n",
       "      <td>0.027317</td>\n",
       "      <td>0.000000</td>\n",
       "      <td>0.0</td>\n",
       "      <td>0.020158</td>\n",
       "      <td>0.000000</td>\n",
       "      <td>0.0</td>\n",
       "      <td>0.0</td>\n",
       "      <td>0.000000</td>\n",
       "      <td>0.027533</td>\n",
       "    </tr>\n",
       "    <tr>\n",
       "      <th>...</th>\n",
       "      <td>...</td>\n",
       "      <td>...</td>\n",
       "      <td>...</td>\n",
       "      <td>...</td>\n",
       "      <td>...</td>\n",
       "      <td>...</td>\n",
       "      <td>...</td>\n",
       "      <td>...</td>\n",
       "      <td>...</td>\n",
       "      <td>...</td>\n",
       "      <td>...</td>\n",
       "      <td>...</td>\n",
       "      <td>...</td>\n",
       "      <td>...</td>\n",
       "      <td>...</td>\n",
       "      <td>...</td>\n",
       "      <td>...</td>\n",
       "      <td>...</td>\n",
       "      <td>...</td>\n",
       "      <td>...</td>\n",
       "      <td>...</td>\n",
       "    </tr>\n",
       "    <tr>\n",
       "      <th>27349</th>\n",
       "      <td>EMERGENCY</td>\n",
       "      <td>EMERGENCY ROOM ADMIT</td>\n",
       "      <td>HOME</td>\n",
       "      <td>Medicaid</td>\n",
       "      <td>THAI</td>\n",
       "      <td>BUDDHIST</td>\n",
       "      <td>MARRIED</td>\n",
       "      <td>ASIAN</td>\n",
       "      <td>UPPER GI BLEED</td>\n",
       "      <td>F</td>\n",
       "      <td>...</td>\n",
       "      <td>0.000000</td>\n",
       "      <td>0.000000</td>\n",
       "      <td>0.000000</td>\n",
       "      <td>0.0</td>\n",
       "      <td>0.048280</td>\n",
       "      <td>0.000000</td>\n",
       "      <td>0.0</td>\n",
       "      <td>0.0</td>\n",
       "      <td>0.000000</td>\n",
       "      <td>0.000000</td>\n",
       "    </tr>\n",
       "    <tr>\n",
       "      <th>27350</th>\n",
       "      <td>ELECTIVE</td>\n",
       "      <td>PHYS REFERRAL/NORMAL DELI</td>\n",
       "      <td>HOME HEALTH CARE</td>\n",
       "      <td>Private</td>\n",
       "      <td>ENGL</td>\n",
       "      <td>NOT SPECIFIED</td>\n",
       "      <td>UNKNOWN</td>\n",
       "      <td>UNABLE TO OBTAIN</td>\n",
       "      <td>ATRIAL DEFECT\\REPAIR PATENT FORAMEN OVALE/SDA</td>\n",
       "      <td>M</td>\n",
       "      <td>...</td>\n",
       "      <td>0.000000</td>\n",
       "      <td>0.000000</td>\n",
       "      <td>0.000000</td>\n",
       "      <td>0.0</td>\n",
       "      <td>0.000000</td>\n",
       "      <td>0.000000</td>\n",
       "      <td>0.0</td>\n",
       "      <td>0.0</td>\n",
       "      <td>0.000000</td>\n",
       "      <td>0.000000</td>\n",
       "    </tr>\n",
       "    <tr>\n",
       "      <th>27351</th>\n",
       "      <td>ELECTIVE</td>\n",
       "      <td>PHYS REFERRAL/NORMAL DELI</td>\n",
       "      <td>HOME HEALTH CARE</td>\n",
       "      <td>Medicare</td>\n",
       "      <td>ENGL</td>\n",
       "      <td>PROTESTANT QUAKER</td>\n",
       "      <td>MARRIED</td>\n",
       "      <td>WHITE</td>\n",
       "      <td>CEREBELLAR TUMOR/SDA</td>\n",
       "      <td>F</td>\n",
       "      <td>...</td>\n",
       "      <td>0.000000</td>\n",
       "      <td>0.000000</td>\n",
       "      <td>0.000000</td>\n",
       "      <td>0.0</td>\n",
       "      <td>0.000000</td>\n",
       "      <td>0.085071</td>\n",
       "      <td>0.0</td>\n",
       "      <td>0.0</td>\n",
       "      <td>0.000000</td>\n",
       "      <td>0.000000</td>\n",
       "    </tr>\n",
       "    <tr>\n",
       "      <th>27352</th>\n",
       "      <td>EMERGENCY</td>\n",
       "      <td>CLINIC REFERRAL/PREMATURE</td>\n",
       "      <td>SNF</td>\n",
       "      <td>Medicare</td>\n",
       "      <td>ENGL</td>\n",
       "      <td>CATHOLIC</td>\n",
       "      <td>MARRIED</td>\n",
       "      <td>WHITE</td>\n",
       "      <td>LIVER HEMORRHAGE</td>\n",
       "      <td>M</td>\n",
       "      <td>...</td>\n",
       "      <td>0.000000</td>\n",
       "      <td>0.000000</td>\n",
       "      <td>0.032416</td>\n",
       "      <td>0.0</td>\n",
       "      <td>0.000000</td>\n",
       "      <td>0.000000</td>\n",
       "      <td>0.0</td>\n",
       "      <td>0.0</td>\n",
       "      <td>0.000000</td>\n",
       "      <td>0.000000</td>\n",
       "    </tr>\n",
       "    <tr>\n",
       "      <th>27353</th>\n",
       "      <td>EMERGENCY</td>\n",
       "      <td>TRANSFER FROM HOSP/EXTRAM</td>\n",
       "      <td>HOME HEALTH CARE</td>\n",
       "      <td>Medicare</td>\n",
       "      <td>UNKNOWN</td>\n",
       "      <td>CATHOLIC</td>\n",
       "      <td>SINGLE</td>\n",
       "      <td>UNKNOWN/NOT SPECIFIED</td>\n",
       "      <td>ACUTE MYOCARDIAL INFARCTION\\CATH</td>\n",
       "      <td>M</td>\n",
       "      <td>...</td>\n",
       "      <td>0.000000</td>\n",
       "      <td>0.000000</td>\n",
       "      <td>0.000000</td>\n",
       "      <td>0.0</td>\n",
       "      <td>0.000000</td>\n",
       "      <td>0.028159</td>\n",
       "      <td>0.0</td>\n",
       "      <td>0.0</td>\n",
       "      <td>0.000000</td>\n",
       "      <td>0.000000</td>\n",
       "    </tr>\n",
       "  </tbody>\n",
       "</table>\n",
       "<p>27354 rows × 3015 columns</p>\n",
       "</div>"
      ],
      "text/plain": [
       "      ADMISSION_TYPE         ADMISSION_LOCATION        DISCHARGE_LOCATION  \\\n",
       "0            NEWBORN  PHYS REFERRAL/NORMAL DELI          HOME HEALTH CARE   \n",
       "1          EMERGENCY       EMERGENCY ROOM ADMIT              DEAD/EXPIRED   \n",
       "2          EMERGENCY  CLINIC REFERRAL/PREMATURE                       SNF   \n",
       "3          EMERGENCY       EMERGENCY ROOM ADMIT              DEAD/EXPIRED   \n",
       "4          EMERGENCY       EMERGENCY ROOM ADMIT  REHAB/DISTINCT PART HOSP   \n",
       "...              ...                        ...                       ...   \n",
       "27349      EMERGENCY       EMERGENCY ROOM ADMIT                      HOME   \n",
       "27350       ELECTIVE  PHYS REFERRAL/NORMAL DELI          HOME HEALTH CARE   \n",
       "27351       ELECTIVE  PHYS REFERRAL/NORMAL DELI          HOME HEALTH CARE   \n",
       "27352      EMERGENCY  CLINIC REFERRAL/PREMATURE                       SNF   \n",
       "27353      EMERGENCY  TRANSFER FROM HOSP/EXTRAM          HOME HEALTH CARE   \n",
       "\n",
       "      INSURANCE LANGUAGE           RELIGION MARITAL_STATUS  \\\n",
       "0       Private  UNKNOWN             JEWISH        UNKNOWN   \n",
       "1      Medicare  UNKNOWN  PROTESTANT QUAKER         SINGLE   \n",
       "2      Medicare     CAPE           CATHOLIC       DIVORCED   \n",
       "3      Medicare  UNKNOWN       UNOBTAINABLE        MARRIED   \n",
       "4      Medicare  UNKNOWN       UNOBTAINABLE        UNKNOWN   \n",
       "...         ...      ...                ...            ...   \n",
       "27349  Medicaid     THAI           BUDDHIST        MARRIED   \n",
       "27350   Private     ENGL      NOT SPECIFIED        UNKNOWN   \n",
       "27351  Medicare     ENGL  PROTESTANT QUAKER        MARRIED   \n",
       "27352  Medicare     ENGL           CATHOLIC        MARRIED   \n",
       "27353  Medicare  UNKNOWN           CATHOLIC         SINGLE   \n",
       "\n",
       "                    ETHNICITY  \\\n",
       "0                       WHITE   \n",
       "1      BLACK/AFRICAN AMERICAN   \n",
       "2        MULTI RACE ETHNICITY   \n",
       "3                       WHITE   \n",
       "4      BLACK/AFRICAN AMERICAN   \n",
       "...                       ...   \n",
       "27349                   ASIAN   \n",
       "27350        UNABLE TO OBTAIN   \n",
       "27351                   WHITE   \n",
       "27352                   WHITE   \n",
       "27353   UNKNOWN/NOT SPECIFIED   \n",
       "\n",
       "                                                DIAGNOSIS GENDER  ...  \\\n",
       "0                                                 NEWBORN      M  ...   \n",
       "1      CONGESTIVE HEART FAILURE;CHRONIC OBST PULM DISEASE      M  ...   \n",
       "2                                               PNEUMONIA      M  ...   \n",
       "3                                       SUBDURAL HEMATOMA      M  ...   \n",
       "4                                        FEVER-CHEST PAIN      F  ...   \n",
       "...                                                   ...    ...  ...   \n",
       "27349                                      UPPER GI BLEED      F  ...   \n",
       "27350       ATRIAL DEFECT\\REPAIR PATENT FORAMEN OVALE/SDA      M  ...   \n",
       "27351                                CEREBELLAR TUMOR/SDA      F  ...   \n",
       "27352                                    LIVER HEMORRHAGE      M  ...   \n",
       "27353                    ACUTE MYOCARDIAL INFARCTION\\CATH      M  ...   \n",
       "\n",
       "          yeast    yellow yesterday  yet        yo       yrs  zantac  zocor  \\\n",
       "0      0.000000  0.000000  0.000000  0.0  0.000000  0.000000     0.0    0.0   \n",
       "1      0.000000  0.000000  0.000000  0.0  0.000000  0.000000     0.0    0.0   \n",
       "2      0.000000  0.000000  0.000000  0.0  0.014342  0.000000     0.0    0.0   \n",
       "3      0.000000  0.000000  0.000000  0.0  0.000000  0.000000     0.0    0.0   \n",
       "4      0.026311  0.027317  0.000000  0.0  0.020158  0.000000     0.0    0.0   \n",
       "...         ...       ...       ...  ...       ...       ...     ...    ...   \n",
       "27349  0.000000  0.000000  0.000000  0.0  0.048280  0.000000     0.0    0.0   \n",
       "27350  0.000000  0.000000  0.000000  0.0  0.000000  0.000000     0.0    0.0   \n",
       "27351  0.000000  0.000000  0.000000  0.0  0.000000  0.085071     0.0    0.0   \n",
       "27352  0.000000  0.000000  0.032416  0.0  0.000000  0.000000     0.0    0.0   \n",
       "27353  0.000000  0.000000  0.000000  0.0  0.000000  0.028159     0.0    0.0   \n",
       "\n",
       "         zofran     zosyn  \n",
       "0      0.000000  0.000000  \n",
       "1      0.000000  0.000000  \n",
       "2      0.024782  0.000000  \n",
       "3      0.000000  0.000000  \n",
       "4      0.000000  0.027533  \n",
       "...         ...       ...  \n",
       "27349  0.000000  0.000000  \n",
       "27350  0.000000  0.000000  \n",
       "27351  0.000000  0.000000  \n",
       "27352  0.000000  0.000000  \n",
       "27353  0.000000  0.000000  \n",
       "\n",
       "[27354 rows x 3015 columns]"
      ]
     },
     "execution_count": 36,
     "metadata": {},
     "output_type": "execute_result"
    }
   ],
   "source": [
    "tfidf_train_2"
   ]
  },
  {
   "cell_type": "markdown",
   "id": "06fef3b3-c93c-480e-934d-da940d3c561e",
   "metadata": {
    "jp-MarkdownHeadingCollapsed": true,
    "tags": []
   },
   "source": [
    "### HashingVectorizer"
   ]
  },
  {
   "cell_type": "code",
   "execution_count": 20,
   "id": "59933771-9240-4089-be83-ee9c561ee9b8",
   "metadata": {},
   "outputs": [],
   "source": [
    "#hashvec = HashingVectorizer(stop_words=sw, token_pattern=pattern, n_features=max_features)"
   ]
  },
  {
   "cell_type": "code",
   "execution_count": 21,
   "id": "c0142c73-1701-4008-b250-b6eee2e7e89b",
   "metadata": {},
   "outputs": [],
   "source": [
    "#hash_train_df1, hash_val_df1, hash_test_df1, hash_train_df2, hash_val_df2, hash_test_df2 = vectorizing(hashvec, X_train, X_val, X_test)"
   ]
  },
  {
   "cell_type": "markdown",
   "id": "e27d6ab9-d787-4302-a6b6-cc37e770f3fb",
   "metadata": {
    "tags": []
   },
   "source": [
    "## Pipeline Parameters"
   ]
  },
  {
   "cell_type": "code",
   "execution_count": 27,
   "id": "0022a89a-a0c2-451b-8655-65f2f13792f9",
   "metadata": {},
   "outputs": [
    {
     "name": "stdout",
     "output_type": "stream",
     "text": [
      "<class 'pandas.core.frame.DataFrame'>\n",
      "RangeIndex: 45591 entries, 0 to 45590\n",
      "Data columns (total 17 columns):\n",
      " #   Column              Non-Null Count  Dtype \n",
      "---  ------              --------------  ----- \n",
      " 0   ADMISSION_TYPE      45591 non-null  object\n",
      " 1   ADMISSION_LOCATION  45591 non-null  object\n",
      " 2   DISCHARGE_LOCATION  45591 non-null  object\n",
      " 3   INSURANCE           45591 non-null  object\n",
      " 4   LANGUAGE            45591 non-null  object\n",
      " 5   RELIGION            45591 non-null  object\n",
      " 6   MARITAL_STATUS      45591 non-null  object\n",
      " 7   ETHNICITY           45591 non-null  object\n",
      " 8   DIAGNOSIS           45591 non-null  object\n",
      " 9   READMISSION         45591 non-null  int64 \n",
      " 10  GENDER              45591 non-null  object\n",
      " 11  AGE                 45591 non-null  int64 \n",
      " 12  TEXT                45591 non-null  object\n",
      " 13  CPT_CD              45591 non-null  object\n",
      " 14  DIAG_ICD9_CODE      45590 non-null  object\n",
      " 15  DRG_CODE            45591 non-null  object\n",
      " 16  PROCED_ICD9_CODE    45591 non-null  object\n",
      "dtypes: int64(2), object(15)\n",
      "memory usage: 5.9+ MB\n"
     ]
    }
   ],
   "source": [
    "df.info()"
   ]
  },
  {
   "cell_type": "code",
   "execution_count": 28,
   "id": "90a4fea4-b4dd-4367-aebf-dff617e8eced",
   "metadata": {},
   "outputs": [],
   "source": [
    "X_num = ['AGE']\n",
    "X_cat = df.drop(['AGE', 'READMISSION', 'TEXT'], axis=1).columns"
   ]
  },
  {
   "cell_type": "code",
   "execution_count": 29,
   "id": "dbb4d75f-a4e6-47f1-b5ef-61cdc212dbbc",
   "metadata": {},
   "outputs": [],
   "source": [
    "numTrans = Pipeline(steps=[\n",
    "    ('scaler', StandardScaler())\n",
    "    ])\n",
    "catTrans = Pipeline(steps=[\n",
    "    ('ohe', OneHotEncoder(sparse=False,\n",
    "                          handle_unknown='ignore'))\n",
    "    ])\n",
    "\n",
    "pp = ColumnTransformer(transformers=[\n",
    "    ('num', numTrans, X_num),\n",
    "    ('cat', catTrans, X_cat)\n",
    "    ])"
   ]
  },
  {
   "cell_type": "code",
   "execution_count": 25,
   "id": "32aa960d-56cb-4442-9f7e-744f91929e89",
   "metadata": {},
   "outputs": [],
   "source": [
    "count_train_2_scaled = pp.fit_transform(count_train_2)\n",
    "count_val_2_scaled = pp.transform(count_val_2)\n",
    "count_test_2_scaled = pp.transform(count_test_2)"
   ]
  },
  {
   "cell_type": "code",
   "execution_count": 38,
   "id": "619b1ddb-88be-4855-b7ba-25d5304fe31e",
   "metadata": {},
   "outputs": [
    {
     "data": {
      "text/plain": [
       "(27354, 66544)"
      ]
     },
     "execution_count": 38,
     "metadata": {},
     "output_type": "execute_result"
    }
   ],
   "source": [
    "tfidf_train_2_scaled.shape"
   ]
  },
  {
   "cell_type": "code",
   "execution_count": 26,
   "id": "740fc56d-89fe-4f97-9b4d-de7dd3006ce2",
   "metadata": {},
   "outputs": [
    {
     "ename": "RuntimeError",
     "evalue": "Given feature/column names do not match the ones for the data given during fit.",
     "output_type": "error",
     "traceback": [
      "\u001b[0;31m---------------------------------------------------------------------------\u001b[0m",
      "\u001b[0;31mRuntimeError\u001b[0m                              Traceback (most recent call last)",
      "\u001b[0;32m<ipython-input-26-f4b6fa44314a>\u001b[0m in \u001b[0;36m<module>\u001b[0;34m\u001b[0m\n\u001b[1;32m      1\u001b[0m \u001b[0mtfidf_train_2_scaled\u001b[0m \u001b[0;34m=\u001b[0m \u001b[0mpp\u001b[0m\u001b[0;34m.\u001b[0m\u001b[0mfit_transform\u001b[0m\u001b[0;34m(\u001b[0m\u001b[0mcount_train_2\u001b[0m\u001b[0;34m)\u001b[0m\u001b[0;34m\u001b[0m\u001b[0;34m\u001b[0m\u001b[0m\n\u001b[0;32m----> 2\u001b[0;31m \u001b[0mtfidf_val_2_scaled\u001b[0m \u001b[0;34m=\u001b[0m \u001b[0mpp\u001b[0m\u001b[0;34m.\u001b[0m\u001b[0mtransform\u001b[0m\u001b[0;34m(\u001b[0m\u001b[0mtfidf_val_2\u001b[0m\u001b[0;34m)\u001b[0m\u001b[0;34m\u001b[0m\u001b[0;34m\u001b[0m\u001b[0m\n\u001b[0m\u001b[1;32m      3\u001b[0m \u001b[0mtfidf_test_2_scaled\u001b[0m \u001b[0;34m=\u001b[0m \u001b[0mpp\u001b[0m\u001b[0;34m.\u001b[0m\u001b[0mtransform\u001b[0m\u001b[0;34m(\u001b[0m\u001b[0mtfidf_test_2\u001b[0m\u001b[0;34m)\u001b[0m\u001b[0;34m\u001b[0m\u001b[0;34m\u001b[0m\u001b[0m\n",
      "\u001b[0;32m~/opt/anaconda3/envs/main_env/lib/python3.8/site-packages/sklearn/compose/_column_transformer.py\u001b[0m in \u001b[0;36mtransform\u001b[0;34m(self, X)\u001b[0m\n\u001b[1;32m    558\u001b[0m             \u001b[0mX_feature_names\u001b[0m \u001b[0;32mis\u001b[0m \u001b[0;32mnot\u001b[0m \u001b[0;32mNone\u001b[0m \u001b[0;32mand\u001b[0m\u001b[0;34m\u001b[0m\u001b[0;34m\u001b[0m\u001b[0m\n\u001b[1;32m    559\u001b[0m                 np.any(self._feature_names_in != X_feature_names)):\n\u001b[0;32m--> 560\u001b[0;31m             raise RuntimeError(\n\u001b[0m\u001b[1;32m    561\u001b[0m                 \u001b[0;34m\"Given feature/column names do not match the ones for the \"\u001b[0m\u001b[0;34m\u001b[0m\u001b[0;34m\u001b[0m\u001b[0m\n\u001b[1;32m    562\u001b[0m                 \u001b[0;34m\"data given during fit.\"\u001b[0m\u001b[0;34m\u001b[0m\u001b[0;34m\u001b[0m\u001b[0m\n",
      "\u001b[0;31mRuntimeError\u001b[0m: Given feature/column names do not match the ones for the data given during fit."
     ]
    }
   ],
   "source": [
    "tfidf_train_2_scaled = pp.fit_transform(count_train_2)\n",
    "tfidf_val_2_scaled = pp.transform(tfidf_val_2)\n",
    "tfidf_test_2_scaled = pp.transform(tfidf_test_2)"
   ]
  },
  {
   "cell_type": "markdown",
   "id": "da225816-f143-46df-86c7-4b558b1e150e",
   "metadata": {},
   "source": [
    "## Modeling"
   ]
  },
  {
   "cell_type": "markdown",
   "id": "7c4703db-82d5-4a07-a229-48526a54dc6f",
   "metadata": {
    "tags": []
   },
   "source": [
    "### Model 0.1: Dummy Classification - Only Text Data"
   ]
  },
  {
   "cell_type": "code",
   "execution_count": null,
   "id": "0ba8b335-a947-471a-8d72-8ee1484b8054",
   "metadata": {},
   "outputs": [],
   "source": [
    "pp = Pipeline(steps=[\n",
    "    \n",
    "    ('ctrans', c_transform()),\n",
    "    \n",
    "    ])"
   ]
  },
  {
   "cell_type": "code",
   "execution_count": 30,
   "id": "ebc70fed-d6a7-4cab-8651-b3df08e4a8cd",
   "metadata": {},
   "outputs": [
    {
     "name": "stdout",
     "output_type": "stream",
     "text": [
      "Train Scores\n",
      "accuracy:  0.6197996636689332\n",
      "recall:    0.263393481605819\n",
      "Validation Scores\n",
      "accuracy:  0.6178986619872779\n",
      "recall:    0.2677297524129249\n",
      "Test Scores\n",
      "accuracy:  0.6224366706875754\n",
      "recall:    0.28451531682752834\n"
     ]
    },
    {
     "data": {
      "image/png": "[encoded data removed]",
      "text/plain": [
       "<Figure size 432x288 with 2 Axes>"
      ]
     },
     "metadata": {
      "needs_background": "light"
     },
     "output_type": "display_data"
    },
    {
     "data": {
      "image/png": "[encoded data removed]",
      "text/plain": [
       "<Figure size 432x288 with 2 Axes>"
      ]
     },
     "metadata": {
      "needs_background": "light"
     },
     "output_type": "display_data"
    },
    {
     "data": {
      "image/png": "[encoded data removed]",
      "text/plain": [
       "<Figure size 432x288 with 2 Axes>"
      ]
     },
     "metadata": {
      "needs_background": "light"
     },
     "output_type": "display_data"
    }
   ],
   "source": [
    "dummy_clf = DummyClassifier(strategy=\"stratified\")\n",
    "dummy_clf.fit(count_train_1, y_train)\n",
    "\n",
    "scores(dummy_clf, count_train_1, y_train, 'Train')\n",
    "scores(dummy_clf, count_val_1, y_val, 'Validation')\n",
    "scores(dummy_clf, count_test_1, y_test, 'Test')"
   ]
  },
  {
   "cell_type": "code",
   "execution_count": 31,
   "id": "4a9eb7f1-0ac4-4d39-87a8-c68166e46d06",
   "metadata": {},
   "outputs": [
    {
     "name": "stdout",
     "output_type": "stream",
     "text": [
      "Train Scores\n",
      "accuracy:  0.6141332163486145\n",
      "recall:    0.2657714365645545\n",
      "Validation Scores\n",
      "accuracy:  0.6151568326387366\n",
      "recall:    0.2555602182123374\n",
      "Test Scores\n",
      "accuracy:  0.620353108893519\n",
      "recall:    0.2723457826269408\n"
     ]
    },
    {
     "data": {
      "image/png": "[encoded data removed]",
      "text/plain": [
       "<Figure size 432x288 with 2 Axes>"
      ]
     },
     "metadata": {
      "needs_background": "light"
     },
     "output_type": "display_data"
    },
    {
     "data": {
      "image/png": "[encoded data removed]",
      "text/plain": [
       "<Figure size 432x288 with 2 Axes>"
      ]
     },
     "metadata": {
      "needs_background": "light"
     },
     "output_type": "display_data"
    },
    {
     "data": {
      "image/png": "[encoded data removed]",
      "text/plain": [
       "<Figure size 432x288 with 2 Axes>"
      ]
     },
     "metadata": {
      "needs_background": "light"
     },
     "output_type": "display_data"
    }
   ],
   "source": [
    "dummy_clf = DummyClassifier(strategy=\"stratified\")\n",
    "dummy_clf.fit(tfidf_train_1, y_train)\n",
    "\n",
    "scores(dummy_clf, tfidf_train_1, y_train, 'Train')\n",
    "scores(dummy_clf, tfidf_val_1, y_val, 'Validation')\n",
    "scores(dummy_clf, tfidf_test_1, y_test, 'Test')"
   ]
  },
  {
   "cell_type": "markdown",
   "id": "85b2ab75-d4e3-418b-aab4-3a6f3373d154",
   "metadata": {
    "tags": []
   },
   "source": [
    "### Model 0.2: Dummy Classification - Text + Additional Features"
   ]
  },
  {
   "cell_type": "code",
   "execution_count": 30,
   "id": "ca9c708d-1e8b-477e-b678-c120be1471fe",
   "metadata": {},
   "outputs": [
    {
     "name": "stdout",
     "output_type": "stream",
     "text": [
      "Train Scores\n",
      "accuracy:  0.6138773122760839\n",
      "recall:    0.26493215834382433\n",
      "Validation Scores\n",
      "accuracy:  0.6146084667690282\n",
      "recall:    0.2614351657574486\n",
      "Test Scores\n",
      "accuracy:  0.6164053075995175\n",
      "recall:    0.26017624842635334\n"
     ]
    },
    {
     "data": {
      "image/png": "[encoded data removed]",
      "text/plain": [
       "<Figure size 432x288 with 2 Axes>"
      ]
     },
     "metadata": {
      "needs_background": "light"
     },
     "output_type": "display_data"
    },
    {
     "data": {
      "image/png": "[encoded data removed]",
      "text/plain": [
       "<Figure size 432x288 with 2 Axes>"
      ]
     },
     "metadata": {
      "needs_background": "light"
     },
     "output_type": "display_data"
    },
    {
     "data": {
      "image/png": "[encoded data removed]",
      "text/plain": [
       "<Figure size 432x288 with 2 Axes>"
      ]
     },
     "metadata": {
      "needs_background": "light"
     },
     "output_type": "display_data"
    }
   ],
   "source": [
    "dummy_clf = DummyClassifier(strategy=\"stratified\")\n",
    "dummy_clf.fit(count_train_2_scaled, y_train)\n",
    "\n",
    "scores(dummy_clf, count_train_2_scaled, y_train, 'Train')\n",
    "scores(dummy_clf, count_val_2_scaled, y_val, 'Validation')\n",
    "scores(dummy_clf, count_test_2_scaled, y_test, 'Test')"
   ]
  },
  {
   "cell_type": "code",
   "execution_count": 31,
   "id": "0f89a11a-f7b7-4820-8438-66152e8bbf62",
   "metadata": {},
   "outputs": [
    {
     "name": "stdout",
     "output_type": "stream",
     "text": [
      "Train Scores\n",
      "accuracy:  0.6158514294070337\n",
      "recall:    0.2624143236816338\n",
      "Validation Scores\n",
      "accuracy:  0.6160342180302698\n",
      "recall:    0.2618548048678137\n",
      "Test Scores\n",
      "accuracy:  0.6098256387761816\n",
      "recall:    0.25346202266051193\n"
     ]
    },
    {
     "data": {
      "image/png": "[encoded data removed]",
      "text/plain": [
       "<Figure size 432x288 with 2 Axes>"
      ]
     },
     "metadata": {
      "needs_background": "light"
     },
     "output_type": "display_data"
    },
    {
     "data": {
      "image/png": "[encoded data removed]",
      "text/plain": [
       "<Figure size 432x288 with 2 Axes>"
      ]
     },
     "metadata": {
      "needs_background": "light"
     },
     "output_type": "display_data"
    },
    {
     "data": {
      "image/png": "[encoded data removed]",
      "text/plain": [
       "<Figure size 432x288 with 2 Axes>"
      ]
     },
     "metadata": {
      "needs_background": "light"
     },
     "output_type": "display_data"
    }
   ],
   "source": [
    "dummy_clf = DummyClassifier(strategy=\"stratified\")\n",
    "dummy_clf.fit(tfidf_train_2_scaled, y_train)\n",
    "\n",
    "scores(dummy_clf, tfidf_train_2_scaled, y_train, 'Train')\n",
    "scores(dummy_clf, tfidf_val_2_scaled, y_val, 'Validation')\n",
    "scores(dummy_clf, tfidf_test_2_scaled, y_test, 'Test')"
   ]
  },
  {
   "cell_type": "markdown",
   "id": "1a487271-0e52-4f4e-a09e-1818c32e9f0f",
   "metadata": {
    "tags": []
   },
   "source": [
    "### Model 1.1: Logistic Regression - Only Text Data"
   ]
  },
  {
   "cell_type": "code",
   "execution_count": 40,
   "id": "dfbae4f6-1d08-49e4-8ccd-33117f7de222",
   "metadata": {},
   "outputs": [
    {
     "name": "stderr",
     "output_type": "stream",
     "text": [
      "/Users/arthur/opt/anaconda3/envs/main_env/lib/python3.8/site-packages/sklearn/linear_model/_logistic.py:763: ConvergenceWarning: lbfgs failed to converge (status=1):\n",
      "STOP: TOTAL NO. of ITERATIONS REACHED LIMIT.\n",
      "\n",
      "Increase the number of iterations (max_iter) or scale the data as shown in:\n",
      "    https://scikit-learn.org/stable/modules/preprocessing.html\n",
      "Please also refer to the documentation for alternative solver options:\n",
      "    https://scikit-learn.org/stable/modules/linear_model.html#logistic-regression\n",
      "  n_iter_i = _check_optimize_result(\n"
     ]
    },
    {
     "name": "stdout",
     "output_type": "stream",
     "text": [
      "Train Scores\n",
      "accuracy:  0.8043064999634423\n",
      "recall:    0.4498531263113722\n",
      "Validation Scores\n",
      "accuracy:  0.7931563939460408\n",
      "recall:    0.43054972723457824\n",
      "Test Scores\n",
      "accuracy:  0.7864897466827503\n",
      "recall:    0.4208980276961813\n"
     ]
    },
    {
     "data": {
      "image/png": "[encoded data removed]",
      "text/plain": [
       "<Figure size 432x288 with 2 Axes>"
      ]
     },
     "metadata": {
      "needs_background": "light"
     },
     "output_type": "display_data"
    },
    {
     "data": {
      "image/png": "[encoded data removed]",
      "text/plain": [
       "<Figure size 432x288 with 2 Axes>"
      ]
     },
     "metadata": {
      "needs_background": "light"
     },
     "output_type": "display_data"
    },
    {
     "data": {
      "image/png": "[encoded data removed]",
      "text/plain": [
       "<Figure size 432x288 with 2 Axes>"
      ]
     },
     "metadata": {
      "needs_background": "light"
     },
     "output_type": "display_data"
    }
   ],
   "source": [
    "logreg = LogisticRegression(random_state=42)\n",
    "logreg.fit(count_train_1, y_train)\n",
    "\n",
    "scores(logreg, count_train_1, y_train, 'Train')\n",
    "scores(logreg, count_val_1, y_val, 'Validation')\n",
    "scores(logreg, count_test_1, y_test, 'Test')"
   ]
  },
  {
   "cell_type": "code",
   "execution_count": 43,
   "id": "d2146235-aa1f-457a-ac62-46550683869e",
   "metadata": {},
   "outputs": [],
   "source": [
    "output = logreg.predict(count_train_1)"
   ]
  },
  {
   "cell_type": "code",
   "execution_count": 44,
   "id": "c376d924-8ab2-4d7e-859f-2e5f6c010206",
   "metadata": {},
   "outputs": [
    {
     "data": {
      "text/plain": [
       "(27354,)"
      ]
     },
     "execution_count": 44,
     "metadata": {},
     "output_type": "execute_result"
    }
   ],
   "source": [
    "output.shape"
   ]
  },
  {
   "cell_type": "code",
   "execution_count": 33,
   "id": "15a2e576-c11f-45f4-b862-fb99c927d521",
   "metadata": {},
   "outputs": [
    {
     "name": "stderr",
     "output_type": "stream",
     "text": [
      "/Users/arthur/opt/anaconda3/envs/main_env/lib/python3.8/site-packages/sklearn/linear_model/_logistic.py:763: ConvergenceWarning: lbfgs failed to converge (status=1):\n",
      "STOP: TOTAL NO. of ITERATIONS REACHED LIMIT.\n",
      "\n",
      "Increase the number of iterations (max_iter) or scale the data as shown in:\n",
      "    https://scikit-learn.org/stable/modules/preprocessing.html\n",
      "Please also refer to the documentation for alternative solver options:\n",
      "    https://scikit-learn.org/stable/modules/linear_model.html#logistic-regression\n",
      "  n_iter_i = _check_optimize_result(\n"
     ]
    },
    {
     "name": "stdout",
     "output_type": "stream",
     "text": [
      "Train Scores\n",
      "accuracy:  0.8206478028807487\n",
      "recall:    0.4593649461463142\n",
      "Validation Scores\n",
      "accuracy:  0.7983110331212986\n",
      "recall:    0.4221569450272765\n",
      "Test Scores\n",
      "accuracy:  0.8012940015352561\n",
      "recall:    0.4385228703315149\n"
     ]
    },
    {
     "data": {
      "image/png": "[encoded data removed]",
      "text/plain": [
       "<Figure size 432x288 with 2 Axes>"
      ]
     },
     "metadata": {
      "needs_background": "light"
     },
     "output_type": "display_data"
    },
    {
     "data": {
      "image/png": "[encoded data removed]",
      "text/plain": [
       "<Figure size 432x288 with 2 Axes>"
      ]
     },
     "metadata": {
      "needs_background": "light"
     },
     "output_type": "display_data"
    },
    {
     "data": {
      "image/png": "[encoded data removed]",
      "text/plain": [
       "<Figure size 432x288 with 2 Axes>"
      ]
     },
     "metadata": {
      "needs_background": "light"
     },
     "output_type": "display_data"
    }
   ],
   "source": [
    "logreg = LogisticRegression(random_state=42)\n",
    "logreg.fit(tfidf_train_1, y_train)\n",
    "\n",
    "scores(logreg, tfidf_train_1, y_train, 'Train')\n",
    "scores(logreg, tfidf_val_1, y_val, 'Validation')\n",
    "scores(logreg, tfidf_test_1, y_test, 'Test')"
   ]
  },
  {
   "cell_type": "markdown",
   "id": "ea1e8efe-e623-4420-a0aa-99a0875668fd",
   "metadata": {
    "tags": []
   },
   "source": [
    "### Model 1.2: Logistic Regression - Text + Additional Features"
   ]
  },
  {
   "cell_type": "code",
   "execution_count": 34,
   "id": "26d87bdf-b3ac-49a7-b71e-2810d4b2a3a4",
   "metadata": {},
   "outputs": [
    {
     "ename": "KeyboardInterrupt",
     "evalue": "",
     "output_type": "error",
     "traceback": [
      "\u001b[0;31m---------------------------------------------------------------------------\u001b[0m",
      "\u001b[0;31mKeyboardInterrupt\u001b[0m                         Traceback (most recent call last)",
      "\u001b[0;32m<ipython-input-34-6fce5f25c510>\u001b[0m in \u001b[0;36m<module>\u001b[0;34m\u001b[0m\n\u001b[1;32m      1\u001b[0m \u001b[0mlogreg\u001b[0m \u001b[0;34m=\u001b[0m \u001b[0mLogisticRegression\u001b[0m\u001b[0;34m(\u001b[0m\u001b[0mrandom_state\u001b[0m\u001b[0;34m=\u001b[0m\u001b[0;36m42\u001b[0m\u001b[0;34m)\u001b[0m\u001b[0;34m\u001b[0m\u001b[0;34m\u001b[0m\u001b[0m\n\u001b[0;32m----> 2\u001b[0;31m \u001b[0mlogreg\u001b[0m\u001b[0;34m.\u001b[0m\u001b[0mfit\u001b[0m\u001b[0;34m(\u001b[0m\u001b[0mcount_train_2_scaled\u001b[0m\u001b[0;34m,\u001b[0m \u001b[0my_train\u001b[0m\u001b[0;34m)\u001b[0m\u001b[0;34m\u001b[0m\u001b[0;34m\u001b[0m\u001b[0m\n\u001b[0m\u001b[1;32m      3\u001b[0m \u001b[0;34m\u001b[0m\u001b[0m\n\u001b[1;32m      4\u001b[0m \u001b[0mscores\u001b[0m\u001b[0;34m(\u001b[0m\u001b[0mlogreg\u001b[0m\u001b[0;34m,\u001b[0m \u001b[0mcount_train_2_scaled\u001b[0m\u001b[0;34m,\u001b[0m \u001b[0my_train\u001b[0m\u001b[0;34m,\u001b[0m \u001b[0;34m'Train'\u001b[0m\u001b[0;34m)\u001b[0m\u001b[0;34m\u001b[0m\u001b[0;34m\u001b[0m\u001b[0m\n\u001b[1;32m      5\u001b[0m \u001b[0mscores\u001b[0m\u001b[0;34m(\u001b[0m\u001b[0mlogreg\u001b[0m\u001b[0;34m,\u001b[0m \u001b[0mcount_val_2_scaled\u001b[0m\u001b[0;34m,\u001b[0m \u001b[0my_val\u001b[0m\u001b[0;34m,\u001b[0m \u001b[0;34m'Validation'\u001b[0m\u001b[0;34m)\u001b[0m\u001b[0;34m\u001b[0m\u001b[0;34m\u001b[0m\u001b[0m\n",
      "\u001b[0;32m~/opt/anaconda3/envs/main_env/lib/python3.8/site-packages/sklearn/linear_model/_logistic.py\u001b[0m in \u001b[0;36mfit\u001b[0;34m(self, X, y, sample_weight)\u001b[0m\n\u001b[1;32m   1404\u001b[0m         \u001b[0;32melse\u001b[0m\u001b[0;34m:\u001b[0m\u001b[0;34m\u001b[0m\u001b[0;34m\u001b[0m\u001b[0m\n\u001b[1;32m   1405\u001b[0m             \u001b[0mprefer\u001b[0m \u001b[0;34m=\u001b[0m \u001b[0;34m'processes'\u001b[0m\u001b[0;34m\u001b[0m\u001b[0;34m\u001b[0m\u001b[0m\n\u001b[0;32m-> 1406\u001b[0;31m         fold_coefs_ = Parallel(n_jobs=self.n_jobs, verbose=self.verbose,\n\u001b[0m\u001b[1;32m   1407\u001b[0m                                \u001b[0;34m**\u001b[0m\u001b[0m_joblib_parallel_args\u001b[0m\u001b[0;34m(\u001b[0m\u001b[0mprefer\u001b[0m\u001b[0;34m=\u001b[0m\u001b[0mprefer\u001b[0m\u001b[0;34m)\u001b[0m\u001b[0;34m)\u001b[0m\u001b[0;34m(\u001b[0m\u001b[0;34m\u001b[0m\u001b[0;34m\u001b[0m\u001b[0m\n\u001b[1;32m   1408\u001b[0m             path_func(X, y, pos_class=class_, Cs=[C_],\n",
      "\u001b[0;32m~/opt/anaconda3/envs/main_env/lib/python3.8/site-packages/joblib/parallel.py\u001b[0m in \u001b[0;36m__call__\u001b[0;34m(self, iterable)\u001b[0m\n\u001b[1;32m   1039\u001b[0m             \u001b[0;31m# remaining jobs.\u001b[0m\u001b[0;34m\u001b[0m\u001b[0;34m\u001b[0m\u001b[0;34m\u001b[0m\u001b[0m\n\u001b[1;32m   1040\u001b[0m             \u001b[0mself\u001b[0m\u001b[0;34m.\u001b[0m\u001b[0m_iterating\u001b[0m \u001b[0;34m=\u001b[0m \u001b[0;32mFalse\u001b[0m\u001b[0;34m\u001b[0m\u001b[0;34m\u001b[0m\u001b[0m\n\u001b[0;32m-> 1041\u001b[0;31m             \u001b[0;32mif\u001b[0m \u001b[0mself\u001b[0m\u001b[0;34m.\u001b[0m\u001b[0mdispatch_one_batch\u001b[0m\u001b[0;34m(\u001b[0m\u001b[0miterator\u001b[0m\u001b[0;34m)\u001b[0m\u001b[0;34m:\u001b[0m\u001b[0;34m\u001b[0m\u001b[0;34m\u001b[0m\u001b[0m\n\u001b[0m\u001b[1;32m   1042\u001b[0m                 \u001b[0mself\u001b[0m\u001b[0;34m.\u001b[0m\u001b[0m_iterating\u001b[0m \u001b[0;34m=\u001b[0m \u001b[0mself\u001b[0m\u001b[0;34m.\u001b[0m\u001b[0m_original_iterator\u001b[0m \u001b[0;32mis\u001b[0m \u001b[0;32mnot\u001b[0m \u001b[0;32mNone\u001b[0m\u001b[0;34m\u001b[0m\u001b[0;34m\u001b[0m\u001b[0m\n\u001b[1;32m   1043\u001b[0m \u001b[0;34m\u001b[0m\u001b[0m\n",
      "\u001b[0;32m~/opt/anaconda3/envs/main_env/lib/python3.8/site-packages/joblib/parallel.py\u001b[0m in \u001b[0;36mdispatch_one_batch\u001b[0;34m(self, iterator)\u001b[0m\n\u001b[1;32m    857\u001b[0m                 \u001b[0;32mreturn\u001b[0m \u001b[0;32mFalse\u001b[0m\u001b[0;34m\u001b[0m\u001b[0;34m\u001b[0m\u001b[0m\n\u001b[1;32m    858\u001b[0m             \u001b[0;32melse\u001b[0m\u001b[0;34m:\u001b[0m\u001b[0;34m\u001b[0m\u001b[0;34m\u001b[0m\u001b[0m\n\u001b[0;32m--> 859\u001b[0;31m                 \u001b[0mself\u001b[0m\u001b[0;34m.\u001b[0m\u001b[0m_dispatch\u001b[0m\u001b[0;34m(\u001b[0m\u001b[0mtasks\u001b[0m\u001b[0;34m)\u001b[0m\u001b[0;34m\u001b[0m\u001b[0;34m\u001b[0m\u001b[0m\n\u001b[0m\u001b[1;32m    860\u001b[0m                 \u001b[0;32mreturn\u001b[0m \u001b[0;32mTrue\u001b[0m\u001b[0;34m\u001b[0m\u001b[0;34m\u001b[0m\u001b[0m\n\u001b[1;32m    861\u001b[0m \u001b[0;34m\u001b[0m\u001b[0m\n",
      "\u001b[0;32m~/opt/anaconda3/envs/main_env/lib/python3.8/site-packages/joblib/parallel.py\u001b[0m in \u001b[0;36m_dispatch\u001b[0;34m(self, batch)\u001b[0m\n\u001b[1;32m    775\u001b[0m         \u001b[0;32mwith\u001b[0m \u001b[0mself\u001b[0m\u001b[0;34m.\u001b[0m\u001b[0m_lock\u001b[0m\u001b[0;34m:\u001b[0m\u001b[0;34m\u001b[0m\u001b[0;34m\u001b[0m\u001b[0m\n\u001b[1;32m    776\u001b[0m             \u001b[0mjob_idx\u001b[0m \u001b[0;34m=\u001b[0m \u001b[0mlen\u001b[0m\u001b[0;34m(\u001b[0m\u001b[0mself\u001b[0m\u001b[0;34m.\u001b[0m\u001b[0m_jobs\u001b[0m\u001b[0;34m)\u001b[0m\u001b[0;34m\u001b[0m\u001b[0;34m\u001b[0m\u001b[0m\n\u001b[0;32m--> 777\u001b[0;31m             \u001b[0mjob\u001b[0m \u001b[0;34m=\u001b[0m \u001b[0mself\u001b[0m\u001b[0;34m.\u001b[0m\u001b[0m_backend\u001b[0m\u001b[0;34m.\u001b[0m\u001b[0mapply_async\u001b[0m\u001b[0;34m(\u001b[0m\u001b[0mbatch\u001b[0m\u001b[0;34m,\u001b[0m \u001b[0mcallback\u001b[0m\u001b[0;34m=\u001b[0m\u001b[0mcb\u001b[0m\u001b[0;34m)\u001b[0m\u001b[0;34m\u001b[0m\u001b[0;34m\u001b[0m\u001b[0m\n\u001b[0m\u001b[1;32m    778\u001b[0m             \u001b[0;31m# A job can complete so quickly than its callback is\u001b[0m\u001b[0;34m\u001b[0m\u001b[0;34m\u001b[0m\u001b[0;34m\u001b[0m\u001b[0m\n\u001b[1;32m    779\u001b[0m             \u001b[0;31m# called before we get here, causing self._jobs to\u001b[0m\u001b[0;34m\u001b[0m\u001b[0;34m\u001b[0m\u001b[0;34m\u001b[0m\u001b[0m\n",
      "\u001b[0;32m~/opt/anaconda3/envs/main_env/lib/python3.8/site-packages/joblib/_parallel_backends.py\u001b[0m in \u001b[0;36mapply_async\u001b[0;34m(self, func, callback)\u001b[0m\n\u001b[1;32m    206\u001b[0m     \u001b[0;32mdef\u001b[0m \u001b[0mapply_async\u001b[0m\u001b[0;34m(\u001b[0m\u001b[0mself\u001b[0m\u001b[0;34m,\u001b[0m \u001b[0mfunc\u001b[0m\u001b[0;34m,\u001b[0m \u001b[0mcallback\u001b[0m\u001b[0;34m=\u001b[0m\u001b[0;32mNone\u001b[0m\u001b[0;34m)\u001b[0m\u001b[0;34m:\u001b[0m\u001b[0;34m\u001b[0m\u001b[0;34m\u001b[0m\u001b[0m\n\u001b[1;32m    207\u001b[0m         \u001b[0;34m\"\"\"Schedule a func to be run\"\"\"\u001b[0m\u001b[0;34m\u001b[0m\u001b[0;34m\u001b[0m\u001b[0m\n\u001b[0;32m--> 208\u001b[0;31m         \u001b[0mresult\u001b[0m \u001b[0;34m=\u001b[0m \u001b[0mImmediateResult\u001b[0m\u001b[0;34m(\u001b[0m\u001b[0mfunc\u001b[0m\u001b[0;34m)\u001b[0m\u001b[0;34m\u001b[0m\u001b[0;34m\u001b[0m\u001b[0m\n\u001b[0m\u001b[1;32m    209\u001b[0m         \u001b[0;32mif\u001b[0m \u001b[0mcallback\u001b[0m\u001b[0;34m:\u001b[0m\u001b[0;34m\u001b[0m\u001b[0;34m\u001b[0m\u001b[0m\n\u001b[1;32m    210\u001b[0m             \u001b[0mcallback\u001b[0m\u001b[0;34m(\u001b[0m\u001b[0mresult\u001b[0m\u001b[0;34m)\u001b[0m\u001b[0;34m\u001b[0m\u001b[0;34m\u001b[0m\u001b[0m\n",
      "\u001b[0;32m~/opt/anaconda3/envs/main_env/lib/python3.8/site-packages/joblib/_parallel_backends.py\u001b[0m in \u001b[0;36m__init__\u001b[0;34m(self, batch)\u001b[0m\n\u001b[1;32m    570\u001b[0m         \u001b[0;31m# Don't delay the application, to avoid keeping the input\u001b[0m\u001b[0;34m\u001b[0m\u001b[0;34m\u001b[0m\u001b[0;34m\u001b[0m\u001b[0m\n\u001b[1;32m    571\u001b[0m         \u001b[0;31m# arguments in memory\u001b[0m\u001b[0;34m\u001b[0m\u001b[0;34m\u001b[0m\u001b[0;34m\u001b[0m\u001b[0m\n\u001b[0;32m--> 572\u001b[0;31m         \u001b[0mself\u001b[0m\u001b[0;34m.\u001b[0m\u001b[0mresults\u001b[0m \u001b[0;34m=\u001b[0m \u001b[0mbatch\u001b[0m\u001b[0;34m(\u001b[0m\u001b[0;34m)\u001b[0m\u001b[0;34m\u001b[0m\u001b[0;34m\u001b[0m\u001b[0m\n\u001b[0m\u001b[1;32m    573\u001b[0m \u001b[0;34m\u001b[0m\u001b[0m\n\u001b[1;32m    574\u001b[0m     \u001b[0;32mdef\u001b[0m \u001b[0mget\u001b[0m\u001b[0;34m(\u001b[0m\u001b[0mself\u001b[0m\u001b[0;34m)\u001b[0m\u001b[0;34m:\u001b[0m\u001b[0;34m\u001b[0m\u001b[0;34m\u001b[0m\u001b[0m\n",
      "\u001b[0;32m~/opt/anaconda3/envs/main_env/lib/python3.8/site-packages/joblib/parallel.py\u001b[0m in \u001b[0;36m__call__\u001b[0;34m(self)\u001b[0m\n\u001b[1;32m    260\u001b[0m         \u001b[0;31m# change the default number of processes to -1\u001b[0m\u001b[0;34m\u001b[0m\u001b[0;34m\u001b[0m\u001b[0;34m\u001b[0m\u001b[0m\n\u001b[1;32m    261\u001b[0m         \u001b[0;32mwith\u001b[0m \u001b[0mparallel_backend\u001b[0m\u001b[0;34m(\u001b[0m\u001b[0mself\u001b[0m\u001b[0;34m.\u001b[0m\u001b[0m_backend\u001b[0m\u001b[0;34m,\u001b[0m \u001b[0mn_jobs\u001b[0m\u001b[0;34m=\u001b[0m\u001b[0mself\u001b[0m\u001b[0;34m.\u001b[0m\u001b[0m_n_jobs\u001b[0m\u001b[0;34m)\u001b[0m\u001b[0;34m:\u001b[0m\u001b[0;34m\u001b[0m\u001b[0;34m\u001b[0m\u001b[0m\n\u001b[0;32m--> 262\u001b[0;31m             return [func(*args, **kwargs)\n\u001b[0m\u001b[1;32m    263\u001b[0m                     for func, args, kwargs in self.items]\n\u001b[1;32m    264\u001b[0m \u001b[0;34m\u001b[0m\u001b[0m\n",
      "\u001b[0;32m~/opt/anaconda3/envs/main_env/lib/python3.8/site-packages/joblib/parallel.py\u001b[0m in \u001b[0;36m<listcomp>\u001b[0;34m(.0)\u001b[0m\n\u001b[1;32m    260\u001b[0m         \u001b[0;31m# change the default number of processes to -1\u001b[0m\u001b[0;34m\u001b[0m\u001b[0;34m\u001b[0m\u001b[0;34m\u001b[0m\u001b[0m\n\u001b[1;32m    261\u001b[0m         \u001b[0;32mwith\u001b[0m \u001b[0mparallel_backend\u001b[0m\u001b[0;34m(\u001b[0m\u001b[0mself\u001b[0m\u001b[0;34m.\u001b[0m\u001b[0m_backend\u001b[0m\u001b[0;34m,\u001b[0m \u001b[0mn_jobs\u001b[0m\u001b[0;34m=\u001b[0m\u001b[0mself\u001b[0m\u001b[0;34m.\u001b[0m\u001b[0m_n_jobs\u001b[0m\u001b[0;34m)\u001b[0m\u001b[0;34m:\u001b[0m\u001b[0;34m\u001b[0m\u001b[0;34m\u001b[0m\u001b[0m\n\u001b[0;32m--> 262\u001b[0;31m             return [func(*args, **kwargs)\n\u001b[0m\u001b[1;32m    263\u001b[0m                     for func, args, kwargs in self.items]\n\u001b[1;32m    264\u001b[0m \u001b[0;34m\u001b[0m\u001b[0m\n",
      "\u001b[0;32m~/opt/anaconda3/envs/main_env/lib/python3.8/site-packages/sklearn/utils/fixes.py\u001b[0m in \u001b[0;36m__call__\u001b[0;34m(self, *args, **kwargs)\u001b[0m\n\u001b[1;32m    220\u001b[0m     \u001b[0;32mdef\u001b[0m \u001b[0m__call__\u001b[0m\u001b[0;34m(\u001b[0m\u001b[0mself\u001b[0m\u001b[0;34m,\u001b[0m \u001b[0;34m*\u001b[0m\u001b[0margs\u001b[0m\u001b[0;34m,\u001b[0m \u001b[0;34m**\u001b[0m\u001b[0mkwargs\u001b[0m\u001b[0;34m)\u001b[0m\u001b[0;34m:\u001b[0m\u001b[0;34m\u001b[0m\u001b[0;34m\u001b[0m\u001b[0m\n\u001b[1;32m    221\u001b[0m         \u001b[0;32mwith\u001b[0m \u001b[0mconfig_context\u001b[0m\u001b[0;34m(\u001b[0m\u001b[0;34m**\u001b[0m\u001b[0mself\u001b[0m\u001b[0;34m.\u001b[0m\u001b[0mconfig\u001b[0m\u001b[0;34m)\u001b[0m\u001b[0;34m:\u001b[0m\u001b[0;34m\u001b[0m\u001b[0;34m\u001b[0m\u001b[0m\n\u001b[0;32m--> 222\u001b[0;31m             \u001b[0;32mreturn\u001b[0m \u001b[0mself\u001b[0m\u001b[0;34m.\u001b[0m\u001b[0mfunction\u001b[0m\u001b[0;34m(\u001b[0m\u001b[0;34m*\u001b[0m\u001b[0margs\u001b[0m\u001b[0;34m,\u001b[0m \u001b[0;34m**\u001b[0m\u001b[0mkwargs\u001b[0m\u001b[0;34m)\u001b[0m\u001b[0;34m\u001b[0m\u001b[0;34m\u001b[0m\u001b[0m\n\u001b[0m",
      "\u001b[0;32m~/opt/anaconda3/envs/main_env/lib/python3.8/site-packages/sklearn/linear_model/_logistic.py\u001b[0m in \u001b[0;36m_logistic_regression_path\u001b[0;34m(X, y, pos_class, Cs, fit_intercept, max_iter, tol, verbose, solver, coef, class_weight, dual, penalty, intercept_scaling, multi_class, random_state, check_input, max_squared_sum, sample_weight, l1_ratio)\u001b[0m\n\u001b[1;32m    756\u001b[0m             iprint = [-1, 50, 1, 100, 101][\n\u001b[1;32m    757\u001b[0m                 np.searchsorted(np.array([0, 1, 2, 3]), verbose)]\n\u001b[0;32m--> 758\u001b[0;31m             opt_res = optimize.minimize(\n\u001b[0m\u001b[1;32m    759\u001b[0m                 \u001b[0mfunc\u001b[0m\u001b[0;34m,\u001b[0m \u001b[0mw0\u001b[0m\u001b[0;34m,\u001b[0m \u001b[0mmethod\u001b[0m\u001b[0;34m=\u001b[0m\u001b[0;34m\"L-BFGS-B\"\u001b[0m\u001b[0;34m,\u001b[0m \u001b[0mjac\u001b[0m\u001b[0;34m=\u001b[0m\u001b[0;32mTrue\u001b[0m\u001b[0;34m,\u001b[0m\u001b[0;34m\u001b[0m\u001b[0;34m\u001b[0m\u001b[0m\n\u001b[1;32m    760\u001b[0m                 \u001b[0margs\u001b[0m\u001b[0;34m=\u001b[0m\u001b[0;34m(\u001b[0m\u001b[0mX\u001b[0m\u001b[0;34m,\u001b[0m \u001b[0mtarget\u001b[0m\u001b[0;34m,\u001b[0m \u001b[0;36m1.\u001b[0m \u001b[0;34m/\u001b[0m \u001b[0mC\u001b[0m\u001b[0;34m,\u001b[0m \u001b[0msample_weight\u001b[0m\u001b[0;34m)\u001b[0m\u001b[0;34m,\u001b[0m\u001b[0;34m\u001b[0m\u001b[0;34m\u001b[0m\u001b[0m\n",
      "\u001b[0;32m~/opt/anaconda3/envs/main_env/lib/python3.8/site-packages/scipy/optimize/_minimize.py\u001b[0m in \u001b[0;36mminimize\u001b[0;34m(fun, x0, args, method, jac, hess, hessp, bounds, constraints, tol, callback, options)\u001b[0m\n\u001b[1;32m    621\u001b[0m                                   **options)\n\u001b[1;32m    622\u001b[0m     \u001b[0;32melif\u001b[0m \u001b[0mmeth\u001b[0m \u001b[0;34m==\u001b[0m \u001b[0;34m'l-bfgs-b'\u001b[0m\u001b[0;34m:\u001b[0m\u001b[0;34m\u001b[0m\u001b[0;34m\u001b[0m\u001b[0m\n\u001b[0;32m--> 623\u001b[0;31m         return _minimize_lbfgsb(fun, x0, args, jac, bounds,\n\u001b[0m\u001b[1;32m    624\u001b[0m                                 callback=callback, **options)\n\u001b[1;32m    625\u001b[0m     \u001b[0;32melif\u001b[0m \u001b[0mmeth\u001b[0m \u001b[0;34m==\u001b[0m \u001b[0;34m'tnc'\u001b[0m\u001b[0;34m:\u001b[0m\u001b[0;34m\u001b[0m\u001b[0;34m\u001b[0m\u001b[0m\n",
      "\u001b[0;32m~/opt/anaconda3/envs/main_env/lib/python3.8/site-packages/scipy/optimize/lbfgsb.py\u001b[0m in \u001b[0;36m_minimize_lbfgsb\u001b[0;34m(fun, x0, args, jac, bounds, disp, maxcor, ftol, gtol, eps, maxfun, maxiter, iprint, callback, maxls, finite_diff_rel_step, **unknown_options)\u001b[0m\n\u001b[1;32m    358\u001b[0m             \u001b[0;31m# until the completion of the current minimization iteration.\u001b[0m\u001b[0;34m\u001b[0m\u001b[0;34m\u001b[0m\u001b[0;34m\u001b[0m\u001b[0m\n\u001b[1;32m    359\u001b[0m             \u001b[0;31m# Overwrite f and g:\u001b[0m\u001b[0;34m\u001b[0m\u001b[0;34m\u001b[0m\u001b[0;34m\u001b[0m\u001b[0m\n\u001b[0;32m--> 360\u001b[0;31m             \u001b[0mf\u001b[0m\u001b[0;34m,\u001b[0m \u001b[0mg\u001b[0m \u001b[0;34m=\u001b[0m \u001b[0mfunc_and_grad\u001b[0m\u001b[0;34m(\u001b[0m\u001b[0mx\u001b[0m\u001b[0;34m)\u001b[0m\u001b[0;34m\u001b[0m\u001b[0;34m\u001b[0m\u001b[0m\n\u001b[0m\u001b[1;32m    361\u001b[0m         \u001b[0;32melif\u001b[0m \u001b[0mtask_str\u001b[0m\u001b[0;34m.\u001b[0m\u001b[0mstartswith\u001b[0m\u001b[0;34m(\u001b[0m\u001b[0;34mb'NEW_X'\u001b[0m\u001b[0;34m)\u001b[0m\u001b[0;34m:\u001b[0m\u001b[0;34m\u001b[0m\u001b[0;34m\u001b[0m\u001b[0m\n\u001b[1;32m    362\u001b[0m             \u001b[0;31m# new iteration\u001b[0m\u001b[0;34m\u001b[0m\u001b[0;34m\u001b[0m\u001b[0;34m\u001b[0m\u001b[0m\n",
      "\u001b[0;32m~/opt/anaconda3/envs/main_env/lib/python3.8/site-packages/scipy/optimize/_differentiable_functions.py\u001b[0m in \u001b[0;36mfun_and_grad\u001b[0;34m(self, x)\u001b[0m\n\u001b[1;32m    265\u001b[0m         \u001b[0;32mif\u001b[0m \u001b[0;32mnot\u001b[0m \u001b[0mnp\u001b[0m\u001b[0;34m.\u001b[0m\u001b[0marray_equal\u001b[0m\u001b[0;34m(\u001b[0m\u001b[0mx\u001b[0m\u001b[0;34m,\u001b[0m \u001b[0mself\u001b[0m\u001b[0;34m.\u001b[0m\u001b[0mx\u001b[0m\u001b[0;34m)\u001b[0m\u001b[0;34m:\u001b[0m\u001b[0;34m\u001b[0m\u001b[0;34m\u001b[0m\u001b[0m\n\u001b[1;32m    266\u001b[0m             \u001b[0mself\u001b[0m\u001b[0;34m.\u001b[0m\u001b[0m_update_x_impl\u001b[0m\u001b[0;34m(\u001b[0m\u001b[0mx\u001b[0m\u001b[0;34m)\u001b[0m\u001b[0;34m\u001b[0m\u001b[0;34m\u001b[0m\u001b[0m\n\u001b[0;32m--> 267\u001b[0;31m         \u001b[0mself\u001b[0m\u001b[0;34m.\u001b[0m\u001b[0m_update_fun\u001b[0m\u001b[0;34m(\u001b[0m\u001b[0;34m)\u001b[0m\u001b[0;34m\u001b[0m\u001b[0;34m\u001b[0m\u001b[0m\n\u001b[0m\u001b[1;32m    268\u001b[0m         \u001b[0mself\u001b[0m\u001b[0;34m.\u001b[0m\u001b[0m_update_grad\u001b[0m\u001b[0;34m(\u001b[0m\u001b[0;34m)\u001b[0m\u001b[0;34m\u001b[0m\u001b[0;34m\u001b[0m\u001b[0m\n\u001b[1;32m    269\u001b[0m         \u001b[0;32mreturn\u001b[0m \u001b[0mself\u001b[0m\u001b[0;34m.\u001b[0m\u001b[0mf\u001b[0m\u001b[0;34m,\u001b[0m \u001b[0mself\u001b[0m\u001b[0;34m.\u001b[0m\u001b[0mg\u001b[0m\u001b[0;34m\u001b[0m\u001b[0;34m\u001b[0m\u001b[0m\n",
      "\u001b[0;32m~/opt/anaconda3/envs/main_env/lib/python3.8/site-packages/scipy/optimize/_differentiable_functions.py\u001b[0m in \u001b[0;36m_update_fun\u001b[0;34m(self)\u001b[0m\n\u001b[1;32m    231\u001b[0m     \u001b[0;32mdef\u001b[0m \u001b[0m_update_fun\u001b[0m\u001b[0;34m(\u001b[0m\u001b[0mself\u001b[0m\u001b[0;34m)\u001b[0m\u001b[0;34m:\u001b[0m\u001b[0;34m\u001b[0m\u001b[0;34m\u001b[0m\u001b[0m\n\u001b[1;32m    232\u001b[0m         \u001b[0;32mif\u001b[0m \u001b[0;32mnot\u001b[0m \u001b[0mself\u001b[0m\u001b[0;34m.\u001b[0m\u001b[0mf_updated\u001b[0m\u001b[0;34m:\u001b[0m\u001b[0;34m\u001b[0m\u001b[0;34m\u001b[0m\u001b[0m\n\u001b[0;32m--> 233\u001b[0;31m             \u001b[0mself\u001b[0m\u001b[0;34m.\u001b[0m\u001b[0m_update_fun_impl\u001b[0m\u001b[0;34m(\u001b[0m\u001b[0;34m)\u001b[0m\u001b[0;34m\u001b[0m\u001b[0;34m\u001b[0m\u001b[0m\n\u001b[0m\u001b[1;32m    234\u001b[0m             \u001b[0mself\u001b[0m\u001b[0;34m.\u001b[0m\u001b[0mf_updated\u001b[0m \u001b[0;34m=\u001b[0m \u001b[0;32mTrue\u001b[0m\u001b[0;34m\u001b[0m\u001b[0;34m\u001b[0m\u001b[0m\n\u001b[1;32m    235\u001b[0m \u001b[0;34m\u001b[0m\u001b[0m\n",
      "\u001b[0;32m~/opt/anaconda3/envs/main_env/lib/python3.8/site-packages/scipy/optimize/_differentiable_functions.py\u001b[0m in \u001b[0;36mupdate_fun\u001b[0;34m()\u001b[0m\n\u001b[1;32m    135\u001b[0m \u001b[0;34m\u001b[0m\u001b[0m\n\u001b[1;32m    136\u001b[0m         \u001b[0;32mdef\u001b[0m \u001b[0mupdate_fun\u001b[0m\u001b[0;34m(\u001b[0m\u001b[0;34m)\u001b[0m\u001b[0;34m:\u001b[0m\u001b[0;34m\u001b[0m\u001b[0;34m\u001b[0m\u001b[0m\n\u001b[0;32m--> 137\u001b[0;31m             \u001b[0mself\u001b[0m\u001b[0;34m.\u001b[0m\u001b[0mf\u001b[0m \u001b[0;34m=\u001b[0m \u001b[0mfun_wrapped\u001b[0m\u001b[0;34m(\u001b[0m\u001b[0mself\u001b[0m\u001b[0;34m.\u001b[0m\u001b[0mx\u001b[0m\u001b[0;34m)\u001b[0m\u001b[0;34m\u001b[0m\u001b[0;34m\u001b[0m\u001b[0m\n\u001b[0m\u001b[1;32m    138\u001b[0m \u001b[0;34m\u001b[0m\u001b[0m\n\u001b[1;32m    139\u001b[0m         \u001b[0mself\u001b[0m\u001b[0;34m.\u001b[0m\u001b[0m_update_fun_impl\u001b[0m \u001b[0;34m=\u001b[0m \u001b[0mupdate_fun\u001b[0m\u001b[0;34m\u001b[0m\u001b[0;34m\u001b[0m\u001b[0m\n",
      "\u001b[0;32m~/opt/anaconda3/envs/main_env/lib/python3.8/site-packages/scipy/optimize/_differentiable_functions.py\u001b[0m in \u001b[0;36mfun_wrapped\u001b[0;34m(x)\u001b[0m\n\u001b[1;32m    132\u001b[0m             \u001b[0;31m# Overwriting results in undefined behaviour because\u001b[0m\u001b[0;34m\u001b[0m\u001b[0;34m\u001b[0m\u001b[0;34m\u001b[0m\u001b[0m\n\u001b[1;32m    133\u001b[0m             \u001b[0;31m# fun(self.x) will change self.x, with the two no longer linked.\u001b[0m\u001b[0;34m\u001b[0m\u001b[0;34m\u001b[0m\u001b[0;34m\u001b[0m\u001b[0m\n\u001b[0;32m--> 134\u001b[0;31m             \u001b[0;32mreturn\u001b[0m \u001b[0mfun\u001b[0m\u001b[0;34m(\u001b[0m\u001b[0mnp\u001b[0m\u001b[0;34m.\u001b[0m\u001b[0mcopy\u001b[0m\u001b[0;34m(\u001b[0m\u001b[0mx\u001b[0m\u001b[0;34m)\u001b[0m\u001b[0;34m,\u001b[0m \u001b[0;34m*\u001b[0m\u001b[0margs\u001b[0m\u001b[0;34m)\u001b[0m\u001b[0;34m\u001b[0m\u001b[0;34m\u001b[0m\u001b[0m\n\u001b[0m\u001b[1;32m    135\u001b[0m \u001b[0;34m\u001b[0m\u001b[0m\n\u001b[1;32m    136\u001b[0m         \u001b[0;32mdef\u001b[0m \u001b[0mupdate_fun\u001b[0m\u001b[0;34m(\u001b[0m\u001b[0;34m)\u001b[0m\u001b[0;34m:\u001b[0m\u001b[0;34m\u001b[0m\u001b[0;34m\u001b[0m\u001b[0m\n",
      "\u001b[0;32m~/opt/anaconda3/envs/main_env/lib/python3.8/site-packages/scipy/optimize/optimize.py\u001b[0m in \u001b[0;36m__call__\u001b[0;34m(self, x, *args)\u001b[0m\n\u001b[1;32m     72\u001b[0m     \u001b[0;32mdef\u001b[0m \u001b[0m__call__\u001b[0m\u001b[0;34m(\u001b[0m\u001b[0mself\u001b[0m\u001b[0;34m,\u001b[0m \u001b[0mx\u001b[0m\u001b[0;34m,\u001b[0m \u001b[0;34m*\u001b[0m\u001b[0margs\u001b[0m\u001b[0;34m)\u001b[0m\u001b[0;34m:\u001b[0m\u001b[0;34m\u001b[0m\u001b[0;34m\u001b[0m\u001b[0m\n\u001b[1;32m     73\u001b[0m         \u001b[0;34m\"\"\" returns the the function value \"\"\"\u001b[0m\u001b[0;34m\u001b[0m\u001b[0;34m\u001b[0m\u001b[0m\n\u001b[0;32m---> 74\u001b[0;31m         \u001b[0mself\u001b[0m\u001b[0;34m.\u001b[0m\u001b[0m_compute_if_needed\u001b[0m\u001b[0;34m(\u001b[0m\u001b[0mx\u001b[0m\u001b[0;34m,\u001b[0m \u001b[0;34m*\u001b[0m\u001b[0margs\u001b[0m\u001b[0;34m)\u001b[0m\u001b[0;34m\u001b[0m\u001b[0;34m\u001b[0m\u001b[0m\n\u001b[0m\u001b[1;32m     75\u001b[0m         \u001b[0;32mreturn\u001b[0m \u001b[0mself\u001b[0m\u001b[0;34m.\u001b[0m\u001b[0m_value\u001b[0m\u001b[0;34m\u001b[0m\u001b[0;34m\u001b[0m\u001b[0m\n\u001b[1;32m     76\u001b[0m \u001b[0;34m\u001b[0m\u001b[0m\n",
      "\u001b[0;32m~/opt/anaconda3/envs/main_env/lib/python3.8/site-packages/scipy/optimize/optimize.py\u001b[0m in \u001b[0;36m_compute_if_needed\u001b[0;34m(self, x, *args)\u001b[0m\n\u001b[1;32m     66\u001b[0m         \u001b[0;32mif\u001b[0m \u001b[0;32mnot\u001b[0m \u001b[0mnp\u001b[0m\u001b[0;34m.\u001b[0m\u001b[0mall\u001b[0m\u001b[0;34m(\u001b[0m\u001b[0mx\u001b[0m \u001b[0;34m==\u001b[0m \u001b[0mself\u001b[0m\u001b[0;34m.\u001b[0m\u001b[0mx\u001b[0m\u001b[0;34m)\u001b[0m \u001b[0;32mor\u001b[0m \u001b[0mself\u001b[0m\u001b[0;34m.\u001b[0m\u001b[0m_value\u001b[0m \u001b[0;32mis\u001b[0m \u001b[0;32mNone\u001b[0m \u001b[0;32mor\u001b[0m \u001b[0mself\u001b[0m\u001b[0;34m.\u001b[0m\u001b[0mjac\u001b[0m \u001b[0;32mis\u001b[0m \u001b[0;32mNone\u001b[0m\u001b[0;34m:\u001b[0m\u001b[0;34m\u001b[0m\u001b[0;34m\u001b[0m\u001b[0m\n\u001b[1;32m     67\u001b[0m             \u001b[0mself\u001b[0m\u001b[0;34m.\u001b[0m\u001b[0mx\u001b[0m \u001b[0;34m=\u001b[0m \u001b[0mnp\u001b[0m\u001b[0;34m.\u001b[0m\u001b[0masarray\u001b[0m\u001b[0;34m(\u001b[0m\u001b[0mx\u001b[0m\u001b[0;34m)\u001b[0m\u001b[0;34m.\u001b[0m\u001b[0mcopy\u001b[0m\u001b[0;34m(\u001b[0m\u001b[0;34m)\u001b[0m\u001b[0;34m\u001b[0m\u001b[0;34m\u001b[0m\u001b[0m\n\u001b[0;32m---> 68\u001b[0;31m             \u001b[0mfg\u001b[0m \u001b[0;34m=\u001b[0m \u001b[0mself\u001b[0m\u001b[0;34m.\u001b[0m\u001b[0mfun\u001b[0m\u001b[0;34m(\u001b[0m\u001b[0mx\u001b[0m\u001b[0;34m,\u001b[0m \u001b[0;34m*\u001b[0m\u001b[0margs\u001b[0m\u001b[0;34m)\u001b[0m\u001b[0;34m\u001b[0m\u001b[0;34m\u001b[0m\u001b[0m\n\u001b[0m\u001b[1;32m     69\u001b[0m             \u001b[0mself\u001b[0m\u001b[0;34m.\u001b[0m\u001b[0mjac\u001b[0m \u001b[0;34m=\u001b[0m \u001b[0mfg\u001b[0m\u001b[0;34m[\u001b[0m\u001b[0;36m1\u001b[0m\u001b[0;34m]\u001b[0m\u001b[0;34m\u001b[0m\u001b[0;34m\u001b[0m\u001b[0m\n\u001b[1;32m     70\u001b[0m             \u001b[0mself\u001b[0m\u001b[0;34m.\u001b[0m\u001b[0m_value\u001b[0m \u001b[0;34m=\u001b[0m \u001b[0mfg\u001b[0m\u001b[0;34m[\u001b[0m\u001b[0;36m0\u001b[0m\u001b[0;34m]\u001b[0m\u001b[0;34m\u001b[0m\u001b[0;34m\u001b[0m\u001b[0m\n",
      "\u001b[0;32m~/opt/anaconda3/envs/main_env/lib/python3.8/site-packages/sklearn/linear_model/_logistic.py\u001b[0m in \u001b[0;36m_logistic_loss_and_grad\u001b[0;34m(w, X, y, alpha, sample_weight)\u001b[0m\n\u001b[1;32m    126\u001b[0m     \u001b[0mz0\u001b[0m \u001b[0;34m=\u001b[0m \u001b[0msample_weight\u001b[0m \u001b[0;34m*\u001b[0m \u001b[0;34m(\u001b[0m\u001b[0mz\u001b[0m \u001b[0;34m-\u001b[0m \u001b[0;36m1\u001b[0m\u001b[0;34m)\u001b[0m \u001b[0;34m*\u001b[0m \u001b[0my\u001b[0m\u001b[0;34m\u001b[0m\u001b[0;34m\u001b[0m\u001b[0m\n\u001b[1;32m    127\u001b[0m \u001b[0;34m\u001b[0m\u001b[0m\n\u001b[0;32m--> 128\u001b[0;31m     \u001b[0mgrad\u001b[0m\u001b[0;34m[\u001b[0m\u001b[0;34m:\u001b[0m\u001b[0mn_features\u001b[0m\u001b[0;34m]\u001b[0m \u001b[0;34m=\u001b[0m \u001b[0msafe_sparse_dot\u001b[0m\u001b[0;34m(\u001b[0m\u001b[0mX\u001b[0m\u001b[0;34m.\u001b[0m\u001b[0mT\u001b[0m\u001b[0;34m,\u001b[0m \u001b[0mz0\u001b[0m\u001b[0;34m)\u001b[0m \u001b[0;34m+\u001b[0m \u001b[0malpha\u001b[0m \u001b[0;34m*\u001b[0m \u001b[0mw\u001b[0m\u001b[0;34m\u001b[0m\u001b[0;34m\u001b[0m\u001b[0m\n\u001b[0m\u001b[1;32m    129\u001b[0m \u001b[0;34m\u001b[0m\u001b[0m\n\u001b[1;32m    130\u001b[0m     \u001b[0;31m# Case where we fit the intercept.\u001b[0m\u001b[0;34m\u001b[0m\u001b[0;34m\u001b[0m\u001b[0;34m\u001b[0m\u001b[0m\n",
      "\u001b[0;32m~/opt/anaconda3/envs/main_env/lib/python3.8/site-packages/sklearn/utils/validation.py\u001b[0m in \u001b[0;36minner_f\u001b[0;34m(*args, **kwargs)\u001b[0m\n\u001b[1;32m     61\u001b[0m             \u001b[0mextra_args\u001b[0m \u001b[0;34m=\u001b[0m \u001b[0mlen\u001b[0m\u001b[0;34m(\u001b[0m\u001b[0margs\u001b[0m\u001b[0;34m)\u001b[0m \u001b[0;34m-\u001b[0m \u001b[0mlen\u001b[0m\u001b[0;34m(\u001b[0m\u001b[0mall_args\u001b[0m\u001b[0;34m)\u001b[0m\u001b[0;34m\u001b[0m\u001b[0;34m\u001b[0m\u001b[0m\n\u001b[1;32m     62\u001b[0m             \u001b[0;32mif\u001b[0m \u001b[0mextra_args\u001b[0m \u001b[0;34m<=\u001b[0m \u001b[0;36m0\u001b[0m\u001b[0;34m:\u001b[0m\u001b[0;34m\u001b[0m\u001b[0;34m\u001b[0m\u001b[0m\n\u001b[0;32m---> 63\u001b[0;31m                 \u001b[0;32mreturn\u001b[0m \u001b[0mf\u001b[0m\u001b[0;34m(\u001b[0m\u001b[0;34m*\u001b[0m\u001b[0margs\u001b[0m\u001b[0;34m,\u001b[0m \u001b[0;34m**\u001b[0m\u001b[0mkwargs\u001b[0m\u001b[0;34m)\u001b[0m\u001b[0;34m\u001b[0m\u001b[0;34m\u001b[0m\u001b[0m\n\u001b[0m\u001b[1;32m     64\u001b[0m \u001b[0;34m\u001b[0m\u001b[0m\n\u001b[1;32m     65\u001b[0m             \u001b[0;31m# extra_args > 0\u001b[0m\u001b[0;34m\u001b[0m\u001b[0;34m\u001b[0m\u001b[0;34m\u001b[0m\u001b[0m\n",
      "\u001b[0;32m~/opt/anaconda3/envs/main_env/lib/python3.8/site-packages/sklearn/utils/extmath.py\u001b[0m in \u001b[0;36msafe_sparse_dot\u001b[0;34m(a, b, dense_output)\u001b[0m\n\u001b[1;32m    150\u001b[0m             \u001b[0mret\u001b[0m \u001b[0;34m=\u001b[0m \u001b[0mnp\u001b[0m\u001b[0;34m.\u001b[0m\u001b[0mdot\u001b[0m\u001b[0;34m(\u001b[0m\u001b[0ma\u001b[0m\u001b[0;34m,\u001b[0m \u001b[0mb\u001b[0m\u001b[0;34m)\u001b[0m\u001b[0;34m\u001b[0m\u001b[0;34m\u001b[0m\u001b[0m\n\u001b[1;32m    151\u001b[0m     \u001b[0;32melse\u001b[0m\u001b[0;34m:\u001b[0m\u001b[0;34m\u001b[0m\u001b[0;34m\u001b[0m\u001b[0m\n\u001b[0;32m--> 152\u001b[0;31m         \u001b[0mret\u001b[0m \u001b[0;34m=\u001b[0m \u001b[0ma\u001b[0m \u001b[0;34m@\u001b[0m \u001b[0mb\u001b[0m\u001b[0;34m\u001b[0m\u001b[0;34m\u001b[0m\u001b[0m\n\u001b[0m\u001b[1;32m    153\u001b[0m \u001b[0;34m\u001b[0m\u001b[0m\n\u001b[1;32m    154\u001b[0m     if (sparse.issparse(a) and sparse.issparse(b)\n",
      "\u001b[0;31mKeyboardInterrupt\u001b[0m: "
     ]
    }
   ],
   "source": [
    "logreg = LogisticRegression(random_state=42)\n",
    "logreg.fit(count_train_2_scaled, y_train)\n",
    "\n",
    "scores(logreg, count_train_2_scaled, y_train, 'Train')\n",
    "scores(logreg, count_val_2_scaled, y_val, 'Validation')\n",
    "scores(logreg, count_test_2_scaled, y_test, 'Test')"
   ]
  },
  {
   "cell_type": "code",
   "execution_count": null,
   "id": "c30f3cdd-84f9-44b0-9f24-d1a2f17ec147",
   "metadata": {},
   "outputs": [],
   "source": [
    "logreg = LogisticRegression(random_state=42)\n",
    "logreg.fit(tfidf_train_2_scaled, y_train)\n",
    "\n",
    "scores(logreg, tfidf_train_2_scaled, y_train, 'Train')\n",
    "scores(logreg, tfidf_val_2_scaled, y_val, 'Validation')\n",
    "scores(logreg, tfidf_test_2_scaled, y_test, 'Test')"
   ]
  },
  {
   "cell_type": "markdown",
   "id": "980aef3a-0fd9-4d53-94e7-bb34e77b5190",
   "metadata": {},
   "source": [
    "### Model 2: K-Nearest Neighbors"
   ]
  },
  {
   "cell_type": "markdown",
   "id": "3f1bee23-9b38-4bb0-90c7-7d8af2acda7e",
   "metadata": {},
   "source": [
    "### Model 3: Decision Tree Model"
   ]
  },
  {
   "cell_type": "markdown",
   "id": "cdea123c-439f-46c1-bf0c-1db74c31f9a0",
   "metadata": {},
   "source": [
    "### Model 4: Random Forest"
   ]
  },
  {
   "cell_type": "markdown",
   "id": "066982d4-b772-448c-b8f8-d2a3536382bf",
   "metadata": {},
   "source": [
    "### Model 5: XGBoost"
   ]
  },
  {
   "cell_type": "markdown",
   "id": "0970d3f9-d222-44f2-832c-a050e25c8703",
   "metadata": {},
   "source": [
    "### Model 6: AdaBoost"
   ]
  },
  {
   "cell_type": "markdown",
   "id": "4778521f-8e34-4660-8ff4-2c741b31db82",
   "metadata": {},
   "source": [
    "### Model 7: Gradient Boost"
   ]
  },
  {
   "cell_type": "markdown",
   "id": "fab9610f-b212-4cc4-ad98-615581deb7f8",
   "metadata": {},
   "source": [
    "### Model 8: Neural Network"
   ]
  },
  {
   "cell_type": "markdown",
   "id": "59b841e4-70ad-4562-8005-b5c8f9316a8a",
   "metadata": {},
   "source": [
    "### Model 9: Convolutional Neural Network"
   ]
  }
 ],
 "metadata": {
  "kernelspec": {
   "display_name": "main_env",
   "language": "python",
   "name": "main_env"
  },
  "language_info": {
   "codemirror_mode": {
    "name": "ipython",
    "version": 3
   },
   "file_extension": ".py",
   "mimetype": "text/x-python",
   "name": "python",
   "nbconvert_exporter": "python",
   "pygments_lexer": "ipython3",
   "version": "3.8.11"
  }
 },
 "nbformat": 4,
 "nbformat_minor": 5
}

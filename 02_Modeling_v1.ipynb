{
 "cells": [
  {
   "cell_type": "markdown",
   "id": "f5c1c35d-ee25-4265-b829-892aef64aeb8",
   "metadata": {},
   "source": [
    "# Discharge Notes and Readmission Rates: Modeling"
   ]
  },
  {
   "cell_type": "markdown",
   "id": "5c943f1f-751d-4fa7-80c5-237a62832447",
   "metadata": {},
   "source": [
    "This notebook is for the modeling the cleaned dataset."
   ]
  },
  {
   "cell_type": "markdown",
   "id": "bfc79e42-bcde-4100-bda2-dabace9a8e36",
   "metadata": {},
   "source": [
    "## Import"
   ]
  },
  {
   "cell_type": "code",
   "execution_count": 2,
   "id": "3a5e8556-65a6-41c7-838f-8de9ee0a22a3",
   "metadata": {},
   "outputs": [],
   "source": [
    "import pandas as pd\n",
    "import numpy as np\n",
    "\n",
    "import nltk\n",
    "from nltk.probability import FreqDist\n",
    "from nltk.corpus import stopwords\n",
    "from nltk.tokenize import regexp_tokenize, word_tokenize, RegexpTokenizer\n",
    "import matplotlib.pyplot as plt\n",
    "import string\n",
    "import re"
   ]
  },
  {
   "cell_type": "code",
   "execution_count": null,
   "id": "624a1b07-c7d8-4d3a-8274-176cfcc10bb2",
   "metadata": {},
   "outputs": [],
   "source": []
  }
 ],
 "metadata": {
  "kernelspec": {
   "display_name": "main_env",
   "language": "python",
   "name": "main_env"
  },
  "language_info": {
   "codemirror_mode": {
    "name": "ipython",
    "version": 3
   },
   "file_extension": ".py",
   "mimetype": "text/x-python",
   "name": "python",
   "nbconvert_exporter": "python",
   "pygments_lexer": "ipython3",
   "version": "3.8.11"
  }
 },
 "nbformat": 4,
 "nbformat_minor": 5
}

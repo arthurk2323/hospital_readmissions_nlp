{
 "cells": [
  {
   "cell_type": "markdown",
   "id": "f5c1c35d-ee25-4265-b829-892aef64aeb8",
   "metadata": {},
   "source": [
    "# Discharge Notes and Readmission Rates: Modeling"
   ]
  },
  {
   "cell_type": "markdown",
   "id": "5c943f1f-751d-4fa7-80c5-237a62832447",
   "metadata": {},
   "source": [
    "This notebook is for the modeling the cleaned dataset."
   ]
  },
  {
   "cell_type": "markdown",
   "id": "bfc79e42-bcde-4100-bda2-dabace9a8e36",
   "metadata": {},
   "source": [
    "## Import"
   ]
  },
  {
   "cell_type": "code",
   "execution_count": 31,
   "id": "3a5e8556-65a6-41c7-838f-8de9ee0a22a3",
   "metadata": {},
   "outputs": [],
   "source": [
    "import pandas as pd\n",
    "import nltk\n",
    "from nltk.probability import FreqDist\n",
    "from nltk.corpus import stopwords\n",
    "from nltk.tokenize import regexp_tokenize, word_tokenize, RegexpTokenizer\n",
    "from nltk import pos_tag\n",
    "from nltk.corpus import wordnet\n",
    "import matplotlib.pyplot as plt\n",
    "import string\n",
    "import re\n",
    "\n",
    "from sklearn.feature_extraction.text import CountVectorizer, TfidfVectorizer,\\\n",
    "HashingVectorizer\n",
    "from sklearn.model_selection import train_test_split\n",
    "\n",
    "from sklearn.ensemble import RandomForestClassifier\n",
    "from sklearn.naive_bayes import MultinomialNB\n",
    "from sklearn.metrics import accuracy_score, precision_score, confusion_matrix"
   ]
  },
  {
   "cell_type": "markdown",
   "id": "4f169954-f421-4030-a841-74e3ade81f78",
   "metadata": {},
   "source": [
    "## Train and Test Split"
   ]
  },
  {
   "cell_type": "code",
   "execution_count": 14,
   "id": "954c160e-7933-404e-8df1-a6a22e2a1e85",
   "metadata": {},
   "outputs": [],
   "source": [
    "df = pd.read_csv('data/admissions_cleaned.csv')"
   ]
  },
  {
   "cell_type": "code",
   "execution_count": 15,
   "id": "e4172ac0-8289-4f89-a6d6-7c6ca4219baf",
   "metadata": {},
   "outputs": [
    {
     "name": "stdout",
     "output_type": "stream",
     "text": [
      "<class 'pandas.core.frame.DataFrame'>\n",
      "RangeIndex: 45591 entries, 0 to 45590\n",
      "Data columns (total 17 columns):\n",
      " #   Column              Non-Null Count  Dtype \n",
      "---  ------              --------------  ----- \n",
      " 0   ADMISSION_TYPE      45591 non-null  object\n",
      " 1   ADMISSION_LOCATION  45591 non-null  object\n",
      " 2   DISCHARGE_LOCATION  45591 non-null  object\n",
      " 3   INSURANCE           45591 non-null  object\n",
      " 4   LANGUAGE            45591 non-null  object\n",
      " 5   RELIGION            45591 non-null  object\n",
      " 6   MARITAL_STATUS      45591 non-null  object\n",
      " 7   ETHNICITY           45591 non-null  object\n",
      " 8   DIAGNOSIS           45591 non-null  object\n",
      " 9   READMISSION         45591 non-null  int64 \n",
      " 10  GENDER              45591 non-null  object\n",
      " 11  AGE                 45591 non-null  int64 \n",
      " 12  TEXT                45591 non-null  object\n",
      " 13  CPT_CD              45591 non-null  object\n",
      " 14  DIAG_ICD9_CODE      45590 non-null  object\n",
      " 15  DRG_CODE            45591 non-null  object\n",
      " 16  PROCED_ICD9_CODE    45591 non-null  object\n",
      "dtypes: int64(2), object(15)\n",
      "memory usage: 5.9+ MB\n"
     ]
    }
   ],
   "source": [
    "df.info()"
   ]
  },
  {
   "cell_type": "code",
   "execution_count": 16,
   "id": "71506a54-d3c3-4353-8db0-809b55ffe348",
   "metadata": {},
   "outputs": [],
   "source": [
    "X = df.drop('READMISSION', axis=1)\n",
    "y = df['READMISSION']"
   ]
  },
  {
   "cell_type": "code",
   "execution_count": 17,
   "id": "12289a6b-1f14-4460-ba74-ecfd1229c099",
   "metadata": {},
   "outputs": [],
   "source": [
    "X_train, X_test, y_train, y_test = train_test_split(X, y, test_size=0.25, random_state=42, stratify=y)"
   ]
  },
  {
   "cell_type": "code",
   "execution_count": 19,
   "id": "d7df6acf-26f2-4501-83df-f700643c6952",
   "metadata": {},
   "outputs": [],
   "source": [
    "vectorizer = TfidfVectorizer()"
   ]
  },
  {
   "cell_type": "code",
   "execution_count": 20,
   "id": "a480734e-2347-43b0-a77e-af05302e6cd3",
   "metadata": {},
   "outputs": [],
   "source": [
    "tf_idf_data_train = vectorizer.fit_transform(X_train['TEXT'])"
   ]
  },
  {
   "cell_type": "code",
   "execution_count": 21,
   "id": "7f09bfa6-c8bd-4fd0-9642-012378211890",
   "metadata": {},
   "outputs": [],
   "source": [
    "tf_idf_data_test = vectorizer.transform(X_test['TEXT'])"
   ]
  },
  {
   "cell_type": "code",
   "execution_count": 23,
   "id": "89743ea6-dc89-47e0-9e3b-e9f0981ec9df",
   "metadata": {},
   "outputs": [
    {
     "data": {
      "text/plain": [
       "(34193, 185915)"
      ]
     },
     "execution_count": 23,
     "metadata": {},
     "output_type": "execute_result"
    }
   ],
   "source": [
    "tf_idf_data_train.shape"
   ]
  },
  {
   "cell_type": "code",
   "execution_count": 26,
   "id": "7bcb1a42-63e0-40fb-bdb0-05d36508fbcd",
   "metadata": {},
   "outputs": [],
   "source": [
    "nb_classifier = MultinomialNB()\n",
    "rf_classifier = RandomForestClassifier(n_estimators=100)"
   ]
  },
  {
   "cell_type": "code",
   "execution_count": 28,
   "id": "a5592e5b-1f2c-4315-af13-49a8e0281484",
   "metadata": {},
   "outputs": [],
   "source": [
    "nb_classifier.fit(tf_idf_data_train, y_train)\n",
    "nb_train_preds = nb_classifier.predict(tf_idf_data_train)\n",
    "nb_test_preds = nb_classifier.predict(tf_idf_data_test)"
   ]
  },
  {
   "cell_type": "code",
   "execution_count": 29,
   "id": "df1a48b2-dbbe-46a1-aa80-1ad4a7802428",
   "metadata": {},
   "outputs": [],
   "source": [
    "rf_classifier.fit(tf_idf_data_train, y_train)\n",
    "rf_train_preds = rf_classifier.predict(tf_idf_data_train)\n",
    "rf_test_preds = rf_classifier.predict(tf_idf_data_test)"
   ]
  },
  {
   "cell_type": "code",
   "execution_count": 32,
   "id": "cb5b5b2f-2cc6-416f-b18d-153441c9e769",
   "metadata": {},
   "outputs": [
    {
     "name": "stdout",
     "output_type": "stream",
     "text": [
      "Multinomial Naive Bayes\n",
      "Training Accuracy: 0.7387 \t\t Testing Accuracy: 0.7386\n",
      "\n",
      "----------------------------------------------------------------------\n",
      "\n",
      "Random Forest\n",
      "Training Accuracy: 1.0 \t\t Testing Accuracy: 0.7593\n"
     ]
    }
   ],
   "source": [
    "nb_train_score = accuracy_score(y_train, nb_train_preds)\n",
    "nb_test_score = accuracy_score(y_test, nb_test_preds)\n",
    "rf_train_score = accuracy_score(y_train, rf_train_preds)\n",
    "rf_test_score = accuracy_score(y_test, rf_test_preds)\n",
    "\n",
    "print(\"Multinomial Naive Bayes\")\n",
    "print(\"Training Accuracy: {:.4} \\t\\t Testing Accuracy: {:.4}\".format(nb_train_score, nb_test_score))\n",
    "print(\"\")\n",
    "print('-'*70)\n",
    "print(\"\")\n",
    "print('Random Forest')\n",
    "print(\"Training Accuracy: {:.4} \\t\\t Testing Accuracy: {:.4}\".format(rf_train_score, rf_test_score))"
   ]
  },
  {
   "cell_type": "markdown",
   "id": "20c603ff-bfe9-464f-bb77-0748de42fa13",
   "metadata": {},
   "source": [
    "## Tokenizing"
   ]
  },
  {
   "cell_type": "code",
   "execution_count": 18,
   "id": "65ab173a-610a-4082-be1e-8c4165949343",
   "metadata": {},
   "outputs": [],
   "source": [
    "sw = stopwords.words('english')"
   ]
  },
  {
   "cell_type": "code",
   "execution_count": null,
   "id": "8190f966-1e76-4068-b1af-94adeeab2955",
   "metadata": {},
   "outputs": [],
   "source": [
    "pattern = \"([a-zA-Z]+(?:'[a-z]+)?)\"\n",
    "tokenizer = RegexpTokenizer(pattern)\n",
    "sample_doc = tokenizer.tokenize(sample_document)"
   ]
  }
 ],
 "metadata": {
  "kernelspec": {
   "display_name": "main_env",
   "language": "python",
   "name": "main_env"
  },
  "language_info": {
   "codemirror_mode": {
    "name": "ipython",
    "version": 3
   },
   "file_extension": ".py",
   "mimetype": "text/x-python",
   "name": "python",
   "nbconvert_exporter": "python",
   "pygments_lexer": "ipython3",
   "version": "3.8.11"
  }
 },
 "nbformat": 4,
 "nbformat_minor": 5
}
